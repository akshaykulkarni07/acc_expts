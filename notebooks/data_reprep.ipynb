{
 "cells": [
  {
   "cell_type": "markdown",
   "metadata": {},
   "source": [
    "### This repository is for converting the data into a form usable by the TSFresh package"
   ]
  },
  {
   "cell_type": "code",
   "execution_count": 1,
   "metadata": {},
   "outputs": [],
   "source": [
    "%matplotlib inline\n",
    "import pandas as pd\n",
    "import datetime\n",
    "import pandas_datareader.data as web\n",
    "import matplotlib.pyplot as plt\n",
    "import torch\n",
    "from torch.utils.data import Dataset, DataLoader\n",
    "import numpy as np"
   ]
  },
  {
   "cell_type": "code",
   "execution_count": 13,
   "metadata": {},
   "outputs": [
    {
     "name": "stdout",
     "output_type": "stream",
     "text": [
      "      x_acc     y_acc     z_acc\n",
      "0  0.015858 -0.046237  0.105724\n",
      "1  0.017822 -0.063721  0.113708\n",
      "2  0.011475 -0.063904  0.117676\n",
      "3  0.011108 -0.062744  0.112000\n",
      "4  0.013123 -0.061340  0.106445\n"
     ]
    }
   ],
   "source": [
    "data = pd.read_csv('../data/data_only.csv', names = ['x_acc', 'y_acc', 'z_acc'])\n",
    "print(data.head())"
   ]
  },
  {
   "cell_type": "markdown",
   "metadata": {},
   "source": [
    "We need an `id` column which indicates that each 150 samples belong to a different sample. This can be done by creating a column which contains 0 for the first 150 rows, 1 for the next 150 rows, 2 for the next 150 rows and so on. \n",
    "\n",
    "Also, we need to ensure data formatting as per [this page](https://tsfresh.readthedocs.io/en/latest/text/data_formats.html)\n",
    "\n",
    "#### Generating `ID` column in a list"
   ]
  },
  {
   "cell_type": "code",
   "execution_count": 14,
   "metadata": {},
   "outputs": [
    {
     "name": "stdout",
     "output_type": "stream",
     "text": [
      "160200\n"
     ]
    }
   ],
   "source": [
    "idx = list()\n",
    "k = 0\n",
    "for i in range(len(data) // 150) : \n",
    "    for j in range(150) : \n",
    "        idx.append(k)\n",
    "    k = k + 1\n",
    "    \n",
    "print(len(idx))"
   ]
  },
  {
   "cell_type": "markdown",
   "metadata": {},
   "source": [
    "#### Adding this column into the DataFrame and saving for future use"
   ]
  },
  {
   "cell_type": "code",
   "execution_count": 15,
   "metadata": {},
   "outputs": [
    {
     "name": "stdout",
     "output_type": "stream",
     "text": [
      "      x_acc     y_acc     z_acc  id\n",
      "0  0.015858 -0.046237  0.105724   0\n",
      "1  0.017822 -0.063721  0.113708   0\n",
      "2  0.011475 -0.063904  0.117676   0\n",
      "3  0.011108 -0.062744  0.112000   0\n",
      "4  0.013123 -0.061340  0.106445   0\n"
     ]
    }
   ],
   "source": [
    "data['id'] = idx\n",
    "print(data.head())\n",
    "data.to_csv('../data/data_only_tsfresh_compatible.csv', header = False, index = False)"
   ]
  },
  {
   "cell_type": "code",
   "execution_count": null,
   "metadata": {},
   "outputs": [],
   "source": []
  }
 ],
 "metadata": {
  "kernelspec": {
   "display_name": "Python 3",
   "language": "python",
   "name": "python3"
  },
  "language_info": {
   "codemirror_mode": {
    "name": "ipython",
    "version": 3
   },
   "file_extension": ".py",
   "mimetype": "text/x-python",
   "name": "python",
   "nbconvert_exporter": "python",
   "pygments_lexer": "ipython3",
   "version": "3.7.3"
  }
 },
 "nbformat": 4,
 "nbformat_minor": 2
}
