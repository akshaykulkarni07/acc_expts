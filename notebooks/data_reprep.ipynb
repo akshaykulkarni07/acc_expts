{
 "cells": [
  {
   "cell_type": "markdown",
   "metadata": {},
   "source": [
    "### This repository is for converting the data into a form usable by the TSFresh package"
   ]
  },
  {
   "cell_type": "code",
   "execution_count": 1,
   "metadata": {},
   "outputs": [],
   "source": [
    "%matplotlib inline\n",
    "import pandas as pd\n",
    "import datetime\n",
    "import matplotlib.pyplot as plt\n",
    "import torch\n",
    "from torch.utils.data import Dataset, DataLoader\n",
    "import numpy as np"
   ]
  },
  {
   "cell_type": "code",
   "execution_count": 2,
   "metadata": {},
   "outputs": [
    {
     "name": "stdout",
     "output_type": "stream",
     "text": [
      "      x_acc     y_acc     z_acc\n",
      "0  0.496614  0.507404  0.664175\n",
      "1  0.593133  0.544373  0.639089\n",
      "2  0.583067  0.535586  0.626219\n",
      "3  0.556202  0.507976  0.593481\n",
      "4  0.556658  0.492937  0.577615\n"
     ]
    }
   ],
   "source": [
    "data = pd.read_csv('../data/new_data_only.csv', names = ['x_acc', 'y_acc', 'z_acc'])\n",
    "print(data.head())"
   ]
  },
  {
   "cell_type": "markdown",
   "metadata": {},
   "source": [
    "We need an `id` column which indicates that each `reqd_len` samples belong to a different sample. This can be done by creating a column which contains 0 for the first `reqd_len` rows, 1 for the next `reqd_len` rows, 2 for the next `reqd_len` rows and so on. \n",
    "\n",
    "Also, we need to ensure data formatting as per [this page](https://tsfresh.readthedocs.io/en/latest/text/data_formats.html)\n",
    "\n",
    "#### Generating `ID` column in a list"
   ]
  },
  {
   "cell_type": "code",
   "execution_count": 3,
   "metadata": {},
   "outputs": [
    {
     "name": "stdout",
     "output_type": "stream",
     "text": [
      "53300\n"
     ]
    }
   ],
   "source": [
    "reqd_len = 100\n",
    "idx = list()\n",
    "k = 0\n",
    "for i in range(len(data) // reqd_len) : \n",
    "    for j in range(reqd_len) : \n",
    "        idx.append(k)\n",
    "    k = k + 1\n",
    "    \n",
    "print(len(idx))"
   ]
  },
  {
   "cell_type": "markdown",
   "metadata": {},
   "source": [
    "#### Adding this column into the DataFrame and saving for future use"
   ]
  },
  {
   "cell_type": "code",
   "execution_count": 4,
   "metadata": {},
   "outputs": [
    {
     "name": "stdout",
     "output_type": "stream",
     "text": [
      "      x_acc     y_acc     z_acc  id\n",
      "0  0.496614  0.507404  0.664175   0\n",
      "1  0.593133  0.544373  0.639089   0\n",
      "2  0.583067  0.535586  0.626219   0\n",
      "3  0.556202  0.507976  0.593481   0\n",
      "4  0.556658  0.492937  0.577615   0\n"
     ]
    }
   ],
   "source": [
    "data['id'] = idx\n",
    "print(data.head())\n",
    "data.to_csv('../data/new_data_only_tsfresh_compatible.csv', header = False, index = False)"
   ]
  },
  {
   "cell_type": "markdown",
   "metadata": {},
   "source": [
    "### Using alternate examples only"
   ]
  },
  {
   "cell_type": "code",
   "execution_count": 3,
   "metadata": {},
   "outputs": [
    {
     "name": "stdout",
     "output_type": "stream",
     "text": [
      "      x_acc     y_acc     z_acc\n",
      "0 -0.086161 -0.086288  0.051617\n",
      "1 -0.086161 -0.086288  0.051617\n",
      "2 -0.062439 -0.262146  0.370544\n",
      "3 -0.149780 -0.278687  0.396240\n",
      "4 -0.153320 -0.258911  0.242493\n"
     ]
    }
   ],
   "source": [
    "data = pd.read_csv('../data/alt_data_only.csv', names = ['x_acc', 'y_acc', 'z_acc'])\n",
    "print(data.head())"
   ]
  },
  {
   "cell_type": "markdown",
   "metadata": {},
   "source": [
    "We need an `id` column which indicates that each 150 samples belong to a different sample. This can be done by creating a column which contains 0 for the first 150 rows, 1 for the next 150 rows, 2 for the next 150 rows and so on. \n",
    "\n",
    "Also, we need to ensure data formatting as per [this page](https://tsfresh.readthedocs.io/en/latest/text/data_formats.html)\n",
    "\n",
    "#### Generating `ID` column in a list"
   ]
  },
  {
   "cell_type": "code",
   "execution_count": 4,
   "metadata": {},
   "outputs": [
    {
     "name": "stdout",
     "output_type": "stream",
     "text": [
      "79950\n"
     ]
    }
   ],
   "source": [
    "idx = list()\n",
    "k = 0\n",
    "for i in range(len(data) // 150) : \n",
    "    for j in range(150) : \n",
    "        idx.append(k)\n",
    "    k = k + 1\n",
    "    \n",
    "print(len(idx))"
   ]
  },
  {
   "cell_type": "code",
   "execution_count": 5,
   "metadata": {},
   "outputs": [
    {
     "name": "stdout",
     "output_type": "stream",
     "text": [
      "      x_acc     y_acc     z_acc  id\n",
      "0 -0.086161 -0.086288  0.051617   0\n",
      "1 -0.086161 -0.086288  0.051617   0\n",
      "2 -0.062439 -0.262146  0.370544   0\n",
      "3 -0.149780 -0.278687  0.396240   0\n",
      "4 -0.153320 -0.258911  0.242493   0\n"
     ]
    }
   ],
   "source": [
    "data['id'] = idx\n",
    "print(data.head())\n",
    "data.to_csv('../data/alt_data_only_tsfresh_compatible.csv', header = False, index = False)"
   ]
  },
  {
   "cell_type": "code",
   "execution_count": null,
   "metadata": {},
   "outputs": [],
   "source": []
  }
 ],
 "metadata": {
  "kernelspec": {
   "display_name": "Python 3",
   "language": "python",
   "name": "python3"
  },
  "language_info": {
   "codemirror_mode": {
    "name": "ipython",
    "version": 3
   },
   "file_extension": ".py",
   "mimetype": "text/x-python",
   "name": "python",
   "nbconvert_exporter": "python",
   "pygments_lexer": "ipython3",
   "version": "3.7.3"
  }
 },
 "nbformat": 4,
 "nbformat_minor": 2
}
