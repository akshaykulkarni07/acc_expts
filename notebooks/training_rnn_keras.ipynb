{
  "nbformat": 4,
  "nbformat_minor": 0,
  "metadata": {
    "colab": {
      "name": "keras_time_series_classification.ipynb",
      "version": "0.3.2",
      "provenance": [],
      "collapsed_sections": []
    },
    "kernelspec": {
      "name": "python3",
      "display_name": "Python 3"
    },
    "accelerator": "GPU"
  },
  "cells": [
    {
      "cell_type": "code",
      "metadata": {
        "id": "W_VfVLlD9n25",
        "colab_type": "code",
        "colab": {}
      },
      "source": [
        "%matplotlib inline\n",
        "import keras\n",
        "from keras.models import Sequential\n",
        "from keras.layers import Dense\n",
        "from keras.layers import LSTM\n",
        "from keras.preprocessing.sequence import TimeseriesGenerator\n",
        "import numpy as np\n",
        "import pandas as pd\n",
        "import matplotlib.pyplot as plt"
      ],
      "execution_count": 0,
      "outputs": []
    },
    {
      "cell_type": "code",
      "metadata": {
        "id": "uJu7vuJ8Ab40",
        "colab_type": "code",
        "colab": {
          "base_uri": "https://localhost:8080/",
          "height": 225
        },
        "outputId": "710449e8-5d11-4257-a9ef-d8ee2b2ebf1a"
      },
      "source": [
        "df = pd.read_csv('../data/new_data_only.csv', names = ['x_acc', 'y_acc', 'z_acc'])\n",
        "label_df = pd.read_csv('../data/new_labels_only.csv', header = None)\n",
        "print(df.head())\n",
        "print(label_df.head())"
      ],
      "execution_count": 85,
      "outputs": [
        {
          "output_type": "stream",
          "text": [
            "      x_acc     y_acc     z_acc\n",
            "0  0.496614  0.507404  0.664175\n",
            "1  0.593133  0.544373  0.639089\n",
            "2  0.583067  0.535586  0.626219\n",
            "3  0.556202  0.507976  0.593481\n",
            "4  0.556658  0.492937  0.577615\n",
            "     0    1    2    3\n",
            "0  0.0  0.0  1.0  0.0\n",
            "1  0.0  0.0  1.0  0.0\n",
            "2  0.0  0.0  1.0  0.0\n",
            "3  0.0  0.0  1.0  0.0\n",
            "4  0.0  0.0  1.0  0.0\n"
          ],
          "name": "stdout"
        }
      ]
    },
    {
      "cell_type": "code",
      "metadata": {
        "id": "zqKy1v-_BKjd",
        "colab_type": "code",
        "colab": {}
      },
      "source": [
        "traindf = df[ : int(0.7 * len(df))]\n",
        "testdf = df[int(0.85 * len(df)) : ]\n",
        "valdf = df[int(0.7 * len(df)) : int(0.85 * len(df))]\n",
        "trainlabel = label_df[ : int(0.7 * len(df))]\n",
        "testlabel = label_df[int(0.85 * len(df)) : ]\n",
        "vallabel = label_df[int(0.7 * len(df)) : int(0.85 * len(df))]\n",
        "\n",
        "train_gen = TimeseriesGenerator(traindf.values, trainlabel.values, length = 100, batch_size = 16, stride = 100)\n",
        "test_gen = TimeseriesGenerator(testdf.values, testlabel.values, length = 100, batch_size = 1, stride = 100)\n",
        "val_gen = TimeseriesGenerator(valdf.values, vallabel.values, length = 100, batch_size = 1, stride = 100)"
      ],
      "execution_count": 0,
      "outputs": []
    },
    {
      "cell_type": "code",
      "metadata": {
        "id": "ax4qBH2TB9Jf",
        "colab_type": "code",
        "colab": {}
      },
      "source": [
        "n_input = 100\n",
        "n_features = 3\n",
        "batch_size = 1\n",
        "model = Sequential()\n",
        "model.add(keras.layers.GRU(80, activation = 'relu', input_shape = (n_input, n_features), return_sequences = True))\n",
        "model.add(keras.layers.GRU(60, activation = 'relu', return_sequences = True))\n",
        "model.add(keras.layers.GRU(40, activation = 'relu'))\n",
        "model.add(Dense(4, activation = 'softmax'))\n",
        "adam = keras.optimizers.Adam(lr = 5e-4)\n",
        "model.compile(optimizer = adam, loss = 'categorical_crossentropy', metrics = ['accuracy'])"
      ],
      "execution_count": 0,
      "outputs": []
    },
    {
      "cell_type": "code",
      "metadata": {
        "id": "yFHjDWgqBskv",
        "colab_type": "code",
        "colab": {
          "base_uri": "https://localhost:8080/",
          "height": 1000
        },
        "outputId": "666fb56c-fc4b-4465-8a9d-66b244ba969d"
      },
      "source": [
        "history = model.fit_generator(train_gen, validation_data = val_gen, epochs = 50, verbose = 1)"
      ],
      "execution_count": 102,
      "outputs": [
        {
          "output_type": "stream",
          "text": [
            "Epoch 1/50\n",
            "24/24 [==============================] - 32s 1s/step - loss: 1.3406 - acc: 0.4566 - val_loss: 1.3054 - val_acc: 0.4177\n",
            "Epoch 2/50\n",
            "24/24 [==============================] - 19s 788ms/step - loss: 1.2345 - acc: 0.4988 - val_loss: 1.2352 - val_acc: 0.4177\n",
            "Epoch 3/50\n",
            "24/24 [==============================] - 19s 783ms/step - loss: 1.1928 - acc: 0.4988 - val_loss: 1.2189 - val_acc: 0.4177\n",
            "Epoch 4/50\n",
            "24/24 [==============================] - 19s 780ms/step - loss: 1.1910 - acc: 0.4988 - val_loss: 1.2181 - val_acc: 0.4177\n",
            "Epoch 5/50\n",
            "24/24 [==============================] - 19s 778ms/step - loss: 1.1909 - acc: 0.4988 - val_loss: 1.2150 - val_acc: 0.4177\n",
            "Epoch 6/50\n",
            "24/24 [==============================] - 19s 783ms/step - loss: 1.1903 - acc: 0.4988 - val_loss: 1.2154 - val_acc: 0.4177\n",
            "Epoch 7/50\n",
            "24/24 [==============================] - 19s 777ms/step - loss: 1.1898 - acc: 0.4988 - val_loss: 1.2135 - val_acc: 0.4177\n",
            "Epoch 8/50\n",
            "24/24 [==============================] - 19s 791ms/step - loss: 1.1898 - acc: 0.4988 - val_loss: 1.2156 - val_acc: 0.4177\n",
            "Epoch 9/50\n",
            "24/24 [==============================] - 19s 784ms/step - loss: 1.1914 - acc: 0.4988 - val_loss: 1.2127 - val_acc: 0.4177\n",
            "Epoch 10/50\n",
            "24/24 [==============================] - 19s 785ms/step - loss: 1.1917 - acc: 0.4988 - val_loss: 1.2186 - val_acc: 0.4177\n",
            "Epoch 11/50\n",
            "24/24 [==============================] - 19s 797ms/step - loss: 1.1929 - acc: 0.4988 - val_loss: 1.2085 - val_acc: 0.4177\n",
            "Epoch 12/50\n",
            "24/24 [==============================] - 19s 804ms/step - loss: 1.1918 - acc: 0.4988 - val_loss: 1.2149 - val_acc: 0.4177\n",
            "Epoch 13/50\n",
            "24/24 [==============================] - 20s 816ms/step - loss: 1.1909 - acc: 0.4988 - val_loss: 1.2142 - val_acc: 0.4177\n",
            "Epoch 14/50\n",
            "24/24 [==============================] - 19s 808ms/step - loss: 1.1892 - acc: 0.4988 - val_loss: 1.2177 - val_acc: 0.4177\n",
            "Epoch 15/50\n",
            "24/24 [==============================] - 19s 805ms/step - loss: 1.1899 - acc: 0.4988 - val_loss: 1.2124 - val_acc: 0.4177\n",
            "Epoch 16/50\n",
            "24/24 [==============================] - 19s 806ms/step - loss: 1.1910 - acc: 0.4988 - val_loss: 1.2090 - val_acc: 0.4177\n",
            "Epoch 17/50\n",
            "24/24 [==============================] - 19s 805ms/step - loss: 1.1935 - acc: 0.4988 - val_loss: 1.2217 - val_acc: 0.4177\n",
            "Epoch 18/50\n",
            "24/24 [==============================] - 19s 808ms/step - loss: 1.1909 - acc: 0.4988 - val_loss: 1.2119 - val_acc: 0.4177\n",
            "Epoch 19/50\n",
            "24/24 [==============================] - 19s 806ms/step - loss: 1.1873 - acc: 0.4988 - val_loss: 1.2125 - val_acc: 0.4177\n",
            "Epoch 20/50\n",
            "24/24 [==============================] - 19s 805ms/step - loss: 1.1898 - acc: 0.4988 - val_loss: 1.2123 - val_acc: 0.4177\n",
            "Epoch 21/50\n",
            "24/24 [==============================] - 19s 781ms/step - loss: 1.1893 - acc: 0.4988 - val_loss: 1.2174 - val_acc: 0.4177\n",
            "Epoch 22/50\n",
            "24/24 [==============================] - 19s 780ms/step - loss: 1.1891 - acc: 0.4988 - val_loss: 1.2131 - val_acc: 0.4177\n",
            "Epoch 23/50\n",
            "24/24 [==============================] - 19s 782ms/step - loss: 1.1886 - acc: 0.4988 - val_loss: 1.2165 - val_acc: 0.4177\n",
            "Epoch 24/50\n",
            "24/24 [==============================] - 19s 775ms/step - loss: 1.1868 - acc: 0.4988 - val_loss: 1.2139 - val_acc: 0.4177\n",
            "Epoch 25/50\n",
            "24/24 [==============================] - 19s 777ms/step - loss: 1.1890 - acc: 0.4988 - val_loss: 1.2117 - val_acc: 0.4177\n",
            "Epoch 26/50\n",
            "24/24 [==============================] - 19s 773ms/step - loss: 1.1895 - acc: 0.4988 - val_loss: 1.2167 - val_acc: 0.4177\n",
            "Epoch 27/50\n",
            "24/24 [==============================] - 19s 788ms/step - loss: 1.1949 - acc: 0.4988 - val_loss: 1.2147 - val_acc: 0.4177\n",
            "Epoch 28/50\n",
            "24/24 [==============================] - 19s 784ms/step - loss: 1.1898 - acc: 0.4988 - val_loss: 1.2158 - val_acc: 0.4177\n",
            "Epoch 29/50\n",
            "24/24 [==============================] - 19s 788ms/step - loss: 1.1899 - acc: 0.4988 - val_loss: 1.2137 - val_acc: 0.4177\n",
            "Epoch 30/50\n",
            "24/24 [==============================] - 19s 798ms/step - loss: 1.1883 - acc: 0.4988 - val_loss: 1.2163 - val_acc: 0.4177\n",
            "Epoch 31/50\n",
            "24/24 [==============================] - 19s 805ms/step - loss: 1.1892 - acc: 0.4988 - val_loss: 1.2116 - val_acc: 0.4177\n",
            "Epoch 32/50\n",
            "24/24 [==============================] - 19s 800ms/step - loss: 1.1894 - acc: 0.4988 - val_loss: 1.2094 - val_acc: 0.4177\n",
            "Epoch 33/50\n",
            "24/24 [==============================] - 19s 801ms/step - loss: 1.1875 - acc: 0.4988 - val_loss: 1.2159 - val_acc: 0.4177\n",
            "Epoch 34/50\n",
            "24/24 [==============================] - 19s 801ms/step - loss: 1.1910 - acc: 0.4988 - val_loss: 1.2129 - val_acc: 0.4177\n",
            "Epoch 35/50\n",
            "24/24 [==============================] - 19s 803ms/step - loss: 1.1913 - acc: 0.4988 - val_loss: 1.2123 - val_acc: 0.4177\n",
            "Epoch 36/50\n",
            "24/24 [==============================] - 19s 800ms/step - loss: 1.1883 - acc: 0.4988 - val_loss: 1.2125 - val_acc: 0.4177\n",
            "Epoch 37/50\n",
            "24/24 [==============================] - 19s 803ms/step - loss: 1.1883 - acc: 0.4988 - val_loss: 1.2141 - val_acc: 0.4177\n",
            "Epoch 38/50\n",
            "24/24 [==============================] - 19s 801ms/step - loss: 1.1893 - acc: 0.4988 - val_loss: 1.2136 - val_acc: 0.4177\n",
            "Epoch 39/50\n",
            "24/24 [==============================] - 19s 804ms/step - loss: 1.1877 - acc: 0.4988 - val_loss: 1.2201 - val_acc: 0.4177\n",
            "Epoch 40/50\n",
            "24/24 [==============================] - 19s 777ms/step - loss: 1.1879 - acc: 0.4988 - val_loss: 1.2170 - val_acc: 0.4177\n",
            "Epoch 41/50\n",
            "24/24 [==============================] - 19s 780ms/step - loss: 1.1875 - acc: 0.4988 - val_loss: 1.2134 - val_acc: 0.4177\n",
            "Epoch 42/50\n",
            "24/24 [==============================] - 19s 786ms/step - loss: 1.1887 - acc: 0.4988 - val_loss: 1.2196 - val_acc: 0.4177\n",
            "Epoch 43/50\n",
            "24/24 [==============================] - 19s 779ms/step - loss: 1.1880 - acc: 0.4988 - val_loss: 1.2165 - val_acc: 0.4177\n",
            "Epoch 44/50\n",
            "24/24 [==============================] - 19s 791ms/step - loss: 1.1859 - acc: 0.4988 - val_loss: 1.2119 - val_acc: 0.4177\n",
            "Epoch 45/50\n",
            "24/24 [==============================] - 19s 806ms/step - loss: 1.1883 - acc: 0.4988 - val_loss: 1.2123 - val_acc: 0.4177\n",
            "Epoch 46/50\n",
            "24/24 [==============================] - 19s 802ms/step - loss: 1.1877 - acc: 0.4988 - val_loss: 1.2172 - val_acc: 0.4177\n",
            "Epoch 47/50\n",
            "24/24 [==============================] - 19s 773ms/step - loss: 1.1857 - acc: 0.4988 - val_loss: 1.2124 - val_acc: 0.4177\n",
            "Epoch 48/50\n",
            "24/24 [==============================] - 19s 783ms/step - loss: 1.1874 - acc: 0.4988 - val_loss: 1.2150 - val_acc: 0.4177\n",
            "Epoch 49/50\n",
            "24/24 [==============================] - 19s 784ms/step - loss: 1.1869 - acc: 0.4988 - val_loss: 1.2142 - val_acc: 0.4177\n",
            "Epoch 50/50\n",
            "24/24 [==============================] - 19s 781ms/step - loss: 1.1876 - acc: 0.4988 - val_loss: 1.2144 - val_acc: 0.4177\n"
          ],
          "name": "stdout"
        }
      ]
    },
    {
      "cell_type": "code",
      "metadata": {
        "id": "-WNg5bv_M924",
        "colab_type": "code",
        "colab": {}
      },
      "source": [
        "model.evaluate_generator(test_gen)"
      ],
      "execution_count": 0,
      "outputs": []
    },
    {
      "cell_type": "code",
      "metadata": {
        "id": "xH8nKUerOj3i",
        "colab_type": "code",
        "colab": {}
      },
      "source": [
        "# Plot training & validation accuracy values\n",
        "plt.plot(history.history['acc'])\n",
        "plt.plot(history.history['val_acc'])\n",
        "plt.title('Model accuracy')\n",
        "plt.ylabel('Accuracy')\n",
        "plt.xlabel('Epoch')\n",
        "plt.legend(['Train', 'Val'], loc='upper left')\n",
        "plt.show()\n",
        "\n",
        "# Plot training & validation loss values\n",
        "plt.plot(history.history['loss'])\n",
        "plt.plot(history.history['val_loss'])\n",
        "plt.title('Model loss')\n",
        "plt.ylabel('Loss')\n",
        "plt.xlabel('Epoch')\n",
        "plt.legend(['Train', 'Val'], loc='upper left')\n",
        "plt.show()"
      ],
      "execution_count": 0,
      "outputs": []
    },
    {
      "cell_type": "code",
      "metadata": {
        "id": "bQAMQhBkOoW6",
        "colab_type": "code",
        "colab": {}
      },
      "source": [
        ""
      ],
      "execution_count": 0,
      "outputs": []
    }
  ]
}