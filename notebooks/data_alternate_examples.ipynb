{
 "cells": [
  {
   "cell_type": "markdown",
   "metadata": {},
   "source": [
    "After discussion with Dr. Bonarini, we identified a potential problem in the way data was annotated. Data was collected during games, and then during annotation broken into segments of 3 seconds with 50% (1.5 seconds) overlap. Then annotation is done for each segment by looking at the video recordings of the games. So, different annotations are given to consecutive segments. But if we use a convolutional network then the filter experiences the same part of signal with different label, which obviously means it sees the 2 segments to be similar but with different labels. Thus it cannot learn from the signal. This could be a very important factor that is contributing to the overfitting i.e. it cannot learn from those patterns and learns from some other noise.\n",
    "\n",
    "Thus, (if we want to avoid re-annotation), we should use only alternate examples for our datasets. This will eliminate the problem caused by the overlaps. Actually, we should use datasets made both of alternate examples and left out alternate examples to get the best results as of now. But the real solution to the problem will be reannotation mostly.\n",
    "\n",
    "#### This notebook will create a csv file of these alternate examples"
   ]
  },
  {
   "cell_type": "code",
   "execution_count": 2,
   "metadata": {},
   "outputs": [],
   "source": [
    "%matplotlib inline\n",
    "import pandas as pd\n",
    "import datetime\n",
    "import matplotlib.pyplot as plt\n",
    "import torch\n",
    "from torch.utils.data import Dataset, DataLoader\n",
    "import numpy as np"
   ]
  },
  {
   "cell_type": "code",
   "execution_count": null,
   "metadata": {},
   "outputs": [],
   "source": []
  },
  {
   "cell_type": "code",
   "execution_count": null,
   "metadata": {},
   "outputs": [],
   "source": []
  }
 ],
 "metadata": {
  "kernelspec": {
   "display_name": "Python 3",
   "language": "python",
   "name": "python3"
  },
  "language_info": {
   "codemirror_mode": {
    "name": "ipython",
    "version": 3
   },
   "file_extension": ".py",
   "mimetype": "text/x-python",
   "name": "python",
   "nbconvert_exporter": "python",
   "pygments_lexer": "ipython3",
   "version": "3.6.8"
  }
 },
 "nbformat": 4,
 "nbformat_minor": 2
}
