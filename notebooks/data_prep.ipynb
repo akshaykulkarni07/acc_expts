{
 "cells": [
  {
   "cell_type": "code",
   "execution_count": 1,
   "metadata": {},
   "outputs": [],
   "source": [
    "%matplotlib inline\n",
    "import pandas as pd\n",
    "import datetime\n",
    "import pandas_datareader.data as web\n",
    "import matplotlib.pyplot as plt\n",
    "import torch\n",
    "from torch.utils.data import Dataset, DataLoader\n",
    "import numpy as np"
   ]
  },
  {
   "cell_type": "markdown",
   "metadata": {},
   "source": [
    "### Load all data into single dataframe\n",
    "If we look at the data closely, we will find that the data is already divided into segments of 3 seconds with overlap of 1.5 seconds. So, there is a separation (empty row) between each segment. This means those separations get deleted if we simply remove all rows where accelerometer data is missing. So, we need to consider the case where both timestamp and accelerometer data are missing (this is the separation and should not be deleted as it will be useful in future).\n",
    "\n",
    "Further, since the sampling rate of accelerometer is not constant, the number of samples in each segment is different. So, this needs to be handled in some way."
   ]
  },
  {
   "cell_type": "code",
   "execution_count": 108,
   "metadata": {},
   "outputs": [
    {
     "name": "stdout",
     "output_type": "stream",
     "text": [
      "212755\n",
      "   index      time High_level  linear_acc.x  linear_acc.y  linear_acc.z\n",
      "0      0  0.000000    Dodging         345.0       -2701.0        -466.0\n",
      "1      1  0.000000    Dodging         345.0       -2701.0        -466.0\n",
      "2      2  0.021687    Dodging         442.0       -2287.0        -965.0\n",
      "3      3  0.040944    Dodging         676.0       -1968.0       -1323.0\n",
      "4      4  0.061339    Dodging        1406.0       -1561.0       -1228.0\n"
     ]
    }
   ],
   "source": [
    "all_data_list = list()\n",
    "for file in os.listdir('../data/annotated_csv/'):\n",
    "    # check whether file to be loaded is csv \n",
    "    # and also ensure no other files are attempted to be parsed.\n",
    "    if file[-4 : ] == '.csv':\n",
    "        df = pd.read_csv(os.path.join('../data/annotated_csv/', file), names = ['time','Control','High_level','Expectation','Activity','linear_acc.x','linear_acc.y','linear_acc.z','gyro.z','gyro.x','gyro.y','ci','distance','proximity'], skiprows = [0])\n",
    "        all_data_list.append(df)\n",
    "        \n",
    "# Combine all the dataframes\n",
    "all_data_df = pd.concat(all_data_list)\n",
    "# Drop unnecessary data\n",
    "all_data_df.drop(['ci', 'distance', 'Control', 'Expectation', 'Activity', 'proximity', 'gyro.x', 'gyro.y', 'gyro.z'], axis = 1, inplace = True)\n",
    "print(len(all_data_df)) \n",
    "\n",
    "# Due to combination of multiple dataframes, the indices remained the same from the original dataframe\n",
    "# even in the full all_data_df dataframe. So, the indices needed to be reset. Upon resetting the indices\n",
    "# get converted into a column called 'index', so it needs to removed as it is unnecessary. \n",
    "all_data_df.reset_index(inplace = True)\n",
    "print(all_data_df.head())\n",
    "all_data_df.drop('index', axis = 1, inplace = True)\n",
    "\n",
    "# Indices are again reset so we can have a column of the correct indices which are required to \n",
    "# eliminate the unnecessary rows (which contained CI and proximity data only and no accelerometer data)\n",
    "all_data_df.reset_index(inplace = True)\n",
    "all_data_df.to_csv('../data/cleaned2.csv', index = None)"
   ]
  },
  {
   "cell_type": "markdown",
   "metadata": {},
   "source": [
    "### Discard rows that don't have accelerometer data (but not rows which indicate change of segment)"
   ]
  },
  {
   "cell_type": "code",
   "execution_count": 109,
   "metadata": {},
   "outputs": [],
   "source": [
    "# Creating a list of indices where timestamp is not NaN but accelerometer data is NaN \n",
    "# i.e. indices which don't have any accelerometer data\n",
    "drop_indices = list()\n",
    "for t, x, ind in zip(all_data_df.iloc[:, 1], all_data_df.iloc[:, 3], all_data_df.iloc[:, 0]):\n",
    "    if (pd.isna(x) and (not pd.isna(t))):\n",
    "        drop_indices.append(ind)\n",
    "        \n",
    "# Then, drop those indices and drop the 'index' column created earlier since it is not needed now.\n",
    "all_data_df.drop(all_data_df.index[drop_indices], inplace = True)\n",
    "all_data_df.drop('index', axis = 1, inplace = True)\n",
    "# saving to file for further use\n",
    "all_data_df.to_csv('../data/cleaned3.csv', index = None)"
   ]
  },
  {
   "cell_type": "code",
   "execution_count": 20,
   "metadata": {},
   "outputs": [
    {
     "name": "stdout",
     "output_type": "stream",
     "text": [
      "  High_level  linear_acc.x  linear_acc.y  linear_acc.z\n",
      "0    Dodging      0.021057     -0.164856     -0.028442\n",
      "1    Dodging      0.021057     -0.164856     -0.028442\n",
      "2    Dodging      0.026978     -0.139587     -0.058899\n",
      "3    Dodging      0.041260     -0.120117     -0.080750\n",
      "4    Dodging      0.085815     -0.095276     -0.074951\n"
     ]
    }
   ],
   "source": [
    "df = pd.read_csv('../data/cleaned3.csv', names = ['time', 'High_level', 'linear_acc.x', 'linear_acc.y', 'linear_acc.z'], header = 0)\n",
    "\n",
    "# labels = pd.DataFrame(pd.get_dummies(df['High_level'], prefix = 'label_'))\n",
    "# print(labels.head())\n",
    "# labels.to_csv('../data/labels.csv', index = None)\n",
    "\n",
    "# drop the timestamps as they are not required since we already know the separation between examples\n",
    "df.drop(['time'], axis = 1, inplace = True)\n",
    "\n",
    "# normalizing acceleration data using factor of 16384 mentioned in datasheet of MPU6050\n",
    "# to get the acceleration in multiples of 'g' (9.8 m/s^2)\n",
    "df['linear_acc.x'] = df['linear_acc.x'] / 16384.0\n",
    "df['linear_acc.y'] = df['linear_acc.y'] / 16384.0\n",
    "df['linear_acc.z'] = df['linear_acc.z'] / 16384.0\n",
    "print(df.head())\n",
    "df.to_csv('../data/acc_only.csv', index = None, header = None)"
   ]
  },
  {
   "cell_type": "code",
   "execution_count": 15,
   "metadata": {},
   "outputs": [
    {
     "data": {
      "text/plain": [
       "[<matplotlib.lines.Line2D at 0x7ff5722510b8>]"
      ]
     },
     "execution_count": 15,
     "metadata": {},
     "output_type": "execute_result"
    },
    {
     "data": {
      "image/png": "[encoded data removed]",
      "text/plain": [
       "<Figure size 432x288 with 1 Axes>"
      ]
     },
     "metadata": {
      "needs_background": "light"
     },
     "output_type": "display_data"
    }
   ],
   "source": [
    "plt.plot(df['linear_acc.x'][ : 300])"
   ]
  },
  {
   "cell_type": "code",
   "execution_count": null,
   "metadata": {},
   "outputs": [],
   "source": []
  }
 ],
 "metadata": {
  "kernelspec": {
   "display_name": "Python 3",
   "language": "python",
   "name": "python3"
  },
  "language_info": {
   "codemirror_mode": {
    "name": "ipython",
    "version": 3
   },
   "file_extension": ".py",
   "mimetype": "text/x-python",
   "name": "python",
   "nbconvert_exporter": "python",
   "pygments_lexer": "ipython3",
   "version": "3.7.3"
  }
 },
 "nbformat": 4,
 "nbformat_minor": 2
}
