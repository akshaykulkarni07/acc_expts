{
 "cells": [
  {
   "cell_type": "code",
   "execution_count": 198,
   "metadata": {},
   "outputs": [
    {
     "name": "stdout",
     "output_type": "stream",
     "text": [
      "1.1.0\n"
     ]
    }
   ],
   "source": [
    "%matplotlib inline\n",
    "import pandas as pd\n",
    "import datetime\n",
    "import pandas_datareader.data as web\n",
    "import matplotlib.pyplot as plt\n",
    "import torch\n",
    "from torch.utils.data import Dataset, DataLoader, SubsetRandomSampler\n",
    "from torch.utils.data.dataloader import default_collate\n",
    "import numpy as np\n",
    "import torch.nn as nn\n",
    "import torch.nn.functional as F\n",
    "from IPython.display import clear_output\n",
    "from torch.autograd import Variable\n",
    "from mpl_toolkits.mplot3d import Axes3D\n",
    "print(torch.__version__)"
   ]
  },
  {
   "cell_type": "markdown",
   "metadata": {},
   "source": [
    "### Dataset Class (loads data from csv)"
   ]
  },
  {
   "cell_type": "code",
   "execution_count": 199,
   "metadata": {},
   "outputs": [
    {
     "name": "stdout",
     "output_type": "stream",
     "text": [
      "(128100, 8)\n",
      "(16050, 8)\n",
      "(16050, 8)\n"
     ]
    }
   ],
   "source": [
    "reqd_len = 150\n",
    "channels = 3\n",
    "class IMUDataset(Dataset):\n",
    "    def __init__(self, mode = 'test', transform = None):\n",
    "        if mode == 'train' :\n",
    "            self.df = pd.read_csv('../data/train.csv', header = None)\n",
    "        elif mode == 'test' :\n",
    "            self.df = pd.read_csv('../data/test.csv', header = None)\n",
    "        elif mode == 'val' :\n",
    "            self.df = pd.read_csv('../data/val.csv', header = None)\n",
    "        self.transform = transform\n",
    "        print(self.df.shape)\n",
    "        \n",
    "    def __len__(self):\n",
    "        return len(self.df)\n",
    "    \n",
    "    def __getitem__(self, idx):\n",
    "        y = self.df.iloc[idx : idx + reqd_len, 3 : ].values\n",
    "        ind = np.argmax(np.sum(y, axis = 0))\n",
    "        label = np.zeros_like(self.df.iloc[0, 3 : ].values)\n",
    "        label = label.astype('float')\n",
    "        label[ind] = 1\n",
    "        x = self.df.iloc[idx : idx + reqd_len, : channels].values\n",
    "        x = x.astype('float')\n",
    "        x = x.reshape(reqd_len, channels)\n",
    "        assert(x.shape == (reqd_len, channels))\n",
    "        assert(label.shape == (5, ))\n",
    "        return x, label\n",
    "        \n",
    "trainset = IMUDataset(mode = 'train')\n",
    "valset = IMUDataset(mode = 'val')\n",
    "testset = IMUDataset(mode = 'test')"
   ]
  },
  {
   "cell_type": "markdown",
   "metadata": {},
   "source": [
    "### Dataloader definitions (provides data in iterable form)"
   ]
  },
  {
   "cell_type": "code",
   "execution_count": 200,
   "metadata": {},
   "outputs": [],
   "source": [
    "train_batch_size = 8\n",
    "batch_size = 8\n",
    "train_indices = [(i * reqd_len) for i in range(len(trainset) // reqd_len)]\n",
    "val_indices = [(i * reqd_len) for i in range(len(valset) // reqd_len)]\n",
    "test_indices = [(i * reqd_len) for i in range(len(testset) // reqd_len)]\n",
    "\n",
    "trainloader = DataLoader(trainset, batch_size = train_batch_size, sampler = SubsetRandomSampler(train_indices), drop_last = True)\n",
    "valloader = DataLoader(valset, batch_size = batch_size, sampler = SubsetRandomSampler(val_indices), drop_last = True)\n",
    "testloader = DataLoader(testset, batch_size = batch_size, sampler = SubsetRandomSampler(test_indices), drop_last = True)\n",
    "\n",
    "# signal, label = next(iter(trainloader))\n",
    "# print(signal.shape)\n",
    "# print(label.shape)"
   ]
  },
  {
   "cell_type": "markdown",
   "metadata": {},
   "source": [
    "Function for calculating output size for given input size, filter size, padding and stride for a CNN"
   ]
  },
  {
   "cell_type": "code",
   "execution_count": 201,
   "metadata": {},
   "outputs": [
    {
     "data": {
      "text/plain": [
       "146.0"
      ]
     },
     "execution_count": 201,
     "metadata": {},
     "output_type": "execute_result"
    }
   ],
   "source": [
    "def output_size(n, f, p = 0, s = 1):\n",
    "    return (((n + 2 * p - f) / s) + 1)\n",
    "\n",
    "output_size(150, 3)\n",
    "output_size(148, 3)"
   ]
  },
  {
   "cell_type": "code",
   "execution_count": 107,
   "metadata": {},
   "outputs": [],
   "source": [
    "class ConvNet(nn.Module):\n",
    "    def __init__(self):\n",
    "        super(ConvNet, self).__init__()\n",
    "        # defining layers\n",
    "#         self.conv1 = nn.Conv1d(3, 10, 3)\n",
    "#         self.conv2 = nn.Conv1d(10, 15, 3)\n",
    "#         self.conv3 = nn.Conv1d(15, 20, 3)\n",
    "        self.fc1 = nn.Linear(150 * 3, 256)\n",
    "        self.fc2 = nn.Linear(256, 128)\n",
    "        self.fc3 = nn.Linear(128, 5)\n",
    "        \n",
    "        nn.init.xavier_uniform_(self.fc1.weight, gain = nn.init.calculate_gain('relu'))\n",
    "        nn.init.xavier_uniform_(self.fc2.weight, gain = nn.init.calculate_gain('relu'))\n",
    "        nn.init.xavier_uniform_(self.fc3.weight, gain = nn.init.calculate_gain('sigmoid'))\n",
    "        \n",
    "    def forward(self, signal):\n",
    "        signal = signal.view(-1, 150 * 3)\n",
    "        out = F.relu(self.fc1(signal))\n",
    "        out = F.relu(self.fc2(out))\n",
    "        out = F.log_softmax(self.fc3(out), dim = 1)\n",
    "        return out\n",
    "\n",
    "Net = ConvNet()\n",
    "if torch.cuda.is_available():\n",
    "    print('Model on GPU')\n",
    "    Net = Net.cuda()"
   ]
  },
  {
   "cell_type": "code",
   "execution_count": 108,
   "metadata": {},
   "outputs": [],
   "source": [
    "import torch.optim as optim\n",
    "criterion = nn.CrossEntropyLoss()\n",
    "optimizer = optim.Adam(Net.parameters(), lr = 1e-3, weight_decay = 1e-1)"
   ]
  },
  {
   "cell_type": "code",
   "execution_count": 109,
   "metadata": {},
   "outputs": [
    {
     "name": "stdout",
     "output_type": "stream",
     "text": [
      "epoch =  0  step =  0  of total steps  16012  loss =  1.7440937757492065\n",
      "epoch =  0  step =  20  of total steps  16012  loss =  1.388783574104309\n",
      "epoch =  0  step =  40  of total steps  16012  loss =  1.5119402408599854\n",
      "epoch =  0  step =  60  of total steps  16012  loss =  1.497506856918335\n",
      "epoch =  0  step =  80  of total steps  16012  loss =  1.5476007461547852\n",
      "epoch =  0  step =  100  of total steps  16012  loss =  1.4727420806884766\n",
      "epoch :  0  /  20  | TL :  1.5255412245696445  | VL :  1.530864953994751\n",
      "saving model\n",
      "epoch =  1  step =  0  of total steps  16012  loss =  1.5372083187103271\n",
      "epoch =  1  step =  20  of total steps  16012  loss =  1.3468658924102783\n",
      "epoch =  1  step =  40  of total steps  16012  loss =  1.5341323614120483\n",
      "epoch =  1  step =  60  of total steps  16012  loss =  1.5024219751358032\n",
      "epoch =  1  step =  80  of total steps  16012  loss =  1.438321590423584\n",
      "epoch =  1  step =  100  of total steps  16012  loss =  1.5530476570129395\n",
      "epoch :  1  /  20  | TL :  1.5181443781222936  | VL :  1.5287277698516846\n",
      "saving model\n",
      "epoch =  2  step =  0  of total steps  16012  loss =  1.5391875505447388\n",
      "epoch =  2  step =  20  of total steps  16012  loss =  1.7251267433166504\n",
      "epoch =  2  step =  40  of total steps  16012  loss =  1.7005029916763306\n",
      "epoch =  2  step =  60  of total steps  16012  loss =  1.4984958171844482\n",
      "epoch =  2  step =  80  of total steps  16012  loss =  1.5023224353790283\n",
      "epoch =  2  step =  100  of total steps  16012  loss =  1.4910565614700317\n",
      "epoch :  2  /  20  | TL :  1.5212066555922885  | VL :  1.5258216857910156\n",
      "saving model\n",
      "epoch =  3  step =  0  of total steps  16012  loss =  1.6244381666183472\n",
      "epoch =  3  step =  20  of total steps  16012  loss =  1.5555992126464844\n",
      "epoch =  3  step =  40  of total steps  16012  loss =  1.5704885721206665\n",
      "epoch =  3  step =  60  of total steps  16012  loss =  1.523380160331726\n",
      "epoch =  3  step =  80  of total steps  16012  loss =  1.5473191738128662\n",
      "epoch =  3  step =  100  of total steps  16012  loss =  1.69693922996521\n",
      "epoch :  3  /  20  | TL :  1.5210854591063734  | VL :  1.5263947248458862\n",
      "epoch =  4  step =  0  of total steps  16012  loss =  1.534305214881897\n",
      "epoch =  4  step =  20  of total steps  16012  loss =  1.6898329257965088\n",
      "epoch =  4  step =  40  of total steps  16012  loss =  1.4851292371749878\n",
      "epoch =  4  step =  60  of total steps  16012  loss =  1.731306552886963\n",
      "epoch =  4  step =  80  of total steps  16012  loss =  1.691063404083252\n",
      "epoch =  4  step =  100  of total steps  16012  loss =  1.5818755626678467\n",
      "epoch :  4  /  20  | TL :  1.51760060157416  | VL :  1.5216028690338135\n",
      "saving model\n",
      "epoch =  5  step =  0  of total steps  16012  loss =  1.5732020139694214\n",
      "epoch =  5  step =  20  of total steps  16012  loss =  1.6779614686965942\n",
      "epoch =  5  step =  40  of total steps  16012  loss =  1.4866544008255005\n",
      "epoch =  5  step =  60  of total steps  16012  loss =  1.5143897533416748\n",
      "epoch =  5  step =  80  of total steps  16012  loss =  1.5425885915756226\n",
      "epoch =  5  step =  100  of total steps  16012  loss =  1.5888752937316895\n",
      "epoch :  5  /  20  | TL :  1.5195990542195879  | VL :  1.5299471616744995\n",
      "epoch =  6  step =  0  of total steps  16012  loss =  1.5420551300048828\n",
      "epoch =  6  step =  20  of total steps  16012  loss =  1.5498316287994385\n",
      "epoch =  6  step =  40  of total steps  16012  loss =  1.7193310260772705\n",
      "epoch =  6  step =  60  of total steps  16012  loss =  1.543047547340393\n",
      "epoch =  6  step =  80  of total steps  16012  loss =  1.7138347625732422\n",
      "epoch =  6  step =  100  of total steps  16012  loss =  1.5340299606323242\n",
      "epoch :  6  /  20  | TL :  1.519323172434321  | VL :  1.5215784311294556\n",
      "saving model\n",
      "epoch =  7  step =  0  of total steps  16012  loss =  1.4915496110916138\n",
      "epoch =  7  step =  20  of total steps  16012  loss =  1.625349760055542\n",
      "epoch =  7  step =  40  of total steps  16012  loss =  1.586081862449646\n",
      "epoch =  7  step =  60  of total steps  16012  loss =  1.4938935041427612\n",
      "epoch =  7  step =  80  of total steps  16012  loss =  1.4478670358657837\n",
      "epoch =  7  step =  100  of total steps  16012  loss =  1.4418576955795288\n",
      "epoch :  7  /  20  | TL :  1.5188376532410675  | VL :  1.5357741117477417\n",
      "epoch =  8  step =  0  of total steps  16012  loss =  1.5936434268951416\n",
      "epoch =  8  step =  20  of total steps  16012  loss =  1.6606502532958984\n",
      "epoch =  8  step =  40  of total steps  16012  loss =  1.531963586807251\n",
      "epoch =  8  step =  60  of total steps  16012  loss =  1.4729291200637817\n",
      "epoch =  8  step =  80  of total steps  16012  loss =  1.4505804777145386\n",
      "epoch =  8  step =  100  of total steps  16012  loss =  1.6658772230148315\n",
      "epoch :  8  /  20  | TL :  1.514834518702525  | VL :  1.5237700939178467\n",
      "epoch =  9  step =  0  of total steps  16012  loss =  1.5490151643753052\n",
      "epoch =  9  step =  20  of total steps  16012  loss =  1.479180097579956\n",
      "epoch =  9  step =  40  of total steps  16012  loss =  1.4791345596313477\n",
      "epoch =  9  step =  60  of total steps  16012  loss =  1.644676923751831\n",
      "epoch =  9  step =  80  of total steps  16012  loss =  1.4074214696884155\n",
      "epoch =  9  step =  100  of total steps  16012  loss =  1.437449336051941\n",
      "epoch :  9  /  20  | TL :  1.5186912766042746  | VL :  1.5320557355880737\n",
      "epoch =  10  step =  0  of total steps  16012  loss =  1.3844116926193237\n",
      "epoch =  10  step =  20  of total steps  16012  loss =  1.5359160900115967\n",
      "epoch =  10  step =  40  of total steps  16012  loss =  1.586460828781128\n",
      "epoch =  10  step =  60  of total steps  16012  loss =  1.2213973999023438\n",
      "epoch =  10  step =  80  of total steps  16012  loss =  1.6192889213562012\n",
      "epoch =  10  step =  100  of total steps  16012  loss =  1.3940129280090332\n",
      "epoch :  10  /  20  | TL :  1.516105110915202  | VL :  1.5306638479232788\n",
      "epoch =  11  step =  0  of total steps  16012  loss =  1.5375887155532837\n",
      "epoch =  11  step =  20  of total steps  16012  loss =  1.5586352348327637\n",
      "epoch =  11  step =  40  of total steps  16012  loss =  1.6988722085952759\n",
      "epoch =  11  step =  60  of total steps  16012  loss =  1.702487826347351\n",
      "epoch =  11  step =  80  of total steps  16012  loss =  1.4157747030258179\n",
      "epoch =  11  step =  100  of total steps  16012  loss =  1.6013975143432617\n",
      "epoch :  11  /  20  | TL :  1.5171923682374775  | VL :  1.5299941301345825\n",
      "epoch =  12  step =  0  of total steps  16012  loss =  1.5210239887237549\n",
      "epoch =  12  step =  20  of total steps  16012  loss =  1.5809919834136963\n",
      "epoch =  12  step =  40  of total steps  16012  loss =  1.428402066230774\n",
      "epoch =  12  step =  60  of total steps  16012  loss =  1.6351075172424316\n",
      "epoch =  12  step =  80  of total steps  16012  loss =  1.500681757926941\n",
      "epoch =  12  step =  100  of total steps  16012  loss =  1.5814889669418335\n",
      "epoch :  12  /  20  | TL :  1.5137723313187652  | VL :  1.5346118211746216\n",
      "epoch =  13  step =  0  of total steps  16012  loss =  1.4016084671020508\n",
      "epoch =  13  step =  20  of total steps  16012  loss =  1.6210969686508179\n",
      "epoch =  13  step =  40  of total steps  16012  loss =  1.547609806060791\n",
      "epoch =  13  step =  60  of total steps  16012  loss =  1.4766772985458374\n",
      "epoch =  13  step =  80  of total steps  16012  loss =  1.4072818756103516\n",
      "epoch =  13  step =  100  of total steps  16012  loss =  1.673340916633606\n",
      "epoch :  13  /  20  | TL :  1.515599106842617  | VL :  1.5254123210906982\n",
      "epoch =  14  step =  0  of total steps  16012  loss =  1.7580677270889282\n",
      "epoch =  14  step =  20  of total steps  16012  loss =  1.4660872220993042\n",
      "epoch =  14  step =  40  of total steps  16012  loss =  1.5099105834960938\n",
      "epoch =  14  step =  60  of total steps  16012  loss =  1.437002420425415\n",
      "epoch =  14  step =  80  of total steps  16012  loss =  1.6619882583618164\n",
      "epoch =  14  step =  100  of total steps  16012  loss =  1.4866433143615723\n",
      "epoch :  14  /  20  | TL :  1.5168204543725499  | VL :  1.5268827676773071\n",
      "epoch =  15  step =  0  of total steps  16012  loss =  1.5665419101715088\n",
      "epoch =  15  step =  20  of total steps  16012  loss =  1.666519045829773\n",
      "epoch =  15  step =  40  of total steps  16012  loss =  1.5470638275146484\n",
      "epoch =  15  step =  60  of total steps  16012  loss =  1.5932776927947998\n",
      "epoch =  15  step =  80  of total steps  16012  loss =  1.374967336654663\n"
     ]
    },
    {
     "name": "stdout",
     "output_type": "stream",
     "text": [
      "epoch =  15  step =  100  of total steps  16012  loss =  1.662811040878296\n",
      "epoch :  15  /  20  | TL :  1.5143744473187428  | VL :  1.525626540184021\n",
      "epoch =  16  step =  0  of total steps  16012  loss =  1.6300100088119507\n",
      "epoch =  16  step =  20  of total steps  16012  loss =  1.3399255275726318\n",
      "epoch =  16  step =  40  of total steps  16012  loss =  1.5294454097747803\n",
      "epoch =  16  step =  60  of total steps  16012  loss =  1.5600128173828125\n",
      "epoch =  16  step =  80  of total steps  16012  loss =  1.3406175374984741\n",
      "epoch =  16  step =  100  of total steps  16012  loss =  1.3808459043502808\n",
      "epoch :  16  /  20  | TL :  1.513566330918726  | VL :  1.5290355682373047\n",
      "epoch =  17  step =  0  of total steps  16012  loss =  1.394396185874939\n",
      "epoch =  17  step =  20  of total steps  16012  loss =  1.5891327857971191\n",
      "epoch =  17  step =  40  of total steps  16012  loss =  1.5195121765136719\n",
      "epoch =  17  step =  60  of total steps  16012  loss =  1.4190921783447266\n",
      "epoch =  17  step =  80  of total steps  16012  loss =  1.461896538734436\n",
      "epoch =  17  step =  100  of total steps  16012  loss =  1.4637500047683716\n",
      "epoch :  17  /  20  | TL :  1.5141626731404718  | VL :  1.529190182685852\n",
      "epoch =  18  step =  0  of total steps  16012  loss =  1.470103144645691\n",
      "epoch =  18  step =  20  of total steps  16012  loss =  1.5525983572006226\n",
      "epoch =  18  step =  40  of total steps  16012  loss =  1.6444660425186157\n",
      "epoch =  18  step =  60  of total steps  16012  loss =  1.4806150197982788\n",
      "epoch =  18  step =  80  of total steps  16012  loss =  1.5269711017608643\n",
      "epoch =  18  step =  100  of total steps  16012  loss =  1.3002183437347412\n",
      "epoch :  18  /  20  | TL :  1.5145023161510252  | VL :  1.5283838510513306\n",
      "epoch =  19  step =  0  of total steps  16012  loss =  1.5550333261489868\n",
      "epoch =  19  step =  20  of total steps  16012  loss =  1.5364662408828735\n",
      "epoch =  19  step =  40  of total steps  16012  loss =  1.3173097372055054\n",
      "epoch =  19  step =  60  of total steps  16012  loss =  1.4511396884918213\n",
      "epoch =  19  step =  80  of total steps  16012  loss =  1.467952847480774\n",
      "epoch =  19  step =  100  of total steps  16012  loss =  1.5547943115234375\n",
      "epoch :  19  /  20  | TL :  1.5112828252450474  | VL :  1.513685941696167\n",
      "saving model\n"
     ]
    }
   ],
   "source": [
    "num_epochs = 20\n",
    "total_step = len(trainset) // (train_batch_size * 150)\n",
    "train_loss_list = list()\n",
    "val_loss_list = list()\n",
    "min_val = 100\n",
    "for epoch in range(num_epochs):\n",
    "    trn = []\n",
    "    Net.train()\n",
    "    for i, (images, labels) in enumerate(trainloader) :\n",
    "        if torch.cuda.is_available():\n",
    "            images = Variable(images).cuda().float()\n",
    "            labels = Variable(labels).cuda()\n",
    "        else : \n",
    "            images = Variable(images).float()\n",
    "            labels = Variable(labels)\n",
    "        \n",
    "        _, target = torch.max(labels, 1)\n",
    "\n",
    "        y_pred = Net(images)\n",
    "        \n",
    "        loss = criterion(y_pred, target)\n",
    "        trn.append(loss.item())\n",
    "\n",
    "        optimizer.zero_grad()\n",
    "        loss.backward()\n",
    "#         torch.nn.utils.clip_grad_value_(Net.parameters(), 10)\n",
    "        optimizer.step()\n",
    "\n",
    "        if i % 20 == 0 :\n",
    "            print('epoch = ', epoch, ' step = ', i, ' of total steps ', total_step, ' loss = ', loss.item())\n",
    "            \n",
    "    train_loss = (sum(trn) / len(trn))\n",
    "    train_loss_list.append(train_loss)\n",
    "    \n",
    "    Net.eval()\n",
    "    val = []\n",
    "    with torch.no_grad() :\n",
    "        for i, (images, labels) in enumerate(valloader) :\n",
    "            if torch.cuda.is_available():\n",
    "                images = Variable(images).cuda().float()\n",
    "                labels = Variable(labels).cuda()\n",
    "            else : \n",
    "                images = Variable(images).float()\n",
    "                labels = Variable(labels)\n",
    "                \n",
    "            _, target = torch.max(labels, 1)\n",
    "\n",
    "            # Forward pass\n",
    "            outputs = Net(images)\n",
    "            loss = criterion(outputs, target)\n",
    "            val.append(loss)\n",
    "\n",
    "    val_loss = (sum(val) / len(val)).item()\n",
    "    val_loss_list.append(val_loss)\n",
    "    print('epoch : ', epoch, ' / ', num_epochs, ' | TL : ', train_loss, ' | VL : ', val_loss)\n",
    "    \n",
    "    if val_loss < min_val :\n",
    "        print('saving model')\n",
    "        min_val = val_loss\n",
    "        torch.save(Net.state_dict(), '2conv_softmax.pt')"
   ]
  },
  {
   "cell_type": "code",
   "execution_count": 110,
   "metadata": {},
   "outputs": [
    {
     "data": {
      "text/plain": [
       "[<matplotlib.lines.Line2D at 0x7f6ac6edf978>,\n",
       " <matplotlib.lines.Line2D at 0x7f6ac6edfac8>]"
      ]
     },
     "execution_count": 110,
     "metadata": {},
     "output_type": "execute_result"
    },
    {
     "data": {
      "image/png": "[encoded data removed]",
      "text/plain": [
       "<Figure size 432x288 with 1 Axes>"
      ]
     },
     "metadata": {
      "needs_background": "light"
     },
     "output_type": "display_data"
    }
   ],
   "source": [
    "j = np.arange(20)\n",
    "plt.plot(j, train_loss_list, 'r', j, val_loss_list, 'g')"
   ]
  },
  {
   "cell_type": "code",
   "execution_count": 111,
   "metadata": {},
   "outputs": [
    {
     "data": {
      "text/plain": [
       "ConvNet(\n",
       "  (fc1): Linear(in_features=450, out_features=256, bias=True)\n",
       "  (fc2): Linear(in_features=256, out_features=128, bias=True)\n",
       "  (fc3): Linear(in_features=128, out_features=5, bias=True)\n",
       ")"
      ]
     },
     "execution_count": 111,
     "metadata": {},
     "output_type": "execute_result"
    }
   ],
   "source": [
    "def _get_accuracy(dataloader):\n",
    "    total = 0\n",
    "    correct = 0\n",
    "    Net.eval()\n",
    "    for i, (images, labels) in enumerate(dataloader):\n",
    "        images = Variable(images).float()\n",
    "        labels = Variable(labels).float()\n",
    "\n",
    "        outputs = Net(images)\n",
    "    \n",
    "        _, label_ind = torch.max(labels, 1)\n",
    "        _, pred_ind = torch.max(outputs, 1)\n",
    "        \n",
    "        # converting to numpy arrays\n",
    "        label_ind = label_ind.data.numpy()\n",
    "        pred_ind = pred_ind.data.numpy()\n",
    "        \n",
    "        # get difference\n",
    "        diff_ind = label_ind - pred_ind\n",
    "        # correctly classified will be 1 and will get added\n",
    "        # incorrectly classified will be 0\n",
    "        correct += np.count_nonzero(diff_ind == 0)\n",
    "        total += len(diff_ind)\n",
    "\n",
    "    accuracy = correct / total\n",
    "    # print(len(diff_ind))\n",
    "    return accuracy\n",
    "\n",
    "Net.cpu()\n",
    "# _get_accuracy(trainloader)"
   ]
  },
  {
   "cell_type": "code",
   "execution_count": 112,
   "metadata": {},
   "outputs": [
    {
     "name": "stdout",
     "output_type": "stream",
     "text": [
      "0.38207547169811323\n",
      "0.41346153846153844\n",
      "0.3557692307692308\n"
     ]
    }
   ],
   "source": [
    "print(_get_accuracy(trainloader))\n",
    "print(_get_accuracy(testloader))\n",
    "print(_get_accuracy(valloader))"
   ]
  },
  {
   "cell_type": "markdown",
   "metadata": {},
   "source": [
    "#### Directly training NNs on raw data doesn't work well (network overfits most of the time). So, we can try to use some pre-processing to the data before training (like running mean, running std deviation, running rms, etc.)\n",
    "\n",
    "### Processing Functions"
   ]
  },
  {
   "cell_type": "code",
   "execution_count": 202,
   "metadata": {},
   "outputs": [],
   "source": [
    "def running_mean(signal, window_size = 10):\n",
    "    ''' Returns running mean of 3D signal (batch_size, length, channels)\n",
    "    '''\n",
    "    mean = torch.zeros_like(signal)\n",
    "    for i in range(signal.shape[0]) :\n",
    "        for j in range(signal.shape[1] - window_size) : \n",
    "            mean[i][j] = signal[i][j : j + window_size].mean(dim = 0)\n",
    "            \n",
    "    for i in range(signal.shape[0]) :\n",
    "        for j in range(signal.shape[1] - window_size, signal.shape[1]) :\n",
    "            mean[i][j] = signal[i][j]\n",
    "            \n",
    "    return mean"
   ]
  },
  {
   "cell_type": "markdown",
   "metadata": {},
   "source": [
    "### Shows working of `running_mean` function"
   ]
  },
  {
   "cell_type": "code",
   "execution_count": 203,
   "metadata": {},
   "outputs": [
    {
     "name": "stdout",
     "output_type": "stream",
     "text": [
      "torch.Size([8, 150, 3])\n"
     ]
    },
    {
     "data": {
      "text/plain": [
       "[<matplotlib.lines.Line2D at 0x7f6ab6cc5b00>,\n",
       " <matplotlib.lines.Line2D at 0x7f6ab6cc5c50>]"
      ]
     },
     "execution_count": 203,
     "metadata": {},
     "output_type": "execute_result"
    },
    {
     "data": {
      "image/png": "[encoded data removed]",
      "text/plain": [
       "<Figure size 432x288 with 1 Axes>"
      ]
     },
     "metadata": {
      "needs_background": "light"
     },
     "output_type": "display_data"
    }
   ],
   "source": [
    "signal, label = next(iter(trainloader))\n",
    "# print(signal.shape)\n",
    "# print(signal[2].shape)\n",
    "# print(signal[2].mean(dim = 0).shape)\n",
    "# print(signal[2][ : 10].mean(dim = 0).shape)\n",
    "# print(signal[1][2].shape)\n",
    "mean = running_mean(signal)\n",
    "print(mean.shape)\n",
    "sig_ = signal[0].transpose(0, 1)\n",
    "mean_ = mean[0].transpose(0, 1)\n",
    "t = range(150)\n",
    "plt.plot(t, sig_[0].data.numpy(), 'r', t, mean_[0].data.numpy(), 'b')"
   ]
  },
  {
   "cell_type": "markdown",
   "metadata": {},
   "source": [
    "### Training network using `running_mean` processed data"
   ]
  },
  {
   "cell_type": "code",
   "execution_count": 286,
   "metadata": {},
   "outputs": [],
   "source": [
    "class ConvNet(nn.Module):\n",
    "    def __init__(self):\n",
    "        super(ConvNet, self).__init__()\n",
    "        # defining layers\n",
    "        self.conv1 = nn.Conv1d(3, 5, 3)\n",
    "        self.fc1 = nn.Linear(148 * 5, 5)\n",
    "        \n",
    "        nn.init.xavier_uniform_(self.conv1.weight, gain = nn.init.calculate_gain('relu'))\n",
    "        nn.init.xavier_uniform_(self.fc1.weight, gain = nn.init.calculate_gain('sigmoid'))\n",
    "        \n",
    "    def forward(self, signal):\n",
    "        signal_ = running_mean(signal, window_size = 30)\n",
    "        signal_ = signal_.view(-1, 3, 150)\n",
    "        out = F.relu(self.conv1(signal_))\n",
    "        out = out.view(-1, 148 * 5)\n",
    "        out = F.log_softmax(self.fc1(out), dim = 1)\n",
    "        return out\n",
    "\n",
    "Net = ConvNet()\n",
    "if torch.cuda.is_available():\n",
    "    print('Model on GPU')\n",
    "    Net = Net.cuda()"
   ]
  },
  {
   "cell_type": "code",
   "execution_count": 287,
   "metadata": {},
   "outputs": [],
   "source": [
    "import torch.optim as optim\n",
    "criterion = nn.CrossEntropyLoss()\n",
    "optimizer = optim.Adam(Net.parameters(), lr = 1e-3, weight_decay = 1e-3)"
   ]
  },
  {
   "cell_type": "code",
   "execution_count": 288,
   "metadata": {},
   "outputs": [
    {
     "name": "stdout",
     "output_type": "stream",
     "text": [
      "epoch =  0  step =  0  of total steps  106  loss =  1.5879511833190918\n",
      "epoch =  0  step =  20  of total steps  106  loss =  1.510141372680664\n",
      "epoch =  0  step =  40  of total steps  106  loss =  1.3134374618530273\n",
      "epoch =  0  step =  60  of total steps  106  loss =  1.8948047161102295\n",
      "epoch =  0  step =  80  of total steps  106  loss =  1.4915242195129395\n",
      "epoch =  0  step =  100  of total steps  106  loss =  1.536300539970398\n",
      "epoch :  0  /  20  | TL :  1.533472553739008  | VL :  1.5684475898742676\n",
      "saving model\n",
      "epoch =  1  step =  0  of total steps  106  loss =  1.5454784631729126\n",
      "epoch =  1  step =  20  of total steps  106  loss =  1.41603422164917\n",
      "epoch =  1  step =  40  of total steps  106  loss =  1.5057374238967896\n",
      "epoch =  1  step =  60  of total steps  106  loss =  2.0736308097839355\n",
      "epoch =  1  step =  80  of total steps  106  loss =  1.8176738023757935\n",
      "epoch =  1  step =  100  of total steps  106  loss =  1.6216012239456177\n",
      "epoch :  1  /  20  | TL :  1.491340992585668  | VL :  1.5704760551452637\n",
      "epoch =  2  step =  0  of total steps  106  loss =  1.6426364183425903\n",
      "epoch =  2  step =  20  of total steps  106  loss =  1.6855955123901367\n",
      "epoch =  2  step =  40  of total steps  106  loss =  1.299123764038086\n",
      "epoch =  2  step =  60  of total steps  106  loss =  1.4415427446365356\n",
      "epoch =  2  step =  80  of total steps  106  loss =  1.259587049484253\n",
      "epoch =  2  step =  100  of total steps  106  loss =  1.3024628162384033\n",
      "epoch :  2  /  20  | TL :  1.4692246672117486  | VL :  1.569202184677124\n",
      "epoch =  3  step =  0  of total steps  106  loss =  1.3116403818130493\n",
      "epoch =  3  step =  20  of total steps  106  loss =  1.6395901441574097\n",
      "epoch =  3  step =  40  of total steps  106  loss =  1.1600605249404907\n",
      "epoch =  3  step =  60  of total steps  106  loss =  1.552253246307373\n",
      "epoch =  3  step =  80  of total steps  106  loss =  1.3152400255203247\n",
      "epoch =  3  step =  100  of total steps  106  loss =  1.2088234424591064\n",
      "epoch :  3  /  20  | TL :  1.4472604326482088  | VL :  1.5402960777282715\n",
      "saving model\n",
      "epoch =  4  step =  0  of total steps  106  loss =  1.2851622104644775\n",
      "epoch =  4  step =  20  of total steps  106  loss =  1.4244531393051147\n",
      "epoch =  4  step =  40  of total steps  106  loss =  1.5293500423431396\n",
      "epoch =  4  step =  60  of total steps  106  loss =  1.3868257999420166\n",
      "epoch =  4  step =  80  of total steps  106  loss =  1.4142601490020752\n",
      "epoch =  4  step =  100  of total steps  106  loss =  1.8082332611083984\n",
      "epoch :  4  /  20  | TL :  1.435821237991441  | VL :  1.5258280038833618\n",
      "saving model\n",
      "epoch =  5  step =  0  of total steps  106  loss =  1.6491363048553467\n",
      "epoch =  5  step =  20  of total steps  106  loss =  1.0983250141143799\n",
      "epoch =  5  step =  40  of total steps  106  loss =  1.0700632333755493\n",
      "epoch =  5  step =  60  of total steps  106  loss =  1.3554489612579346\n",
      "epoch =  5  step =  80  of total steps  106  loss =  1.54526948928833\n",
      "epoch =  5  step =  100  of total steps  106  loss =  1.2958548069000244\n",
      "epoch :  5  /  20  | TL :  1.410583607430728  | VL :  1.5790435075759888\n",
      "epoch =  6  step =  0  of total steps  106  loss =  1.601974368095398\n",
      "epoch =  6  step =  20  of total steps  106  loss =  1.1519466638565063\n",
      "epoch =  6  step =  40  of total steps  106  loss =  1.4875470399856567\n",
      "epoch =  6  step =  60  of total steps  106  loss =  1.2163777351379395\n",
      "epoch =  6  step =  80  of total steps  106  loss =  1.1053993701934814\n",
      "epoch =  6  step =  100  of total steps  106  loss =  1.5599101781845093\n",
      "epoch :  6  /  20  | TL :  1.4059854757111028  | VL :  1.5528743267059326\n",
      "epoch =  7  step =  0  of total steps  106  loss =  1.5978777408599854\n",
      "epoch =  7  step =  20  of total steps  106  loss =  1.2655020952224731\n",
      "epoch =  7  step =  40  of total steps  106  loss =  1.3885754346847534\n",
      "epoch =  7  step =  60  of total steps  106  loss =  1.4055750370025635\n",
      "epoch =  7  step =  80  of total steps  106  loss =  1.5253220796585083\n",
      "epoch =  7  step =  100  of total steps  106  loss =  1.3213281631469727\n",
      "epoch :  7  /  20  | TL :  1.395358831252692  | VL :  1.5264829397201538\n",
      "epoch =  8  step =  0  of total steps  106  loss =  1.4252504110336304\n",
      "epoch =  8  step =  20  of total steps  106  loss =  1.7016842365264893\n",
      "epoch =  8  step =  40  of total steps  106  loss =  1.5466861724853516\n",
      "epoch =  8  step =  60  of total steps  106  loss =  1.2882792949676514\n",
      "epoch =  8  step =  80  of total steps  106  loss =  1.4615685939788818\n",
      "epoch =  8  step =  100  of total steps  106  loss =  1.669187307357788\n",
      "epoch :  8  /  20  | TL :  1.380005086367985  | VL :  1.525591492652893\n",
      "saving model\n",
      "epoch =  9  step =  0  of total steps  106  loss =  1.2981178760528564\n",
      "epoch =  9  step =  20  of total steps  106  loss =  1.4124454259872437\n",
      "epoch =  9  step =  40  of total steps  106  loss =  1.5579279661178589\n",
      "epoch =  9  step =  60  of total steps  106  loss =  1.5700371265411377\n",
      "epoch =  9  step =  80  of total steps  106  loss =  1.3705956935882568\n",
      "epoch =  9  step =  100  of total steps  106  loss =  1.2176945209503174\n",
      "epoch :  9  /  20  | TL :  1.3759840940529446  | VL :  1.5480399131774902\n",
      "epoch =  10  step =  0  of total steps  106  loss =  1.3904762268066406\n",
      "epoch =  10  step =  20  of total steps  106  loss =  1.3394511938095093\n",
      "epoch =  10  step =  40  of total steps  106  loss =  1.3163326978683472\n",
      "epoch =  10  step =  60  of total steps  106  loss =  1.007237195968628\n",
      "epoch =  10  step =  80  of total steps  106  loss =  1.2833963632583618\n",
      "epoch =  10  step =  100  of total steps  106  loss =  1.441867470741272\n",
      "epoch :  10  /  20  | TL :  1.3625474679020215  | VL :  1.5290627479553223\n",
      "epoch =  11  step =  0  of total steps  106  loss =  1.3805255889892578\n",
      "epoch =  11  step =  20  of total steps  106  loss =  1.2114628553390503\n",
      "epoch =  11  step =  40  of total steps  106  loss =  1.551210880279541\n",
      "epoch =  11  step =  60  of total steps  106  loss =  1.174257755279541\n",
      "epoch =  11  step =  80  of total steps  106  loss =  1.3763760328292847\n",
      "epoch =  11  step =  100  of total steps  106  loss =  1.26619291305542\n",
      "epoch :  11  /  20  | TL :  1.3596165005890828  | VL :  1.5441619157791138\n",
      "epoch =  12  step =  0  of total steps  106  loss =  1.3675593137741089\n",
      "epoch =  12  step =  20  of total steps  106  loss =  1.0314236879348755\n",
      "epoch =  12  step =  40  of total steps  106  loss =  1.505118489265442\n",
      "epoch =  12  step =  60  of total steps  106  loss =  1.2533105611801147\n",
      "epoch =  12  step =  80  of total steps  106  loss =  1.2941043376922607\n",
      "epoch =  12  step =  100  of total steps  106  loss =  1.3210186958312988\n",
      "epoch :  12  /  20  | TL :  1.3443759274932574  | VL :  1.5603121519088745\n",
      "epoch =  13  step =  0  of total steps  106  loss =  1.3555119037628174\n",
      "epoch =  13  step =  20  of total steps  106  loss =  1.3624423742294312\n",
      "epoch =  13  step =  40  of total steps  106  loss =  1.4832239151000977\n",
      "epoch =  13  step =  60  of total steps  106  loss =  1.289264440536499\n",
      "epoch =  13  step =  80  of total steps  106  loss =  1.2645583152770996\n",
      "epoch =  13  step =  100  of total steps  106  loss =  1.053686499595642\n",
      "epoch :  13  /  20  | TL :  1.3434150876863948  | VL :  1.5563753843307495\n",
      "epoch =  14  step =  0  of total steps  106  loss =  1.7983708381652832\n",
      "epoch =  14  step =  20  of total steps  106  loss =  1.479182243347168\n",
      "epoch =  14  step =  40  of total steps  106  loss =  1.650909185409546\n",
      "epoch =  14  step =  60  of total steps  106  loss =  1.2392041683197021\n",
      "epoch =  14  step =  80  of total steps  106  loss =  1.0815609693527222\n",
      "epoch =  14  step =  100  of total steps  106  loss =  1.098146677017212\n",
      "epoch :  14  /  20  | TL :  1.33868703977117  | VL :  1.5396329164505005\n",
      "epoch =  15  step =  0  of total steps  106  loss =  1.172123670578003\n",
      "epoch =  15  step =  20  of total steps  106  loss =  1.7083779573440552\n",
      "epoch =  15  step =  40  of total steps  106  loss =  1.2724502086639404\n",
      "epoch =  15  step =  60  of total steps  106  loss =  0.9729682207107544\n",
      "epoch =  15  step =  80  of total steps  106  loss =  1.6544444561004639\n",
      "epoch =  15  step =  100  of total steps  106  loss =  1.6900262832641602\n",
      "epoch :  15  /  20  | TL :  1.3265817817652001  | VL :  1.5348159074783325\n",
      "epoch =  16  step =  0  of total steps  106  loss =  1.2376303672790527\n"
     ]
    },
    {
     "name": "stdout",
     "output_type": "stream",
     "text": [
      "epoch =  16  step =  20  of total steps  106  loss =  1.321864128112793\n",
      "epoch =  16  step =  40  of total steps  106  loss =  1.4162280559539795\n",
      "epoch =  16  step =  60  of total steps  106  loss =  1.4858487844467163\n",
      "epoch =  16  step =  80  of total steps  106  loss =  1.5739853382110596\n",
      "epoch =  16  step =  100  of total steps  106  loss =  1.1646418571472168\n",
      "epoch :  16  /  20  | TL :  1.3223287232641905  | VL :  1.5427696704864502\n",
      "epoch =  17  step =  0  of total steps  106  loss =  1.3406345844268799\n",
      "epoch =  17  step =  20  of total steps  106  loss =  1.3882519006729126\n",
      "epoch =  17  step =  40  of total steps  106  loss =  1.0848888158798218\n",
      "epoch =  17  step =  60  of total steps  106  loss =  0.8983068466186523\n",
      "epoch =  17  step =  80  of total steps  106  loss =  1.4485406875610352\n",
      "epoch =  17  step =  100  of total steps  106  loss =  1.1332603693008423\n",
      "epoch :  17  /  20  | TL :  1.3113673419322607  | VL :  1.5257456302642822\n",
      "epoch =  18  step =  0  of total steps  106  loss =  1.3451167345046997\n",
      "epoch =  18  step =  20  of total steps  106  loss =  1.2641236782073975\n",
      "epoch =  18  step =  40  of total steps  106  loss =  1.093571662902832\n",
      "epoch =  18  step =  60  of total steps  106  loss =  1.8153036832809448\n",
      "epoch =  18  step =  80  of total steps  106  loss =  1.1143029928207397\n",
      "epoch =  18  step =  100  of total steps  106  loss =  1.1304734945297241\n",
      "epoch :  18  /  20  | TL :  1.30943171989243  | VL :  1.573245882987976\n",
      "epoch =  19  step =  0  of total steps  106  loss =  1.2130736112594604\n",
      "epoch =  19  step =  20  of total steps  106  loss =  2.0787227153778076\n",
      "epoch =  19  step =  40  of total steps  106  loss =  1.1614928245544434\n",
      "epoch =  19  step =  60  of total steps  106  loss =  1.4419293403625488\n",
      "epoch =  19  step =  80  of total steps  106  loss =  1.488064169883728\n",
      "epoch =  19  step =  100  of total steps  106  loss =  1.6370232105255127\n",
      "epoch :  19  /  20  | TL :  1.305535116285648  | VL :  1.5366156101226807\n"
     ]
    }
   ],
   "source": [
    "num_epochs = 20\n",
    "total_step = len(trainset) // (train_batch_size * 150)\n",
    "train_loss_list = list()\n",
    "val_loss_list = list()\n",
    "min_val = 100\n",
    "for epoch in range(num_epochs):\n",
    "    trn = []\n",
    "    Net.train()\n",
    "    for i, (images, labels) in enumerate(trainloader) :\n",
    "        if torch.cuda.is_available():\n",
    "            images = Variable(images).cuda().float()\n",
    "            labels = Variable(labels).cuda()\n",
    "        else : \n",
    "            images = Variable(images).float()\n",
    "            labels = Variable(labels)\n",
    "        \n",
    "        _, target = torch.max(labels, 1)\n",
    "\n",
    "        y_pred = Net(images)\n",
    "        \n",
    "        loss = criterion(y_pred, target)\n",
    "        trn.append(loss.item())\n",
    "\n",
    "        optimizer.zero_grad()\n",
    "        loss.backward()\n",
    "#         torch.nn.utils.clip_grad_value_(Net.parameters(), 10)\n",
    "        optimizer.step()\n",
    "\n",
    "        if i % 20 == 0 :\n",
    "            print('epoch = ', epoch, ' step = ', i, ' of total steps ', total_step, ' loss = ', loss.item())\n",
    "            \n",
    "    train_loss = (sum(trn) / len(trn))\n",
    "    train_loss_list.append(train_loss)\n",
    "    \n",
    "    Net.eval()\n",
    "    val = []\n",
    "    with torch.no_grad() :\n",
    "        for i, (images, labels) in enumerate(valloader) :\n",
    "            if torch.cuda.is_available():\n",
    "                images = Variable(images).cuda().float()\n",
    "                labels = Variable(labels).cuda()\n",
    "            else : \n",
    "                images = Variable(images).float()\n",
    "                labels = Variable(labels)\n",
    "                \n",
    "            _, target = torch.max(labels, 1)\n",
    "\n",
    "            # Forward pass\n",
    "            outputs = Net(images)\n",
    "            loss = criterion(outputs, target)\n",
    "            val.append(loss)\n",
    "\n",
    "    val_loss = (sum(val) / len(val)).item()\n",
    "    val_loss_list.append(val_loss)\n",
    "    print('epoch : ', epoch, ' / ', num_epochs, ' | TL : ', train_loss, ' | VL : ', val_loss)\n",
    "    \n",
    "    if val_loss < min_val :\n",
    "        print('saving model')\n",
    "        min_val = val_loss\n",
    "        torch.save(Net.state_dict(), '2fc_softmax.pt')"
   ]
  },
  {
   "cell_type": "code",
   "execution_count": 289,
   "metadata": {},
   "outputs": [
    {
     "data": {
      "text/plain": [
       "[<matplotlib.lines.Line2D at 0x7f6ab6ed7f98>,\n",
       " <matplotlib.lines.Line2D at 0x7f6ab6ed7e48>]"
      ]
     },
     "execution_count": 289,
     "metadata": {},
     "output_type": "execute_result"
    },
    {
     "data": {
      "image/png": "[encoded data removed]",
      "text/plain": [
       "<Figure size 432x288 with 1 Axes>"
      ]
     },
     "metadata": {
      "needs_background": "light"
     },
     "output_type": "display_data"
    }
   ],
   "source": [
    "j = np.arange(20)\n",
    "plt.plot(j, train_loss_list, 'r', j, val_loss_list, 'g')"
   ]
  },
  {
   "cell_type": "code",
   "execution_count": 290,
   "metadata": {},
   "outputs": [],
   "source": [
    "def _get_accuracy(dataloader, Net):\n",
    "    total = 0\n",
    "    correct = 0\n",
    "    Net.eval()\n",
    "    for i, (images, labels) in enumerate(dataloader):\n",
    "        images = Variable(images).float()\n",
    "        labels = Variable(labels).float()\n",
    "\n",
    "        outputs = Net(images)\n",
    "    \n",
    "        _, label_ind = torch.max(labels, 1)\n",
    "        _, pred_ind = torch.max(outputs, 1)\n",
    "        \n",
    "        # converting to numpy arrays\n",
    "        label_ind = label_ind.data.numpy()\n",
    "        pred_ind = pred_ind.data.numpy()\n",
    "        \n",
    "        # get difference\n",
    "        diff_ind = label_ind - pred_ind\n",
    "        # correctly classified will be 1 and will get added\n",
    "        # incorrectly classified will be 0\n",
    "        correct += np.count_nonzero(diff_ind == 0)\n",
    "        total += len(diff_ind)\n",
    "\n",
    "    accuracy = correct / total\n",
    "    # print(len(diff_ind))\n",
    "    return accuracy\n",
    "\n",
    "Net = Net.cpu().eval()\n",
    "# _get_accuracy(trainloader)"
   ]
  },
  {
   "cell_type": "code",
   "execution_count": 291,
   "metadata": {},
   "outputs": [
    {
     "name": "stdout",
     "output_type": "stream",
     "text": [
      "0.4716981132075472\n",
      "0.3942307692307692\n",
      "0.34615384615384615\n"
     ]
    }
   ],
   "source": [
    "print(_get_accuracy(trainloader, Net))\n",
    "print(_get_accuracy(testloader, Net))\n",
    "print(_get_accuracy(valloader, Net))"
   ]
  },
  {
   "cell_type": "code",
   "execution_count": 292,
   "metadata": {},
   "outputs": [
    {
     "name": "stdout",
     "output_type": "stream",
     "text": [
      "0.44575471698113206\n",
      "0.40384615384615385\n",
      "0.3076923076923077\n"
     ]
    }
   ],
   "source": [
    "testing_Net = ConvNet()\n",
    "testing_Net.load_state_dict(torch.load('2fc_softmax.pt'))\n",
    "testing_Net.eval()\n",
    "print(_get_accuracy(trainloader, testing_Net))\n",
    "print(_get_accuracy(testloader, testing_Net))\n",
    "print(_get_accuracy(valloader, testing_Net))"
   ]
  },
  {
   "cell_type": "markdown",
   "metadata": {},
   "source": [
    "#### Even using `running_mean` processed data, the network again overfits. Even increasing window size didn't help (decreasing won't help as it will be closer to raw data then). Increasing too much is also not helpful as the plot will get more and more flat. So, we need to try out other features."
   ]
  },
  {
   "cell_type": "code",
   "execution_count": null,
   "metadata": {},
   "outputs": [],
   "source": []
  }
 ],
 "metadata": {
  "kernelspec": {
   "display_name": "Python 3",
   "language": "python",
   "name": "python3"
  },
  "language_info": {
   "codemirror_mode": {
    "name": "ipython",
    "version": 3
   },
   "file_extension": ".py",
   "mimetype": "text/x-python",
   "name": "python",
   "nbconvert_exporter": "python",
   "pygments_lexer": "ipython3",
   "version": "3.7.3"
  }
 },
 "nbformat": 4,
 "nbformat_minor": 2
}
