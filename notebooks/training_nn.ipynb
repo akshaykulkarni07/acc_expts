{
 "cells": [
  {
   "cell_type": "code",
   "execution_count": 198,
   "metadata": {},
   "outputs": [
    {
     "name": "stdout",
     "output_type": "stream",
     "text": [
      "1.1.0\n"
     ]
    }
   ],
   "source": [
    "%matplotlib inline\n",
    "import pandas as pd\n",
    "import datetime\n",
    "import pandas_datareader.data as web\n",
    "import matplotlib.pyplot as plt\n",
    "import torch\n",
    "from torch.utils.data import Dataset, DataLoader, SubsetRandomSampler\n",
    "from torch.utils.data.dataloader import default_collate\n",
    "import numpy as np\n",
    "import torch.nn as nn\n",
    "import torch.nn.functional as F\n",
    "from IPython.display import clear_output\n",
    "from torch.autograd import Variable\n",
    "from mpl_toolkits.mplot3d import Axes3D\n",
    "print(torch.__version__)"
   ]
  },
  {
   "cell_type": "markdown",
   "metadata": {},
   "source": [
    "### Dataset Class (loads data from csv)"
   ]
  },
  {
   "cell_type": "code",
   "execution_count": 199,
   "metadata": {},
   "outputs": [
    {
     "name": "stdout",
     "output_type": "stream",
     "text": [
      "(128100, 8)\n",
      "(16050, 8)\n",
      "(16050, 8)\n"
     ]
    }
   ],
   "source": [
    "reqd_len = 150\n",
    "channels = 3\n",
    "class IMUDataset(Dataset):\n",
    "    def __init__(self, mode = 'test', transform = None):\n",
    "        if mode == 'train' :\n",
    "            self.df = pd.read_csv('../data/train.csv', header = None)\n",
    "        elif mode == 'test' :\n",
    "            self.df = pd.read_csv('../data/test.csv', header = None)\n",
    "        elif mode == 'val' :\n",
    "            self.df = pd.read_csv('../data/val.csv', header = None)\n",
    "        self.transform = transform\n",
    "        print(self.df.shape)\n",
    "        \n",
    "    def __len__(self):\n",
    "        return len(self.df)\n",
    "    \n",
    "    def __getitem__(self, idx):\n",
    "        y = self.df.iloc[idx : idx + reqd_len, 3 : ].values\n",
    "        ind = np.argmax(np.sum(y, axis = 0))\n",
    "        label = np.zeros_like(self.df.iloc[0, 3 : ].values)\n",
    "        label = label.astype('float')\n",
    "        label[ind] = 1\n",
    "        x = self.df.iloc[idx : idx + reqd_len, : channels].values\n",
    "        x = x.astype('float')\n",
    "        x = x.reshape(reqd_len, channels)\n",
    "        assert(x.shape == (reqd_len, channels))\n",
    "        assert(label.shape == (5, ))\n",
    "        return x, label\n",
    "        \n",
    "trainset = IMUDataset(mode = 'train')\n",
    "valset = IMUDataset(mode = 'val')\n",
    "testset = IMUDataset(mode = 'test')"
   ]
  },
  {
   "cell_type": "markdown",
   "metadata": {},
   "source": [
    "### Dataloader definitions (provides data in iterable form)"
   ]
  },
  {
   "cell_type": "code",
   "execution_count": 200,
   "metadata": {},
   "outputs": [],
   "source": [
    "train_batch_size = 8\n",
    "batch_size = 8\n",
    "train_indices = [(i * reqd_len) for i in range(len(trainset) // reqd_len)]\n",
    "val_indices = [(i * reqd_len) for i in range(len(valset) // reqd_len)]\n",
    "test_indices = [(i * reqd_len) for i in range(len(testset) // reqd_len)]\n",
    "\n",
    "trainloader = DataLoader(trainset, batch_size = train_batch_size, sampler = SubsetRandomSampler(train_indices), drop_last = True)\n",
    "valloader = DataLoader(valset, batch_size = batch_size, sampler = SubsetRandomSampler(val_indices), drop_last = True)\n",
    "testloader = DataLoader(testset, batch_size = batch_size, sampler = SubsetRandomSampler(test_indices), drop_last = True)\n",
    "\n",
    "# signal, label = next(iter(trainloader))\n",
    "# print(signal.shape)\n",
    "# print(label.shape)"
   ]
  },
  {
   "cell_type": "markdown",
   "metadata": {},
   "source": [
    "Function for calculating output size for given input size, filter size, padding and stride for a CNN"
   ]
  },
  {
   "cell_type": "code",
   "execution_count": 201,
   "metadata": {},
   "outputs": [
    {
     "data": {
      "text/plain": [
       "146.0"
      ]
     },
     "execution_count": 201,
     "metadata": {},
     "output_type": "execute_result"
    }
   ],
   "source": [
    "def output_size(n, f, p = 0, s = 1):\n",
    "    return (((n + 2 * p - f) / s) + 1)\n",
    "\n",
    "output_size(150, 3)\n",
    "output_size(148, 3)"
   ]
  },
  {
   "cell_type": "code",
   "execution_count": 107,
   "metadata": {},
   "outputs": [],
   "source": [
    "class ConvNet(nn.Module):\n",
    "    def __init__(self):\n",
    "        super(ConvNet, self).__init__()\n",
    "        # defining layers\n",
    "#         self.conv1 = nn.Conv1d(3, 10, 3)\n",
    "#         self.conv2 = nn.Conv1d(10, 15, 3)\n",
    "#         self.conv3 = nn.Conv1d(15, 20, 3)\n",
    "        self.fc1 = nn.Linear(150 * 3, 256)\n",
    "        self.fc2 = nn.Linear(256, 128)\n",
    "        self.fc3 = nn.Linear(128, 5)\n",
    "        \n",
    "        nn.init.xavier_uniform_(self.fc1.weight, gain = nn.init.calculate_gain('relu'))\n",
    "        nn.init.xavier_uniform_(self.fc2.weight, gain = nn.init.calculate_gain('relu'))\n",
    "        nn.init.xavier_uniform_(self.fc3.weight, gain = nn.init.calculate_gain('sigmoid'))\n",
    "        \n",
    "    def forward(self, signal):\n",
    "        signal = signal.view(-1, 150 * 3)\n",
    "        out = F.relu(self.fc1(signal))\n",
    "        out = F.relu(self.fc2(out))\n",
    "        out = F.log_softmax(self.fc3(out), dim = 1)\n",
    "        return out\n",
    "\n",
    "Net = ConvNet()\n",
    "if torch.cuda.is_available():\n",
    "    print('Model on GPU')\n",
    "    Net = Net.cuda()"
   ]
  },
  {
   "cell_type": "code",
   "execution_count": 108,
   "metadata": {},
   "outputs": [],
   "source": [
    "import torch.optim as optim\n",
    "criterion = nn.CrossEntropyLoss()\n",
    "optimizer = optim.Adam(Net.parameters(), lr = 1e-3, weight_decay = 1e-1)"
   ]
  },
  {
   "cell_type": "code",
   "execution_count": 109,
   "metadata": {},
   "outputs": [
    {
     "name": "stdout",
     "output_type": "stream",
     "text": [
      "epoch =  0  step =  0  of total steps  16012  loss =  1.7440937757492065\n",
      "epoch =  0  step =  20  of total steps  16012  loss =  1.388783574104309\n",
      "epoch =  0  step =  40  of total steps  16012  loss =  1.5119402408599854\n",
      "epoch =  0  step =  60  of total steps  16012  loss =  1.497506856918335\n",
      "epoch =  0  step =  80  of total steps  16012  loss =  1.5476007461547852\n",
      "epoch =  0  step =  100  of total steps  16012  loss =  1.4727420806884766\n",
      "epoch :  0  /  20  | TL :  1.5255412245696445  | VL :  1.530864953994751\n",
      "saving model\n",
      "epoch =  1  step =  0  of total steps  16012  loss =  1.5372083187103271\n",
      "epoch =  1  step =  20  of total steps  16012  loss =  1.3468658924102783\n",
      "epoch =  1  step =  40  of total steps  16012  loss =  1.5341323614120483\n",
      "epoch =  1  step =  60  of total steps  16012  loss =  1.5024219751358032\n",
      "epoch =  1  step =  80  of total steps  16012  loss =  1.438321590423584\n",
      "epoch =  1  step =  100  of total steps  16012  loss =  1.5530476570129395\n",
      "epoch :  1  /  20  | TL :  1.5181443781222936  | VL :  1.5287277698516846\n",
      "saving model\n",
      "epoch =  2  step =  0  of total steps  16012  loss =  1.5391875505447388\n",
      "epoch =  2  step =  20  of total steps  16012  loss =  1.7251267433166504\n",
      "epoch =  2  step =  40  of total steps  16012  loss =  1.7005029916763306\n",
      "epoch =  2  step =  60  of total steps  16012  loss =  1.4984958171844482\n",
      "epoch =  2  step =  80  of total steps  16012  loss =  1.5023224353790283\n",
      "epoch =  2  step =  100  of total steps  16012  loss =  1.4910565614700317\n",
      "epoch :  2  /  20  | TL :  1.5212066555922885  | VL :  1.5258216857910156\n",
      "saving model\n",
      "epoch =  3  step =  0  of total steps  16012  loss =  1.6244381666183472\n",
      "epoch =  3  step =  20  of total steps  16012  loss =  1.5555992126464844\n",
      "epoch =  3  step =  40  of total steps  16012  loss =  1.5704885721206665\n",
      "epoch =  3  step =  60  of total steps  16012  loss =  1.523380160331726\n",
      "epoch =  3  step =  80  of total steps  16012  loss =  1.5473191738128662\n",
      "epoch =  3  step =  100  of total steps  16012  loss =  1.69693922996521\n",
      "epoch :  3  /  20  | TL :  1.5210854591063734  | VL :  1.5263947248458862\n",
      "epoch =  4  step =  0  of total steps  16012  loss =  1.534305214881897\n",
      "epoch =  4  step =  20  of total steps  16012  loss =  1.6898329257965088\n",
      "epoch =  4  step =  40  of total steps  16012  loss =  1.4851292371749878\n",
      "epoch =  4  step =  60  of total steps  16012  loss =  1.731306552886963\n",
      "epoch =  4  step =  80  of total steps  16012  loss =  1.691063404083252\n",
      "epoch =  4  step =  100  of total steps  16012  loss =  1.5818755626678467\n",
      "epoch :  4  /  20  | TL :  1.51760060157416  | VL :  1.5216028690338135\n",
      "saving model\n",
      "epoch =  5  step =  0  of total steps  16012  loss =  1.5732020139694214\n",
      "epoch =  5  step =  20  of total steps  16012  loss =  1.6779614686965942\n",
      "epoch =  5  step =  40  of total steps  16012  loss =  1.4866544008255005\n",
      "epoch =  5  step =  60  of total steps  16012  loss =  1.5143897533416748\n",
      "epoch =  5  step =  80  of total steps  16012  loss =  1.5425885915756226\n",
      "epoch =  5  step =  100  of total steps  16012  loss =  1.5888752937316895\n",
      "epoch :  5  /  20  | TL :  1.5195990542195879  | VL :  1.5299471616744995\n",
      "epoch =  6  step =  0  of total steps  16012  loss =  1.5420551300048828\n",
      "epoch =  6  step =  20  of total steps  16012  loss =  1.5498316287994385\n",
      "epoch =  6  step =  40  of total steps  16012  loss =  1.7193310260772705\n",
      "epoch =  6  step =  60  of total steps  16012  loss =  1.543047547340393\n",
      "epoch =  6  step =  80  of total steps  16012  loss =  1.7138347625732422\n",
      "epoch =  6  step =  100  of total steps  16012  loss =  1.5340299606323242\n",
      "epoch :  6  /  20  | TL :  1.519323172434321  | VL :  1.5215784311294556\n",
      "saving model\n",
      "epoch =  7  step =  0  of total steps  16012  loss =  1.4915496110916138\n",
      "epoch =  7  step =  20  of total steps  16012  loss =  1.625349760055542\n",
      "epoch =  7  step =  40  of total steps  16012  loss =  1.586081862449646\n",
      "epoch =  7  step =  60  of total steps  16012  loss =  1.4938935041427612\n",
      "epoch =  7  step =  80  of total steps  16012  loss =  1.4478670358657837\n",
      "epoch =  7  step =  100  of total steps  16012  loss =  1.4418576955795288\n",
      "epoch :  7  /  20  | TL :  1.5188376532410675  | VL :  1.5357741117477417\n",
      "epoch =  8  step =  0  of total steps  16012  loss =  1.5936434268951416\n",
      "epoch =  8  step =  20  of total steps  16012  loss =  1.6606502532958984\n",
      "epoch =  8  step =  40  of total steps  16012  loss =  1.531963586807251\n",
      "epoch =  8  step =  60  of total steps  16012  loss =  1.4729291200637817\n",
      "epoch =  8  step =  80  of total steps  16012  loss =  1.4505804777145386\n",
      "epoch =  8  step =  100  of total steps  16012  loss =  1.6658772230148315\n",
      "epoch :  8  /  20  | TL :  1.514834518702525  | VL :  1.5237700939178467\n",
      "epoch =  9  step =  0  of total steps  16012  loss =  1.5490151643753052\n",
      "epoch =  9  step =  20  of total steps  16012  loss =  1.479180097579956\n",
      "epoch =  9  step =  40  of total steps  16012  loss =  1.4791345596313477\n",
      "epoch =  9  step =  60  of total steps  16012  loss =  1.644676923751831\n",
      "epoch =  9  step =  80  of total steps  16012  loss =  1.4074214696884155\n",
      "epoch =  9  step =  100  of total steps  16012  loss =  1.437449336051941\n",
      "epoch :  9  /  20  | TL :  1.5186912766042746  | VL :  1.5320557355880737\n",
      "epoch =  10  step =  0  of total steps  16012  loss =  1.3844116926193237\n",
      "epoch =  10  step =  20  of total steps  16012  loss =  1.5359160900115967\n",
      "epoch =  10  step =  40  of total steps  16012  loss =  1.586460828781128\n",
      "epoch =  10  step =  60  of total steps  16012  loss =  1.2213973999023438\n",
      "epoch =  10  step =  80  of total steps  16012  loss =  1.6192889213562012\n",
      "epoch =  10  step =  100  of total steps  16012  loss =  1.3940129280090332\n",
      "epoch :  10  /  20  | TL :  1.516105110915202  | VL :  1.5306638479232788\n",
      "epoch =  11  step =  0  of total steps  16012  loss =  1.5375887155532837\n",
      "epoch =  11  step =  20  of total steps  16012  loss =  1.5586352348327637\n",
      "epoch =  11  step =  40  of total steps  16012  loss =  1.6988722085952759\n",
      "epoch =  11  step =  60  of total steps  16012  loss =  1.702487826347351\n",
      "epoch =  11  step =  80  of total steps  16012  loss =  1.4157747030258179\n",
      "epoch =  11  step =  100  of total steps  16012  loss =  1.6013975143432617\n",
      "epoch :  11  /  20  | TL :  1.5171923682374775  | VL :  1.5299941301345825\n",
      "epoch =  12  step =  0  of total steps  16012  loss =  1.5210239887237549\n",
      "epoch =  12  step =  20  of total steps  16012  loss =  1.5809919834136963\n",
      "epoch =  12  step =  40  of total steps  16012  loss =  1.428402066230774\n",
      "epoch =  12  step =  60  of total steps  16012  loss =  1.6351075172424316\n",
      "epoch =  12  step =  80  of total steps  16012  loss =  1.500681757926941\n",
      "epoch =  12  step =  100  of total steps  16012  loss =  1.5814889669418335\n",
      "epoch :  12  /  20  | TL :  1.5137723313187652  | VL :  1.5346118211746216\n",
      "epoch =  13  step =  0  of total steps  16012  loss =  1.4016084671020508\n",
      "epoch =  13  step =  20  of total steps  16012  loss =  1.6210969686508179\n",
      "epoch =  13  step =  40  of total steps  16012  loss =  1.547609806060791\n",
      "epoch =  13  step =  60  of total steps  16012  loss =  1.4766772985458374\n",
      "epoch =  13  step =  80  of total steps  16012  loss =  1.4072818756103516\n",
      "epoch =  13  step =  100  of total steps  16012  loss =  1.673340916633606\n",
      "epoch :  13  /  20  | TL :  1.515599106842617  | VL :  1.5254123210906982\n",
      "epoch =  14  step =  0  of total steps  16012  loss =  1.7580677270889282\n",
      "epoch =  14  step =  20  of total steps  16012  loss =  1.4660872220993042\n",
      "epoch =  14  step =  40  of total steps  16012  loss =  1.5099105834960938\n",
      "epoch =  14  step =  60  of total steps  16012  loss =  1.437002420425415\n",
      "epoch =  14  step =  80  of total steps  16012  loss =  1.6619882583618164\n",
      "epoch =  14  step =  100  of total steps  16012  loss =  1.4866433143615723\n",
      "epoch :  14  /  20  | TL :  1.5168204543725499  | VL :  1.5268827676773071\n",
      "epoch =  15  step =  0  of total steps  16012  loss =  1.5665419101715088\n",
      "epoch =  15  step =  20  of total steps  16012  loss =  1.666519045829773\n",
      "epoch =  15  step =  40  of total steps  16012  loss =  1.5470638275146484\n",
      "epoch =  15  step =  60  of total steps  16012  loss =  1.5932776927947998\n",
      "epoch =  15  step =  80  of total steps  16012  loss =  1.374967336654663\n"
     ]
    },
    {
     "name": "stdout",
     "output_type": "stream",
     "text": [
      "epoch =  15  step =  100  of total steps  16012  loss =  1.662811040878296\n",
      "epoch :  15  /  20  | TL :  1.5143744473187428  | VL :  1.525626540184021\n",
      "epoch =  16  step =  0  of total steps  16012  loss =  1.6300100088119507\n",
      "epoch =  16  step =  20  of total steps  16012  loss =  1.3399255275726318\n",
      "epoch =  16  step =  40  of total steps  16012  loss =  1.5294454097747803\n",
      "epoch =  16  step =  60  of total steps  16012  loss =  1.5600128173828125\n",
      "epoch =  16  step =  80  of total steps  16012  loss =  1.3406175374984741\n",
      "epoch =  16  step =  100  of total steps  16012  loss =  1.3808459043502808\n",
      "epoch :  16  /  20  | TL :  1.513566330918726  | VL :  1.5290355682373047\n",
      "epoch =  17  step =  0  of total steps  16012  loss =  1.394396185874939\n",
      "epoch =  17  step =  20  of total steps  16012  loss =  1.5891327857971191\n",
      "epoch =  17  step =  40  of total steps  16012  loss =  1.5195121765136719\n",
      "epoch =  17  step =  60  of total steps  16012  loss =  1.4190921783447266\n",
      "epoch =  17  step =  80  of total steps  16012  loss =  1.461896538734436\n",
      "epoch =  17  step =  100  of total steps  16012  loss =  1.4637500047683716\n",
      "epoch :  17  /  20  | TL :  1.5141626731404718  | VL :  1.529190182685852\n",
      "epoch =  18  step =  0  of total steps  16012  loss =  1.470103144645691\n",
      "epoch =  18  step =  20  of total steps  16012  loss =  1.5525983572006226\n",
      "epoch =  18  step =  40  of total steps  16012  loss =  1.6444660425186157\n",
      "epoch =  18  step =  60  of total steps  16012  loss =  1.4806150197982788\n",
      "epoch =  18  step =  80  of total steps  16012  loss =  1.5269711017608643\n",
      "epoch =  18  step =  100  of total steps  16012  loss =  1.3002183437347412\n",
      "epoch :  18  /  20  | TL :  1.5145023161510252  | VL :  1.5283838510513306\n",
      "epoch =  19  step =  0  of total steps  16012  loss =  1.5550333261489868\n",
      "epoch =  19  step =  20  of total steps  16012  loss =  1.5364662408828735\n",
      "epoch =  19  step =  40  of total steps  16012  loss =  1.3173097372055054\n",
      "epoch =  19  step =  60  of total steps  16012  loss =  1.4511396884918213\n",
      "epoch =  19  step =  80  of total steps  16012  loss =  1.467952847480774\n",
      "epoch =  19  step =  100  of total steps  16012  loss =  1.5547943115234375\n",
      "epoch :  19  /  20  | TL :  1.5112828252450474  | VL :  1.513685941696167\n",
      "saving model\n"
     ]
    }
   ],
   "source": [
    "num_epochs = 20\n",
    "total_step = len(trainset) // (train_batch_size * 150)\n",
    "train_loss_list = list()\n",
    "val_loss_list = list()\n",
    "min_val = 100\n",
    "for epoch in range(num_epochs):\n",
    "    trn = []\n",
    "    Net.train()\n",
    "    for i, (images, labels) in enumerate(trainloader) :\n",
    "        if torch.cuda.is_available():\n",
    "            images = Variable(images).cuda().float()\n",
    "            labels = Variable(labels).cuda()\n",
    "        else : \n",
    "            images = Variable(images).float()\n",
    "            labels = Variable(labels)\n",
    "        \n",
    "        _, target = torch.max(labels, 1)\n",
    "\n",
    "        y_pred = Net(images)\n",
    "        \n",
    "        loss = criterion(y_pred, target)\n",
    "        trn.append(loss.item())\n",
    "\n",
    "        optimizer.zero_grad()\n",
    "        loss.backward()\n",
    "#         torch.nn.utils.clip_grad_value_(Net.parameters(), 10)\n",
    "        optimizer.step()\n",
    "\n",
    "        if i % 20 == 0 :\n",
    "            print('epoch = ', epoch, ' step = ', i, ' of total steps ', total_step, ' loss = ', loss.item())\n",
    "            \n",
    "    train_loss = (sum(trn) / len(trn))\n",
    "    train_loss_list.append(train_loss)\n",
    "    \n",
    "    Net.eval()\n",
    "    val = []\n",
    "    with torch.no_grad() :\n",
    "        for i, (images, labels) in enumerate(valloader) :\n",
    "            if torch.cuda.is_available():\n",
    "                images = Variable(images).cuda().float()\n",
    "                labels = Variable(labels).cuda()\n",
    "            else : \n",
    "                images = Variable(images).float()\n",
    "                labels = Variable(labels)\n",
    "                \n",
    "            _, target = torch.max(labels, 1)\n",
    "\n",
    "            # Forward pass\n",
    "            outputs = Net(images)\n",
    "            loss = criterion(outputs, target)\n",
    "            val.append(loss)\n",
    "\n",
    "    val_loss = (sum(val) / len(val)).item()\n",
    "    val_loss_list.append(val_loss)\n",
    "    print('epoch : ', epoch, ' / ', num_epochs, ' | TL : ', train_loss, ' | VL : ', val_loss)\n",
    "    \n",
    "    if val_loss < min_val :\n",
    "        print('saving model')\n",
    "        min_val = val_loss\n",
    "        torch.save(Net.state_dict(), '2conv_softmax.pt')"
   ]
  },
  {
   "cell_type": "code",
   "execution_count": 110,
   "metadata": {},
   "outputs": [
    {
     "data": {
      "text/plain": [
       "[<matplotlib.lines.Line2D at 0x7f6ac6edf978>,\n",
       " <matplotlib.lines.Line2D at 0x7f6ac6edfac8>]"
      ]
     },
     "execution_count": 110,
     "metadata": {},
     "output_type": "execute_result"
    },
    {
     "data": {
      "image/png": "[encoded data removed]",
      "text/plain": [
       "<Figure size 432x288 with 1 Axes>"
      ]
     },
     "metadata": {
      "needs_background": "light"
     },
     "output_type": "display_data"
    }
   ],
   "source": [
    "j = np.arange(20)\n",
    "plt.plot(j, train_loss_list, 'r', j, val_loss_list, 'g')"
   ]
  },
  {
   "cell_type": "code",
   "execution_count": 111,
   "metadata": {},
   "outputs": [
    {
     "data": {
      "text/plain": [
       "ConvNet(\n",
       "  (fc1): Linear(in_features=450, out_features=256, bias=True)\n",
       "  (fc2): Linear(in_features=256, out_features=128, bias=True)\n",
       "  (fc3): Linear(in_features=128, out_features=5, bias=True)\n",
       ")"
      ]
     },
     "execution_count": 111,
     "metadata": {},
     "output_type": "execute_result"
    }
   ],
   "source": [
    "def _get_accuracy(dataloader):\n",
    "    total = 0\n",
    "    correct = 0\n",
    "    Net.eval()\n",
    "    for i, (images, labels) in enumerate(dataloader):\n",
    "        images = Variable(images).float()\n",
    "        labels = Variable(labels).float()\n",
    "\n",
    "        outputs = Net(images)\n",
    "    \n",
    "        _, label_ind = torch.max(labels, 1)\n",
    "        _, pred_ind = torch.max(outputs, 1)\n",
    "        \n",
    "        # converting to numpy arrays\n",
    "        label_ind = label_ind.data.numpy()\n",
    "        pred_ind = pred_ind.data.numpy()\n",
    "        \n",
    "        # get difference\n",
    "        diff_ind = label_ind - pred_ind\n",
    "        # correctly classified will be 1 and will get added\n",
    "        # incorrectly classified will be 0\n",
    "        correct += np.count_nonzero(diff_ind == 0)\n",
    "        total += len(diff_ind)\n",
    "\n",
    "    accuracy = correct / total\n",
    "    # print(len(diff_ind))\n",
    "    return accuracy\n",
    "\n",
    "Net.cpu()\n",
    "# _get_accuracy(trainloader)"
   ]
  },
  {
   "cell_type": "code",
   "execution_count": 112,
   "metadata": {},
   "outputs": [
    {
     "name": "stdout",
     "output_type": "stream",
     "text": [
      "0.38207547169811323\n",
      "0.41346153846153844\n",
      "0.3557692307692308\n"
     ]
    }
   ],
   "source": [
    "print(_get_accuracy(trainloader))\n",
    "print(_get_accuracy(testloader))\n",
    "print(_get_accuracy(valloader))"
   ]
  },
  {
   "cell_type": "markdown",
   "metadata": {},
   "source": [
    "#### Directly training NNs on raw data doesn't work well (network overfits most of the time). So, we can try to use some pre-processing to the data before training (like running mean, running std deviation, running rms, etc.)\n",
    "\n",
    "### Processing Functions"
   ]
  },
  {
   "cell_type": "code",
   "execution_count": 202,
   "metadata": {},
   "outputs": [],
   "source": [
    "def running_mean(signal, window_size = 10):\n",
    "    ''' Returns running mean of 3D signal (batch_size, length, channels)\n",
    "    '''\n",
    "    mean = torch.zeros_like(signal)\n",
    "    for i in range(signal.shape[0]) :\n",
    "        for j in range(signal.shape[1] - window_size) : \n",
    "            mean[i][j] = signal[i][j : j + window_size].mean(dim = 0)\n",
    "            \n",
    "    for i in range(signal.shape[0]) :\n",
    "        for j in range(signal.shape[1] - window_size, signal.shape[1]) :\n",
    "            mean[i][j] = signal[i][j]\n",
    "            \n",
    "    return mean"
   ]
  },
  {
   "cell_type": "markdown",
   "metadata": {},
   "source": [
    "### Shows working of `running_mean` function"
   ]
  },
  {
   "cell_type": "code",
   "execution_count": 203,
   "metadata": {},
   "outputs": [
    {
     "name": "stdout",
     "output_type": "stream",
     "text": [
      "torch.Size([8, 150, 3])\n"
     ]
    },
    {
     "data": {
      "text/plain": [
       "[<matplotlib.lines.Line2D at 0x7f6ab6cc5b00>,\n",
       " <matplotlib.lines.Line2D at 0x7f6ab6cc5c50>]"
      ]
     },
     "execution_count": 203,
     "metadata": {},
     "output_type": "execute_result"
    },
    {
     "data": {
      "image/png": "[encoded data removed]",
      "text/plain": [
       "<Figure size 432x288 with 1 Axes>"
      ]
     },
     "metadata": {
      "needs_background": "light"
     },
     "output_type": "display_data"
    }
   ],
   "source": [
    "signal, label = next(iter(trainloader))\n",
    "# print(signal.shape)\n",
    "# print(signal[2].shape)\n",
    "# print(signal[2].mean(dim = 0).shape)\n",
    "# print(signal[2][ : 10].mean(dim = 0).shape)\n",
    "# print(signal[1][2].shape)\n",
    "mean = running_mean(signal)\n",
    "print(mean.shape)\n",
    "sig_ = signal[0].transpose(0, 1)\n",
    "mean_ = mean[0].transpose(0, 1)\n",
    "t = range(150)\n",
    "plt.plot(t, sig_[0].data.numpy(), 'r', t, mean_[0].data.numpy(), 'b')"
   ]
  },
  {
   "cell_type": "markdown",
   "metadata": {},
   "source": [
    "### Training network using `running_mean` processed data"
   ]
  },
  {
   "cell_type": "code",
   "execution_count": 272,
   "metadata": {},
   "outputs": [],
   "source": [
    "class ConvNet(nn.Module):\n",
    "    def __init__(self):\n",
    "        super(ConvNet, self).__init__()\n",
    "        # defining layers\n",
    "        self.conv1 = nn.Conv1d(3, 5, 3)\n",
    "        self.fc1 = nn.Linear(148 * 5, 5)\n",
    "        \n",
    "        nn.init.xavier_uniform_(self.conv1.weight, gain = nn.init.calculate_gain('relu'))\n",
    "        nn.init.xavier_uniform_(self.fc1.weight, gain = nn.init.calculate_gain('sigmoid'))\n",
    "        \n",
    "    def forward(self, signal):\n",
    "        signal_ = running_mean(signal, window_size = 10)\n",
    "        signal_ = signal_.view(-1, 3, 150)\n",
    "        out = F.relu(self.conv1(signal_))\n",
    "        out = out.view(-1, 148 * 5)\n",
    "        out = F.log_softmax(self.fc1(out), dim = 1)\n",
    "        return out\n",
    "\n",
    "Net = ConvNet()\n",
    "if torch.cuda.is_available():\n",
    "    print('Model on GPU')\n",
    "    Net = Net.cuda()"
   ]
  },
  {
   "cell_type": "code",
   "execution_count": 273,
   "metadata": {},
   "outputs": [],
   "source": [
    "import torch.optim as optim\n",
    "criterion = nn.CrossEntropyLoss()\n",
    "optimizer = optim.Adam(Net.parameters(), lr = 1e-3, weight_decay = 1e-3)"
   ]
  },
  {
   "cell_type": "code",
   "execution_count": 274,
   "metadata": {},
   "outputs": [
    {
     "name": "stdout",
     "output_type": "stream",
     "text": [
      "epoch =  0  step =  0  of total steps  106  loss =  1.627379298210144\n",
      "epoch =  0  step =  20  of total steps  106  loss =  1.280487298965454\n",
      "epoch =  0  step =  40  of total steps  106  loss =  1.865496039390564\n",
      "epoch =  0  step =  60  of total steps  106  loss =  1.3504481315612793\n",
      "epoch =  0  step =  80  of total steps  106  loss =  1.4236146211624146\n",
      "epoch =  0  step =  100  of total steps  106  loss =  1.7517054080963135\n",
      "epoch :  0  /  20  | TL :  1.5267206801558442  | VL :  1.5302352905273438\n",
      "saving model\n",
      "epoch =  1  step =  0  of total steps  106  loss =  1.3008097410202026\n",
      "epoch =  1  step =  20  of total steps  106  loss =  1.5397802591323853\n",
      "epoch =  1  step =  40  of total steps  106  loss =  1.5262292623519897\n",
      "epoch =  1  step =  60  of total steps  106  loss =  1.6213197708129883\n",
      "epoch =  1  step =  80  of total steps  106  loss =  1.4390732049942017\n",
      "epoch =  1  step =  100  of total steps  106  loss =  1.4518831968307495\n",
      "epoch :  1  /  20  | TL :  1.4703128259136993  | VL :  1.5330227613449097\n",
      "epoch =  2  step =  0  of total steps  106  loss =  1.4379377365112305\n",
      "epoch =  2  step =  20  of total steps  106  loss =  1.5348727703094482\n",
      "epoch =  2  step =  40  of total steps  106  loss =  1.5676300525665283\n",
      "epoch =  2  step =  60  of total steps  106  loss =  1.257309079170227\n",
      "epoch =  2  step =  80  of total steps  106  loss =  1.3374834060668945\n",
      "epoch =  2  step =  100  of total steps  106  loss =  1.5908931493759155\n",
      "epoch :  2  /  20  | TL :  1.4330082738174583  | VL :  1.5305614471435547\n",
      "epoch =  3  step =  0  of total steps  106  loss =  1.2613486051559448\n",
      "epoch =  3  step =  20  of total steps  106  loss =  1.3511306047439575\n",
      "epoch =  3  step =  40  of total steps  106  loss =  1.597879409790039\n",
      "epoch =  3  step =  60  of total steps  106  loss =  1.4633116722106934\n",
      "epoch =  3  step =  80  of total steps  106  loss =  1.568450927734375\n",
      "epoch =  3  step =  100  of total steps  106  loss =  1.2882001399993896\n",
      "epoch :  3  /  20  | TL :  1.4032842224498965  | VL :  1.540814757347107\n",
      "epoch =  4  step =  0  of total steps  106  loss =  1.4662842750549316\n",
      "epoch =  4  step =  20  of total steps  106  loss =  1.5078741312026978\n",
      "epoch =  4  step =  40  of total steps  106  loss =  1.6940721273422241\n",
      "epoch =  4  step =  60  of total steps  106  loss =  1.424899697303772\n",
      "epoch =  4  step =  80  of total steps  106  loss =  1.4464187622070312\n",
      "epoch =  4  step =  100  of total steps  106  loss =  1.4624611139297485\n",
      "epoch :  4  /  20  | TL :  1.3843245826802164  | VL :  1.5038425922393799\n",
      "saving model\n",
      "epoch =  5  step =  0  of total steps  106  loss =  1.5417197942733765\n",
      "epoch =  5  step =  20  of total steps  106  loss =  1.641671061515808\n",
      "epoch =  5  step =  40  of total steps  106  loss =  1.3097139596939087\n",
      "epoch =  5  step =  60  of total steps  106  loss =  1.137219786643982\n",
      "epoch =  5  step =  80  of total steps  106  loss =  1.326284646987915\n",
      "epoch =  5  step =  100  of total steps  106  loss =  1.553012728691101\n",
      "epoch :  5  /  20  | TL :  1.3625691403757851  | VL :  1.4881370067596436\n",
      "saving model\n",
      "epoch =  6  step =  0  of total steps  106  loss =  1.3941837549209595\n",
      "epoch =  6  step =  20  of total steps  106  loss =  1.4354755878448486\n",
      "epoch =  6  step =  40  of total steps  106  loss =  0.9983263611793518\n",
      "epoch =  6  step =  60  of total steps  106  loss =  1.372977614402771\n",
      "epoch =  6  step =  80  of total steps  106  loss =  1.3327299356460571\n",
      "epoch =  6  step =  100  of total steps  106  loss =  1.6753968000411987\n",
      "epoch :  6  /  20  | TL :  1.3464554666348223  | VL :  1.4954776763916016\n",
      "epoch =  7  step =  0  of total steps  106  loss =  1.4695501327514648\n",
      "epoch =  7  step =  20  of total steps  106  loss =  1.2796300649642944\n",
      "epoch =  7  step =  40  of total steps  106  loss =  1.3484946489334106\n",
      "epoch =  7  step =  60  of total steps  106  loss =  1.2571263313293457\n",
      "epoch =  7  step =  80  of total steps  106  loss =  1.6764130592346191\n",
      "epoch =  7  step =  100  of total steps  106  loss =  1.5052011013031006\n",
      "epoch :  7  /  20  | TL :  1.3323525190353394  | VL :  1.4934576749801636\n",
      "epoch =  8  step =  0  of total steps  106  loss =  1.1690447330474854\n",
      "epoch =  8  step =  20  of total steps  106  loss =  1.1373010873794556\n",
      "epoch =  8  step =  40  of total steps  106  loss =  1.589775800704956\n",
      "epoch =  8  step =  60  of total steps  106  loss =  1.2796831130981445\n",
      "epoch =  8  step =  80  of total steps  106  loss =  1.1087785959243774\n",
      "epoch =  8  step =  100  of total steps  106  loss =  1.519362211227417\n",
      "epoch :  8  /  20  | TL :  1.3202184253143814  | VL :  1.5212782621383667\n",
      "epoch =  9  step =  0  of total steps  106  loss =  1.244971752166748\n",
      "epoch =  9  step =  20  of total steps  106  loss =  1.320570945739746\n",
      "epoch =  9  step =  40  of total steps  106  loss =  1.202103614807129\n",
      "epoch =  9  step =  60  of total steps  106  loss =  1.6591556072235107\n",
      "epoch =  9  step =  80  of total steps  106  loss =  1.6183710098266602\n",
      "epoch =  9  step =  100  of total steps  106  loss =  1.2947235107421875\n",
      "epoch :  9  /  20  | TL :  1.305560068701798  | VL :  1.5299192667007446\n",
      "epoch =  10  step =  0  of total steps  106  loss =  1.411000370979309\n",
      "epoch =  10  step =  20  of total steps  106  loss =  1.3630162477493286\n",
      "epoch =  10  step =  40  of total steps  106  loss =  1.6211661100387573\n",
      "epoch =  10  step =  60  of total steps  106  loss =  0.9483626484870911\n",
      "epoch =  10  step =  80  of total steps  106  loss =  1.5472179651260376\n",
      "epoch =  10  step =  100  of total steps  106  loss =  1.0917094945907593\n",
      "epoch :  10  /  20  | TL :  1.2976221965169006  | VL :  1.5280578136444092\n",
      "epoch =  11  step =  0  of total steps  106  loss =  1.249897837638855\n",
      "epoch =  11  step =  20  of total steps  106  loss =  1.1617519855499268\n",
      "epoch =  11  step =  40  of total steps  106  loss =  1.2035903930664062\n",
      "epoch =  11  step =  60  of total steps  106  loss =  1.1462900638580322\n",
      "epoch =  11  step =  80  of total steps  106  loss =  1.1542325019836426\n",
      "epoch =  11  step =  100  of total steps  106  loss =  1.3540220260620117\n",
      "epoch :  11  /  20  | TL :  1.2797815794090055  | VL :  1.5300344228744507\n",
      "epoch =  12  step =  0  of total steps  106  loss =  1.653607726097107\n",
      "epoch =  12  step =  20  of total steps  106  loss =  1.2585123777389526\n",
      "epoch =  12  step =  40  of total steps  106  loss =  1.1846916675567627\n",
      "epoch =  12  step =  60  of total steps  106  loss =  1.364121913909912\n",
      "epoch =  12  step =  80  of total steps  106  loss =  1.7180391550064087\n",
      "epoch =  12  step =  100  of total steps  106  loss =  1.1798079013824463\n",
      "epoch :  12  /  20  | TL :  1.2747689710473114  | VL :  1.4994851350784302\n",
      "epoch =  13  step =  0  of total steps  106  loss =  1.5420857667922974\n",
      "epoch =  13  step =  20  of total steps  106  loss =  1.1794800758361816\n",
      "epoch =  13  step =  40  of total steps  106  loss =  1.1705955266952515\n",
      "epoch =  13  step =  60  of total steps  106  loss =  1.7326960563659668\n",
      "epoch =  13  step =  80  of total steps  106  loss =  1.6288007497787476\n",
      "epoch =  13  step =  100  of total steps  106  loss =  0.9757999777793884\n",
      "epoch :  13  /  20  | TL :  1.2626657154200212  | VL :  1.5156325101852417\n",
      "epoch =  14  step =  0  of total steps  106  loss =  1.1194989681243896\n",
      "epoch =  14  step =  20  of total steps  106  loss =  1.18610417842865\n",
      "epoch =  14  step =  40  of total steps  106  loss =  1.101652979850769\n",
      "epoch =  14  step =  60  of total steps  106  loss =  1.2222265005111694\n",
      "epoch =  14  step =  80  of total steps  106  loss =  1.4045820236206055\n",
      "epoch =  14  step =  100  of total steps  106  loss =  1.4188793897628784\n",
      "epoch :  14  /  20  | TL :  1.2603072642155413  | VL :  1.5030980110168457\n",
      "epoch =  15  step =  0  of total steps  106  loss =  1.1566221714019775\n",
      "epoch =  15  step =  20  of total steps  106  loss =  1.332306146621704\n",
      "epoch =  15  step =  40  of total steps  106  loss =  1.330686092376709\n",
      "epoch =  15  step =  60  of total steps  106  loss =  1.3003556728363037\n",
      "epoch =  15  step =  80  of total steps  106  loss =  1.2360520362854004\n",
      "epoch =  15  step =  100  of total steps  106  loss =  1.4346367120742798\n",
      "epoch :  15  /  20  | TL :  1.2474600818921935  | VL :  1.5238921642303467\n",
      "epoch =  16  step =  0  of total steps  106  loss =  1.2863277196884155\n"
     ]
    },
    {
     "name": "stdout",
     "output_type": "stream",
     "text": [
      "epoch =  16  step =  20  of total steps  106  loss =  0.9902119040489197\n",
      "epoch =  16  step =  40  of total steps  106  loss =  1.5128562450408936\n",
      "epoch =  16  step =  60  of total steps  106  loss =  1.1474859714508057\n",
      "epoch =  16  step =  80  of total steps  106  loss =  0.9114301204681396\n",
      "epoch =  16  step =  100  of total steps  106  loss =  1.762758493423462\n",
      "epoch :  16  /  20  | TL :  1.233713150586722  | VL :  1.4978880882263184\n",
      "epoch =  17  step =  0  of total steps  106  loss =  1.169060230255127\n",
      "epoch =  17  step =  20  of total steps  106  loss =  1.2807884216308594\n",
      "epoch =  17  step =  40  of total steps  106  loss =  1.3541133403778076\n",
      "epoch =  17  step =  60  of total steps  106  loss =  1.2894805669784546\n",
      "epoch =  17  step =  80  of total steps  106  loss =  1.1529444456100464\n",
      "epoch =  17  step =  100  of total steps  106  loss =  0.7583456039428711\n",
      "epoch :  17  /  20  | TL :  1.2287370708753478  | VL :  1.5564430952072144\n",
      "epoch =  18  step =  0  of total steps  106  loss =  1.0906211137771606\n",
      "epoch =  18  step =  20  of total steps  106  loss =  1.6871368885040283\n",
      "epoch =  18  step =  40  of total steps  106  loss =  1.3207666873931885\n",
      "epoch =  18  step =  60  of total steps  106  loss =  1.0791341066360474\n",
      "epoch =  18  step =  80  of total steps  106  loss =  0.8877947330474854\n",
      "epoch =  18  step =  100  of total steps  106  loss =  1.2222883701324463\n",
      "epoch :  18  /  20  | TL :  1.2243138720404427  | VL :  1.5174401998519897\n",
      "epoch =  19  step =  0  of total steps  106  loss =  1.246951937675476\n",
      "epoch =  19  step =  20  of total steps  106  loss =  1.0590580701828003\n",
      "epoch =  19  step =  40  of total steps  106  loss =  1.1703999042510986\n",
      "epoch =  19  step =  60  of total steps  106  loss =  1.37471604347229\n",
      "epoch =  19  step =  80  of total steps  106  loss =  0.9845396876335144\n",
      "epoch =  19  step =  100  of total steps  106  loss =  0.8374972939491272\n",
      "epoch :  19  /  20  | TL :  1.2193242266493023  | VL :  1.5274308919906616\n"
     ]
    }
   ],
   "source": [
    "num_epochs = 20\n",
    "total_step = len(trainset) // (train_batch_size * 150)\n",
    "train_loss_list = list()\n",
    "val_loss_list = list()\n",
    "min_val = 100\n",
    "for epoch in range(num_epochs):\n",
    "    trn = []\n",
    "    Net.train()\n",
    "    for i, (images, labels) in enumerate(trainloader) :\n",
    "        if torch.cuda.is_available():\n",
    "            images = Variable(images).cuda().float()\n",
    "            labels = Variable(labels).cuda()\n",
    "        else : \n",
    "            images = Variable(images).float()\n",
    "            labels = Variable(labels)\n",
    "        \n",
    "        _, target = torch.max(labels, 1)\n",
    "\n",
    "        y_pred = Net(images)\n",
    "        \n",
    "        loss = criterion(y_pred, target)\n",
    "        trn.append(loss.item())\n",
    "\n",
    "        optimizer.zero_grad()\n",
    "        loss.backward()\n",
    "#         torch.nn.utils.clip_grad_value_(Net.parameters(), 10)\n",
    "        optimizer.step()\n",
    "\n",
    "        if i % 20 == 0 :\n",
    "            print('epoch = ', epoch, ' step = ', i, ' of total steps ', total_step, ' loss = ', loss.item())\n",
    "            \n",
    "    train_loss = (sum(trn) / len(trn))\n",
    "    train_loss_list.append(train_loss)\n",
    "    \n",
    "    Net.eval()\n",
    "    val = []\n",
    "    with torch.no_grad() :\n",
    "        for i, (images, labels) in enumerate(valloader) :\n",
    "            if torch.cuda.is_available():\n",
    "                images = Variable(images).cuda().float()\n",
    "                labels = Variable(labels).cuda()\n",
    "            else : \n",
    "                images = Variable(images).float()\n",
    "                labels = Variable(labels)\n",
    "                \n",
    "            _, target = torch.max(labels, 1)\n",
    "\n",
    "            # Forward pass\n",
    "            outputs = Net(images)\n",
    "            loss = criterion(outputs, target)\n",
    "            val.append(loss)\n",
    "\n",
    "    val_loss = (sum(val) / len(val)).item()\n",
    "    val_loss_list.append(val_loss)\n",
    "    print('epoch : ', epoch, ' / ', num_epochs, ' | TL : ', train_loss, ' | VL : ', val_loss)\n",
    "    \n",
    "    if val_loss < min_val :\n",
    "        print('saving model')\n",
    "        min_val = val_loss\n",
    "        torch.save(Net.state_dict(), '2fc_softmax.pt')"
   ]
  },
  {
   "cell_type": "code",
   "execution_count": 275,
   "metadata": {},
   "outputs": [
    {
     "data": {
      "text/plain": [
       "[<matplotlib.lines.Line2D at 0x7f6ab70ef6a0>,\n",
       " <matplotlib.lines.Line2D at 0x7f6ab70ef940>]"
      ]
     },
     "execution_count": 275,
     "metadata": {},
     "output_type": "execute_result"
    },
    {
     "data": {
      "image/png": "[encoded data removed]",
      "text/plain": [
       "<Figure size 432x288 with 1 Axes>"
      ]
     },
     "metadata": {
      "needs_background": "light"
     },
     "output_type": "display_data"
    }
   ],
   "source": [
    "j = np.arange(20)\n",
    "plt.plot(j, train_loss_list, 'r', j, val_loss_list, 'g')"
   ]
  },
  {
   "cell_type": "code",
   "execution_count": 276,
   "metadata": {},
   "outputs": [],
   "source": [
    "def _get_accuracy(dataloader, Net):\n",
    "    total = 0\n",
    "    correct = 0\n",
    "    Net.eval()\n",
    "    for i, (images, labels) in enumerate(dataloader):\n",
    "        images = Variable(images).float()\n",
    "        labels = Variable(labels).float()\n",
    "\n",
    "        outputs = Net(images)\n",
    "    \n",
    "        _, label_ind = torch.max(labels, 1)\n",
    "        _, pred_ind = torch.max(outputs, 1)\n",
    "        \n",
    "        # converting to numpy arrays\n",
    "        label_ind = label_ind.data.numpy()\n",
    "        pred_ind = pred_ind.data.numpy()\n",
    "        \n",
    "        # get difference\n",
    "        diff_ind = label_ind - pred_ind\n",
    "        # correctly classified will be 1 and will get added\n",
    "        # incorrectly classified will be 0\n",
    "        correct += np.count_nonzero(diff_ind == 0)\n",
    "        total += len(diff_ind)\n",
    "\n",
    "    accuracy = correct / total\n",
    "    # print(len(diff_ind))\n",
    "    return accuracy\n",
    "\n",
    "Net = Net.cpu().eval()\n",
    "# _get_accuracy(trainloader)"
   ]
  },
  {
   "cell_type": "code",
   "execution_count": 277,
   "metadata": {},
   "outputs": [
    {
     "name": "stdout",
     "output_type": "stream",
     "text": [
      "0.5259433962264151\n",
      "0.3942307692307692\n",
      "0.38461538461538464\n"
     ]
    }
   ],
   "source": [
    "print(_get_accuracy(trainloader, Net))\n",
    "print(_get_accuracy(testloader, Net))\n",
    "print(_get_accuracy(valloader, Net))"
   ]
  },
  {
   "cell_type": "code",
   "execution_count": 278,
   "metadata": {},
   "outputs": [
    {
     "name": "stdout",
     "output_type": "stream",
     "text": [
      "0.4375\n",
      "0.375\n",
      "0.3173076923076923\n"
     ]
    }
   ],
   "source": [
    "testing_Net = ConvNet()\n",
    "testing_Net.load_state_dict(torch.load('2fc_softmax.pt'))\n",
    "testing_Net.eval()\n",
    "print(_get_accuracy(trainloader, testing_Net))\n",
    "print(_get_accuracy(testloader, testing_Net))\n",
    "print(_get_accuracy(valloader, testing_Net))"
   ]
  },
  {
   "cell_type": "markdown",
   "metadata": {},
   "source": [
    "#### Even using `running_mean` processed data, the network again overfits. So, we need to try out other features."
   ]
  },
  {
   "cell_type": "code",
   "execution_count": null,
   "metadata": {},
   "outputs": [],
   "source": []
  }
 ],
 "metadata": {
  "kernelspec": {
   "display_name": "Python 3",
   "language": "python",
   "name": "python3"
  },
  "language_info": {
   "codemirror_mode": {
    "name": "ipython",
    "version": 3
   },
   "file_extension": ".py",
   "mimetype": "text/x-python",
   "name": "python",
   "nbconvert_exporter": "python",
   "pygments_lexer": "ipython3",
   "version": "3.7.3"
  }
 },
 "nbformat": 4,
 "nbformat_minor": 2
}
