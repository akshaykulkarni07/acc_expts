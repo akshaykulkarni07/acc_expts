{
 "cells": [
  {
   "cell_type": "code",
   "execution_count": 1,
   "metadata": {},
   "outputs": [
    {
     "name": "stdout",
     "output_type": "stream",
     "text": [
      "1.1.0\n"
     ]
    }
   ],
   "source": [
    "%matplotlib inline\n",
    "import pandas as pd\n",
    "import datetime\n",
    "import pandas_datareader.data as web\n",
    "import matplotlib.pyplot as plt\n",
    "import torch\n",
    "from torch.utils.data import Dataset, DataLoader, SubsetRandomSampler\n",
    "from torch.utils.data.dataloader import default_collate\n",
    "import numpy as np\n",
    "import torch.nn as nn\n",
    "import torch.nn.functional as F\n",
    "from IPython.display import clear_output\n",
    "from torch.autograd import Variable\n",
    "from mpl_toolkits.mplot3d import Axes3D\n",
    "print(torch.__version__)"
   ]
  },
  {
   "cell_type": "markdown",
   "metadata": {},
   "source": [
    "### Dataset Class (loads data from csv)"
   ]
  },
  {
   "cell_type": "code",
   "execution_count": 2,
   "metadata": {},
   "outputs": [
    {
     "name": "stdout",
     "output_type": "stream",
     "text": [
      "(128100, 8)\n",
      "(16050, 8)\n",
      "(16050, 8)\n"
     ]
    }
   ],
   "source": [
    "reqd_len = 150\n",
    "channels = 3\n",
    "class IMUDataset(Dataset):\n",
    "    def __init__(self, mode = 'test', transform = None):\n",
    "        if mode == 'train' :\n",
    "            self.df = pd.read_csv('../data/train.csv', header = None)\n",
    "        elif mode == 'test' :\n",
    "            self.df = pd.read_csv('../data/test.csv', header = None)\n",
    "        elif mode == 'val' :\n",
    "            self.df = pd.read_csv('../data/val.csv', header = None)\n",
    "        self.transform = transform\n",
    "        print(self.df.shape)\n",
    "        \n",
    "    def __len__(self):\n",
    "        return len(self.df)\n",
    "    \n",
    "    def __getitem__(self, idx):\n",
    "        y = self.df.iloc[idx : idx + reqd_len, 3 : ].values\n",
    "        ind = np.argmax(np.sum(y, axis = 0))\n",
    "        label = np.zeros_like(self.df.iloc[0, 3 : ].values)\n",
    "        label = label.astype('float')\n",
    "        label[ind] = 1\n",
    "        x = self.df.iloc[idx : idx + reqd_len, : channels].values\n",
    "        x = x.astype('float')\n",
    "        x = x.reshape(reqd_len, channels)\n",
    "        assert(x.shape == (reqd_len, channels))\n",
    "        assert(label.shape == (5, ))\n",
    "        return x, label\n",
    "        \n",
    "trainset = IMUDataset(mode = 'train')\n",
    "valset = IMUDataset(mode = 'val')\n",
    "testset = IMUDataset(mode = 'test')"
   ]
  },
  {
   "cell_type": "markdown",
   "metadata": {},
   "source": [
    "### Dataloader definitions (provides data in iterable form)"
   ]
  },
  {
   "cell_type": "code",
   "execution_count": 3,
   "metadata": {},
   "outputs": [],
   "source": [
    "train_batch_size = 8\n",
    "batch_size = 8\n",
    "train_indices = [(i * reqd_len) for i in range(len(trainset) // reqd_len)]\n",
    "val_indices = [(i * reqd_len) for i in range(len(valset) // reqd_len)]\n",
    "test_indices = [(i * reqd_len) for i in range(len(testset) // reqd_len)]\n",
    "\n",
    "trainloader = DataLoader(trainset, batch_size = train_batch_size, sampler = SubsetRandomSampler(train_indices), drop_last = True)\n",
    "valloader = DataLoader(valset, batch_size = batch_size, sampler = SubsetRandomSampler(val_indices), drop_last = True)\n",
    "testloader = DataLoader(testset, batch_size = batch_size, sampler = SubsetRandomSampler(test_indices), drop_last = True)\n",
    "\n",
    "# signal, label = next(iter(trainloader))\n",
    "# print(signal.shape)\n",
    "# print(label.shape)"
   ]
  },
  {
   "cell_type": "code",
   "execution_count": 4,
   "metadata": {},
   "outputs": [
    {
     "data": {
      "text/plain": [
       "146.0"
      ]
     },
     "execution_count": 4,
     "metadata": {},
     "output_type": "execute_result"
    }
   ],
   "source": [
    "def output_size(n, f, p = 0, s = 1):\n",
    "    ''' Returns output size for given input size (n), filter size (f), padding (p) and stride (s)\n",
    "    for a convolutional layer\n",
    "    '''\n",
    "    return (((n + 2 * p - f) / s) + 1)\n",
    "\n",
    "output_size(150, 3)\n",
    "output_size(148, 3)"
   ]
  },
  {
   "cell_type": "code",
   "execution_count": 107,
   "metadata": {},
   "outputs": [],
   "source": [
    "class ConvNet(nn.Module):\n",
    "    def __init__(self):\n",
    "        super(ConvNet, self).__init__()\n",
    "        # defining layers\n",
    "#         self.conv1 = nn.Conv1d(3, 10, 3)\n",
    "#         self.conv2 = nn.Conv1d(10, 15, 3)\n",
    "#         self.conv3 = nn.Conv1d(15, 20, 3)\n",
    "        self.fc1 = nn.Linear(150 * 3, 256)\n",
    "        self.fc2 = nn.Linear(256, 128)\n",
    "        self.fc3 = nn.Linear(128, 5)\n",
    "        \n",
    "        nn.init.xavier_uniform_(self.fc1.weight, gain = nn.init.calculate_gain('relu'))\n",
    "        nn.init.xavier_uniform_(self.fc2.weight, gain = nn.init.calculate_gain('relu'))\n",
    "        nn.init.xavier_uniform_(self.fc3.weight, gain = nn.init.calculate_gain('sigmoid'))\n",
    "        \n",
    "    def forward(self, signal):\n",
    "        signal = signal.view(-1, 150 * 3)\n",
    "        out = F.relu(self.fc1(signal))\n",
    "        out = F.relu(self.fc2(out))\n",
    "        out = F.log_softmax(self.fc3(out), dim = 1)\n",
    "        return out\n",
    "\n",
    "Net = ConvNet()\n",
    "if torch.cuda.is_available():\n",
    "    print('Model on GPU')\n",
    "    Net = Net.cuda()"
   ]
  },
  {
   "cell_type": "code",
   "execution_count": 108,
   "metadata": {},
   "outputs": [],
   "source": [
    "import torch.optim as optim\n",
    "criterion = nn.CrossEntropyLoss()\n",
    "optimizer = optim.Adam(Net.parameters(), lr = 1e-3, weight_decay = 1e-1)"
   ]
  },
  {
   "cell_type": "code",
   "execution_count": 109,
   "metadata": {},
   "outputs": [
    {
     "name": "stdout",
     "output_type": "stream",
     "text": [
      "epoch =  0  step =  0  of total steps  16012  loss =  1.7440937757492065\n",
      "epoch =  0  step =  20  of total steps  16012  loss =  1.388783574104309\n",
      "epoch =  0  step =  40  of total steps  16012  loss =  1.5119402408599854\n",
      "epoch =  0  step =  60  of total steps  16012  loss =  1.497506856918335\n",
      "epoch =  0  step =  80  of total steps  16012  loss =  1.5476007461547852\n",
      "epoch =  0  step =  100  of total steps  16012  loss =  1.4727420806884766\n",
      "epoch :  0  /  20  | TL :  1.5255412245696445  | VL :  1.530864953994751\n",
      "saving model\n",
      "epoch =  1  step =  0  of total steps  16012  loss =  1.5372083187103271\n",
      "epoch =  1  step =  20  of total steps  16012  loss =  1.3468658924102783\n",
      "epoch =  1  step =  40  of total steps  16012  loss =  1.5341323614120483\n",
      "epoch =  1  step =  60  of total steps  16012  loss =  1.5024219751358032\n",
      "epoch =  1  step =  80  of total steps  16012  loss =  1.438321590423584\n",
      "epoch =  1  step =  100  of total steps  16012  loss =  1.5530476570129395\n",
      "epoch :  1  /  20  | TL :  1.5181443781222936  | VL :  1.5287277698516846\n",
      "saving model\n",
      "epoch =  2  step =  0  of total steps  16012  loss =  1.5391875505447388\n",
      "epoch =  2  step =  20  of total steps  16012  loss =  1.7251267433166504\n",
      "epoch =  2  step =  40  of total steps  16012  loss =  1.7005029916763306\n",
      "epoch =  2  step =  60  of total steps  16012  loss =  1.4984958171844482\n",
      "epoch =  2  step =  80  of total steps  16012  loss =  1.5023224353790283\n",
      "epoch =  2  step =  100  of total steps  16012  loss =  1.4910565614700317\n",
      "epoch :  2  /  20  | TL :  1.5212066555922885  | VL :  1.5258216857910156\n",
      "saving model\n",
      "epoch =  3  step =  0  of total steps  16012  loss =  1.6244381666183472\n",
      "epoch =  3  step =  20  of total steps  16012  loss =  1.5555992126464844\n",
      "epoch =  3  step =  40  of total steps  16012  loss =  1.5704885721206665\n",
      "epoch =  3  step =  60  of total steps  16012  loss =  1.523380160331726\n",
      "epoch =  3  step =  80  of total steps  16012  loss =  1.5473191738128662\n",
      "epoch =  3  step =  100  of total steps  16012  loss =  1.69693922996521\n",
      "epoch :  3  /  20  | TL :  1.5210854591063734  | VL :  1.5263947248458862\n",
      "epoch =  4  step =  0  of total steps  16012  loss =  1.534305214881897\n",
      "epoch =  4  step =  20  of total steps  16012  loss =  1.6898329257965088\n",
      "epoch =  4  step =  40  of total steps  16012  loss =  1.4851292371749878\n",
      "epoch =  4  step =  60  of total steps  16012  loss =  1.731306552886963\n",
      "epoch =  4  step =  80  of total steps  16012  loss =  1.691063404083252\n",
      "epoch =  4  step =  100  of total steps  16012  loss =  1.5818755626678467\n",
      "epoch :  4  /  20  | TL :  1.51760060157416  | VL :  1.5216028690338135\n",
      "saving model\n",
      "epoch =  5  step =  0  of total steps  16012  loss =  1.5732020139694214\n",
      "epoch =  5  step =  20  of total steps  16012  loss =  1.6779614686965942\n",
      "epoch =  5  step =  40  of total steps  16012  loss =  1.4866544008255005\n",
      "epoch =  5  step =  60  of total steps  16012  loss =  1.5143897533416748\n",
      "epoch =  5  step =  80  of total steps  16012  loss =  1.5425885915756226\n",
      "epoch =  5  step =  100  of total steps  16012  loss =  1.5888752937316895\n",
      "epoch :  5  /  20  | TL :  1.5195990542195879  | VL :  1.5299471616744995\n",
      "epoch =  6  step =  0  of total steps  16012  loss =  1.5420551300048828\n",
      "epoch =  6  step =  20  of total steps  16012  loss =  1.5498316287994385\n",
      "epoch =  6  step =  40  of total steps  16012  loss =  1.7193310260772705\n",
      "epoch =  6  step =  60  of total steps  16012  loss =  1.543047547340393\n",
      "epoch =  6  step =  80  of total steps  16012  loss =  1.7138347625732422\n",
      "epoch =  6  step =  100  of total steps  16012  loss =  1.5340299606323242\n",
      "epoch :  6  /  20  | TL :  1.519323172434321  | VL :  1.5215784311294556\n",
      "saving model\n",
      "epoch =  7  step =  0  of total steps  16012  loss =  1.4915496110916138\n",
      "epoch =  7  step =  20  of total steps  16012  loss =  1.625349760055542\n",
      "epoch =  7  step =  40  of total steps  16012  loss =  1.586081862449646\n",
      "epoch =  7  step =  60  of total steps  16012  loss =  1.4938935041427612\n",
      "epoch =  7  step =  80  of total steps  16012  loss =  1.4478670358657837\n",
      "epoch =  7  step =  100  of total steps  16012  loss =  1.4418576955795288\n",
      "epoch :  7  /  20  | TL :  1.5188376532410675  | VL :  1.5357741117477417\n",
      "epoch =  8  step =  0  of total steps  16012  loss =  1.5936434268951416\n",
      "epoch =  8  step =  20  of total steps  16012  loss =  1.6606502532958984\n",
      "epoch =  8  step =  40  of total steps  16012  loss =  1.531963586807251\n",
      "epoch =  8  step =  60  of total steps  16012  loss =  1.4729291200637817\n",
      "epoch =  8  step =  80  of total steps  16012  loss =  1.4505804777145386\n",
      "epoch =  8  step =  100  of total steps  16012  loss =  1.6658772230148315\n",
      "epoch :  8  /  20  | TL :  1.514834518702525  | VL :  1.5237700939178467\n",
      "epoch =  9  step =  0  of total steps  16012  loss =  1.5490151643753052\n",
      "epoch =  9  step =  20  of total steps  16012  loss =  1.479180097579956\n",
      "epoch =  9  step =  40  of total steps  16012  loss =  1.4791345596313477\n",
      "epoch =  9  step =  60  of total steps  16012  loss =  1.644676923751831\n",
      "epoch =  9  step =  80  of total steps  16012  loss =  1.4074214696884155\n",
      "epoch =  9  step =  100  of total steps  16012  loss =  1.437449336051941\n",
      "epoch :  9  /  20  | TL :  1.5186912766042746  | VL :  1.5320557355880737\n",
      "epoch =  10  step =  0  of total steps  16012  loss =  1.3844116926193237\n",
      "epoch =  10  step =  20  of total steps  16012  loss =  1.5359160900115967\n",
      "epoch =  10  step =  40  of total steps  16012  loss =  1.586460828781128\n",
      "epoch =  10  step =  60  of total steps  16012  loss =  1.2213973999023438\n",
      "epoch =  10  step =  80  of total steps  16012  loss =  1.6192889213562012\n",
      "epoch =  10  step =  100  of total steps  16012  loss =  1.3940129280090332\n",
      "epoch :  10  /  20  | TL :  1.516105110915202  | VL :  1.5306638479232788\n",
      "epoch =  11  step =  0  of total steps  16012  loss =  1.5375887155532837\n",
      "epoch =  11  step =  20  of total steps  16012  loss =  1.5586352348327637\n",
      "epoch =  11  step =  40  of total steps  16012  loss =  1.6988722085952759\n",
      "epoch =  11  step =  60  of total steps  16012  loss =  1.702487826347351\n",
      "epoch =  11  step =  80  of total steps  16012  loss =  1.4157747030258179\n",
      "epoch =  11  step =  100  of total steps  16012  loss =  1.6013975143432617\n",
      "epoch :  11  /  20  | TL :  1.5171923682374775  | VL :  1.5299941301345825\n",
      "epoch =  12  step =  0  of total steps  16012  loss =  1.5210239887237549\n",
      "epoch =  12  step =  20  of total steps  16012  loss =  1.5809919834136963\n",
      "epoch =  12  step =  40  of total steps  16012  loss =  1.428402066230774\n",
      "epoch =  12  step =  60  of total steps  16012  loss =  1.6351075172424316\n",
      "epoch =  12  step =  80  of total steps  16012  loss =  1.500681757926941\n",
      "epoch =  12  step =  100  of total steps  16012  loss =  1.5814889669418335\n",
      "epoch :  12  /  20  | TL :  1.5137723313187652  | VL :  1.5346118211746216\n",
      "epoch =  13  step =  0  of total steps  16012  loss =  1.4016084671020508\n",
      "epoch =  13  step =  20  of total steps  16012  loss =  1.6210969686508179\n",
      "epoch =  13  step =  40  of total steps  16012  loss =  1.547609806060791\n",
      "epoch =  13  step =  60  of total steps  16012  loss =  1.4766772985458374\n",
      "epoch =  13  step =  80  of total steps  16012  loss =  1.4072818756103516\n",
      "epoch =  13  step =  100  of total steps  16012  loss =  1.673340916633606\n",
      "epoch :  13  /  20  | TL :  1.515599106842617  | VL :  1.5254123210906982\n",
      "epoch =  14  step =  0  of total steps  16012  loss =  1.7580677270889282\n",
      "epoch =  14  step =  20  of total steps  16012  loss =  1.4660872220993042\n",
      "epoch =  14  step =  40  of total steps  16012  loss =  1.5099105834960938\n",
      "epoch =  14  step =  60  of total steps  16012  loss =  1.437002420425415\n",
      "epoch =  14  step =  80  of total steps  16012  loss =  1.6619882583618164\n",
      "epoch =  14  step =  100  of total steps  16012  loss =  1.4866433143615723\n",
      "epoch :  14  /  20  | TL :  1.5168204543725499  | VL :  1.5268827676773071\n",
      "epoch =  15  step =  0  of total steps  16012  loss =  1.5665419101715088\n",
      "epoch =  15  step =  20  of total steps  16012  loss =  1.666519045829773\n",
      "epoch =  15  step =  40  of total steps  16012  loss =  1.5470638275146484\n",
      "epoch =  15  step =  60  of total steps  16012  loss =  1.5932776927947998\n",
      "epoch =  15  step =  80  of total steps  16012  loss =  1.374967336654663\n"
     ]
    },
    {
     "name": "stdout",
     "output_type": "stream",
     "text": [
      "epoch =  15  step =  100  of total steps  16012  loss =  1.662811040878296\n",
      "epoch :  15  /  20  | TL :  1.5143744473187428  | VL :  1.525626540184021\n",
      "epoch =  16  step =  0  of total steps  16012  loss =  1.6300100088119507\n",
      "epoch =  16  step =  20  of total steps  16012  loss =  1.3399255275726318\n",
      "epoch =  16  step =  40  of total steps  16012  loss =  1.5294454097747803\n",
      "epoch =  16  step =  60  of total steps  16012  loss =  1.5600128173828125\n",
      "epoch =  16  step =  80  of total steps  16012  loss =  1.3406175374984741\n",
      "epoch =  16  step =  100  of total steps  16012  loss =  1.3808459043502808\n",
      "epoch :  16  /  20  | TL :  1.513566330918726  | VL :  1.5290355682373047\n",
      "epoch =  17  step =  0  of total steps  16012  loss =  1.394396185874939\n",
      "epoch =  17  step =  20  of total steps  16012  loss =  1.5891327857971191\n",
      "epoch =  17  step =  40  of total steps  16012  loss =  1.5195121765136719\n",
      "epoch =  17  step =  60  of total steps  16012  loss =  1.4190921783447266\n",
      "epoch =  17  step =  80  of total steps  16012  loss =  1.461896538734436\n",
      "epoch =  17  step =  100  of total steps  16012  loss =  1.4637500047683716\n",
      "epoch :  17  /  20  | TL :  1.5141626731404718  | VL :  1.529190182685852\n",
      "epoch =  18  step =  0  of total steps  16012  loss =  1.470103144645691\n",
      "epoch =  18  step =  20  of total steps  16012  loss =  1.5525983572006226\n",
      "epoch =  18  step =  40  of total steps  16012  loss =  1.6444660425186157\n",
      "epoch =  18  step =  60  of total steps  16012  loss =  1.4806150197982788\n",
      "epoch =  18  step =  80  of total steps  16012  loss =  1.5269711017608643\n",
      "epoch =  18  step =  100  of total steps  16012  loss =  1.3002183437347412\n",
      "epoch :  18  /  20  | TL :  1.5145023161510252  | VL :  1.5283838510513306\n",
      "epoch =  19  step =  0  of total steps  16012  loss =  1.5550333261489868\n",
      "epoch =  19  step =  20  of total steps  16012  loss =  1.5364662408828735\n",
      "epoch =  19  step =  40  of total steps  16012  loss =  1.3173097372055054\n",
      "epoch =  19  step =  60  of total steps  16012  loss =  1.4511396884918213\n",
      "epoch =  19  step =  80  of total steps  16012  loss =  1.467952847480774\n",
      "epoch =  19  step =  100  of total steps  16012  loss =  1.5547943115234375\n",
      "epoch :  19  /  20  | TL :  1.5112828252450474  | VL :  1.513685941696167\n",
      "saving model\n"
     ]
    }
   ],
   "source": [
    "num_epochs = 20\n",
    "total_step = len(trainset) // (train_batch_size * 150)\n",
    "train_loss_list = list()\n",
    "val_loss_list = list()\n",
    "min_val = 100\n",
    "for epoch in range(num_epochs):\n",
    "    trn = []\n",
    "    Net.train()\n",
    "    for i, (images, labels) in enumerate(trainloader) :\n",
    "        if torch.cuda.is_available():\n",
    "            images = Variable(images).cuda().float()\n",
    "            labels = Variable(labels).cuda()\n",
    "        else : \n",
    "            images = Variable(images).float()\n",
    "            labels = Variable(labels)\n",
    "        \n",
    "        _, target = torch.max(labels, 1)\n",
    "\n",
    "        y_pred = Net(images)\n",
    "        \n",
    "        loss = criterion(y_pred, target)\n",
    "        trn.append(loss.item())\n",
    "\n",
    "        optimizer.zero_grad()\n",
    "        loss.backward()\n",
    "#         torch.nn.utils.clip_grad_value_(Net.parameters(), 10)\n",
    "        optimizer.step()\n",
    "\n",
    "        if i % 20 == 0 :\n",
    "            print('epoch = ', epoch, ' step = ', i, ' of total steps ', total_step, ' loss = ', loss.item())\n",
    "            \n",
    "    train_loss = (sum(trn) / len(trn))\n",
    "    train_loss_list.append(train_loss)\n",
    "    \n",
    "    Net.eval()\n",
    "    val = []\n",
    "    with torch.no_grad() :\n",
    "        for i, (images, labels) in enumerate(valloader) :\n",
    "            if torch.cuda.is_available():\n",
    "                images = Variable(images).cuda().float()\n",
    "                labels = Variable(labels).cuda()\n",
    "            else : \n",
    "                images = Variable(images).float()\n",
    "                labels = Variable(labels)\n",
    "                \n",
    "            _, target = torch.max(labels, 1)\n",
    "\n",
    "            # Forward pass\n",
    "            outputs = Net(images)\n",
    "            loss = criterion(outputs, target)\n",
    "            val.append(loss)\n",
    "\n",
    "    val_loss = (sum(val) / len(val)).item()\n",
    "    val_loss_list.append(val_loss)\n",
    "    print('epoch : ', epoch, ' / ', num_epochs, ' | TL : ', train_loss, ' | VL : ', val_loss)\n",
    "    \n",
    "    if val_loss < min_val :\n",
    "        print('saving model')\n",
    "        min_val = val_loss\n",
    "        torch.save(Net.state_dict(), '2conv_softmax.pt')"
   ]
  },
  {
   "cell_type": "code",
   "execution_count": 110,
   "metadata": {},
   "outputs": [
    {
     "data": {
      "text/plain": [
       "[<matplotlib.lines.Line2D at 0x7f6ac6edf978>,\n",
       " <matplotlib.lines.Line2D at 0x7f6ac6edfac8>]"
      ]
     },
     "execution_count": 110,
     "metadata": {},
     "output_type": "execute_result"
    },
    {
     "data": {
      "image/png": "[encoded data removed]",
      "text/plain": [
       "<Figure size 432x288 with 1 Axes>"
      ]
     },
     "metadata": {
      "needs_background": "light"
     },
     "output_type": "display_data"
    }
   ],
   "source": [
    "j = np.arange(20)\n",
    "plt.plot(j, train_loss_list, 'r', j, val_loss_list, 'g')"
   ]
  },
  {
   "cell_type": "code",
   "execution_count": 111,
   "metadata": {},
   "outputs": [
    {
     "data": {
      "text/plain": [
       "ConvNet(\n",
       "  (fc1): Linear(in_features=450, out_features=256, bias=True)\n",
       "  (fc2): Linear(in_features=256, out_features=128, bias=True)\n",
       "  (fc3): Linear(in_features=128, out_features=5, bias=True)\n",
       ")"
      ]
     },
     "execution_count": 111,
     "metadata": {},
     "output_type": "execute_result"
    }
   ],
   "source": [
    "def _get_accuracy(dataloader):\n",
    "    total = 0\n",
    "    correct = 0\n",
    "    Net.eval()\n",
    "    for i, (images, labels) in enumerate(dataloader):\n",
    "        images = Variable(images).float()\n",
    "        labels = Variable(labels).float()\n",
    "\n",
    "        outputs = Net(images)\n",
    "    \n",
    "        _, label_ind = torch.max(labels, 1)\n",
    "        _, pred_ind = torch.max(outputs, 1)\n",
    "        \n",
    "        # converting to numpy arrays\n",
    "        label_ind = label_ind.data.numpy()\n",
    "        pred_ind = pred_ind.data.numpy()\n",
    "        \n",
    "        # get difference\n",
    "        diff_ind = label_ind - pred_ind\n",
    "        # correctly classified will be 1 and will get added\n",
    "        # incorrectly classified will be 0\n",
    "        correct += np.count_nonzero(diff_ind == 0)\n",
    "        total += len(diff_ind)\n",
    "\n",
    "    accuracy = correct / total\n",
    "    # print(len(diff_ind))\n",
    "    return accuracy\n",
    "\n",
    "Net.cpu()\n",
    "# _get_accuracy(trainloader)"
   ]
  },
  {
   "cell_type": "code",
   "execution_count": 112,
   "metadata": {},
   "outputs": [
    {
     "name": "stdout",
     "output_type": "stream",
     "text": [
      "0.38207547169811323\n",
      "0.41346153846153844\n",
      "0.3557692307692308\n"
     ]
    }
   ],
   "source": [
    "print(_get_accuracy(trainloader))\n",
    "print(_get_accuracy(testloader))\n",
    "print(_get_accuracy(valloader))"
   ]
  },
  {
   "cell_type": "markdown",
   "metadata": {},
   "source": [
    "#### Directly training NNs on raw data doesn't work well (network overfits most of the time). So, we can try to use some pre-processing to the data before training (like running mean, running std deviation, running rms, etc.)\n",
    "\n",
    "### PyTorch implementation of `running_mean`"
   ]
  },
  {
   "cell_type": "code",
   "execution_count": 5,
   "metadata": {},
   "outputs": [],
   "source": [
    "def running_mean(signal, window_size = 10):\n",
    "    ''' Returns running mean of 3D signal (batch_size, length, channels)\n",
    "    '''\n",
    "    mean = torch.zeros_like(signal)\n",
    "    for i in range(signal.shape[0]) :\n",
    "        for j in range(signal.shape[1] - window_size) : \n",
    "            mean[i][j] = signal[i][j : j + window_size].mean(dim = 0)\n",
    "            \n",
    "    for i in range(signal.shape[0]) :\n",
    "        for j in range(signal.shape[1] - window_size, signal.shape[1]) :\n",
    "            mean[i][j] = signal[i][j]\n",
    "            \n",
    "    return mean"
   ]
  },
  {
   "cell_type": "markdown",
   "metadata": {},
   "source": [
    "### Shows working of `running_mean` function"
   ]
  },
  {
   "cell_type": "code",
   "execution_count": 8,
   "metadata": {},
   "outputs": [
    {
     "name": "stdout",
     "output_type": "stream",
     "text": [
      "torch.Size([8, 150, 3])\n"
     ]
    },
    {
     "data": {
      "text/plain": [
       "[<matplotlib.lines.Line2D at 0x7f2bb62ed7f0>,\n",
       " <matplotlib.lines.Line2D at 0x7f2bb62ed940>]"
      ]
     },
     "execution_count": 8,
     "metadata": {},
     "output_type": "execute_result"
    },
    {
     "data": {
      "image/png": "[encoded data removed]",
      "text/plain": [
       "<Figure size 432x288 with 1 Axes>"
      ]
     },
     "metadata": {
      "needs_background": "light"
     },
     "output_type": "display_data"
    }
   ],
   "source": [
    "signal, label = next(iter(trainloader))\n",
    "# print(signal.shape)\n",
    "# print(signal[2].shape)\n",
    "# print(signal[2].mean(dim = 0).shape)\n",
    "# print(signal[2][ : 10].mean(dim = 0).shape)\n",
    "# print(signal[1][2].shape)\n",
    "mean = running_mean(signal, window_size = 5)\n",
    "print(mean.shape)\n",
    "sig_ = signal[0].transpose(0, 1)\n",
    "mean_ = mean[0].transpose(0, 1)\n",
    "t = range(150)\n",
    "plt.plot(t, sig_[1].data.numpy(), 'r', t, mean_[1].data.numpy(), 'b')"
   ]
  },
  {
   "cell_type": "markdown",
   "metadata": {},
   "source": [
    "### Training network using `running_mean` processed data"
   ]
  },
  {
   "cell_type": "code",
   "execution_count": 9,
   "metadata": {},
   "outputs": [],
   "source": [
    "class ConvNet(nn.Module):\n",
    "    def __init__(self):\n",
    "        super(ConvNet, self).__init__()\n",
    "        # defining layers\n",
    "        self.conv1 = nn.Conv1d(3, 5, 3)\n",
    "        self.fc1 = nn.Linear(148 * 5, 5)\n",
    "        \n",
    "        nn.init.xavier_uniform_(self.conv1.weight, gain = nn.init.calculate_gain('relu'))\n",
    "        nn.init.xavier_uniform_(self.fc1.weight, gain = nn.init.calculate_gain('sigmoid'))\n",
    "        \n",
    "    def forward(self, signal):\n",
    "        signal_ = running_mean(signal, window_size = 5)\n",
    "        signal_ = signal_.view(-1, 3, 150)\n",
    "        out = F.relu(self.conv1(signal_))\n",
    "        out = out.view(-1, 148 * 5)\n",
    "        out = F.log_softmax(self.fc1(out), dim = 1)\n",
    "        return out\n",
    "\n",
    "Net = ConvNet()\n",
    "if torch.cuda.is_available():\n",
    "    print('Model on GPU')\n",
    "    Net = Net.cuda()"
   ]
  },
  {
   "cell_type": "code",
   "execution_count": 10,
   "metadata": {},
   "outputs": [],
   "source": [
    "import torch.optim as optim\n",
    "criterion = nn.CrossEntropyLoss()\n",
    "optimizer = optim.Adam(Net.parameters(), lr = 1e-3, weight_decay = 1e-3)"
   ]
  },
  {
   "cell_type": "code",
   "execution_count": 11,
   "metadata": {},
   "outputs": [
    {
     "name": "stdout",
     "output_type": "stream",
     "text": [
      "epoch =  0  step =  0  of total steps  106  loss =  1.5382548570632935\n",
      "epoch =  0  step =  20  of total steps  106  loss =  2.0540518760681152\n",
      "epoch =  0  step =  40  of total steps  106  loss =  1.498380422592163\n",
      "epoch =  0  step =  60  of total steps  106  loss =  1.5275654792785645\n",
      "epoch =  0  step =  80  of total steps  106  loss =  1.9702608585357666\n",
      "epoch =  0  step =  100  of total steps  106  loss =  1.3912906646728516\n",
      "epoch :  0  /  20  | TL :  1.5100063715340957  | VL :  1.523334264755249\n",
      "saving model\n",
      "epoch =  1  step =  0  of total steps  106  loss =  1.4645376205444336\n",
      "epoch =  1  step =  20  of total steps  106  loss =  1.71355402469635\n",
      "epoch =  1  step =  40  of total steps  106  loss =  1.6008198261260986\n",
      "epoch =  1  step =  60  of total steps  106  loss =  1.5929672718048096\n",
      "epoch =  1  step =  80  of total steps  106  loss =  1.2262083292007446\n",
      "epoch =  1  step =  100  of total steps  106  loss =  1.345224380493164\n",
      "epoch :  1  /  20  | TL :  1.4471513145374801  | VL :  1.5233323574066162\n",
      "saving model\n",
      "epoch =  2  step =  0  of total steps  106  loss =  1.2329537868499756\n",
      "epoch =  2  step =  20  of total steps  106  loss =  1.5427677631378174\n",
      "epoch =  2  step =  40  of total steps  106  loss =  1.309971570968628\n",
      "epoch =  2  step =  60  of total steps  106  loss =  1.1091303825378418\n",
      "epoch =  2  step =  80  of total steps  106  loss =  1.4347128868103027\n",
      "epoch =  2  step =  100  of total steps  106  loss =  1.2824145555496216\n",
      "epoch :  2  /  20  | TL :  1.3997872904786524  | VL :  1.4941520690917969\n",
      "saving model\n",
      "epoch =  3  step =  0  of total steps  106  loss =  1.215334177017212\n",
      "epoch =  3  step =  20  of total steps  106  loss =  1.4007498025894165\n",
      "epoch =  3  step =  40  of total steps  106  loss =  1.1808557510375977\n",
      "epoch =  3  step =  60  of total steps  106  loss =  1.4348599910736084\n",
      "epoch =  3  step =  80  of total steps  106  loss =  0.9146389961242676\n",
      "epoch =  3  step =  100  of total steps  106  loss =  1.1072851419448853\n",
      "epoch :  3  /  20  | TL :  1.3645890124563902  | VL :  1.5043957233428955\n",
      "epoch =  4  step =  0  of total steps  106  loss =  1.3918367624282837\n",
      "epoch =  4  step =  20  of total steps  106  loss =  1.2513656616210938\n",
      "epoch =  4  step =  40  of total steps  106  loss =  1.3268520832061768\n",
      "epoch =  4  step =  60  of total steps  106  loss =  1.3507840633392334\n",
      "epoch =  4  step =  80  of total steps  106  loss =  1.0180280208587646\n",
      "epoch =  4  step =  100  of total steps  106  loss =  1.471154808998108\n",
      "epoch :  4  /  20  | TL :  1.3351238977234319  | VL :  1.5054574012756348\n",
      "epoch =  5  step =  0  of total steps  106  loss =  1.5063996315002441\n",
      "epoch =  5  step =  20  of total steps  106  loss =  1.4793708324432373\n",
      "epoch =  5  step =  40  of total steps  106  loss =  1.102637767791748\n",
      "epoch =  5  step =  60  of total steps  106  loss =  1.332414984703064\n",
      "epoch =  5  step =  80  of total steps  106  loss =  1.406476378440857\n",
      "epoch =  5  step =  100  of total steps  106  loss =  1.571319580078125\n",
      "epoch :  5  /  20  | TL :  1.3172203521683532  | VL :  1.5095329284667969\n",
      "epoch =  6  step =  0  of total steps  106  loss =  1.332930326461792\n",
      "epoch =  6  step =  20  of total steps  106  loss =  0.817150354385376\n",
      "epoch =  6  step =  40  of total steps  106  loss =  1.310502290725708\n",
      "epoch =  6  step =  60  of total steps  106  loss =  1.1230974197387695\n",
      "epoch =  6  step =  80  of total steps  106  loss =  1.1358942985534668\n",
      "epoch =  6  step =  100  of total steps  106  loss =  1.3676239252090454\n",
      "epoch :  6  /  20  | TL :  1.2952421543733128  | VL :  1.4997284412384033\n",
      "epoch =  7  step =  0  of total steps  106  loss =  1.0675426721572876\n",
      "epoch =  7  step =  20  of total steps  106  loss =  1.2712823152542114\n",
      "epoch =  7  step =  40  of total steps  106  loss =  1.7227050065994263\n",
      "epoch =  7  step =  60  of total steps  106  loss =  1.0448471307754517\n",
      "epoch =  7  step =  80  of total steps  106  loss =  1.1519811153411865\n",
      "epoch =  7  step =  100  of total steps  106  loss =  1.1787474155426025\n",
      "epoch :  7  /  20  | TL :  1.273292603357783  | VL :  1.5667688846588135\n",
      "epoch =  8  step =  0  of total steps  106  loss =  1.2947014570236206\n",
      "epoch =  8  step =  20  of total steps  106  loss =  1.331595540046692\n",
      "epoch =  8  step =  40  of total steps  106  loss =  1.7344235181808472\n",
      "epoch =  8  step =  60  of total steps  106  loss =  1.3282109498977661\n",
      "epoch =  8  step =  80  of total steps  106  loss =  1.2067127227783203\n",
      "epoch =  8  step =  100  of total steps  106  loss =  1.3777050971984863\n",
      "epoch :  8  /  20  | TL :  1.269154667292001  | VL :  1.500510573387146\n",
      "epoch =  9  step =  0  of total steps  106  loss =  1.0341464281082153\n",
      "epoch =  9  step =  20  of total steps  106  loss =  1.2561731338500977\n",
      "epoch =  9  step =  40  of total steps  106  loss =  1.4082974195480347\n",
      "epoch =  9  step =  60  of total steps  106  loss =  1.775622844696045\n",
      "epoch =  9  step =  80  of total steps  106  loss =  1.4095345735549927\n",
      "epoch =  9  step =  100  of total steps  106  loss =  1.4117883443832397\n",
      "epoch :  9  /  20  | TL :  1.2502197820060659  | VL :  1.521846055984497\n",
      "epoch =  10  step =  0  of total steps  106  loss =  1.3411352634429932\n",
      "epoch =  10  step =  20  of total steps  106  loss =  1.3837403059005737\n",
      "epoch =  10  step =  40  of total steps  106  loss =  1.4673622846603394\n",
      "epoch =  10  step =  60  of total steps  106  loss =  1.316107988357544\n",
      "epoch =  10  step =  80  of total steps  106  loss =  1.3640894889831543\n",
      "epoch =  10  step =  100  of total steps  106  loss =  1.402716040611267\n",
      "epoch :  10  /  20  | TL :  1.235899564230217  | VL :  1.5154902935028076\n",
      "epoch =  11  step =  0  of total steps  106  loss =  1.0129417181015015\n",
      "epoch =  11  step =  20  of total steps  106  loss =  1.25785231590271\n",
      "epoch =  11  step =  40  of total steps  106  loss =  0.9417282938957214\n",
      "epoch =  11  step =  60  of total steps  106  loss =  1.315420389175415\n",
      "epoch =  11  step =  80  of total steps  106  loss =  1.248000144958496\n",
      "epoch =  11  step =  100  of total steps  106  loss =  1.468817114830017\n",
      "epoch :  11  /  20  | TL :  1.219864546128039  | VL :  1.5269287824630737\n",
      "epoch =  12  step =  0  of total steps  106  loss =  1.072914481163025\n",
      "epoch =  12  step =  20  of total steps  106  loss =  1.6469968557357788\n",
      "epoch =  12  step =  40  of total steps  106  loss =  1.0702228546142578\n",
      "epoch =  12  step =  60  of total steps  106  loss =  1.042405366897583\n",
      "epoch =  12  step =  80  of total steps  106  loss =  0.9300298690795898\n",
      "epoch =  12  step =  100  of total steps  106  loss =  1.050620436668396\n",
      "epoch :  12  /  20  | TL :  1.2084756386729907  | VL :  1.4961720705032349\n",
      "epoch =  13  step =  0  of total steps  106  loss =  1.303767204284668\n",
      "epoch =  13  step =  20  of total steps  106  loss =  0.9433697462081909\n",
      "epoch =  13  step =  40  of total steps  106  loss =  1.1909596920013428\n",
      "epoch =  13  step =  60  of total steps  106  loss =  1.5063748359680176\n",
      "epoch =  13  step =  80  of total steps  106  loss =  1.2780739068984985\n",
      "epoch =  13  step =  100  of total steps  106  loss =  1.1332906484603882\n",
      "epoch :  13  /  20  | TL :  1.2014180815444802  | VL :  1.4984209537506104\n",
      "epoch =  14  step =  0  of total steps  106  loss =  1.1174927949905396\n",
      "epoch =  14  step =  20  of total steps  106  loss =  0.9627321362495422\n",
      "epoch =  14  step =  40  of total steps  106  loss =  1.3179023265838623\n",
      "epoch =  14  step =  60  of total steps  106  loss =  1.2450432777404785\n",
      "epoch =  14  step =  80  of total steps  106  loss =  1.3552604913711548\n",
      "epoch =  14  step =  100  of total steps  106  loss =  1.171013355255127\n",
      "epoch :  14  /  20  | TL :  1.1881286906746198  | VL :  1.524522304534912\n",
      "epoch =  15  step =  0  of total steps  106  loss =  0.9147519469261169\n",
      "epoch =  15  step =  20  of total steps  106  loss =  0.9139739274978638\n",
      "epoch =  15  step =  40  of total steps  106  loss =  1.1085238456726074\n",
      "epoch =  15  step =  60  of total steps  106  loss =  1.386927843093872\n",
      "epoch =  15  step =  80  of total steps  106  loss =  1.2659802436828613\n",
      "epoch =  15  step =  100  of total steps  106  loss =  1.0846874713897705\n",
      "epoch :  15  /  20  | TL :  1.177204598795693  | VL :  1.5302832126617432\n",
      "epoch =  16  step =  0  of total steps  106  loss =  0.8912366628646851\n"
     ]
    },
    {
     "name": "stdout",
     "output_type": "stream",
     "text": [
      "epoch =  16  step =  20  of total steps  106  loss =  1.073879361152649\n",
      "epoch =  16  step =  40  of total steps  106  loss =  1.0021015405654907\n",
      "epoch =  16  step =  60  of total steps  106  loss =  1.016965389251709\n",
      "epoch =  16  step =  80  of total steps  106  loss =  1.375260829925537\n",
      "epoch =  16  step =  100  of total steps  106  loss =  1.3518165349960327\n",
      "epoch :  16  /  20  | TL :  1.1653421852948531  | VL :  1.5525832176208496\n",
      "epoch =  17  step =  0  of total steps  106  loss =  1.200771450996399\n",
      "epoch =  17  step =  20  of total steps  106  loss =  1.238407015800476\n",
      "epoch =  17  step =  40  of total steps  106  loss =  1.2281763553619385\n",
      "epoch =  17  step =  60  of total steps  106  loss =  0.7023838758468628\n",
      "epoch =  17  step =  80  of total steps  106  loss =  1.1319007873535156\n",
      "epoch =  17  step =  100  of total steps  106  loss =  1.0166105031967163\n",
      "epoch :  17  /  20  | TL :  1.1602540685320801  | VL :  1.5532773733139038\n",
      "epoch =  18  step =  0  of total steps  106  loss =  1.5999433994293213\n",
      "epoch =  18  step =  20  of total steps  106  loss =  1.074840784072876\n",
      "epoch =  18  step =  40  of total steps  106  loss =  0.8017275333404541\n",
      "epoch =  18  step =  60  of total steps  106  loss =  1.3507561683654785\n",
      "epoch =  18  step =  80  of total steps  106  loss =  1.2545119524002075\n",
      "epoch =  18  step =  100  of total steps  106  loss =  0.9698358178138733\n",
      "epoch :  18  /  20  | TL :  1.1591409208639614  | VL :  1.5474454164505005\n",
      "epoch =  19  step =  0  of total steps  106  loss =  1.2971397638320923\n",
      "epoch =  19  step =  20  of total steps  106  loss =  0.6850504279136658\n",
      "epoch =  19  step =  40  of total steps  106  loss =  0.9271788001060486\n",
      "epoch =  19  step =  60  of total steps  106  loss =  1.5501484870910645\n",
      "epoch =  19  step =  80  of total steps  106  loss =  1.1575143337249756\n",
      "epoch =  19  step =  100  of total steps  106  loss =  1.3864907026290894\n",
      "epoch :  19  /  20  | TL :  1.141646274418201  | VL :  1.5801435708999634\n"
     ]
    }
   ],
   "source": [
    "num_epochs = 20\n",
    "total_step = len(trainset) // (train_batch_size * 150)\n",
    "train_loss_list = list()\n",
    "val_loss_list = list()\n",
    "min_val = 100\n",
    "for epoch in range(num_epochs):\n",
    "    trn = []\n",
    "    Net.train()\n",
    "    for i, (images, labels) in enumerate(trainloader) :\n",
    "        if torch.cuda.is_available():\n",
    "            images = Variable(images).cuda().float()\n",
    "            labels = Variable(labels).cuda()\n",
    "        else : \n",
    "            images = Variable(images).float()\n",
    "            labels = Variable(labels)\n",
    "        \n",
    "        _, target = torch.max(labels, 1)\n",
    "\n",
    "        y_pred = Net(images)\n",
    "        \n",
    "        loss = criterion(y_pred, target)\n",
    "        trn.append(loss.item())\n",
    "\n",
    "        optimizer.zero_grad()\n",
    "        loss.backward()\n",
    "#         torch.nn.utils.clip_grad_value_(Net.parameters(), 10)\n",
    "        optimizer.step()\n",
    "\n",
    "        if i % 20 == 0 :\n",
    "            print('epoch = ', epoch, ' step = ', i, ' of total steps ', total_step, ' loss = ', loss.item())\n",
    "            \n",
    "    train_loss = (sum(trn) / len(trn))\n",
    "    train_loss_list.append(train_loss)\n",
    "    \n",
    "    Net.eval()\n",
    "    val = []\n",
    "    with torch.no_grad() :\n",
    "        for i, (images, labels) in enumerate(valloader) :\n",
    "            if torch.cuda.is_available():\n",
    "                images = Variable(images).cuda().float()\n",
    "                labels = Variable(labels).cuda()\n",
    "            else : \n",
    "                images = Variable(images).float()\n",
    "                labels = Variable(labels)\n",
    "                \n",
    "            _, target = torch.max(labels, 1)\n",
    "\n",
    "            # Forward pass\n",
    "            outputs = Net(images)\n",
    "            loss = criterion(outputs, target)\n",
    "            val.append(loss)\n",
    "\n",
    "    val_loss = (sum(val) / len(val)).item()\n",
    "    val_loss_list.append(val_loss)\n",
    "    print('epoch : ', epoch, ' / ', num_epochs, ' | TL : ', train_loss, ' | VL : ', val_loss)\n",
    "    \n",
    "    if val_loss < min_val :\n",
    "        print('saving model')\n",
    "        min_val = val_loss\n",
    "        torch.save(Net.state_dict(), '1conv_softmax.pt')"
   ]
  },
  {
   "cell_type": "code",
   "execution_count": 12,
   "metadata": {},
   "outputs": [
    {
     "data": {
      "text/plain": [
       "[<matplotlib.lines.Line2D at 0x7f2bb5a01400>,\n",
       " <matplotlib.lines.Line2D at 0x7f2bb5a01550>]"
      ]
     },
     "execution_count": 12,
     "metadata": {},
     "output_type": "execute_result"
    },
    {
     "data": {
      "image/png": "[encoded data removed]",
      "text/plain": [
       "<Figure size 432x288 with 1 Axes>"
      ]
     },
     "metadata": {
      "needs_background": "light"
     },
     "output_type": "display_data"
    }
   ],
   "source": [
    "j = np.arange(20)\n",
    "plt.plot(j, train_loss_list, 'r', j, val_loss_list, 'g')"
   ]
  },
  {
   "cell_type": "code",
   "execution_count": 13,
   "metadata": {},
   "outputs": [],
   "source": [
    "def _get_accuracy(dataloader, Net):\n",
    "    total = 0\n",
    "    correct = 0\n",
    "    Net.eval()\n",
    "    for i, (images, labels) in enumerate(dataloader):\n",
    "        images = Variable(images).float()\n",
    "        labels = Variable(labels).float()\n",
    "\n",
    "        outputs = Net(images)\n",
    "    \n",
    "        _, label_ind = torch.max(labels, 1)\n",
    "        _, pred_ind = torch.max(outputs, 1)\n",
    "        \n",
    "        # converting to numpy arrays\n",
    "        label_ind = label_ind.data.numpy()\n",
    "        pred_ind = pred_ind.data.numpy()\n",
    "        \n",
    "        # get difference\n",
    "        diff_ind = label_ind - pred_ind\n",
    "        # correctly classified will be 1 and will get added\n",
    "        # incorrectly classified will be 0\n",
    "        correct += np.count_nonzero(diff_ind == 0)\n",
    "        total += len(diff_ind)\n",
    "\n",
    "    accuracy = correct / total\n",
    "    # print(len(diff_ind))\n",
    "    return accuracy\n",
    "\n",
    "Net = Net.cpu().eval()\n",
    "# _get_accuracy(trainloader)"
   ]
  },
  {
   "cell_type": "code",
   "execution_count": 14,
   "metadata": {},
   "outputs": [
    {
     "name": "stdout",
     "output_type": "stream",
     "text": [
      "0.5766509433962265\n",
      "0.4326923076923077\n",
      "0.375\n"
     ]
    }
   ],
   "source": [
    "print(_get_accuracy(trainloader, Net))\n",
    "print(_get_accuracy(testloader, Net))\n",
    "print(_get_accuracy(valloader, Net))"
   ]
  },
  {
   "cell_type": "code",
   "execution_count": 16,
   "metadata": {},
   "outputs": [
    {
     "name": "stdout",
     "output_type": "stream",
     "text": [
      "0.4339622641509434\n",
      "0.4326923076923077\n",
      "0.3557692307692308\n"
     ]
    }
   ],
   "source": [
    "testing_Net = ConvNet()\n",
    "testing_Net.load_state_dict(torch.load('1conv_softmax.pt'))\n",
    "testing_Net.eval()\n",
    "print(_get_accuracy(trainloader, testing_Net))\n",
    "print(_get_accuracy(testloader, testing_Net))\n",
    "print(_get_accuracy(valloader, testing_Net))"
   ]
  },
  {
   "cell_type": "markdown",
   "metadata": {},
   "source": [
    "#### Even using `running_mean` processed data, the network again overfits. Even increasing window size didn't help (decreasing won't help as it will be closer to raw data then). Increasing too much is also not helpful as the plot will get more and more flat. So, we need to try out other features."
   ]
  },
  {
   "cell_type": "markdown",
   "metadata": {},
   "source": [
    "### PyTorch implementation of running standard deviation"
   ]
  },
  {
   "cell_type": "code",
   "execution_count": 26,
   "metadata": {},
   "outputs": [],
   "source": [
    "def running_std_dev(signal, window_size = 10):\n",
    "    ''' Returns running standard deviation of 3D signal (batch_size, length, channels)\n",
    "    '''\n",
    "    mean = torch.zeros_like(signal)\n",
    "    for i in range(signal.shape[0]) :\n",
    "        for j in range(signal.shape[1] - window_size) : \n",
    "            mean[i][j] = signal[i][j : j + window_size].std(dim = 0)\n",
    "            \n",
    "    for i in range(signal.shape[0]) :\n",
    "        for j in range(signal.shape[1] - window_size, signal.shape[1]) :\n",
    "            mean[i][j] = signal[i][j]\n",
    "            \n",
    "    return mean"
   ]
  },
  {
   "cell_type": "markdown",
   "metadata": {},
   "source": [
    "### Shows working of `running_std_dev` function"
   ]
  },
  {
   "cell_type": "code",
   "execution_count": 28,
   "metadata": {},
   "outputs": [
    {
     "name": "stdout",
     "output_type": "stream",
     "text": [
      "torch.Size([8, 150, 3])\n"
     ]
    },
    {
     "data": {
      "text/plain": [
       "[<matplotlib.lines.Line2D at 0x7f2bb58792e8>,\n",
       " <matplotlib.lines.Line2D at 0x7f2bb5879438>]"
      ]
     },
     "execution_count": 28,
     "metadata": {},
     "output_type": "execute_result"
    },
    {
     "data": {
      "image/png": "[encoded data removed]",
      "text/plain": [
       "<Figure size 432x288 with 1 Axes>"
      ]
     },
     "metadata": {
      "needs_background": "light"
     },
     "output_type": "display_data"
    }
   ],
   "source": [
    "signal, label = next(iter(trainloader))\n",
    "mean = running_std_dev(signal, window_size = 5)\n",
    "print(mean.shape)\n",
    "sig_ = signal[0].transpose(0, 1)\n",
    "mean_ = mean[0].transpose(0, 1)\n",
    "t = range(150)\n",
    "plt.plot(t, sig_[0].data.numpy(), 'r', t, mean_[0].data.numpy(), 'b')"
   ]
  },
  {
   "cell_type": "markdown",
   "metadata": {},
   "source": [
    "### Training network using `running_std_dev` processed data"
   ]
  },
  {
   "cell_type": "code",
   "execution_count": 60,
   "metadata": {},
   "outputs": [],
   "source": [
    "class ConvNet(nn.Module):\n",
    "    def __init__(self):\n",
    "        super(ConvNet, self).__init__()\n",
    "        # defining layers\n",
    "        self.conv1 = nn.Conv1d(3, 5, 3)\n",
    "        self.conv2 = nn.Conv1d(5, 5, 3)\n",
    "        self.fc1 = nn.Linear(146 * 5, 5)\n",
    "        \n",
    "        nn.init.xavier_uniform_(self.conv1.weight, gain = nn.init.calculate_gain('relu'))\n",
    "        nn.init.xavier_uniform_(self.conv2.weight, gain = nn.init.calculate_gain('relu'))\n",
    "        nn.init.xavier_uniform_(self.fc1.weight, gain = nn.init.calculate_gain('sigmoid'))\n",
    "        \n",
    "    def forward(self, signal):\n",
    "        signal_ = running_std_dev(signal, window_size = 10)\n",
    "        signal_ = signal_.view(-1, 3, 150)\n",
    "        out = F.relu(self.conv1(signal_))\n",
    "        out = F.relu(self.conv2(out))\n",
    "        out = out.view(-1, 146 * 5)\n",
    "        out = F.log_softmax(self.fc1(out), dim = 1)\n",
    "        return out\n",
    "\n",
    "Net = ConvNet()\n",
    "if torch.cuda.is_available():\n",
    "    print('Model on GPU')\n",
    "    Net = Net.cuda()"
   ]
  },
  {
   "cell_type": "code",
   "execution_count": 61,
   "metadata": {},
   "outputs": [],
   "source": [
    "import torch.optim as optim\n",
    "criterion = nn.CrossEntropyLoss()\n",
    "optimizer = optim.Adam(Net.parameters(), lr = 1e-3, weight_decay = 1e-3)"
   ]
  },
  {
   "cell_type": "code",
   "execution_count": 62,
   "metadata": {},
   "outputs": [
    {
     "name": "stdout",
     "output_type": "stream",
     "text": [
      "epoch =  0  step =  0  of total steps  106  loss =  1.5537694692611694\n",
      "epoch =  0  step =  20  of total steps  106  loss =  1.573373556137085\n",
      "epoch =  0  step =  40  of total steps  106  loss =  1.4244937896728516\n",
      "epoch =  0  step =  60  of total steps  106  loss =  1.4150325059890747\n",
      "epoch =  0  step =  80  of total steps  106  loss =  1.6210300922393799\n",
      "epoch =  0  step =  100  of total steps  106  loss =  1.5917949676513672\n",
      "epoch :  0  /  30  | TL :  1.5269096977305863  | VL :  1.5459043979644775\n",
      "saving model\n",
      "epoch =  1  step =  0  of total steps  106  loss =  1.6439846754074097\n",
      "epoch =  1  step =  20  of total steps  106  loss =  1.4898765087127686\n",
      "epoch =  1  step =  40  of total steps  106  loss =  1.5354785919189453\n",
      "epoch =  1  step =  60  of total steps  106  loss =  1.4176172018051147\n",
      "epoch =  1  step =  80  of total steps  106  loss =  1.4925823211669922\n",
      "epoch =  1  step =  100  of total steps  106  loss =  1.5874722003936768\n",
      "epoch :  1  /  30  | TL :  1.4837881765275631  | VL :  1.52102530002594\n",
      "saving model\n",
      "epoch =  2  step =  0  of total steps  106  loss =  1.2598483562469482\n",
      "epoch =  2  step =  20  of total steps  106  loss =  1.4274100065231323\n",
      "epoch =  2  step =  40  of total steps  106  loss =  1.5888279676437378\n",
      "epoch =  2  step =  60  of total steps  106  loss =  1.2985495328903198\n",
      "epoch =  2  step =  80  of total steps  106  loss =  1.1808767318725586\n",
      "epoch =  2  step =  100  of total steps  106  loss =  1.0598212480545044\n",
      "epoch :  2  /  30  | TL :  1.4476415447469027  | VL :  1.4956594705581665\n",
      "saving model\n",
      "epoch =  3  step =  0  of total steps  106  loss =  1.2267179489135742\n",
      "epoch =  3  step =  20  of total steps  106  loss =  1.1908775568008423\n",
      "epoch =  3  step =  40  of total steps  106  loss =  1.1211823225021362\n",
      "epoch =  3  step =  60  of total steps  106  loss =  1.2453007698059082\n",
      "epoch =  3  step =  80  of total steps  106  loss =  1.2511842250823975\n",
      "epoch =  3  step =  100  of total steps  106  loss =  1.4256415367126465\n",
      "epoch :  3  /  30  | TL :  1.4165074650971394  | VL :  1.488386869430542\n",
      "saving model\n",
      "epoch =  4  step =  0  of total steps  106  loss =  1.455768346786499\n",
      "epoch =  4  step =  20  of total steps  106  loss =  1.561648964881897\n",
      "epoch =  4  step =  40  of total steps  106  loss =  1.4605262279510498\n",
      "epoch =  4  step =  60  of total steps  106  loss =  1.1813759803771973\n",
      "epoch =  4  step =  80  of total steps  106  loss =  1.2350237369537354\n",
      "epoch =  4  step =  100  of total steps  106  loss =  1.6304223537445068\n",
      "epoch :  4  /  30  | TL :  1.4017832414159235  | VL :  1.459930181503296\n",
      "saving model\n",
      "epoch =  5  step =  0  of total steps  106  loss =  1.0207659006118774\n",
      "epoch =  5  step =  20  of total steps  106  loss =  1.6129066944122314\n",
      "epoch =  5  step =  40  of total steps  106  loss =  1.1812489032745361\n",
      "epoch =  5  step =  60  of total steps  106  loss =  1.6459875106811523\n",
      "epoch =  5  step =  80  of total steps  106  loss =  1.2647693157196045\n",
      "epoch =  5  step =  100  of total steps  106  loss =  1.4772429466247559\n",
      "epoch :  5  /  30  | TL :  1.3928144517934546  | VL :  1.4857494831085205\n",
      "epoch =  6  step =  0  of total steps  106  loss =  1.7451647520065308\n",
      "epoch =  6  step =  20  of total steps  106  loss =  1.1993117332458496\n",
      "epoch =  6  step =  40  of total steps  106  loss =  1.2918353080749512\n",
      "epoch =  6  step =  60  of total steps  106  loss =  1.4708921909332275\n",
      "epoch =  6  step =  80  of total steps  106  loss =  1.392642855644226\n",
      "epoch =  6  step =  100  of total steps  106  loss =  1.333754301071167\n",
      "epoch :  6  /  30  | TL :  1.3715992997277457  | VL :  1.4936463832855225\n",
      "epoch =  7  step =  0  of total steps  106  loss =  1.7217687368392944\n",
      "epoch =  7  step =  20  of total steps  106  loss =  1.468383550643921\n",
      "epoch =  7  step =  40  of total steps  106  loss =  1.614835262298584\n",
      "epoch =  7  step =  60  of total steps  106  loss =  1.4835481643676758\n",
      "epoch =  7  step =  80  of total steps  106  loss =  1.1713463068008423\n",
      "epoch =  7  step =  100  of total steps  106  loss =  1.414858341217041\n",
      "epoch :  7  /  30  | TL :  1.3678659701122429  | VL :  1.4708874225616455\n",
      "epoch =  8  step =  0  of total steps  106  loss =  1.426931381225586\n",
      "epoch =  8  step =  20  of total steps  106  loss =  1.1656211614608765\n",
      "epoch =  8  step =  40  of total steps  106  loss =  1.2202785015106201\n",
      "epoch =  8  step =  60  of total steps  106  loss =  1.422572374343872\n",
      "epoch =  8  step =  80  of total steps  106  loss =  1.5098133087158203\n",
      "epoch =  8  step =  100  of total steps  106  loss =  1.4843401908874512\n",
      "epoch :  8  /  30  | TL :  1.3615936299539961  | VL :  1.4730092287063599\n",
      "epoch =  9  step =  0  of total steps  106  loss =  1.035875916481018\n",
      "epoch =  9  step =  20  of total steps  106  loss =  1.4658176898956299\n",
      "epoch =  9  step =  40  of total steps  106  loss =  1.6073319911956787\n",
      "epoch =  9  step =  60  of total steps  106  loss =  1.2434508800506592\n",
      "epoch =  9  step =  80  of total steps  106  loss =  1.5956203937530518\n",
      "epoch =  9  step =  100  of total steps  106  loss =  1.0354276895523071\n",
      "epoch :  9  /  30  | TL :  1.34443155324684  | VL :  1.4948347806930542\n",
      "epoch =  10  step =  0  of total steps  106  loss =  1.106220006942749\n",
      "epoch =  10  step =  20  of total steps  106  loss =  1.4612419605255127\n",
      "epoch =  10  step =  40  of total steps  106  loss =  1.4094455242156982\n",
      "epoch =  10  step =  60  of total steps  106  loss =  1.251331090927124\n",
      "epoch =  10  step =  80  of total steps  106  loss =  1.2779855728149414\n",
      "epoch =  10  step =  100  of total steps  106  loss =  1.356850504875183\n",
      "epoch :  10  /  30  | TL :  1.347025713268316  | VL :  1.5111280679702759\n",
      "epoch =  11  step =  0  of total steps  106  loss =  1.2521655559539795\n",
      "epoch =  11  step =  20  of total steps  106  loss =  1.2980334758758545\n",
      "epoch =  11  step =  40  of total steps  106  loss =  1.138217568397522\n",
      "epoch =  11  step =  60  of total steps  106  loss =  1.393826961517334\n",
      "epoch =  11  step =  80  of total steps  106  loss =  1.3809459209442139\n",
      "epoch =  11  step =  100  of total steps  106  loss =  1.4021484851837158\n",
      "epoch :  11  /  30  | TL :  1.3235909888204538  | VL :  1.4682269096374512\n",
      "epoch =  12  step =  0  of total steps  106  loss =  1.2636208534240723\n",
      "epoch =  12  step =  20  of total steps  106  loss =  1.773100733757019\n",
      "epoch =  12  step =  40  of total steps  106  loss =  1.2422032356262207\n",
      "epoch =  12  step =  60  of total steps  106  loss =  1.2891045808792114\n",
      "epoch =  12  step =  80  of total steps  106  loss =  1.4211502075195312\n",
      "epoch =  12  step =  100  of total steps  106  loss =  1.1427415609359741\n",
      "epoch :  12  /  30  | TL :  1.3191093465067305  | VL :  1.518726110458374\n",
      "epoch =  13  step =  0  of total steps  106  loss =  1.506548285484314\n",
      "epoch =  13  step =  20  of total steps  106  loss =  1.440998911857605\n",
      "epoch =  13  step =  40  of total steps  106  loss =  1.5819103717803955\n",
      "epoch =  13  step =  60  of total steps  106  loss =  1.383033275604248\n",
      "epoch =  13  step =  80  of total steps  106  loss =  2.111673593521118\n",
      "epoch =  13  step =  100  of total steps  106  loss =  1.1407955884933472\n",
      "epoch :  13  /  30  | TL :  1.326351596499389  | VL :  1.4699457883834839\n",
      "epoch =  14  step =  0  of total steps  106  loss =  1.341689109802246\n",
      "epoch =  14  step =  20  of total steps  106  loss =  1.4321538209915161\n",
      "epoch =  14  step =  40  of total steps  106  loss =  1.1166492700576782\n",
      "epoch =  14  step =  60  of total steps  106  loss =  1.136401653289795\n",
      "epoch =  14  step =  80  of total steps  106  loss =  1.1216286420822144\n",
      "epoch =  14  step =  100  of total steps  106  loss =  0.9752742052078247\n",
      "epoch :  14  /  30  | TL :  1.3144217819537756  | VL :  1.4916476011276245\n",
      "epoch =  15  step =  0  of total steps  106  loss =  0.9685996174812317\n",
      "epoch =  15  step =  20  of total steps  106  loss =  1.5674738883972168\n",
      "epoch =  15  step =  40  of total steps  106  loss =  1.1900862455368042\n",
      "epoch =  15  step =  60  of total steps  106  loss =  1.9183244705200195\n",
      "epoch =  15  step =  80  of total steps  106  loss =  1.6672396659851074\n",
      "epoch =  15  step =  100  of total steps  106  loss =  0.9786875247955322\n",
      "epoch :  15  /  30  | TL :  1.300664723481772  | VL :  1.5042591094970703\n",
      "epoch =  16  step =  0  of total steps  106  loss =  1.3721089363098145\n"
     ]
    },
    {
     "name": "stdout",
     "output_type": "stream",
     "text": [
      "epoch =  16  step =  20  of total steps  106  loss =  1.358331322669983\n",
      "epoch =  16  step =  40  of total steps  106  loss =  1.3550846576690674\n",
      "epoch =  16  step =  60  of total steps  106  loss =  1.09270179271698\n",
      "epoch =  16  step =  80  of total steps  106  loss =  1.2025457620620728\n",
      "epoch =  16  step =  100  of total steps  106  loss =  1.979040265083313\n",
      "epoch :  16  /  30  | TL :  1.2907212595894653  | VL :  1.4981324672698975\n",
      "epoch =  17  step =  0  of total steps  106  loss =  1.2544574737548828\n",
      "epoch =  17  step =  20  of total steps  106  loss =  1.130220890045166\n",
      "epoch =  17  step =  40  of total steps  106  loss =  0.9875600337982178\n",
      "epoch =  17  step =  60  of total steps  106  loss =  1.5673432350158691\n",
      "epoch =  17  step =  80  of total steps  106  loss =  1.4502171277999878\n",
      "epoch =  17  step =  100  of total steps  106  loss =  1.2156050205230713\n",
      "epoch :  17  /  30  | TL :  1.287168340300614  | VL :  1.5298584699630737\n",
      "epoch =  18  step =  0  of total steps  106  loss =  0.8513522148132324\n",
      "epoch =  18  step =  20  of total steps  106  loss =  0.7051156163215637\n",
      "epoch =  18  step =  40  of total steps  106  loss =  0.8622527718544006\n",
      "epoch =  18  step =  60  of total steps  106  loss =  1.4723745584487915\n",
      "epoch =  18  step =  80  of total steps  106  loss =  1.3814836740493774\n",
      "epoch =  18  step =  100  of total steps  106  loss =  1.6145904064178467\n",
      "epoch :  18  /  30  | TL :  1.2873651722692094  | VL :  1.5004026889801025\n",
      "epoch =  19  step =  0  of total steps  106  loss =  1.040909767150879\n",
      "epoch =  19  step =  20  of total steps  106  loss =  1.5762758255004883\n",
      "epoch =  19  step =  40  of total steps  106  loss =  1.5767009258270264\n",
      "epoch =  19  step =  60  of total steps  106  loss =  1.328781247138977\n",
      "epoch =  19  step =  80  of total steps  106  loss =  1.5695953369140625\n",
      "epoch =  19  step =  100  of total steps  106  loss =  1.398636817932129\n",
      "epoch :  19  /  30  | TL :  1.2679945843399696  | VL :  1.5174072980880737\n",
      "epoch =  20  step =  0  of total steps  106  loss =  0.999366044998169\n",
      "epoch =  20  step =  20  of total steps  106  loss =  1.2518138885498047\n",
      "epoch =  20  step =  40  of total steps  106  loss =  1.4251699447631836\n",
      "epoch =  20  step =  60  of total steps  106  loss =  1.115035057067871\n",
      "epoch =  20  step =  80  of total steps  106  loss =  1.592727780342102\n",
      "epoch =  20  step =  100  of total steps  106  loss =  1.0698479413986206\n",
      "epoch :  20  /  30  | TL :  1.2721997246427357  | VL :  1.5116991996765137\n",
      "epoch =  21  step =  0  of total steps  106  loss =  0.9133562445640564\n",
      "epoch =  21  step =  20  of total steps  106  loss =  1.4218616485595703\n",
      "epoch =  21  step =  40  of total steps  106  loss =  1.664006233215332\n",
      "epoch =  21  step =  60  of total steps  106  loss =  1.3327044248580933\n",
      "epoch =  21  step =  80  of total steps  106  loss =  1.0348492860794067\n",
      "epoch =  21  step =  100  of total steps  106  loss =  1.8351811170578003\n",
      "epoch :  21  /  30  | TL :  1.2639208958958679  | VL :  1.507057785987854\n",
      "epoch =  22  step =  0  of total steps  106  loss =  1.0712172985076904\n",
      "epoch =  22  step =  20  of total steps  106  loss =  1.4879066944122314\n",
      "epoch =  22  step =  40  of total steps  106  loss =  1.2046771049499512\n",
      "epoch =  22  step =  60  of total steps  106  loss =  1.4751946926116943\n",
      "epoch =  22  step =  80  of total steps  106  loss =  1.5033222436904907\n",
      "epoch =  22  step =  100  of total steps  106  loss =  0.8917585611343384\n",
      "epoch :  22  /  30  | TL :  1.2564003686859924  | VL :  1.533562183380127\n",
      "epoch =  23  step =  0  of total steps  106  loss =  0.9364388585090637\n",
      "epoch =  23  step =  20  of total steps  106  loss =  1.055091142654419\n",
      "epoch =  23  step =  40  of total steps  106  loss =  1.0324187278747559\n",
      "epoch =  23  step =  60  of total steps  106  loss =  1.253548502922058\n",
      "epoch =  23  step =  80  of total steps  106  loss =  1.1600438356399536\n",
      "epoch =  23  step =  100  of total steps  106  loss =  1.1417039632797241\n",
      "epoch :  23  /  30  | TL :  1.2504178263106436  | VL :  1.5235601663589478\n",
      "epoch =  24  step =  0  of total steps  106  loss =  1.3456346988677979\n",
      "epoch =  24  step =  20  of total steps  106  loss =  0.920823335647583\n",
      "epoch =  24  step =  40  of total steps  106  loss =  0.7974222898483276\n",
      "epoch =  24  step =  60  of total steps  106  loss =  1.250970721244812\n",
      "epoch =  24  step =  80  of total steps  106  loss =  1.2303390502929688\n",
      "epoch =  24  step =  100  of total steps  106  loss =  1.200498104095459\n",
      "epoch :  24  /  30  | TL :  1.2412203145477008  | VL :  1.5200976133346558\n",
      "epoch =  25  step =  0  of total steps  106  loss =  1.574501395225525\n",
      "epoch =  25  step =  20  of total steps  106  loss =  1.4599047899246216\n",
      "epoch =  25  step =  40  of total steps  106  loss =  1.1223149299621582\n",
      "epoch =  25  step =  60  of total steps  106  loss =  1.3154689073562622\n",
      "epoch =  25  step =  80  of total steps  106  loss =  1.9296938180923462\n",
      "epoch =  25  step =  100  of total steps  106  loss =  1.5294448137283325\n",
      "epoch :  25  /  30  | TL :  1.2434869566053715  | VL :  1.558835744857788\n",
      "epoch =  26  step =  0  of total steps  106  loss =  1.2152740955352783\n",
      "epoch =  26  step =  20  of total steps  106  loss =  1.18761146068573\n",
      "epoch =  26  step =  40  of total steps  106  loss =  1.152364730834961\n",
      "epoch =  26  step =  60  of total steps  106  loss =  1.349449872970581\n",
      "epoch =  26  step =  80  of total steps  106  loss =  1.1822052001953125\n",
      "epoch =  26  step =  100  of total steps  106  loss =  1.1930307149887085\n",
      "epoch :  26  /  30  | TL :  1.2334349470318489  | VL :  1.561204195022583\n",
      "epoch =  27  step =  0  of total steps  106  loss =  1.0126696825027466\n",
      "epoch =  27  step =  20  of total steps  106  loss =  1.3053820133209229\n",
      "epoch =  27  step =  40  of total steps  106  loss =  1.258203387260437\n",
      "epoch =  27  step =  60  of total steps  106  loss =  1.1266252994537354\n",
      "epoch =  27  step =  80  of total steps  106  loss =  1.273637294769287\n",
      "epoch =  27  step =  100  of total steps  106  loss =  1.5558613538742065\n",
      "epoch :  27  /  30  | TL :  1.2361145913600922  | VL :  1.5239479541778564\n",
      "epoch =  28  step =  0  of total steps  106  loss =  1.1364099979400635\n",
      "epoch =  28  step =  20  of total steps  106  loss =  1.3802623748779297\n",
      "epoch =  28  step =  40  of total steps  106  loss =  1.1482548713684082\n",
      "epoch =  28  step =  60  of total steps  106  loss =  1.5779012441635132\n",
      "epoch =  28  step =  80  of total steps  106  loss =  1.5875152349472046\n",
      "epoch =  28  step =  100  of total steps  106  loss =  1.4889076948165894\n",
      "epoch :  28  /  30  | TL :  1.2238168390292041  | VL :  1.53592050075531\n",
      "epoch =  29  step =  0  of total steps  106  loss =  1.2696640491485596\n",
      "epoch =  29  step =  20  of total steps  106  loss =  0.8488733172416687\n",
      "epoch =  29  step =  40  of total steps  106  loss =  0.9484002590179443\n",
      "epoch =  29  step =  60  of total steps  106  loss =  0.9405390024185181\n",
      "epoch =  29  step =  80  of total steps  106  loss =  1.8966120481491089\n",
      "epoch =  29  step =  100  of total steps  106  loss =  1.45467209815979\n",
      "epoch :  29  /  30  | TL :  1.225292481341452  | VL :  1.5518074035644531\n"
     ]
    }
   ],
   "source": [
    "num_epochs = 30\n",
    "total_step = len(trainset) // (train_batch_size * 150)\n",
    "train_loss_list = list()\n",
    "val_loss_list = list()\n",
    "min_val = 100\n",
    "for epoch in range(num_epochs):\n",
    "    trn = []\n",
    "    Net.train()\n",
    "    for i, (images, labels) in enumerate(trainloader) :\n",
    "        if torch.cuda.is_available():\n",
    "            images = Variable(images).cuda().float()\n",
    "            labels = Variable(labels).cuda()\n",
    "        else : \n",
    "            images = Variable(images).float()\n",
    "            labels = Variable(labels)\n",
    "        \n",
    "        _, target = torch.max(labels, 1)\n",
    "\n",
    "        y_pred = Net(images)\n",
    "        \n",
    "        loss = criterion(y_pred, target)\n",
    "        trn.append(loss.item())\n",
    "\n",
    "        optimizer.zero_grad()\n",
    "        loss.backward()\n",
    "#         torch.nn.utils.clip_grad_value_(Net.parameters(), 10)\n",
    "        optimizer.step()\n",
    "\n",
    "        if i % 20 == 0 :\n",
    "            print('epoch = ', epoch, ' step = ', i, ' of total steps ', total_step, ' loss = ', loss.item())\n",
    "            \n",
    "    train_loss = (sum(trn) / len(trn))\n",
    "    train_loss_list.append(train_loss)\n",
    "    \n",
    "    Net.eval()\n",
    "    val = []\n",
    "    with torch.no_grad() :\n",
    "        for i, (images, labels) in enumerate(valloader) :\n",
    "            if torch.cuda.is_available():\n",
    "                images = Variable(images).cuda().float()\n",
    "                labels = Variable(labels).cuda()\n",
    "            else : \n",
    "                images = Variable(images).float()\n",
    "                labels = Variable(labels)\n",
    "                \n",
    "            _, target = torch.max(labels, 1)\n",
    "\n",
    "            # Forward pass\n",
    "            outputs = Net(images)\n",
    "            loss = criterion(outputs, target)\n",
    "            val.append(loss)\n",
    "\n",
    "    val_loss = (sum(val) / len(val)).item()\n",
    "    val_loss_list.append(val_loss)\n",
    "    print('epoch : ', epoch, ' / ', num_epochs, ' | TL : ', train_loss, ' | VL : ', val_loss)\n",
    "    \n",
    "    if val_loss < min_val :\n",
    "        print('saving model')\n",
    "        min_val = val_loss\n",
    "        torch.save(Net.state_dict(), '1conv_softmax.pt')"
   ]
  },
  {
   "cell_type": "code",
   "execution_count": 63,
   "metadata": {},
   "outputs": [
    {
     "data": {
      "text/plain": [
       "[<matplotlib.lines.Line2D at 0x7f2bb40c0278>,\n",
       " <matplotlib.lines.Line2D at 0x7f2bb40c03c8>]"
      ]
     },
     "execution_count": 63,
     "metadata": {},
     "output_type": "execute_result"
    },
    {
     "data": {
      "image/png": "[encoded data removed]",
      "text/plain": [
       "<Figure size 432x288 with 1 Axes>"
      ]
     },
     "metadata": {
      "needs_background": "light"
     },
     "output_type": "display_data"
    }
   ],
   "source": [
    "j = np.arange(30)\n",
    "plt.plot(j, train_loss_list, 'r', j, val_loss_list, 'g')"
   ]
  },
  {
   "cell_type": "code",
   "execution_count": 64,
   "metadata": {},
   "outputs": [],
   "source": [
    "def _get_accuracy(dataloader, Net):\n",
    "    total = 0\n",
    "    correct = 0\n",
    "    Net.eval()\n",
    "    for i, (images, labels) in enumerate(dataloader):\n",
    "        images = Variable(images).float()\n",
    "        labels = Variable(labels).float()\n",
    "\n",
    "        outputs = Net(images)\n",
    "    \n",
    "        _, label_ind = torch.max(labels, 1)\n",
    "        _, pred_ind = torch.max(outputs, 1)\n",
    "        \n",
    "        # converting to numpy arrays\n",
    "        label_ind = label_ind.data.numpy()\n",
    "        pred_ind = pred_ind.data.numpy()\n",
    "        \n",
    "        # get difference\n",
    "        diff_ind = label_ind - pred_ind\n",
    "        # correctly classified will be 1 and will get added\n",
    "        # incorrectly classified will be 0\n",
    "        correct += np.count_nonzero(diff_ind == 0)\n",
    "        total += len(diff_ind)\n",
    "\n",
    "    accuracy = correct / total\n",
    "    # print(len(diff_ind))\n",
    "    return accuracy\n",
    "\n",
    "Net = Net.cpu().eval()\n",
    "# _get_accuracy(trainloader)"
   ]
  },
  {
   "cell_type": "code",
   "execution_count": 65,
   "metadata": {},
   "outputs": [
    {
     "name": "stdout",
     "output_type": "stream",
     "text": [
      "0.5070754716981132\n",
      "0.4230769230769231\n",
      "0.4807692307692308\n"
     ]
    }
   ],
   "source": [
    "print(_get_accuracy(trainloader, Net))\n",
    "print(_get_accuracy(valloader, Net))\n",
    "print(_get_accuracy(testloader, Net))"
   ]
  },
  {
   "cell_type": "code",
   "execution_count": 66,
   "metadata": {},
   "outputs": [
    {
     "name": "stdout",
     "output_type": "stream",
     "text": [
      "0.44221698113207547\n",
      "0.375\n",
      "0.5096153846153846\n"
     ]
    }
   ],
   "source": [
    "testing_Net = ConvNet()\n",
    "testing_Net.load_state_dict(torch.load('1conv_softmax.pt'))\n",
    "testing_Net.eval()\n",
    "print(_get_accuracy(trainloader, testing_Net))\n",
    "print(_get_accuracy(valloader, testing_Net))\n",
    "print(_get_accuracy(testloader, testing_Net))"
   ]
  },
  {
   "cell_type": "code",
   "execution_count": null,
   "metadata": {},
   "outputs": [],
   "source": []
  }
 ],
 "metadata": {
  "kernelspec": {
   "display_name": "Python 3",
   "language": "python",
   "name": "python3"
  },
  "language_info": {
   "codemirror_mode": {
    "name": "ipython",
    "version": 3
   },
   "file_extension": ".py",
   "mimetype": "text/x-python",
   "name": "python",
   "nbconvert_exporter": "python",
   "pygments_lexer": "ipython3",
   "version": "3.7.3"
  }
 },
 "nbformat": 4,
 "nbformat_minor": 2
}
