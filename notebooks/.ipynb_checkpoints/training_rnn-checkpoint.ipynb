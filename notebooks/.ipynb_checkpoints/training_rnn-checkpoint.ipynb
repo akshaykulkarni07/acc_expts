{
 "cells": [
  {
   "cell_type": "code",
   "execution_count": 1,
   "metadata": {},
   "outputs": [
    {
     "name": "stdout",
     "output_type": "stream",
     "text": [
      "1.1.0\n"
     ]
    }
   ],
   "source": [
    "%matplotlib inline\n",
    "import pandas as pd\n",
    "import datetime\n",
    "import matplotlib.pyplot as plt\n",
    "import torch\n",
    "from torch.utils.data import Dataset, DataLoader, SubsetRandomSampler\n",
    "from torch.utils.data.dataloader import default_collate\n",
    "import numpy as np\n",
    "import torch.nn as nn\n",
    "import torch.nn.functional as F\n",
    "from torch.autograd import gradcheck\n",
    "from IPython.display import clear_output\n",
    "from torch.autograd import Variable\n",
    "from mpl_toolkits.mplot3d import Axes3D\n",
    "print(torch.__version__)"
   ]
  },
  {
   "cell_type": "markdown",
   "metadata": {},
   "source": [
    "### Dataset Class (loads data from csv)"
   ]
  },
  {
   "cell_type": "code",
   "execution_count": 2,
   "metadata": {},
   "outputs": [
    {
     "name": "stdout",
     "output_type": "stream",
     "text": [
      "(42600, 7)\n",
      "(5300, 7)\n",
      "(5400, 7)\n"
     ]
    }
   ],
   "source": [
    "reqd_len = 100\n",
    "channels = 3\n",
    "classes = 4\n",
    "class IMUDataset(Dataset):\n",
    "    def __init__(self, mode = 'test', transform = None):\n",
    "        if mode == 'train' :\n",
    "            self.df = pd.read_csv('../data/new_train.csv', header = None)\n",
    "        elif mode == 'test' :\n",
    "            self.df = pd.read_csv('../data/new_test.csv', header = None)\n",
    "        elif mode == 'val' :\n",
    "            self.df = pd.read_csv('../data/new_val.csv', header = None)\n",
    "        self.transform = transform\n",
    "        print(self.df.shape)\n",
    "        \n",
    "    def __len__(self):\n",
    "        return len(self.df)\n",
    "    \n",
    "    def __getitem__(self, idx):\n",
    "        y = self.df.iloc[idx : idx + reqd_len, 3 : ].values\n",
    "        ind = np.argmax(np.sum(y, axis = 0))\n",
    "        label = np.zeros_like(self.df.iloc[0, 3 : ].values)\n",
    "        label = label.astype('float')\n",
    "        label[ind] = 1\n",
    "        x = self.df.iloc[idx : idx + reqd_len, : channels].values\n",
    "        x = x.astype('float')\n",
    "        x = x.reshape(reqd_len, channels)\n",
    "        assert(x.shape == (reqd_len, channels))\n",
    "        assert(label.shape == (classes, ))\n",
    "        return x, label\n",
    "        \n",
    "trainset = IMUDataset(mode = 'train')\n",
    "valset = IMUDataset(mode = 'val')\n",
    "testset = IMUDataset(mode = 'test')"
   ]
  },
  {
   "cell_type": "markdown",
   "metadata": {},
   "source": [
    "### Dataloader definitions (provides data in iterable form)"
   ]
  },
  {
   "cell_type": "code",
   "execution_count": 3,
   "metadata": {},
   "outputs": [],
   "source": [
    "train_batch_size = 16\n",
    "batch_size = 16\n",
    "train_indices = [(i * reqd_len) for i in range(len(trainset) // reqd_len)]\n",
    "val_indices = [(i * reqd_len) for i in range(len(valset) // reqd_len)]\n",
    "test_indices = [(i * reqd_len) for i in range(len(testset) // reqd_len)]\n",
    "\n",
    "trainloader = DataLoader(trainset, batch_size = train_batch_size, sampler = SubsetRandomSampler(train_indices), drop_last = True)\n",
    "valloader = DataLoader(valset, batch_size = batch_size, sampler = SubsetRandomSampler(val_indices), drop_last = True)\n",
    "testloader = DataLoader(testset, batch_size = batch_size, sampler = SubsetRandomSampler(test_indices), drop_last = True)\n",
    "\n",
    "# signal, label = next(iter(trainloader))\n",
    "# print(signal.shape)\n",
    "# print(label.shape)"
   ]
  },
  {
   "cell_type": "code",
   "execution_count": 4,
   "metadata": {},
   "outputs": [
    {
     "data": {
      "text/plain": [
       "42.0"
      ]
     },
     "execution_count": 4,
     "metadata": {},
     "output_type": "execute_result"
    }
   ],
   "source": [
    "def output_size(n, f, p = 0, s = 1):\n",
    "    ''' Returns output size for given input size (n), filter size (f), padding (p) and stride (s)\n",
    "    for a convolutional layer\n",
    "    '''\n",
    "    return (((n + 2 * p - f) / s) + 1)\n",
    "\n",
    "output_size(50, 5)\n",
    "output_size(46, 5)"
   ]
  },
  {
   "cell_type": "code",
   "execution_count": 5,
   "metadata": {},
   "outputs": [],
   "source": [
    "# sig, lab = next(iter(trainloader))\n",
    "# sig2 = sig\n",
    "# sig = torch.transpose(sig, 1, 2)\n",
    "# sig = sig.reshape(-1, 150)\n",
    "# sig_ = sig.numpy()\n",
    "# sig2_ = sig2.numpy()\n",
    "# plt.plot(sig_[0])\n",
    "# plt.plot(sig2_[0])"
   ]
  },
  {
   "cell_type": "code",
   "execution_count": 97,
   "metadata": {},
   "outputs": [],
   "source": [
    "class RNN(nn.Module):\n",
    "    def __init__(self, input_size, hidden_size, output_size):\n",
    "        super(RNN, self).__init__()\n",
    "\n",
    "        self.hidden_size = hidden_size\n",
    "\n",
    "        self.i2h = nn.Linear(input_size + hidden_size, hidden_size)\n",
    "        self.i2o = nn.Linear(input_size + hidden_size, output_size)\n",
    "#         self.softmax = nn.LogSoftmax(dim=1)\n",
    "\n",
    "    def forward(self, input, hidden):\n",
    "        combined = torch.cat((input, hidden), 1)\n",
    "        hidden = self.i2h(combined)\n",
    "        output = self.i2o(combined)\n",
    "        return output, hidden\n",
    "\n",
    "    def initHidden(self):\n",
    "        return torch.zeros(1, self.hidden_size).double()\n",
    "\n",
    "n_hidden = 128\n",
    "rnn = RNN(channels, n_hidden, classes)\n",
    "rnn = rnn.double()"
   ]
  },
  {
   "cell_type": "code",
   "execution_count": 98,
   "metadata": {},
   "outputs": [],
   "source": [
    "# import torch.optim as optim\n",
    "# criterion = nn.CrossEntropyLoss()\n",
    "# learning_rate = 1e-3\n",
    "# optimizer = optim.Adam(filter(lambda p: p.requires_grad, rnn.parameters()), lr = learning_rate)\n",
    "# # optimizer = optim.SGD(Net.parameters(), lr = 1e-3)"
   ]
  },
  {
   "cell_type": "code",
   "execution_count": null,
   "metadata": {},
   "outputs": [],
   "source": [
    "total_step = len(trainset) // (train_batch_size * reqd_len)\n",
    "train_loss_list = list()\n",
    "val_loss_list = list()\n",
    "val_loss_min = 100\n",
    "num_epochs = 10\n",
    "for epoch in range(num_epochs) :\n",
    "    rnn.train()\n",
    "    trn = []\n",
    "    for i, (images, labels) in enumerate(trainloader) : \n",
    "        if torch.cuda.is_available() : \n",
    "            images = Variable(images).cuda().double()\n",
    "            labels = Variable(labels).cuda()\n",
    "        else : \n",
    "            images = Variable(images).double()\n",
    "            labels = Variable(labels)\n",
    "\n",
    "        for k, image, label in zip(range(batch_size), images, labels) :\n",
    "            hidden = rnn.initHidden()\n",
    "\n",
    "            rnn.zero_grad()\n",
    "            _, target = torch.max(label, 0)\n",
    "            target = torch.unsqueeze(target, 0)\n",
    "            for img in image:\n",
    "                img_ = img.reshape(-1, channels)\n",
    "                output, hidden = rnn(img_, hidden)\n",
    "\n",
    "            loss = F.cross_entropy(output, target)\n",
    "            loss.backward()\n",
    "            trn.append(loss.item())\n",
    "            # Add parameters' gradients to their values, multiplied by learning rate\n",
    "            for p in rnn.parameters():\n",
    "                p.data.add_(-learning_rate, p.grad.data)\n",
    "                \n",
    "        if i % 10 == 0 :\n",
    "            print('epoch = ', epoch + 1, ' step = ', i, ' of total steps ', total_step, ' loss = ', loss.item())\n",
    "    \n",
    "    train_loss = (sum(trn) / len(trn))\n",
    "    train_loss_list.append(train_loss)\n",
    "    \n",
    "    rnn.eval()\n",
    "    val = []\n",
    "    for i, (images, labels) in enumerate(valloader) : \n",
    "        if torch.cuda.is_available() : \n",
    "            images = Variable(images).cuda().double()\n",
    "            labels = Variable(labels).cuda()\n",
    "        else : \n",
    "            images = Variable(images).double()\n",
    "            labels = Variable(labels)\n",
    "\n",
    "        for k, image, label in zip(range(batch_size), images, labels) :\n",
    "            hidden = rnn.initHidden()\n",
    "            _, target = torch.max(label, 0)\n",
    "            target = torch.unsqueeze(target, 0)\n",
    "            for img in image:\n",
    "                img_ = img.reshape(-1, channels)\n",
    "                output, hidden = rnn(img_, hidden)\n",
    "\n",
    "            loss = F.cross_entropy(output, target)\n",
    "            val.append(loss.item())\n",
    "            \n",
    "    val_loss = (sum(val) / len(val))\n",
    "    val_loss_list.append(val_loss)\n",
    "    \n",
    "    print('Epoch : ', epoch + 1, ' / ', num_epochs, ' | TL : ', train_loss, ' | VL : ', val_loss)\n",
    "    \n",
    "    if val_loss < val_loss_min : \n",
    "        print('saving model')\n",
    "        val_loss_min = val_loss\n",
    "        torch.save(Net.state_dict(), '../saved_models/model2_finetuning.pt')"
   ]
  },
  {
   "cell_type": "code",
   "execution_count": 87,
   "metadata": {},
   "outputs": [
    {
     "data": {
      "text/plain": [
       "[<matplotlib.lines.Line2D at 0x7f84b587ce80>,\n",
       " <matplotlib.lines.Line2D at 0x7f84b587cfd0>]"
      ]
     },
     "execution_count": 87,
     "metadata": {},
     "output_type": "execute_result"
    },
    {
     "data": {
      "image/png": "[encoded data removed]",
      "text/plain": [
       "<Figure size 432x288 with 1 Axes>"
      ]
     },
     "metadata": {
      "needs_background": "light"
     },
     "output_type": "display_data"
    }
   ],
   "source": [
    "j = np.arange(100)\n",
    "plt.plot(j, train_loss_list, 'r', j, val_loss_list, 'g')"
   ]
  },
  {
   "cell_type": "code",
   "execution_count": 88,
   "metadata": {},
   "outputs": [
    {
     "name": "stdout",
     "output_type": "stream",
     "text": [
      "49.03846153846153 / 41.66666666666667 / 47.91666666666667\n",
      "48.79807692307692 / 43.75 / 47.91666666666667\n"
     ]
    }
   ],
   "source": [
    "def _get_accuracy(dataloader, Net):\n",
    "    total = 0\n",
    "    correct = 0\n",
    "    Net.eval()\n",
    "    for i, (images, labels) in enumerate(dataloader) : \n",
    "        if torch.cuda.is_available() : \n",
    "            images = Variable(images).cuda().double()\n",
    "            labels = Variable(labels).cuda()\n",
    "        else : \n",
    "            images = Variable(images).double()\n",
    "            labels = Variable(labels)\n",
    "\n",
    "        for k, image, label in zip(range(batch_size), images, labels) :\n",
    "            hidden = rnn.initHidden()\n",
    "            rnn.zero_grad()\n",
    "            for img in image:\n",
    "                img_ = img.reshape(-1, channels)\n",
    "                output, hidden = rnn(img_, hidden)\n",
    "                \n",
    "            output = F.log_softmax(output, dim = 1)\n",
    "    \n",
    "            _, label_ind = torch.max(label, 0)\n",
    "            _, pred_ind = torch.max(output, 1)\n",
    "            \n",
    "            label_ind = torch.unsqueeze(label_ind, 0)\n",
    "            pred_ind = torch.unsqueeze(pred_ind, 0)\n",
    "            \n",
    "            # converting to numpy arrays\n",
    "            label_ind = label_ind.data.cpu().numpy()\n",
    "            pred_ind = pred_ind.data.cpu().numpy()\n",
    "\n",
    "            # get difference\n",
    "            diff_ind = label_ind - pred_ind\n",
    "            \n",
    "            if diff_ind == 0 : \n",
    "                correct += 1\n",
    "            total += 1\n",
    "            \n",
    "    accuracy = correct / total\n",
    "    # print(len(diff_ind))\n",
    "    return accuracy\n",
    "\n",
    "rnn = rnn.eval()\n",
    "\n",
    "print(_get_accuracy(trainloader, rnn) * 100, '/', _get_accuracy(valloader, rnn) * 100, '/', _get_accuracy(testloader, rnn) * 100)\n",
    "\n",
    "testing_Net = RNN(channels, 128, classes)\n",
    "testing_Net.load_state_dict(torch.load('../saved_models/model2_finetuning.pt'))\n",
    "testing_Net.eval().double()\n",
    "print(_get_accuracy(trainloader, testing_Net) * 100, '/', _get_accuracy(valloader, testing_Net) * 100, '/', _get_accuracy(testloader, testing_Net) * 100)"
   ]
  },
  {
   "cell_type": "code",
   "execution_count": null,
   "metadata": {},
   "outputs": [],
   "source": []
  }
 ],
 "metadata": {
  "kernelspec": {
   "display_name": "Python 3",
   "language": "python",
   "name": "python3"
  },
  "language_info": {
   "codemirror_mode": {
    "name": "ipython",
    "version": 3
   },
   "file_extension": ".py",
   "mimetype": "text/x-python",
   "name": "python",
   "nbconvert_exporter": "python",
   "pygments_lexer": "ipython3",
   "version": "3.7.3"
  }
 },
 "nbformat": 4,
 "nbformat_minor": 2
}
