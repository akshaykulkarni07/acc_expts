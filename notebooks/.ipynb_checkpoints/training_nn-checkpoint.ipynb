{
 "cells": [
  {
   "cell_type": "code",
   "execution_count": 1,
   "metadata": {},
   "outputs": [
    {
     "name": "stdout",
     "output_type": "stream",
     "text": [
      "1.1.0\n"
     ]
    }
   ],
   "source": [
    "%matplotlib inline\n",
    "import pandas as pd\n",
    "import datetime\n",
    "import pandas_datareader.data as web\n",
    "import matplotlib.pyplot as plt\n",
    "import torch\n",
    "from torch.utils.data import Dataset, DataLoader, SubsetRandomSampler\n",
    "from torch.utils.data.dataloader import default_collate\n",
    "import numpy as np\n",
    "import torch.nn as nn\n",
    "import torch.nn.functional as F\n",
    "from IPython.display import clear_output\n",
    "from torch.autograd import Variable\n",
    "from mpl_toolkits.mplot3d import Axes3D\n",
    "print(torch.__version__)"
   ]
  },
  {
   "cell_type": "markdown",
   "metadata": {},
   "source": [
    "### Dataset Class (loads data from csv)"
   ]
  },
  {
   "cell_type": "code",
   "execution_count": 2,
   "metadata": {},
   "outputs": [
    {
     "name": "stdout",
     "output_type": "stream",
     "text": [
      "(120150, 8)\n",
      "(19950, 8)\n",
      "(20100, 8)\n"
     ]
    }
   ],
   "source": [
    "reqd_len = 150\n",
    "channels = 3\n",
    "class IMUDataset(Dataset):\n",
    "    def __init__(self, mode = 'test', transform = None):\n",
    "        if mode == 'train' :\n",
    "            self.df = pd.read_csv('../data/train.csv', header = None)\n",
    "        elif mode == 'test' :\n",
    "            self.df = pd.read_csv('../data/test.csv', header = None)\n",
    "        elif mode == 'val' :\n",
    "            self.df = pd.read_csv('../data/val.csv', header = None)\n",
    "        self.transform = transform\n",
    "        print(self.df.shape)\n",
    "        \n",
    "    def __len__(self):\n",
    "        return len(self.df)\n",
    "    \n",
    "    def __getitem__(self, idx):\n",
    "        y = self.df.iloc[idx : idx + reqd_len, 3 : ].values\n",
    "        ind = np.argmax(np.sum(y, axis = 0))\n",
    "        label = np.zeros_like(self.df.iloc[0, 3 : ].values)\n",
    "        label = label.astype('float')\n",
    "        label[ind] = 1\n",
    "        x = self.df.iloc[idx : idx + reqd_len, : channels].values\n",
    "        x = x.astype('float')\n",
    "        x = x.reshape(reqd_len, channels)\n",
    "        assert(x.shape == (reqd_len, channels))\n",
    "        assert(label.shape == (5, ))\n",
    "        return x, label\n",
    "        \n",
    "trainset = IMUDataset(mode = 'train')\n",
    "valset = IMUDataset(mode = 'val')\n",
    "testset = IMUDataset(mode = 'test')"
   ]
  },
  {
   "cell_type": "markdown",
   "metadata": {},
   "source": [
    "### Dataloader definitions (provides data in iterable form)"
   ]
  },
  {
   "cell_type": "code",
   "execution_count": 3,
   "metadata": {},
   "outputs": [],
   "source": [
    "train_batch_size = 8\n",
    "batch_size = 8\n",
    "train_indices = [(i * reqd_len) for i in range(len(trainset) // reqd_len)]\n",
    "val_indices = [(i * reqd_len) for i in range(len(valset) // reqd_len)]\n",
    "test_indices = [(i * reqd_len) for i in range(len(testset) // reqd_len)]\n",
    "\n",
    "trainloader = DataLoader(trainset, batch_size = train_batch_size, sampler = SubsetRandomSampler(train_indices), drop_last = True)\n",
    "valloader = DataLoader(valset, batch_size = batch_size, sampler = SubsetRandomSampler(val_indices), drop_last = True)\n",
    "testloader = DataLoader(testset, batch_size = batch_size, sampler = SubsetRandomSampler(test_indices), drop_last = True)\n",
    "\n",
    "# signal, label = next(iter(trainloader))\n",
    "# print(signal.shape)\n",
    "# print(label.shape)"
   ]
  },
  {
   "cell_type": "code",
   "execution_count": 4,
   "metadata": {},
   "outputs": [
    {
     "data": {
      "text/plain": [
       "146.0"
      ]
     },
     "execution_count": 4,
     "metadata": {},
     "output_type": "execute_result"
    }
   ],
   "source": [
    "def output_size(n, f, p = 0, s = 1):\n",
    "    ''' Returns output size for given input size (n), filter size (f), padding (p) and stride (s)\n",
    "    for a convolutional layer\n",
    "    '''\n",
    "    return (((n + 2 * p - f) / s) + 1)\n",
    "\n",
    "output_size(150, 3)\n",
    "output_size(148, 3)"
   ]
  },
  {
   "cell_type": "code",
   "execution_count": 107,
   "metadata": {},
   "outputs": [],
   "source": [
    "class ConvNet(nn.Module):\n",
    "    def __init__(self):\n",
    "        super(ConvNet, self).__init__()\n",
    "        # defining layers\n",
    "#         self.conv1 = nn.Conv1d(3, 10, 3)\n",
    "#         self.conv2 = nn.Conv1d(10, 15, 3)\n",
    "#         self.conv3 = nn.Conv1d(15, 20, 3)\n",
    "        self.fc1 = nn.Linear(150 * 3, 256)\n",
    "        self.fc2 = nn.Linear(256, 128)\n",
    "        self.fc3 = nn.Linear(128, 5)\n",
    "        \n",
    "        nn.init.xavier_uniform_(self.fc1.weight, gain = nn.init.calculate_gain('relu'))\n",
    "        nn.init.xavier_uniform_(self.fc2.weight, gain = nn.init.calculate_gain('relu'))\n",
    "        nn.init.xavier_uniform_(self.fc3.weight, gain = nn.init.calculate_gain('sigmoid'))\n",
    "        \n",
    "    def forward(self, signal):\n",
    "        signal = signal.view(-1, 150 * 3)\n",
    "        out = F.relu(self.fc1(signal))\n",
    "        out = F.relu(self.fc2(out))\n",
    "        out = F.log_softmax(self.fc3(out), dim = 1)\n",
    "        return out\n",
    "\n",
    "Net = ConvNet()\n",
    "if torch.cuda.is_available():\n",
    "    print('Model on GPU')\n",
    "    Net = Net.cuda()"
   ]
  },
  {
   "cell_type": "code",
   "execution_count": 108,
   "metadata": {},
   "outputs": [],
   "source": [
    "import torch.optim as optim\n",
    "criterion = nn.CrossEntropyLoss()\n",
    "optimizer = optim.Adam(Net.parameters(), lr = 1e-3, weight_decay = 1e-1)"
   ]
  },
  {
   "cell_type": "code",
   "execution_count": 109,
   "metadata": {},
   "outputs": [
    {
     "name": "stdout",
     "output_type": "stream",
     "text": [
      "epoch =  0  step =  0  of total steps  16012  loss =  1.7440937757492065\n",
      "epoch =  0  step =  20  of total steps  16012  loss =  1.388783574104309\n",
      "epoch =  0  step =  40  of total steps  16012  loss =  1.5119402408599854\n",
      "epoch =  0  step =  60  of total steps  16012  loss =  1.497506856918335\n",
      "epoch =  0  step =  80  of total steps  16012  loss =  1.5476007461547852\n",
      "epoch =  0  step =  100  of total steps  16012  loss =  1.4727420806884766\n",
      "epoch :  0  /  20  | TL :  1.5255412245696445  | VL :  1.530864953994751\n",
      "saving model\n",
      "epoch =  1  step =  0  of total steps  16012  loss =  1.5372083187103271\n",
      "epoch =  1  step =  20  of total steps  16012  loss =  1.3468658924102783\n",
      "epoch =  1  step =  40  of total steps  16012  loss =  1.5341323614120483\n",
      "epoch =  1  step =  60  of total steps  16012  loss =  1.5024219751358032\n",
      "epoch =  1  step =  80  of total steps  16012  loss =  1.438321590423584\n",
      "epoch =  1  step =  100  of total steps  16012  loss =  1.5530476570129395\n",
      "epoch :  1  /  20  | TL :  1.5181443781222936  | VL :  1.5287277698516846\n",
      "saving model\n",
      "epoch =  2  step =  0  of total steps  16012  loss =  1.5391875505447388\n",
      "epoch =  2  step =  20  of total steps  16012  loss =  1.7251267433166504\n",
      "epoch =  2  step =  40  of total steps  16012  loss =  1.7005029916763306\n",
      "epoch =  2  step =  60  of total steps  16012  loss =  1.4984958171844482\n",
      "epoch =  2  step =  80  of total steps  16012  loss =  1.5023224353790283\n",
      "epoch =  2  step =  100  of total steps  16012  loss =  1.4910565614700317\n",
      "epoch :  2  /  20  | TL :  1.5212066555922885  | VL :  1.5258216857910156\n",
      "saving model\n",
      "epoch =  3  step =  0  of total steps  16012  loss =  1.6244381666183472\n",
      "epoch =  3  step =  20  of total steps  16012  loss =  1.5555992126464844\n",
      "epoch =  3  step =  40  of total steps  16012  loss =  1.5704885721206665\n",
      "epoch =  3  step =  60  of total steps  16012  loss =  1.523380160331726\n",
      "epoch =  3  step =  80  of total steps  16012  loss =  1.5473191738128662\n",
      "epoch =  3  step =  100  of total steps  16012  loss =  1.69693922996521\n",
      "epoch :  3  /  20  | TL :  1.5210854591063734  | VL :  1.5263947248458862\n",
      "epoch =  4  step =  0  of total steps  16012  loss =  1.534305214881897\n",
      "epoch =  4  step =  20  of total steps  16012  loss =  1.6898329257965088\n",
      "epoch =  4  step =  40  of total steps  16012  loss =  1.4851292371749878\n",
      "epoch =  4  step =  60  of total steps  16012  loss =  1.731306552886963\n",
      "epoch =  4  step =  80  of total steps  16012  loss =  1.691063404083252\n",
      "epoch =  4  step =  100  of total steps  16012  loss =  1.5818755626678467\n",
      "epoch :  4  /  20  | TL :  1.51760060157416  | VL :  1.5216028690338135\n",
      "saving model\n",
      "epoch =  5  step =  0  of total steps  16012  loss =  1.5732020139694214\n",
      "epoch =  5  step =  20  of total steps  16012  loss =  1.6779614686965942\n",
      "epoch =  5  step =  40  of total steps  16012  loss =  1.4866544008255005\n",
      "epoch =  5  step =  60  of total steps  16012  loss =  1.5143897533416748\n",
      "epoch =  5  step =  80  of total steps  16012  loss =  1.5425885915756226\n",
      "epoch =  5  step =  100  of total steps  16012  loss =  1.5888752937316895\n",
      "epoch :  5  /  20  | TL :  1.5195990542195879  | VL :  1.5299471616744995\n",
      "epoch =  6  step =  0  of total steps  16012  loss =  1.5420551300048828\n",
      "epoch =  6  step =  20  of total steps  16012  loss =  1.5498316287994385\n",
      "epoch =  6  step =  40  of total steps  16012  loss =  1.7193310260772705\n",
      "epoch =  6  step =  60  of total steps  16012  loss =  1.543047547340393\n",
      "epoch =  6  step =  80  of total steps  16012  loss =  1.7138347625732422\n",
      "epoch =  6  step =  100  of total steps  16012  loss =  1.5340299606323242\n",
      "epoch :  6  /  20  | TL :  1.519323172434321  | VL :  1.5215784311294556\n",
      "saving model\n",
      "epoch =  7  step =  0  of total steps  16012  loss =  1.4915496110916138\n",
      "epoch =  7  step =  20  of total steps  16012  loss =  1.625349760055542\n",
      "epoch =  7  step =  40  of total steps  16012  loss =  1.586081862449646\n",
      "epoch =  7  step =  60  of total steps  16012  loss =  1.4938935041427612\n",
      "epoch =  7  step =  80  of total steps  16012  loss =  1.4478670358657837\n",
      "epoch =  7  step =  100  of total steps  16012  loss =  1.4418576955795288\n",
      "epoch :  7  /  20  | TL :  1.5188376532410675  | VL :  1.5357741117477417\n",
      "epoch =  8  step =  0  of total steps  16012  loss =  1.5936434268951416\n",
      "epoch =  8  step =  20  of total steps  16012  loss =  1.6606502532958984\n",
      "epoch =  8  step =  40  of total steps  16012  loss =  1.531963586807251\n",
      "epoch =  8  step =  60  of total steps  16012  loss =  1.4729291200637817\n",
      "epoch =  8  step =  80  of total steps  16012  loss =  1.4505804777145386\n",
      "epoch =  8  step =  100  of total steps  16012  loss =  1.6658772230148315\n",
      "epoch :  8  /  20  | TL :  1.514834518702525  | VL :  1.5237700939178467\n",
      "epoch =  9  step =  0  of total steps  16012  loss =  1.5490151643753052\n",
      "epoch =  9  step =  20  of total steps  16012  loss =  1.479180097579956\n",
      "epoch =  9  step =  40  of total steps  16012  loss =  1.4791345596313477\n",
      "epoch =  9  step =  60  of total steps  16012  loss =  1.644676923751831\n",
      "epoch =  9  step =  80  of total steps  16012  loss =  1.4074214696884155\n",
      "epoch =  9  step =  100  of total steps  16012  loss =  1.437449336051941\n",
      "epoch :  9  /  20  | TL :  1.5186912766042746  | VL :  1.5320557355880737\n",
      "epoch =  10  step =  0  of total steps  16012  loss =  1.3844116926193237\n",
      "epoch =  10  step =  20  of total steps  16012  loss =  1.5359160900115967\n",
      "epoch =  10  step =  40  of total steps  16012  loss =  1.586460828781128\n",
      "epoch =  10  step =  60  of total steps  16012  loss =  1.2213973999023438\n",
      "epoch =  10  step =  80  of total steps  16012  loss =  1.6192889213562012\n",
      "epoch =  10  step =  100  of total steps  16012  loss =  1.3940129280090332\n",
      "epoch :  10  /  20  | TL :  1.516105110915202  | VL :  1.5306638479232788\n",
      "epoch =  11  step =  0  of total steps  16012  loss =  1.5375887155532837\n",
      "epoch =  11  step =  20  of total steps  16012  loss =  1.5586352348327637\n",
      "epoch =  11  step =  40  of total steps  16012  loss =  1.6988722085952759\n",
      "epoch =  11  step =  60  of total steps  16012  loss =  1.702487826347351\n",
      "epoch =  11  step =  80  of total steps  16012  loss =  1.4157747030258179\n",
      "epoch =  11  step =  100  of total steps  16012  loss =  1.6013975143432617\n",
      "epoch :  11  /  20  | TL :  1.5171923682374775  | VL :  1.5299941301345825\n",
      "epoch =  12  step =  0  of total steps  16012  loss =  1.5210239887237549\n",
      "epoch =  12  step =  20  of total steps  16012  loss =  1.5809919834136963\n",
      "epoch =  12  step =  40  of total steps  16012  loss =  1.428402066230774\n",
      "epoch =  12  step =  60  of total steps  16012  loss =  1.6351075172424316\n",
      "epoch =  12  step =  80  of total steps  16012  loss =  1.500681757926941\n",
      "epoch =  12  step =  100  of total steps  16012  loss =  1.5814889669418335\n",
      "epoch :  12  /  20  | TL :  1.5137723313187652  | VL :  1.5346118211746216\n",
      "epoch =  13  step =  0  of total steps  16012  loss =  1.4016084671020508\n",
      "epoch =  13  step =  20  of total steps  16012  loss =  1.6210969686508179\n",
      "epoch =  13  step =  40  of total steps  16012  loss =  1.547609806060791\n",
      "epoch =  13  step =  60  of total steps  16012  loss =  1.4766772985458374\n",
      "epoch =  13  step =  80  of total steps  16012  loss =  1.4072818756103516\n",
      "epoch =  13  step =  100  of total steps  16012  loss =  1.673340916633606\n",
      "epoch :  13  /  20  | TL :  1.515599106842617  | VL :  1.5254123210906982\n",
      "epoch =  14  step =  0  of total steps  16012  loss =  1.7580677270889282\n",
      "epoch =  14  step =  20  of total steps  16012  loss =  1.4660872220993042\n",
      "epoch =  14  step =  40  of total steps  16012  loss =  1.5099105834960938\n",
      "epoch =  14  step =  60  of total steps  16012  loss =  1.437002420425415\n",
      "epoch =  14  step =  80  of total steps  16012  loss =  1.6619882583618164\n",
      "epoch =  14  step =  100  of total steps  16012  loss =  1.4866433143615723\n",
      "epoch :  14  /  20  | TL :  1.5168204543725499  | VL :  1.5268827676773071\n",
      "epoch =  15  step =  0  of total steps  16012  loss =  1.5665419101715088\n",
      "epoch =  15  step =  20  of total steps  16012  loss =  1.666519045829773\n",
      "epoch =  15  step =  40  of total steps  16012  loss =  1.5470638275146484\n",
      "epoch =  15  step =  60  of total steps  16012  loss =  1.5932776927947998\n",
      "epoch =  15  step =  80  of total steps  16012  loss =  1.374967336654663\n"
     ]
    },
    {
     "name": "stdout",
     "output_type": "stream",
     "text": [
      "epoch =  15  step =  100  of total steps  16012  loss =  1.662811040878296\n",
      "epoch :  15  /  20  | TL :  1.5143744473187428  | VL :  1.525626540184021\n",
      "epoch =  16  step =  0  of total steps  16012  loss =  1.6300100088119507\n",
      "epoch =  16  step =  20  of total steps  16012  loss =  1.3399255275726318\n",
      "epoch =  16  step =  40  of total steps  16012  loss =  1.5294454097747803\n",
      "epoch =  16  step =  60  of total steps  16012  loss =  1.5600128173828125\n",
      "epoch =  16  step =  80  of total steps  16012  loss =  1.3406175374984741\n",
      "epoch =  16  step =  100  of total steps  16012  loss =  1.3808459043502808\n",
      "epoch :  16  /  20  | TL :  1.513566330918726  | VL :  1.5290355682373047\n",
      "epoch =  17  step =  0  of total steps  16012  loss =  1.394396185874939\n",
      "epoch =  17  step =  20  of total steps  16012  loss =  1.5891327857971191\n",
      "epoch =  17  step =  40  of total steps  16012  loss =  1.5195121765136719\n",
      "epoch =  17  step =  60  of total steps  16012  loss =  1.4190921783447266\n",
      "epoch =  17  step =  80  of total steps  16012  loss =  1.461896538734436\n",
      "epoch =  17  step =  100  of total steps  16012  loss =  1.4637500047683716\n",
      "epoch :  17  /  20  | TL :  1.5141626731404718  | VL :  1.529190182685852\n",
      "epoch =  18  step =  0  of total steps  16012  loss =  1.470103144645691\n",
      "epoch =  18  step =  20  of total steps  16012  loss =  1.5525983572006226\n",
      "epoch =  18  step =  40  of total steps  16012  loss =  1.6444660425186157\n",
      "epoch =  18  step =  60  of total steps  16012  loss =  1.4806150197982788\n",
      "epoch =  18  step =  80  of total steps  16012  loss =  1.5269711017608643\n",
      "epoch =  18  step =  100  of total steps  16012  loss =  1.3002183437347412\n",
      "epoch :  18  /  20  | TL :  1.5145023161510252  | VL :  1.5283838510513306\n",
      "epoch =  19  step =  0  of total steps  16012  loss =  1.5550333261489868\n",
      "epoch =  19  step =  20  of total steps  16012  loss =  1.5364662408828735\n",
      "epoch =  19  step =  40  of total steps  16012  loss =  1.3173097372055054\n",
      "epoch =  19  step =  60  of total steps  16012  loss =  1.4511396884918213\n",
      "epoch =  19  step =  80  of total steps  16012  loss =  1.467952847480774\n",
      "epoch =  19  step =  100  of total steps  16012  loss =  1.5547943115234375\n",
      "epoch :  19  /  20  | TL :  1.5112828252450474  | VL :  1.513685941696167\n",
      "saving model\n"
     ]
    }
   ],
   "source": [
    "num_epochs = 20\n",
    "total_step = len(trainset) // (train_batch_size * 150)\n",
    "train_loss_list = list()\n",
    "val_loss_list = list()\n",
    "min_val = 100\n",
    "for epoch in range(num_epochs):\n",
    "    trn = []\n",
    "    Net.train()\n",
    "    for i, (images, labels) in enumerate(trainloader) :\n",
    "        if torch.cuda.is_available():\n",
    "            images = Variable(images).cuda().float()\n",
    "            labels = Variable(labels).cuda()\n",
    "        else : \n",
    "            images = Variable(images).float()\n",
    "            labels = Variable(labels)\n",
    "        \n",
    "        _, target = torch.max(labels, 1)\n",
    "\n",
    "        y_pred = Net(images)\n",
    "        \n",
    "        loss = criterion(y_pred, target)\n",
    "        trn.append(loss.item())\n",
    "\n",
    "        optimizer.zero_grad()\n",
    "        loss.backward()\n",
    "#         torch.nn.utils.clip_grad_value_(Net.parameters(), 10)\n",
    "        optimizer.step()\n",
    "\n",
    "        if i % 20 == 0 :\n",
    "            print('epoch = ', epoch, ' step = ', i, ' of total steps ', total_step, ' loss = ', loss.item())\n",
    "            \n",
    "    train_loss = (sum(trn) / len(trn))\n",
    "    train_loss_list.append(train_loss)\n",
    "    \n",
    "    Net.eval()\n",
    "    val = []\n",
    "    with torch.no_grad() :\n",
    "        for i, (images, labels) in enumerate(valloader) :\n",
    "            if torch.cuda.is_available():\n",
    "                images = Variable(images).cuda().float()\n",
    "                labels = Variable(labels).cuda()\n",
    "            else : \n",
    "                images = Variable(images).float()\n",
    "                labels = Variable(labels)\n",
    "                \n",
    "            _, target = torch.max(labels, 1)\n",
    "\n",
    "            # Forward pass\n",
    "            outputs = Net(images)\n",
    "            loss = criterion(outputs, target)\n",
    "            val.append(loss)\n",
    "\n",
    "    val_loss = (sum(val) / len(val)).item()\n",
    "    val_loss_list.append(val_loss)\n",
    "    print('epoch : ', epoch, ' / ', num_epochs, ' | TL : ', train_loss, ' | VL : ', val_loss)\n",
    "    \n",
    "    if val_loss < min_val :\n",
    "        print('saving model')\n",
    "        min_val = val_loss\n",
    "        torch.save(Net.state_dict(), '2conv_softmax.pt')"
   ]
  },
  {
   "cell_type": "code",
   "execution_count": 110,
   "metadata": {},
   "outputs": [
    {
     "data": {
      "text/plain": [
       "[<matplotlib.lines.Line2D at 0x7f6ac6edf978>,\n",
       " <matplotlib.lines.Line2D at 0x7f6ac6edfac8>]"
      ]
     },
     "execution_count": 110,
     "metadata": {},
     "output_type": "execute_result"
    },
    {
     "data": {
      "image/png": "[encoded data removed]",
      "text/plain": [
       "<Figure size 432x288 with 1 Axes>"
      ]
     },
     "metadata": {
      "needs_background": "light"
     },
     "output_type": "display_data"
    }
   ],
   "source": [
    "j = np.arange(20)\n",
    "plt.plot(j, train_loss_list, 'r', j, val_loss_list, 'g')"
   ]
  },
  {
   "cell_type": "code",
   "execution_count": 111,
   "metadata": {},
   "outputs": [
    {
     "data": {
      "text/plain": [
       "ConvNet(\n",
       "  (fc1): Linear(in_features=450, out_features=256, bias=True)\n",
       "  (fc2): Linear(in_features=256, out_features=128, bias=True)\n",
       "  (fc3): Linear(in_features=128, out_features=5, bias=True)\n",
       ")"
      ]
     },
     "execution_count": 111,
     "metadata": {},
     "output_type": "execute_result"
    }
   ],
   "source": [
    "def _get_accuracy(dataloader):\n",
    "    total = 0\n",
    "    correct = 0\n",
    "    Net.eval()\n",
    "    for i, (images, labels) in enumerate(dataloader):\n",
    "        images = Variable(images).float()\n",
    "        labels = Variable(labels).float()\n",
    "\n",
    "        outputs = Net(images)\n",
    "    \n",
    "        _, label_ind = torch.max(labels, 1)\n",
    "        _, pred_ind = torch.max(outputs, 1)\n",
    "        \n",
    "        # converting to numpy arrays\n",
    "        label_ind = label_ind.data.numpy()\n",
    "        pred_ind = pred_ind.data.numpy()\n",
    "        \n",
    "        # get difference\n",
    "        diff_ind = label_ind - pred_ind\n",
    "        # correctly classified will be 1 and will get added\n",
    "        # incorrectly classified will be 0\n",
    "        correct += np.count_nonzero(diff_ind == 0)\n",
    "        total += len(diff_ind)\n",
    "\n",
    "    accuracy = correct / total\n",
    "    # print(len(diff_ind))\n",
    "    return accuracy\n",
    "\n",
    "Net.cpu()\n",
    "# _get_accuracy(trainloader)"
   ]
  },
  {
   "cell_type": "code",
   "execution_count": 112,
   "metadata": {},
   "outputs": [
    {
     "name": "stdout",
     "output_type": "stream",
     "text": [
      "0.38207547169811323\n",
      "0.41346153846153844\n",
      "0.3557692307692308\n"
     ]
    }
   ],
   "source": [
    "print(_get_accuracy(trainloader))\n",
    "print(_get_accuracy(testloader))\n",
    "print(_get_accuracy(valloader))"
   ]
  },
  {
   "cell_type": "markdown",
   "metadata": {},
   "source": [
    "#### Directly training NNs on raw data doesn't work well (network overfits most of the time). So, we can try to use some pre-processing to the data before training (like running mean, running std deviation, running rms, etc.)\n",
    "\n",
    "### PyTorch implementation of `running_mean`"
   ]
  },
  {
   "cell_type": "code",
   "execution_count": 5,
   "metadata": {},
   "outputs": [],
   "source": [
    "def running_mean(signal, window_size = 10):\n",
    "    ''' Returns running mean of 3D signal (batch_size, length, channels)\n",
    "    '''\n",
    "    mean = torch.zeros_like(signal)\n",
    "    for i in range(signal.shape[0]) :\n",
    "        for j in range(signal.shape[1] - window_size) : \n",
    "            mean[i][j] = signal[i][j : j + window_size].mean(dim = 0)\n",
    "            \n",
    "    for i in range(signal.shape[0]) :\n",
    "        for j in range(signal.shape[1] - window_size, signal.shape[1]) :\n",
    "            mean[i][j] = signal[i][j]\n",
    "            \n",
    "    return mean"
   ]
  },
  {
   "cell_type": "markdown",
   "metadata": {},
   "source": [
    "### Shows working of `running_mean` function"
   ]
  },
  {
   "cell_type": "code",
   "execution_count": 8,
   "metadata": {},
   "outputs": [
    {
     "name": "stdout",
     "output_type": "stream",
     "text": [
      "torch.Size([8, 150, 3])\n"
     ]
    },
    {
     "data": {
      "text/plain": [
       "[<matplotlib.lines.Line2D at 0x7f2bb62ed7f0>,\n",
       " <matplotlib.lines.Line2D at 0x7f2bb62ed940>]"
      ]
     },
     "execution_count": 8,
     "metadata": {},
     "output_type": "execute_result"
    },
    {
     "data": {
      "image/png": "[encoded data removed]",
      "text/plain": [
       "<Figure size 432x288 with 1 Axes>"
      ]
     },
     "metadata": {
      "needs_background": "light"
     },
     "output_type": "display_data"
    }
   ],
   "source": [
    "signal, label = next(iter(trainloader))\n",
    "# print(signal.shape)\n",
    "# print(signal[2].shape)\n",
    "# print(signal[2].mean(dim = 0).shape)\n",
    "# print(signal[2][ : 10].mean(dim = 0).shape)\n",
    "# print(signal[1][2].shape)\n",
    "mean = running_mean(signal, window_size = 5)\n",
    "print(mean.shape)\n",
    "sig_ = signal[0].transpose(0, 1)\n",
    "mean_ = mean[0].transpose(0, 1)\n",
    "t = range(150)\n",
    "plt.plot(t, sig_[1].data.numpy(), 'r', t, mean_[1].data.numpy(), 'b')"
   ]
  },
  {
   "cell_type": "markdown",
   "metadata": {},
   "source": [
    "### Training network using `running_mean` processed data"
   ]
  },
  {
   "cell_type": "code",
   "execution_count": 9,
   "metadata": {},
   "outputs": [],
   "source": [
    "class ConvNet(nn.Module):\n",
    "    def __init__(self):\n",
    "        super(ConvNet, self).__init__()\n",
    "        # defining layers\n",
    "        self.conv1 = nn.Conv1d(3, 5, 3)\n",
    "        self.fc1 = nn.Linear(148 * 5, 5)\n",
    "        \n",
    "        nn.init.xavier_uniform_(self.conv1.weight, gain = nn.init.calculate_gain('relu'))\n",
    "        nn.init.xavier_uniform_(self.fc1.weight, gain = nn.init.calculate_gain('sigmoid'))\n",
    "        \n",
    "    def forward(self, signal):\n",
    "        signal_ = running_mean(signal, window_size = 5)\n",
    "        signal_ = signal_.view(-1, 3, 150)\n",
    "        out = F.relu(self.conv1(signal_))\n",
    "        out = out.view(-1, 148 * 5)\n",
    "        out = F.log_softmax(self.fc1(out), dim = 1)\n",
    "        return out\n",
    "\n",
    "Net = ConvNet()\n",
    "if torch.cuda.is_available():\n",
    "    print('Model on GPU')\n",
    "    Net = Net.cuda()"
   ]
  },
  {
   "cell_type": "code",
   "execution_count": 10,
   "metadata": {},
   "outputs": [],
   "source": [
    "import torch.optim as optim\n",
    "criterion = nn.CrossEntropyLoss()\n",
    "optimizer = optim.Adam(Net.parameters(), lr = 1e-3, weight_decay = 1e-3)"
   ]
  },
  {
   "cell_type": "code",
   "execution_count": 11,
   "metadata": {},
   "outputs": [
    {
     "name": "stdout",
     "output_type": "stream",
     "text": [
      "epoch =  0  step =  0  of total steps  106  loss =  1.5382548570632935\n",
      "epoch =  0  step =  20  of total steps  106  loss =  2.0540518760681152\n",
      "epoch =  0  step =  40  of total steps  106  loss =  1.498380422592163\n",
      "epoch =  0  step =  60  of total steps  106  loss =  1.5275654792785645\n",
      "epoch =  0  step =  80  of total steps  106  loss =  1.9702608585357666\n",
      "epoch =  0  step =  100  of total steps  106  loss =  1.3912906646728516\n",
      "epoch :  0  /  20  | TL :  1.5100063715340957  | VL :  1.523334264755249\n",
      "saving model\n",
      "epoch =  1  step =  0  of total steps  106  loss =  1.4645376205444336\n",
      "epoch =  1  step =  20  of total steps  106  loss =  1.71355402469635\n",
      "epoch =  1  step =  40  of total steps  106  loss =  1.6008198261260986\n",
      "epoch =  1  step =  60  of total steps  106  loss =  1.5929672718048096\n",
      "epoch =  1  step =  80  of total steps  106  loss =  1.2262083292007446\n",
      "epoch =  1  step =  100  of total steps  106  loss =  1.345224380493164\n",
      "epoch :  1  /  20  | TL :  1.4471513145374801  | VL :  1.5233323574066162\n",
      "saving model\n",
      "epoch =  2  step =  0  of total steps  106  loss =  1.2329537868499756\n",
      "epoch =  2  step =  20  of total steps  106  loss =  1.5427677631378174\n",
      "epoch =  2  step =  40  of total steps  106  loss =  1.309971570968628\n",
      "epoch =  2  step =  60  of total steps  106  loss =  1.1091303825378418\n",
      "epoch =  2  step =  80  of total steps  106  loss =  1.4347128868103027\n",
      "epoch =  2  step =  100  of total steps  106  loss =  1.2824145555496216\n",
      "epoch :  2  /  20  | TL :  1.3997872904786524  | VL :  1.4941520690917969\n",
      "saving model\n",
      "epoch =  3  step =  0  of total steps  106  loss =  1.215334177017212\n",
      "epoch =  3  step =  20  of total steps  106  loss =  1.4007498025894165\n",
      "epoch =  3  step =  40  of total steps  106  loss =  1.1808557510375977\n",
      "epoch =  3  step =  60  of total steps  106  loss =  1.4348599910736084\n",
      "epoch =  3  step =  80  of total steps  106  loss =  0.9146389961242676\n",
      "epoch =  3  step =  100  of total steps  106  loss =  1.1072851419448853\n",
      "epoch :  3  /  20  | TL :  1.3645890124563902  | VL :  1.5043957233428955\n",
      "epoch =  4  step =  0  of total steps  106  loss =  1.3918367624282837\n",
      "epoch =  4  step =  20  of total steps  106  loss =  1.2513656616210938\n",
      "epoch =  4  step =  40  of total steps  106  loss =  1.3268520832061768\n",
      "epoch =  4  step =  60  of total steps  106  loss =  1.3507840633392334\n",
      "epoch =  4  step =  80  of total steps  106  loss =  1.0180280208587646\n",
      "epoch =  4  step =  100  of total steps  106  loss =  1.471154808998108\n",
      "epoch :  4  /  20  | TL :  1.3351238977234319  | VL :  1.5054574012756348\n",
      "epoch =  5  step =  0  of total steps  106  loss =  1.5063996315002441\n",
      "epoch =  5  step =  20  of total steps  106  loss =  1.4793708324432373\n",
      "epoch =  5  step =  40  of total steps  106  loss =  1.102637767791748\n",
      "epoch =  5  step =  60  of total steps  106  loss =  1.332414984703064\n",
      "epoch =  5  step =  80  of total steps  106  loss =  1.406476378440857\n",
      "epoch =  5  step =  100  of total steps  106  loss =  1.571319580078125\n",
      "epoch :  5  /  20  | TL :  1.3172203521683532  | VL :  1.5095329284667969\n",
      "epoch =  6  step =  0  of total steps  106  loss =  1.332930326461792\n",
      "epoch =  6  step =  20  of total steps  106  loss =  0.817150354385376\n",
      "epoch =  6  step =  40  of total steps  106  loss =  1.310502290725708\n",
      "epoch =  6  step =  60  of total steps  106  loss =  1.1230974197387695\n",
      "epoch =  6  step =  80  of total steps  106  loss =  1.1358942985534668\n",
      "epoch =  6  step =  100  of total steps  106  loss =  1.3676239252090454\n",
      "epoch :  6  /  20  | TL :  1.2952421543733128  | VL :  1.4997284412384033\n",
      "epoch =  7  step =  0  of total steps  106  loss =  1.0675426721572876\n",
      "epoch =  7  step =  20  of total steps  106  loss =  1.2712823152542114\n",
      "epoch =  7  step =  40  of total steps  106  loss =  1.7227050065994263\n",
      "epoch =  7  step =  60  of total steps  106  loss =  1.0448471307754517\n",
      "epoch =  7  step =  80  of total steps  106  loss =  1.1519811153411865\n",
      "epoch =  7  step =  100  of total steps  106  loss =  1.1787474155426025\n",
      "epoch :  7  /  20  | TL :  1.273292603357783  | VL :  1.5667688846588135\n",
      "epoch =  8  step =  0  of total steps  106  loss =  1.2947014570236206\n",
      "epoch =  8  step =  20  of total steps  106  loss =  1.331595540046692\n",
      "epoch =  8  step =  40  of total steps  106  loss =  1.7344235181808472\n",
      "epoch =  8  step =  60  of total steps  106  loss =  1.3282109498977661\n",
      "epoch =  8  step =  80  of total steps  106  loss =  1.2067127227783203\n",
      "epoch =  8  step =  100  of total steps  106  loss =  1.3777050971984863\n",
      "epoch :  8  /  20  | TL :  1.269154667292001  | VL :  1.500510573387146\n",
      "epoch =  9  step =  0  of total steps  106  loss =  1.0341464281082153\n",
      "epoch =  9  step =  20  of total steps  106  loss =  1.2561731338500977\n",
      "epoch =  9  step =  40  of total steps  106  loss =  1.4082974195480347\n",
      "epoch =  9  step =  60  of total steps  106  loss =  1.775622844696045\n",
      "epoch =  9  step =  80  of total steps  106  loss =  1.4095345735549927\n",
      "epoch =  9  step =  100  of total steps  106  loss =  1.4117883443832397\n",
      "epoch :  9  /  20  | TL :  1.2502197820060659  | VL :  1.521846055984497\n",
      "epoch =  10  step =  0  of total steps  106  loss =  1.3411352634429932\n",
      "epoch =  10  step =  20  of total steps  106  loss =  1.3837403059005737\n",
      "epoch =  10  step =  40  of total steps  106  loss =  1.4673622846603394\n",
      "epoch =  10  step =  60  of total steps  106  loss =  1.316107988357544\n",
      "epoch =  10  step =  80  of total steps  106  loss =  1.3640894889831543\n",
      "epoch =  10  step =  100  of total steps  106  loss =  1.402716040611267\n",
      "epoch :  10  /  20  | TL :  1.235899564230217  | VL :  1.5154902935028076\n",
      "epoch =  11  step =  0  of total steps  106  loss =  1.0129417181015015\n",
      "epoch =  11  step =  20  of total steps  106  loss =  1.25785231590271\n",
      "epoch =  11  step =  40  of total steps  106  loss =  0.9417282938957214\n",
      "epoch =  11  step =  60  of total steps  106  loss =  1.315420389175415\n",
      "epoch =  11  step =  80  of total steps  106  loss =  1.248000144958496\n",
      "epoch =  11  step =  100  of total steps  106  loss =  1.468817114830017\n",
      "epoch :  11  /  20  | TL :  1.219864546128039  | VL :  1.5269287824630737\n",
      "epoch =  12  step =  0  of total steps  106  loss =  1.072914481163025\n",
      "epoch =  12  step =  20  of total steps  106  loss =  1.6469968557357788\n",
      "epoch =  12  step =  40  of total steps  106  loss =  1.0702228546142578\n",
      "epoch =  12  step =  60  of total steps  106  loss =  1.042405366897583\n",
      "epoch =  12  step =  80  of total steps  106  loss =  0.9300298690795898\n",
      "epoch =  12  step =  100  of total steps  106  loss =  1.050620436668396\n",
      "epoch :  12  /  20  | TL :  1.2084756386729907  | VL :  1.4961720705032349\n",
      "epoch =  13  step =  0  of total steps  106  loss =  1.303767204284668\n",
      "epoch =  13  step =  20  of total steps  106  loss =  0.9433697462081909\n",
      "epoch =  13  step =  40  of total steps  106  loss =  1.1909596920013428\n",
      "epoch =  13  step =  60  of total steps  106  loss =  1.5063748359680176\n",
      "epoch =  13  step =  80  of total steps  106  loss =  1.2780739068984985\n",
      "epoch =  13  step =  100  of total steps  106  loss =  1.1332906484603882\n",
      "epoch :  13  /  20  | TL :  1.2014180815444802  | VL :  1.4984209537506104\n",
      "epoch =  14  step =  0  of total steps  106  loss =  1.1174927949905396\n",
      "epoch =  14  step =  20  of total steps  106  loss =  0.9627321362495422\n",
      "epoch =  14  step =  40  of total steps  106  loss =  1.3179023265838623\n",
      "epoch =  14  step =  60  of total steps  106  loss =  1.2450432777404785\n",
      "epoch =  14  step =  80  of total steps  106  loss =  1.3552604913711548\n",
      "epoch =  14  step =  100  of total steps  106  loss =  1.171013355255127\n",
      "epoch :  14  /  20  | TL :  1.1881286906746198  | VL :  1.524522304534912\n",
      "epoch =  15  step =  0  of total steps  106  loss =  0.9147519469261169\n",
      "epoch =  15  step =  20  of total steps  106  loss =  0.9139739274978638\n",
      "epoch =  15  step =  40  of total steps  106  loss =  1.1085238456726074\n",
      "epoch =  15  step =  60  of total steps  106  loss =  1.386927843093872\n",
      "epoch =  15  step =  80  of total steps  106  loss =  1.2659802436828613\n",
      "epoch =  15  step =  100  of total steps  106  loss =  1.0846874713897705\n",
      "epoch :  15  /  20  | TL :  1.177204598795693  | VL :  1.5302832126617432\n",
      "epoch =  16  step =  0  of total steps  106  loss =  0.8912366628646851\n"
     ]
    },
    {
     "name": "stdout",
     "output_type": "stream",
     "text": [
      "epoch =  16  step =  20  of total steps  106  loss =  1.073879361152649\n",
      "epoch =  16  step =  40  of total steps  106  loss =  1.0021015405654907\n",
      "epoch =  16  step =  60  of total steps  106  loss =  1.016965389251709\n",
      "epoch =  16  step =  80  of total steps  106  loss =  1.375260829925537\n",
      "epoch =  16  step =  100  of total steps  106  loss =  1.3518165349960327\n",
      "epoch :  16  /  20  | TL :  1.1653421852948531  | VL :  1.5525832176208496\n",
      "epoch =  17  step =  0  of total steps  106  loss =  1.200771450996399\n",
      "epoch =  17  step =  20  of total steps  106  loss =  1.238407015800476\n",
      "epoch =  17  step =  40  of total steps  106  loss =  1.2281763553619385\n",
      "epoch =  17  step =  60  of total steps  106  loss =  0.7023838758468628\n",
      "epoch =  17  step =  80  of total steps  106  loss =  1.1319007873535156\n",
      "epoch =  17  step =  100  of total steps  106  loss =  1.0166105031967163\n",
      "epoch :  17  /  20  | TL :  1.1602540685320801  | VL :  1.5532773733139038\n",
      "epoch =  18  step =  0  of total steps  106  loss =  1.5999433994293213\n",
      "epoch =  18  step =  20  of total steps  106  loss =  1.074840784072876\n",
      "epoch =  18  step =  40  of total steps  106  loss =  0.8017275333404541\n",
      "epoch =  18  step =  60  of total steps  106  loss =  1.3507561683654785\n",
      "epoch =  18  step =  80  of total steps  106  loss =  1.2545119524002075\n",
      "epoch =  18  step =  100  of total steps  106  loss =  0.9698358178138733\n",
      "epoch :  18  /  20  | TL :  1.1591409208639614  | VL :  1.5474454164505005\n",
      "epoch =  19  step =  0  of total steps  106  loss =  1.2971397638320923\n",
      "epoch =  19  step =  20  of total steps  106  loss =  0.6850504279136658\n",
      "epoch =  19  step =  40  of total steps  106  loss =  0.9271788001060486\n",
      "epoch =  19  step =  60  of total steps  106  loss =  1.5501484870910645\n",
      "epoch =  19  step =  80  of total steps  106  loss =  1.1575143337249756\n",
      "epoch =  19  step =  100  of total steps  106  loss =  1.3864907026290894\n",
      "epoch :  19  /  20  | TL :  1.141646274418201  | VL :  1.5801435708999634\n"
     ]
    }
   ],
   "source": [
    "num_epochs = 20\n",
    "total_step = len(trainset) // (train_batch_size * 150)\n",
    "train_loss_list = list()\n",
    "val_loss_list = list()\n",
    "min_val = 100\n",
    "for epoch in range(num_epochs):\n",
    "    trn = []\n",
    "    Net.train()\n",
    "    for i, (images, labels) in enumerate(trainloader) :\n",
    "        if torch.cuda.is_available():\n",
    "            images = Variable(images).cuda().float()\n",
    "            labels = Variable(labels).cuda()\n",
    "        else : \n",
    "            images = Variable(images).float()\n",
    "            labels = Variable(labels)\n",
    "        \n",
    "        _, target = torch.max(labels, 1)\n",
    "\n",
    "        y_pred = Net(images)\n",
    "        \n",
    "        loss = criterion(y_pred, target)\n",
    "        trn.append(loss.item())\n",
    "\n",
    "        optimizer.zero_grad()\n",
    "        loss.backward()\n",
    "#         torch.nn.utils.clip_grad_value_(Net.parameters(), 10)\n",
    "        optimizer.step()\n",
    "\n",
    "        if i % 20 == 0 :\n",
    "            print('epoch = ', epoch, ' step = ', i, ' of total steps ', total_step, ' loss = ', loss.item())\n",
    "            \n",
    "    train_loss = (sum(trn) / len(trn))\n",
    "    train_loss_list.append(train_loss)\n",
    "    \n",
    "    Net.eval()\n",
    "    val = []\n",
    "    with torch.no_grad() :\n",
    "        for i, (images, labels) in enumerate(valloader) :\n",
    "            if torch.cuda.is_available():\n",
    "                images = Variable(images).cuda().float()\n",
    "                labels = Variable(labels).cuda()\n",
    "            else : \n",
    "                images = Variable(images).float()\n",
    "                labels = Variable(labels)\n",
    "                \n",
    "            _, target = torch.max(labels, 1)\n",
    "\n",
    "            # Forward pass\n",
    "            outputs = Net(images)\n",
    "            loss = criterion(outputs, target)\n",
    "            val.append(loss)\n",
    "\n",
    "    val_loss = (sum(val) / len(val)).item()\n",
    "    val_loss_list.append(val_loss)\n",
    "    print('epoch : ', epoch, ' / ', num_epochs, ' | TL : ', train_loss, ' | VL : ', val_loss)\n",
    "    \n",
    "    if val_loss < min_val :\n",
    "        print('saving model')\n",
    "        min_val = val_loss\n",
    "        torch.save(Net.state_dict(), '1conv_softmax.pt')"
   ]
  },
  {
   "cell_type": "code",
   "execution_count": 12,
   "metadata": {},
   "outputs": [
    {
     "data": {
      "text/plain": [
       "[<matplotlib.lines.Line2D at 0x7f2bb5a01400>,\n",
       " <matplotlib.lines.Line2D at 0x7f2bb5a01550>]"
      ]
     },
     "execution_count": 12,
     "metadata": {},
     "output_type": "execute_result"
    },
    {
     "data": {
      "image/png": "[encoded data removed]",
      "text/plain": [
       "<Figure size 432x288 with 1 Axes>"
      ]
     },
     "metadata": {
      "needs_background": "light"
     },
     "output_type": "display_data"
    }
   ],
   "source": [
    "j = np.arange(20)\n",
    "plt.plot(j, train_loss_list, 'r', j, val_loss_list, 'g')"
   ]
  },
  {
   "cell_type": "code",
   "execution_count": 13,
   "metadata": {},
   "outputs": [],
   "source": [
    "def _get_accuracy(dataloader, Net):\n",
    "    total = 0\n",
    "    correct = 0\n",
    "    Net.eval()\n",
    "    for i, (images, labels) in enumerate(dataloader):\n",
    "        images = Variable(images).float()\n",
    "        labels = Variable(labels).float()\n",
    "\n",
    "        outputs = Net(images)\n",
    "    \n",
    "        _, label_ind = torch.max(labels, 1)\n",
    "        _, pred_ind = torch.max(outputs, 1)\n",
    "        \n",
    "        # converting to numpy arrays\n",
    "        label_ind = label_ind.data.numpy()\n",
    "        pred_ind = pred_ind.data.numpy()\n",
    "        \n",
    "        # get difference\n",
    "        diff_ind = label_ind - pred_ind\n",
    "        # correctly classified will be 1 and will get added\n",
    "        # incorrectly classified will be 0\n",
    "        correct += np.count_nonzero(diff_ind == 0)\n",
    "        total += len(diff_ind)\n",
    "\n",
    "    accuracy = correct / total\n",
    "    # print(len(diff_ind))\n",
    "    return accuracy\n",
    "\n",
    "Net = Net.cpu().eval()\n",
    "# _get_accuracy(trainloader)"
   ]
  },
  {
   "cell_type": "code",
   "execution_count": 14,
   "metadata": {},
   "outputs": [
    {
     "name": "stdout",
     "output_type": "stream",
     "text": [
      "0.5766509433962265\n",
      "0.4326923076923077\n",
      "0.375\n"
     ]
    }
   ],
   "source": [
    "print(_get_accuracy(trainloader, Net))\n",
    "print(_get_accuracy(testloader, Net))\n",
    "print(_get_accuracy(valloader, Net))"
   ]
  },
  {
   "cell_type": "code",
   "execution_count": 16,
   "metadata": {},
   "outputs": [
    {
     "name": "stdout",
     "output_type": "stream",
     "text": [
      "0.4339622641509434\n",
      "0.4326923076923077\n",
      "0.3557692307692308\n"
     ]
    }
   ],
   "source": [
    "testing_Net = ConvNet()\n",
    "testing_Net.load_state_dict(torch.load('1conv_softmax.pt'))\n",
    "testing_Net.eval()\n",
    "print(_get_accuracy(trainloader, testing_Net))\n",
    "print(_get_accuracy(testloader, testing_Net))\n",
    "print(_get_accuracy(valloader, testing_Net))"
   ]
  },
  {
   "cell_type": "markdown",
   "metadata": {},
   "source": [
    "#### Even using `running_mean` processed data, the network again overfits. Even increasing window size didn't help (decreasing won't help as it will be closer to raw data then). Increasing too much is also not helpful as the plot will get more and more flat. So, we need to try out other features."
   ]
  },
  {
   "cell_type": "markdown",
   "metadata": {},
   "source": [
    "### PyTorch implementation of running standard deviation"
   ]
  },
  {
   "cell_type": "code",
   "execution_count": 5,
   "metadata": {},
   "outputs": [],
   "source": [
    "def running_std_dev(signal, window_size = 10):\n",
    "    ''' Returns running standard deviation of 3D signal (batch_size, length, channels)\n",
    "    '''\n",
    "    mean = torch.zeros_like(signal)\n",
    "    for i in range(signal.shape[0]) :\n",
    "        for j in range(signal.shape[1] - window_size) : \n",
    "            mean[i][j] = signal[i][j : j + window_size].std(dim = 0)\n",
    "            \n",
    "    for i in range(signal.shape[0]) :\n",
    "        for j in range(signal.shape[1] - window_size, signal.shape[1]) :\n",
    "            mean[i][j] = signal[i][j]\n",
    "            \n",
    "    return mean"
   ]
  },
  {
   "cell_type": "markdown",
   "metadata": {},
   "source": [
    "### Shows working of `running_std_dev` function"
   ]
  },
  {
   "cell_type": "code",
   "execution_count": 7,
   "metadata": {},
   "outputs": [
    {
     "name": "stdout",
     "output_type": "stream",
     "text": [
      "torch.Size([8, 150, 3])\n"
     ]
    },
    {
     "data": {
      "text/plain": [
       "[<matplotlib.lines.Line2D at 0x7f9e83fb7940>,\n",
       " <matplotlib.lines.Line2D at 0x7f9e83fb7a90>]"
      ]
     },
     "execution_count": 7,
     "metadata": {},
     "output_type": "execute_result"
    },
    {
     "data": {
      "image/png": "[encoded data removed]",
      "text/plain": [
       "<Figure size 432x288 with 1 Axes>"
      ]
     },
     "metadata": {
      "needs_background": "light"
     },
     "output_type": "display_data"
    }
   ],
   "source": [
    "signal, label = next(iter(trainloader))\n",
    "mean = running_std_dev(signal, window_size = 5)\n",
    "print(mean.shape)\n",
    "sig_ = signal[0].transpose(0, 1)\n",
    "mean_ = mean[0].transpose(0, 1)\n",
    "t = range(150)\n",
    "plt.plot(t, sig_[0].data.numpy(), 'r', t, mean_[0].data.numpy(), 'b')"
   ]
  },
  {
   "cell_type": "markdown",
   "metadata": {},
   "source": [
    "### Training network using `running_std_dev` processed data"
   ]
  },
  {
   "cell_type": "code",
   "execution_count": 35,
   "metadata": {},
   "outputs": [],
   "source": [
    "class ConvNet(nn.Module):\n",
    "    def __init__(self):\n",
    "        super(ConvNet, self).__init__()\n",
    "        # defining layers\n",
    "        self.conv1 = nn.Conv1d(3, 5, 3)\n",
    "        self.conv2 = nn.Conv1d(5, 5, 3)\n",
    "        self.fc1 = nn.Linear(36 * 5, 5)\n",
    "        self.mp = nn.MaxPool1d(2, 2)\n",
    "        \n",
    "        nn.init.xavier_uniform_(self.conv1.weight, gain = nn.init.calculate_gain('relu'))\n",
    "        nn.init.xavier_uniform_(self.conv2.weight, gain = nn.init.calculate_gain('relu'))\n",
    "        nn.init.xavier_uniform_(self.fc1.weight, gain = nn.init.calculate_gain('sigmoid'))\n",
    "        \n",
    "    def forward(self, signal):\n",
    "        signal_ = running_std_dev(signal, window_size = 10)\n",
    "        signal_ = signal_.view(-1, 3, 150)\n",
    "        out = F.relu(self.conv1(signal_))\n",
    "        out = self.mp(out)\n",
    "        out = F.relu(self.conv2(out))\n",
    "        out = self.mp(out)\n",
    "        out = out.view(-1, 36 * 5)\n",
    "        out = F.log_softmax(self.fc1(out), dim = 1)\n",
    "        return out\n",
    "\n",
    "Net = ConvNet()\n",
    "if torch.cuda.is_available():\n",
    "    print('Model on GPU')\n",
    "    Net = Net.cuda()"
   ]
  },
  {
   "cell_type": "code",
   "execution_count": 36,
   "metadata": {},
   "outputs": [],
   "source": [
    "import torch.optim as optim\n",
    "criterion = nn.CrossEntropyLoss()\n",
    "optimizer = optim.Adam(Net.parameters(), lr = 1e-4)"
   ]
  },
  {
   "cell_type": "code",
   "execution_count": 30,
   "metadata": {
    "scrolled": true
   },
   "outputs": [
    {
     "name": "stdout",
     "output_type": "stream",
     "text": [
      "epoch =  0  step =  0  of total steps  100  loss =  1.7456157207489014\n",
      "epoch =  0  step =  20  of total steps  100  loss =  1.6623470783233643\n",
      "epoch =  0  step =  40  of total steps  100  loss =  1.666829228401184\n",
      "epoch =  0  step =  60  of total steps  100  loss =  1.6201599836349487\n",
      "epoch =  0  step =  80  of total steps  100  loss =  1.646114706993103\n",
      "epoch :  0  /  30  | TL :  1.6385534656047822  | VL :  1.6054941415786743\n",
      "saving model\n",
      "epoch =  1  step =  0  of total steps  100  loss =  1.54111647605896\n",
      "epoch =  1  step =  20  of total steps  100  loss =  1.648894190788269\n",
      "epoch =  1  step =  40  of total steps  100  loss =  1.5451257228851318\n",
      "epoch =  1  step =  60  of total steps  100  loss =  1.5629994869232178\n",
      "epoch =  1  step =  80  of total steps  100  loss =  1.5253311395645142\n",
      "epoch :  1  /  30  | TL :  1.6038318860530854  | VL :  1.5684348344802856\n",
      "saving model\n",
      "epoch =  2  step =  0  of total steps  100  loss =  1.5874724388122559\n",
      "epoch =  2  step =  20  of total steps  100  loss =  1.6152886152267456\n",
      "epoch =  2  step =  40  of total steps  100  loss =  1.6061538457870483\n",
      "epoch =  2  step =  60  of total steps  100  loss =  1.5306048393249512\n",
      "epoch =  2  step =  80  of total steps  100  loss =  1.6307611465454102\n",
      "epoch :  2  /  30  | TL :  1.5758569717407227  | VL :  1.5346359014511108\n",
      "saving model\n",
      "epoch =  3  step =  0  of total steps  100  loss =  1.536860704421997\n",
      "epoch =  3  step =  20  of total steps  100  loss =  1.5345096588134766\n",
      "epoch =  3  step =  40  of total steps  100  loss =  1.5407770872116089\n",
      "epoch =  3  step =  60  of total steps  100  loss =  1.641070008277893\n",
      "epoch =  3  step =  80  of total steps  100  loss =  1.5752310752868652\n",
      "epoch :  3  /  30  | TL :  1.5522690117359161  | VL :  1.503341794013977\n",
      "saving model\n",
      "epoch =  4  step =  0  of total steps  100  loss =  1.615081787109375\n",
      "epoch =  4  step =  20  of total steps  100  loss =  1.587639570236206\n",
      "epoch =  4  step =  40  of total steps  100  loss =  1.533813714981079\n",
      "epoch =  4  step =  60  of total steps  100  loss =  1.4913557767868042\n",
      "epoch =  4  step =  80  of total steps  100  loss =  1.6753191947937012\n",
      "epoch :  4  /  30  | TL :  1.5352666068077088  | VL :  1.4780563116073608\n",
      "saving model\n",
      "epoch =  5  step =  0  of total steps  100  loss =  1.5516279935836792\n",
      "epoch =  5  step =  20  of total steps  100  loss =  1.424734354019165\n",
      "epoch =  5  step =  40  of total steps  100  loss =  1.5441325902938843\n",
      "epoch =  5  step =  60  of total steps  100  loss =  1.497164249420166\n",
      "epoch =  5  step =  80  of total steps  100  loss =  1.3318442106246948\n",
      "epoch :  5  /  30  | TL :  1.5237939167022705  | VL :  1.4591951370239258\n",
      "saving model\n",
      "epoch =  6  step =  0  of total steps  100  loss =  1.4591368436813354\n",
      "epoch =  6  step =  20  of total steps  100  loss =  1.5158802270889282\n",
      "epoch =  6  step =  40  of total steps  100  loss =  1.5305888652801514\n",
      "epoch =  6  step =  60  of total steps  100  loss =  1.4617913961410522\n",
      "epoch =  6  step =  80  of total steps  100  loss =  1.4751505851745605\n",
      "epoch :  6  /  30  | TL :  1.5152483987808227  | VL :  1.4554369449615479\n",
      "saving model\n",
      "epoch =  7  step =  0  of total steps  100  loss =  1.2609610557556152\n",
      "epoch =  7  step =  20  of total steps  100  loss =  1.3790860176086426\n",
      "epoch =  7  step =  40  of total steps  100  loss =  1.563422679901123\n",
      "epoch =  7  step =  60  of total steps  100  loss =  1.4642162322998047\n",
      "epoch =  7  step =  80  of total steps  100  loss =  1.701818585395813\n",
      "epoch :  7  /  30  | TL :  1.5125849092006682  | VL :  1.4519505500793457\n",
      "saving model\n",
      "epoch =  8  step =  0  of total steps  100  loss =  1.3976640701293945\n",
      "epoch =  8  step =  20  of total steps  100  loss =  1.4984169006347656\n",
      "epoch =  8  step =  40  of total steps  100  loss =  1.731156349182129\n",
      "epoch =  8  step =  60  of total steps  100  loss =  1.6637462377548218\n",
      "epoch =  8  step =  80  of total steps  100  loss =  1.561998963356018\n",
      "epoch :  8  /  30  | TL :  1.5091831970214844  | VL :  1.4369549751281738\n",
      "saving model\n",
      "epoch =  9  step =  0  of total steps  100  loss =  1.489273190498352\n",
      "epoch =  9  step =  20  of total steps  100  loss =  1.7554714679718018\n",
      "epoch =  9  step =  40  of total steps  100  loss =  1.5255181789398193\n",
      "epoch =  9  step =  60  of total steps  100  loss =  1.4270414113998413\n",
      "epoch =  9  step =  80  of total steps  100  loss =  1.571744680404663\n",
      "epoch :  9  /  30  | TL :  1.5069068658351898  | VL :  1.4502886533737183\n",
      "epoch =  10  step =  0  of total steps  100  loss =  1.5391045808792114\n",
      "epoch =  10  step =  20  of total steps  100  loss =  1.6583846807479858\n",
      "epoch =  10  step =  40  of total steps  100  loss =  1.793766736984253\n",
      "epoch =  10  step =  60  of total steps  100  loss =  1.5983772277832031\n",
      "epoch =  10  step =  80  of total steps  100  loss =  1.3893376588821411\n",
      "epoch :  10  /  30  | TL :  1.5053599977493286  | VL :  1.4404189586639404\n",
      "epoch =  11  step =  0  of total steps  100  loss =  1.2574471235275269\n",
      "epoch =  11  step =  20  of total steps  100  loss =  1.4406462907791138\n",
      "epoch =  11  step =  40  of total steps  100  loss =  1.079153299331665\n",
      "epoch =  11  step =  60  of total steps  100  loss =  1.4889194965362549\n",
      "epoch =  11  step =  80  of total steps  100  loss =  1.6008268594741821\n",
      "epoch :  11  /  30  | TL :  1.503554686307907  | VL :  1.4331868886947632\n",
      "saving model\n",
      "epoch =  12  step =  0  of total steps  100  loss =  1.5328354835510254\n",
      "epoch =  12  step =  20  of total steps  100  loss =  1.516791820526123\n",
      "epoch =  12  step =  40  of total steps  100  loss =  1.3504670858383179\n",
      "epoch =  12  step =  60  of total steps  100  loss =  1.3222464323043823\n",
      "epoch =  12  step =  80  of total steps  100  loss =  1.5061124563217163\n",
      "epoch :  12  /  30  | TL :  1.5007712626457215  | VL :  1.4347500801086426\n",
      "epoch =  13  step =  0  of total steps  100  loss =  1.5605744123458862\n",
      "epoch =  13  step =  20  of total steps  100  loss =  1.5044409036636353\n",
      "epoch =  13  step =  40  of total steps  100  loss =  1.4073538780212402\n",
      "epoch =  13  step =  60  of total steps  100  loss =  1.4605944156646729\n",
      "epoch =  13  step =  80  of total steps  100  loss =  1.2976295948028564\n",
      "epoch :  13  /  30  | TL :  1.4998386669158936  | VL :  1.4379339218139648\n",
      "epoch =  14  step =  0  of total steps  100  loss =  1.3940187692642212\n",
      "epoch =  14  step =  20  of total steps  100  loss =  1.1925463676452637\n",
      "epoch =  14  step =  40  of total steps  100  loss =  1.6221880912780762\n",
      "epoch =  14  step =  60  of total steps  100  loss =  1.7690651416778564\n",
      "epoch =  14  step =  80  of total steps  100  loss =  1.7343641519546509\n",
      "epoch :  14  /  30  | TL :  1.4965206587314606  | VL :  1.42800772190094\n",
      "saving model\n",
      "epoch =  15  step =  0  of total steps  100  loss =  1.33324134349823\n",
      "epoch =  15  step =  20  of total steps  100  loss =  1.2075592279434204\n",
      "epoch =  15  step =  40  of total steps  100  loss =  1.7259514331817627\n",
      "epoch =  15  step =  60  of total steps  100  loss =  1.5309492349624634\n",
      "epoch =  15  step =  80  of total steps  100  loss =  1.508134126663208\n",
      "epoch :  15  /  30  | TL :  1.4957283425331116  | VL :  1.4292453527450562\n",
      "epoch =  16  step =  0  of total steps  100  loss =  1.7680424451828003\n",
      "epoch =  16  step =  20  of total steps  100  loss =  1.552039384841919\n",
      "epoch =  16  step =  40  of total steps  100  loss =  1.4541888236999512\n",
      "epoch =  16  step =  60  of total steps  100  loss =  1.447260856628418\n",
      "epoch =  16  step =  80  of total steps  100  loss =  1.6924591064453125\n",
      "epoch :  16  /  30  | TL :  1.4938431680202484  | VL :  1.4220348596572876\n",
      "saving model\n",
      "epoch =  17  step =  0  of total steps  100  loss =  1.4428675174713135\n",
      "epoch =  17  step =  20  of total steps  100  loss =  1.277139663696289\n",
      "epoch =  17  step =  40  of total steps  100  loss =  1.2367873191833496\n",
      "epoch =  17  step =  60  of total steps  100  loss =  1.7327345609664917\n",
      "epoch =  17  step =  80  of total steps  100  loss =  1.755085825920105\n",
      "epoch :  17  /  30  | TL :  1.4908312165737152  | VL :  1.4339581727981567\n",
      "epoch =  18  step =  0  of total steps  100  loss =  1.8104685544967651\n",
      "epoch =  18  step =  20  of total steps  100  loss =  1.599411129951477\n",
      "epoch =  18  step =  40  of total steps  100  loss =  1.5449186563491821\n",
      "epoch =  18  step =  60  of total steps  100  loss =  1.3257827758789062\n"
     ]
    },
    {
     "name": "stdout",
     "output_type": "stream",
     "text": [
      "epoch =  18  step =  80  of total steps  100  loss =  1.3685039281845093\n",
      "epoch :  18  /  30  | TL :  1.4894779658317565  | VL :  1.4408800601959229\n",
      "epoch =  19  step =  0  of total steps  100  loss =  1.3483591079711914\n",
      "epoch =  19  step =  20  of total steps  100  loss =  1.2976555824279785\n",
      "epoch =  19  step =  40  of total steps  100  loss =  1.554271936416626\n",
      "epoch =  19  step =  60  of total steps  100  loss =  1.3186168670654297\n",
      "epoch =  19  step =  80  of total steps  100  loss =  1.629241704940796\n",
      "epoch :  19  /  30  | TL :  1.4858981359004975  | VL :  1.4242655038833618\n",
      "epoch =  20  step =  0  of total steps  100  loss =  1.6438570022583008\n",
      "epoch =  20  step =  20  of total steps  100  loss =  1.3835241794586182\n",
      "epoch =  20  step =  40  of total steps  100  loss =  1.3459635972976685\n",
      "epoch =  20  step =  60  of total steps  100  loss =  1.3493518829345703\n",
      "epoch =  20  step =  80  of total steps  100  loss =  1.2696938514709473\n",
      "epoch :  20  /  30  | TL :  1.4847289323806763  | VL :  1.4181214570999146\n",
      "saving model\n",
      "epoch =  21  step =  0  of total steps  100  loss =  1.4910029172897339\n",
      "epoch =  21  step =  20  of total steps  100  loss =  1.4937182664871216\n",
      "epoch =  21  step =  40  of total steps  100  loss =  1.5476449728012085\n",
      "epoch =  21  step =  60  of total steps  100  loss =  1.248415470123291\n",
      "epoch =  21  step =  80  of total steps  100  loss =  1.7255206108093262\n",
      "epoch :  21  /  30  | TL :  1.4815821087360381  | VL :  1.425873875617981\n",
      "epoch =  22  step =  0  of total steps  100  loss =  1.4463385343551636\n",
      "epoch =  22  step =  20  of total steps  100  loss =  1.7549738883972168\n",
      "epoch =  22  step =  40  of total steps  100  loss =  1.5090347528457642\n",
      "epoch =  22  step =  60  of total steps  100  loss =  1.2768038511276245\n",
      "epoch =  22  step =  80  of total steps  100  loss =  1.3415064811706543\n",
      "epoch :  22  /  30  | TL :  1.4802321481704712  | VL :  1.402548909187317\n",
      "saving model\n",
      "epoch =  23  step =  0  of total steps  100  loss =  1.2375751733779907\n",
      "epoch =  23  step =  20  of total steps  100  loss =  1.4640960693359375\n",
      "epoch =  23  step =  40  of total steps  100  loss =  1.6640583276748657\n",
      "epoch =  23  step =  60  of total steps  100  loss =  1.5156409740447998\n",
      "epoch =  23  step =  80  of total steps  100  loss =  1.397190809249878\n",
      "epoch :  23  /  30  | TL :  1.4780927896499634  | VL :  1.4291797876358032\n",
      "epoch =  24  step =  0  of total steps  100  loss =  1.411325454711914\n",
      "epoch =  24  step =  20  of total steps  100  loss =  1.3535716533660889\n",
      "epoch =  24  step =  40  of total steps  100  loss =  1.435735821723938\n",
      "epoch =  24  step =  60  of total steps  100  loss =  1.5764410495758057\n",
      "epoch =  24  step =  80  of total steps  100  loss =  1.5682711601257324\n",
      "epoch :  24  /  30  | TL :  1.4750873947143555  | VL :  1.4278552532196045\n",
      "epoch =  25  step =  0  of total steps  100  loss =  1.3556759357452393\n",
      "epoch =  25  step =  20  of total steps  100  loss =  1.6008539199829102\n",
      "epoch =  25  step =  40  of total steps  100  loss =  1.5638091564178467\n",
      "epoch =  25  step =  60  of total steps  100  loss =  1.467084288597107\n",
      "epoch =  25  step =  80  of total steps  100  loss =  1.144044041633606\n",
      "epoch :  25  /  30  | TL :  1.4721194672584534  | VL :  1.4205621480941772\n",
      "epoch =  26  step =  0  of total steps  100  loss =  1.5880320072174072\n",
      "epoch =  26  step =  20  of total steps  100  loss =  1.3923897743225098\n",
      "epoch =  26  step =  40  of total steps  100  loss =  1.4311254024505615\n",
      "epoch =  26  step =  60  of total steps  100  loss =  1.3309500217437744\n",
      "epoch =  26  step =  80  of total steps  100  loss =  1.686166524887085\n",
      "epoch :  26  /  30  | TL :  1.47120241522789  | VL :  1.4175174236297607\n",
      "epoch =  27  step =  0  of total steps  100  loss =  1.5894826650619507\n",
      "epoch =  27  step =  20  of total steps  100  loss =  1.4210739135742188\n",
      "epoch =  27  step =  40  of total steps  100  loss =  1.3872673511505127\n",
      "epoch =  27  step =  60  of total steps  100  loss =  1.409325122833252\n",
      "epoch =  27  step =  80  of total steps  100  loss =  1.2639579772949219\n",
      "epoch :  27  /  30  | TL :  1.4692014479637145  | VL :  1.4136090278625488\n",
      "epoch =  28  step =  0  of total steps  100  loss =  1.5398691892623901\n",
      "epoch =  28  step =  20  of total steps  100  loss =  1.495807409286499\n",
      "epoch =  28  step =  40  of total steps  100  loss =  1.319262981414795\n",
      "epoch =  28  step =  60  of total steps  100  loss =  1.613687515258789\n",
      "epoch =  28  step =  80  of total steps  100  loss =  1.5034934282302856\n",
      "epoch :  28  /  30  | TL :  1.4653043067455291  | VL :  1.4101520776748657\n",
      "epoch =  29  step =  0  of total steps  100  loss =  1.1081418991088867\n",
      "epoch =  29  step =  20  of total steps  100  loss =  1.6485090255737305\n",
      "epoch =  29  step =  40  of total steps  100  loss =  1.5561246871948242\n",
      "epoch =  29  step =  60  of total steps  100  loss =  1.3819819688796997\n",
      "epoch =  29  step =  80  of total steps  100  loss =  1.8913323879241943\n",
      "epoch :  29  /  30  | TL :  1.4631082677841187  | VL :  1.400741457939148\n",
      "saving model\n"
     ]
    }
   ],
   "source": [
    "num_epochs = 100\n",
    "total_step = len(trainset) // (train_batch_size * 150)\n",
    "train_loss_list = list()\n",
    "val_loss_list = list()\n",
    "min_val = 100\n",
    "for epoch in range(num_epochs):\n",
    "    trn = []\n",
    "    Net.train()\n",
    "    for i, (images, labels) in enumerate(trainloader) :\n",
    "        if torch.cuda.is_available():\n",
    "            images = Variable(images).cuda().float()\n",
    "            labels = Variable(labels).cuda()\n",
    "        else : \n",
    "            images = Variable(images).float()\n",
    "            labels = Variable(labels)\n",
    "        \n",
    "        _, target = torch.max(labels, 1)\n",
    "\n",
    "        y_pred = Net(images)\n",
    "        \n",
    "        loss = criterion(y_pred, target)\n",
    "        trn.append(loss.item())\n",
    "\n",
    "        optimizer.zero_grad()\n",
    "        loss.backward()\n",
    "#         torch.nn.utils.clip_grad_value_(Net.parameters(), 10)\n",
    "        optimizer.step()\n",
    "\n",
    "        if i % 20 == 0 :\n",
    "            print('epoch = ', epoch, ' step = ', i, ' of total steps ', total_step, ' loss = ', loss.item())\n",
    "            \n",
    "    train_loss = (sum(trn) / len(trn))\n",
    "    train_loss_list.append(train_loss)\n",
    "    \n",
    "    Net.eval()\n",
    "    val = []\n",
    "    with torch.no_grad() :\n",
    "        for i, (images, labels) in enumerate(valloader) :\n",
    "            if torch.cuda.is_available():\n",
    "                images = Variable(images).cuda().float()\n",
    "                labels = Variable(labels).cuda()\n",
    "            else : \n",
    "                images = Variable(images).float()\n",
    "                labels = Variable(labels)\n",
    "                \n",
    "            _, target = torch.max(labels, 1)\n",
    "\n",
    "            # Forward pass\n",
    "            outputs = Net(images)\n",
    "            loss = criterion(outputs, target)\n",
    "            val.append(loss)\n",
    "\n",
    "    val_loss = (sum(val) / len(val)).item()\n",
    "    val_loss_list.append(val_loss)\n",
    "    print('epoch : ', epoch, ' / ', num_epochs, ' | TL : ', train_loss, ' | VL : ', val_loss)\n",
    "    \n",
    "    if val_loss < min_val :\n",
    "        print('saving model')\n",
    "        min_val = val_loss\n",
    "        torch.save(Net.state_dict(), '1conv_softmax.pt')"
   ]
  },
  {
   "cell_type": "code",
   "execution_count": 31,
   "metadata": {},
   "outputs": [
    {
     "data": {
      "text/plain": [
       "[<matplotlib.lines.Line2D at 0x7f9e818ce2b0>,\n",
       " <matplotlib.lines.Line2D at 0x7f9e818ce3c8>]"
      ]
     },
     "execution_count": 31,
     "metadata": {},
     "output_type": "execute_result"
    },
    {
     "data": {
      "image/png": "[encoded data removed]",
      "text/plain": [
       "<Figure size 432x288 with 1 Axes>"
      ]
     },
     "metadata": {
      "needs_background": "light"
     },
     "output_type": "display_data"
    }
   ],
   "source": [
    "j = np.arange(30)\n",
    "plt.plot(j, train_loss_list, 'r', j, val_loss_list, 'g')"
   ]
  },
  {
   "cell_type": "code",
   "execution_count": 32,
   "metadata": {},
   "outputs": [],
   "source": [
    "def _get_accuracy(dataloader, Net):\n",
    "    total = 0\n",
    "    correct = 0\n",
    "    Net.eval()\n",
    "    for i, (images, labels) in enumerate(dataloader):\n",
    "        images = Variable(images).float()\n",
    "        labels = Variable(labels).float()\n",
    "\n",
    "        outputs = Net(images)\n",
    "    \n",
    "        _, label_ind = torch.max(labels, 1)\n",
    "        _, pred_ind = torch.max(outputs, 1)\n",
    "        \n",
    "        # converting to numpy arrays\n",
    "        label_ind = label_ind.data.numpy()\n",
    "        pred_ind = pred_ind.data.numpy()\n",
    "        \n",
    "        # get difference\n",
    "        diff_ind = label_ind - pred_ind\n",
    "        # correctly classified will be 1 and will get added\n",
    "        # incorrectly classified will be 0\n",
    "        correct += np.count_nonzero(diff_ind == 0)\n",
    "        total += len(diff_ind)\n",
    "\n",
    "    accuracy = correct / total\n",
    "    # print(len(diff_ind))\n",
    "    return accuracy\n",
    "\n",
    "Net = Net.cpu().eval()\n",
    "# _get_accuracy(trainloader)"
   ]
  },
  {
   "cell_type": "code",
   "execution_count": 33,
   "metadata": {},
   "outputs": [
    {
     "name": "stdout",
     "output_type": "stream",
     "text": [
      "0.3725\n",
      "0.421875\n",
      "0.421875\n"
     ]
    }
   ],
   "source": [
    "print(_get_accuracy(trainloader, Net))\n",
    "print(_get_accuracy(valloader, Net))\n",
    "print(_get_accuracy(testloader, Net))"
   ]
  },
  {
   "cell_type": "code",
   "execution_count": 34,
   "metadata": {},
   "outputs": [
    {
     "name": "stdout",
     "output_type": "stream",
     "text": [
      "0.37125\n",
      "0.421875\n",
      "0.40625\n"
     ]
    }
   ],
   "source": [
    "testing_Net = ConvNet()\n",
    "testing_Net.load_state_dict(torch.load('1conv_softmax.pt'))\n",
    "testing_Net.eval()\n",
    "print(_get_accuracy(trainloader, testing_Net))\n",
    "print(_get_accuracy(valloader, testing_Net))\n",
    "print(_get_accuracy(testloader, testing_Net))"
   ]
  },
  {
   "cell_type": "code",
   "execution_count": null,
   "metadata": {},
   "outputs": [],
   "source": []
  }
 ],
 "metadata": {
  "kernelspec": {
   "display_name": "Python 3",
   "language": "python",
   "name": "python3"
  },
  "language_info": {
   "codemirror_mode": {
    "name": "ipython",
    "version": 3
   },
   "file_extension": ".py",
   "mimetype": "text/x-python",
   "name": "python",
   "nbconvert_exporter": "python",
   "pygments_lexer": "ipython3",
   "version": "3.7.3"
  }
 },
 "nbformat": 4,
 "nbformat_minor": 2
}
