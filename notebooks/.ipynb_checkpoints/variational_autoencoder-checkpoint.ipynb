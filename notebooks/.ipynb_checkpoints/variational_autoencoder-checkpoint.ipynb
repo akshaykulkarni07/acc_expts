{
 "cells": [
  {
   "cell_type": "code",
   "execution_count": 1,
   "metadata": {},
   "outputs": [
    {
     "name": "stdout",
     "output_type": "stream",
     "text": [
      "1.1.0\n"
     ]
    }
   ],
   "source": [
    "%matplotlib inline\n",
    "import pandas as pd\n",
    "import datetime\n",
    "import pandas_datareader.data as web\n",
    "import matplotlib.pyplot as plt\n",
    "import torch\n",
    "from torch.utils.data import Dataset, DataLoader, SubsetRandomSampler\n",
    "from torch.utils.data.dataloader import default_collate\n",
    "import numpy as np\n",
    "import torch.nn as nn\n",
    "import torch.nn.functional as F\n",
    "from IPython.display import clear_output\n",
    "from torch.autograd import Variable\n",
    "print(torch.__version__)"
   ]
  },
  {
   "cell_type": "code",
   "execution_count": 3,
   "metadata": {},
   "outputs": [
    {
     "name": "stdout",
     "output_type": "stream",
     "text": [
      "(120150, 8)\n"
     ]
    }
   ],
   "source": [
    "reqd_len = 150\n",
    "channels = 3\n",
    "class IMUDataset(Dataset):\n",
    "    def __init__(self, transform = None):\n",
    "        self.df = pd.read_csv('../data/train.csv', header = None)\n",
    "        self.transform = transform\n",
    "        print(self.df.shape)\n",
    "        \n",
    "    def __len__(self):\n",
    "        return len(self.df)\n",
    "    \n",
    "    def __getitem__(self, idx):\n",
    "        x = self.df.iloc[idx : idx + reqd_len, : channels].values\n",
    "        x = x.astype('float')\n",
    "        x = x.reshape(reqd_len, channels)\n",
    "        assert(x.shape == (reqd_len, channels))\n",
    "        return x\n",
    "        \n",
    "dataset = IMUDataset()"
   ]
  },
  {
   "cell_type": "code",
   "execution_count": 4,
   "metadata": {},
   "outputs": [],
   "source": [
    "batch_size = 8\n",
    "train_indices = [(i * reqd_len) for i in range(len(dataset) // reqd_len)]\n",
    "\n",
    "trainloader = DataLoader(dataset, batch_size = batch_size, sampler = SubsetRandomSampler(train_indices), drop_last = True)"
   ]
  },
  {
   "cell_type": "code",
   "execution_count": 15,
   "metadata": {},
   "outputs": [],
   "source": [
    "# Variational AutoEncoder Model\n",
    "class VAE(nn.Module):\n",
    "    def __init__(self):\n",
    "        super(VAE, self).__init__()\n",
    "\n",
    "        self.fc1 = nn.Linear(3 * 150, 400)\n",
    "        self.fc21 = nn.Linear(400, 20)\n",
    "        self.fc22 = nn.Linear(400, 20)\n",
    "        self.fc3 = nn.Linear(20, 400)\n",
    "        self.fc4 = nn.Linear(400, 3 * 150)\n",
    "\n",
    "    def encode(self, x):\n",
    "        x = x.view(-1, 3 * 150)\n",
    "        h1 = F.relu(self.fc1(x))\n",
    "        return self.fc21(h1), self.fc22(h1)\n",
    "\n",
    "    def reparametrize(self, mu, logvar):\n",
    "        std = logvar.mul(0.5).exp_()\n",
    "        if torch.cuda.is_available():\n",
    "            eps = torch.cuda.FloatTensor(std.size()).normal_()\n",
    "        else:\n",
    "            eps = torch.FloatTensor(std.size()).normal_()\n",
    "        eps = Variable(eps)\n",
    "        return eps.mul(std).add_(mu)\n",
    "\n",
    "    def decode(self, z):\n",
    "        h3 = F.relu(self.fc3(z))\n",
    "        return torch.sigmoid(self.fc4(h3))\n",
    "\n",
    "    def forward(self, x):\n",
    "        mu, logvar = self.encode(x)\n",
    "        z = self.reparametrize(mu, logvar)\n",
    "        return self.decode(z), mu, logvar"
   ]
  },
  {
   "cell_type": "code",
   "execution_count": 16,
   "metadata": {},
   "outputs": [],
   "source": [
    "model = VAE()\n",
    "if torch.cuda.is_available():\n",
    "    model.cuda()\n",
    "    print('Model on GPU')"
   ]
  },
  {
   "cell_type": "code",
   "execution_count": 17,
   "metadata": {},
   "outputs": [
    {
     "name": "stderr",
     "output_type": "stream",
     "text": [
      "/home/akshay/anaconda3/envs/pyt/lib/python3.7/site-packages/torch/nn/_reduction.py:46: UserWarning: size_average and reduce args will be deprecated, please use reduction='sum' instead.\n",
      "  warnings.warn(warning.format(ret))\n"
     ]
    }
   ],
   "source": [
    "reconstruction_function = nn.MSELoss(size_average=False)\n",
    "\n",
    "def loss_function(recon_x, x, mu, logvar):\n",
    "    \"\"\"\n",
    "    recon_x: generating images\n",
    "    x: origin images\n",
    "    mu: latent mean\n",
    "    logvar: latent log variance\n",
    "    \"\"\"\n",
    "    BCE = reconstruction_function(recon_x, x)  # mse loss\n",
    "    # loss = 0.5 * sum(1 + log(sigma^2) - mu^2 - sigma^2)\n",
    "    KLD_element = mu.pow(2).add_(logvar.exp()).mul_(-1).add_(1).add_(logvar)\n",
    "    KLD = torch.sum(KLD_element).mul_(-0.5)\n",
    "    # KL divergence\n",
    "    return BCE + KLD\n",
    "\n",
    "import torch.optim as optim\n",
    "optimizer = optim.Adam(model.parameters(), lr=1e-3)"
   ]
  },
  {
   "cell_type": "code",
   "execution_count": 18,
   "metadata": {},
   "outputs": [
    {
     "name": "stdout",
     "output_type": "stream",
     "text": [
      "epoch =  0  step =  0  of total steps  100  loss =  932.1049194335938\n",
      "epoch =  0  step =  20  of total steps  100  loss =  139.34600830078125\n",
      "epoch =  0  step =  40  of total steps  100  loss =  67.9213638305664\n",
      "epoch =  0  step =  60  of total steps  100  loss =  71.83253479003906\n",
      "epoch =  0  step =  80  of total steps  100  loss =  49.52823257446289\n",
      "epoch =  1  step =  0  of total steps  100  loss =  69.35520935058594\n",
      "epoch =  1  step =  20  of total steps  100  loss =  70.22987365722656\n",
      "epoch =  1  step =  40  of total steps  100  loss =  79.31795501708984\n",
      "epoch =  1  step =  60  of total steps  100  loss =  54.96315383911133\n",
      "epoch =  1  step =  80  of total steps  100  loss =  87.3495864868164\n",
      "Saving model 74.383147315979\n",
      "epoch =  2  step =  0  of total steps  100  loss =  102.60700988769531\n",
      "epoch =  2  step =  20  of total steps  100  loss =  95.7802734375\n",
      "epoch =  2  step =  40  of total steps  100  loss =  134.1378936767578\n",
      "epoch =  2  step =  60  of total steps  100  loss =  81.55435943603516\n",
      "epoch =  2  step =  80  of total steps  100  loss =  46.43581771850586\n",
      "Saving model 72.26091644287109\n",
      "epoch =  3  step =  0  of total steps  100  loss =  76.8301010131836\n",
      "epoch =  3  step =  20  of total steps  100  loss =  73.13814544677734\n",
      "epoch =  3  step =  40  of total steps  100  loss =  76.36012268066406\n",
      "epoch =  3  step =  60  of total steps  100  loss =  89.7034912109375\n",
      "epoch =  3  step =  80  of total steps  100  loss =  61.17045593261719\n",
      "Saving model 71.56373245239257\n",
      "epoch =  4  step =  0  of total steps  100  loss =  81.55826568603516\n",
      "epoch =  4  step =  20  of total steps  100  loss =  44.403541564941406\n",
      "epoch =  4  step =  40  of total steps  100  loss =  91.58834838867188\n",
      "epoch =  4  step =  60  of total steps  100  loss =  71.90618133544922\n",
      "epoch =  4  step =  80  of total steps  100  loss =  67.65862274169922\n",
      "Saving model 71.08806158065796\n",
      "epoch =  5  step =  0  of total steps  100  loss =  64.02250671386719\n",
      "epoch =  5  step =  20  of total steps  100  loss =  64.87865447998047\n",
      "epoch =  5  step =  40  of total steps  100  loss =  30.13690185546875\n",
      "epoch =  5  step =  60  of total steps  100  loss =  49.27927017211914\n",
      "epoch =  5  step =  80  of total steps  100  loss =  81.29320526123047\n",
      "Saving model 71.08356142044067\n",
      "epoch =  6  step =  0  of total steps  100  loss =  45.90673828125\n",
      "epoch =  6  step =  20  of total steps  100  loss =  75.72296905517578\n",
      "epoch =  6  step =  40  of total steps  100  loss =  54.41059875488281\n",
      "epoch =  6  step =  60  of total steps  100  loss =  65.9391860961914\n",
      "epoch =  6  step =  80  of total steps  100  loss =  115.60618591308594\n",
      "Saving model 70.87414224624634\n",
      "epoch =  7  step =  0  of total steps  100  loss =  90.21769714355469\n",
      "epoch =  7  step =  20  of total steps  100  loss =  38.39888000488281\n",
      "epoch =  7  step =  40  of total steps  100  loss =  68.55897521972656\n",
      "epoch =  7  step =  60  of total steps  100  loss =  91.58240509033203\n",
      "epoch =  7  step =  80  of total steps  100  loss =  77.58572387695312\n",
      "Saving model 70.7451272392273\n",
      "epoch =  8  step =  0  of total steps  100  loss =  109.89569854736328\n",
      "epoch =  8  step =  20  of total steps  100  loss =  72.74411010742188\n",
      "epoch =  8  step =  40  of total steps  100  loss =  65.68956756591797\n",
      "epoch =  8  step =  60  of total steps  100  loss =  81.38287353515625\n",
      "epoch =  8  step =  80  of total steps  100  loss =  48.4643669128418\n",
      "epoch =  9  step =  0  of total steps  100  loss =  67.55322265625\n",
      "epoch =  9  step =  20  of total steps  100  loss =  97.53033447265625\n",
      "epoch =  9  step =  40  of total steps  100  loss =  55.08522415161133\n",
      "epoch =  9  step =  60  of total steps  100  loss =  43.01555252075195\n",
      "epoch =  9  step =  80  of total steps  100  loss =  88.93701934814453\n",
      "epoch =  10  step =  0  of total steps  100  loss =  37.147090911865234\n",
      "epoch =  10  step =  20  of total steps  100  loss =  68.30784606933594\n",
      "epoch =  10  step =  40  of total steps  100  loss =  90.11363983154297\n",
      "epoch =  10  step =  60  of total steps  100  loss =  97.37252044677734\n",
      "epoch =  10  step =  80  of total steps  100  loss =  91.46047973632812\n",
      "Saving model 70.72247356414795\n",
      "epoch =  11  step =  0  of total steps  100  loss =  91.5251235961914\n",
      "epoch =  11  step =  20  of total steps  100  loss =  67.80024719238281\n",
      "epoch =  11  step =  40  of total steps  100  loss =  71.59578704833984\n",
      "epoch =  11  step =  60  of total steps  100  loss =  58.53312301635742\n",
      "epoch =  11  step =  80  of total steps  100  loss =  61.28083801269531\n",
      "epoch =  12  step =  0  of total steps  100  loss =  67.64152526855469\n",
      "epoch =  12  step =  20  of total steps  100  loss =  116.11695861816406\n",
      "epoch =  12  step =  40  of total steps  100  loss =  101.12797546386719\n",
      "epoch =  12  step =  60  of total steps  100  loss =  98.10072326660156\n",
      "epoch =  12  step =  80  of total steps  100  loss =  50.542659759521484\n",
      "epoch =  13  step =  0  of total steps  100  loss =  107.1253890991211\n",
      "epoch =  13  step =  20  of total steps  100  loss =  67.72486877441406\n",
      "epoch =  13  step =  40  of total steps  100  loss =  41.12598419189453\n",
      "epoch =  13  step =  60  of total steps  100  loss =  91.54280090332031\n",
      "epoch =  13  step =  80  of total steps  100  loss =  46.987606048583984\n",
      "epoch =  14  step =  0  of total steps  100  loss =  67.99412536621094\n",
      "epoch =  14  step =  20  of total steps  100  loss =  75.44335174560547\n",
      "epoch =  14  step =  40  of total steps  100  loss =  48.39106369018555\n",
      "epoch =  14  step =  60  of total steps  100  loss =  69.83509063720703\n",
      "epoch =  14  step =  80  of total steps  100  loss =  91.3659439086914\n",
      "epoch =  15  step =  0  of total steps  100  loss =  48.510986328125\n",
      "epoch =  15  step =  20  of total steps  100  loss =  80.43668365478516\n",
      "epoch =  15  step =  40  of total steps  100  loss =  57.15713882446289\n",
      "epoch =  15  step =  60  of total steps  100  loss =  66.91439819335938\n",
      "epoch =  15  step =  80  of total steps  100  loss =  42.75519943237305\n",
      "epoch =  16  step =  0  of total steps  100  loss =  67.72146606445312\n",
      "epoch =  16  step =  20  of total steps  100  loss =  79.06705474853516\n",
      "epoch =  16  step =  40  of total steps  100  loss =  82.49793243408203\n",
      "epoch =  16  step =  60  of total steps  100  loss =  92.15495300292969\n",
      "epoch =  16  step =  80  of total steps  100  loss =  53.28440856933594\n",
      "Saving model 70.5738828277588\n",
      "epoch =  17  step =  0  of total steps  100  loss =  42.23627471923828\n",
      "epoch =  17  step =  20  of total steps  100  loss =  47.02263259887695\n",
      "epoch =  17  step =  40  of total steps  100  loss =  81.00423431396484\n",
      "epoch =  17  step =  60  of total steps  100  loss =  60.72939682006836\n",
      "epoch =  17  step =  80  of total steps  100  loss =  68.5461196899414\n",
      "epoch =  18  step =  0  of total steps  100  loss =  85.23377990722656\n",
      "epoch =  18  step =  20  of total steps  100  loss =  75.28469848632812\n",
      "epoch =  18  step =  40  of total steps  100  loss =  65.89546203613281\n",
      "epoch =  18  step =  60  of total steps  100  loss =  69.6828384399414\n",
      "epoch =  18  step =  80  of total steps  100  loss =  79.89606475830078\n",
      "epoch =  19  step =  0  of total steps  100  loss =  60.53192901611328\n",
      "epoch =  19  step =  20  of total steps  100  loss =  62.422096252441406\n",
      "epoch =  19  step =  40  of total steps  100  loss =  53.10005569458008\n",
      "epoch =  19  step =  60  of total steps  100  loss =  109.14839935302734\n",
      "epoch =  19  step =  80  of total steps  100  loss =  62.78978729248047\n",
      "epoch =  20  step =  0  of total steps  100  loss =  97.45014190673828\n",
      "epoch =  20  step =  20  of total steps  100  loss =  104.67816162109375\n",
      "epoch =  20  step =  40  of total steps  100  loss =  98.7637939453125\n",
      "epoch =  20  step =  60  of total steps  100  loss =  79.8860092163086\n",
      "epoch =  20  step =  80  of total steps  100  loss =  49.678924560546875\n",
      "Saving model 70.5705394744873\n",
      "epoch =  21  step =  0  of total steps  100  loss =  97.35798645019531\n",
      "epoch =  21  step =  20  of total steps  100  loss =  103.0151596069336\n",
      "epoch =  21  step =  40  of total steps  100  loss =  102.48530578613281\n",
      "epoch =  21  step =  60  of total steps  100  loss =  57.08852767944336\n",
      "epoch =  21  step =  80  of total steps  100  loss =  42.04330825805664\n",
      "epoch =  22  step =  0  of total steps  100  loss =  75.69042205810547\n",
      "epoch =  22  step =  20  of total steps  100  loss =  72.12142944335938\n"
     ]
    },
    {
     "name": "stdout",
     "output_type": "stream",
     "text": [
      "epoch =  22  step =  40  of total steps  100  loss =  80.42005920410156\n",
      "epoch =  22  step =  60  of total steps  100  loss =  56.008888244628906\n",
      "epoch =  22  step =  80  of total steps  100  loss =  90.7994613647461\n",
      "epoch =  23  step =  0  of total steps  100  loss =  68.72222900390625\n",
      "epoch =  23  step =  20  of total steps  100  loss =  50.80610656738281\n",
      "epoch =  23  step =  40  of total steps  100  loss =  84.4836654663086\n",
      "epoch =  23  step =  60  of total steps  100  loss =  46.117549896240234\n",
      "epoch =  23  step =  80  of total steps  100  loss =  62.71986389160156\n",
      "Saving model 70.51045952796936\n",
      "epoch =  24  step =  0  of total steps  100  loss =  95.71003723144531\n",
      "epoch =  24  step =  20  of total steps  100  loss =  92.25824737548828\n",
      "epoch =  24  step =  40  of total steps  100  loss =  59.09461212158203\n",
      "epoch =  24  step =  60  of total steps  100  loss =  44.47602844238281\n",
      "epoch =  24  step =  80  of total steps  100  loss =  40.70085144042969\n",
      "epoch =  25  step =  0  of total steps  100  loss =  99.97456359863281\n",
      "epoch =  25  step =  20  of total steps  100  loss =  69.7911605834961\n",
      "epoch =  25  step =  40  of total steps  100  loss =  74.18306732177734\n",
      "epoch =  25  step =  60  of total steps  100  loss =  45.51041030883789\n",
      "epoch =  25  step =  80  of total steps  100  loss =  40.65386962890625\n",
      "epoch =  26  step =  0  of total steps  100  loss =  84.37481689453125\n",
      "epoch =  26  step =  20  of total steps  100  loss =  72.40336608886719\n",
      "epoch =  26  step =  40  of total steps  100  loss =  72.91454315185547\n",
      "epoch =  26  step =  60  of total steps  100  loss =  89.13321685791016\n",
      "epoch =  26  step =  80  of total steps  100  loss =  95.93903350830078\n",
      "epoch =  27  step =  0  of total steps  100  loss =  100.3472900390625\n",
      "epoch =  27  step =  20  of total steps  100  loss =  68.14476013183594\n",
      "epoch =  27  step =  40  of total steps  100  loss =  74.93125915527344\n",
      "epoch =  27  step =  60  of total steps  100  loss =  44.564693450927734\n",
      "epoch =  27  step =  80  of total steps  100  loss =  42.17990493774414\n",
      "epoch =  28  step =  0  of total steps  100  loss =  92.381103515625\n",
      "epoch =  28  step =  20  of total steps  100  loss =  89.83479309082031\n",
      "epoch =  28  step =  40  of total steps  100  loss =  117.51859283447266\n",
      "epoch =  28  step =  60  of total steps  100  loss =  107.02652740478516\n",
      "epoch =  28  step =  80  of total steps  100  loss =  56.583194732666016\n",
      "epoch =  29  step =  0  of total steps  100  loss =  53.39312744140625\n",
      "epoch =  29  step =  20  of total steps  100  loss =  92.64285278320312\n",
      "epoch =  29  step =  40  of total steps  100  loss =  90.57376098632812\n",
      "epoch =  29  step =  60  of total steps  100  loss =  38.888343811035156\n",
      "epoch =  29  step =  80  of total steps  100  loss =  73.4105453491211\n"
     ]
    }
   ],
   "source": [
    "num_epochs = 30\n",
    "total_step = len(dataset) // (batch_size * 150)\n",
    "train_loss_list = list()\n",
    "min_loss = 100\n",
    "for epoch in range(num_epochs):\n",
    "    trn = []\n",
    "    model.train()\n",
    "    for i, signals in enumerate(trainloader) :\n",
    "        if torch.cuda.is_available():\n",
    "            signals = Variable(signals).cuda().float()\n",
    "        else : \n",
    "            signals = Variable(signals).float()\n",
    "        \n",
    "        optimizer.zero_grad()\n",
    "        \n",
    "        recon_batch, mu, logvar = model(signals)\n",
    "        signals_ = signals.view(-1, 3 * 150)\n",
    "        loss = loss_function(recon_batch, signals_, mu, logvar)\n",
    "        \n",
    "        trn.append(loss.item())\n",
    "\n",
    "        loss.backward()\n",
    "#         torch.nn.utils.clip_grad_value_(Net.parameters(), 10)\n",
    "        optimizer.step()\n",
    "\n",
    "        if i % 20 == 0 :\n",
    "            print('epoch = ', epoch, ' step = ', i, ' of total steps ', total_step, ' loss = ', loss.item())\n",
    "            \n",
    "    train_loss = (sum(trn) / len(trn))\n",
    "    train_loss_list.append(train_loss)\n",
    "    \n",
    "    if train_loss < min_loss : \n",
    "        min_loss = train_loss\n",
    "        torch.save(model.state_dict() , '../saved_models/vae_model.pt')\n",
    "        print('Saving model', min_loss)"
   ]
  },
  {
   "cell_type": "code",
   "execution_count": 19,
   "metadata": {},
   "outputs": [
    {
     "data": {
      "text/plain": [
       "[<matplotlib.lines.Line2D at 0x7f73f4b99320>]"
      ]
     },
     "execution_count": 19,
     "metadata": {},
     "output_type": "execute_result"
    },
    {
     "data": {
      "image/png": "[encoded data removed]",
      "text/plain": [
       "<Figure size 432x288 with 1 Axes>"
      ]
     },
     "metadata": {
      "needs_background": "light"
     },
     "output_type": "display_data"
    }
   ],
   "source": [
    "j = range(30)\n",
    "plt.plot(j, train_loss_list, 'r')"
   ]
  },
  {
   "cell_type": "code",
   "execution_count": null,
   "metadata": {},
   "outputs": [],
   "source": []
  }
 ],
 "metadata": {
  "kernelspec": {
   "display_name": "Python 3",
   "language": "python",
   "name": "python3"
  },
  "language_info": {
   "codemirror_mode": {
    "name": "ipython",
    "version": 3
   },
   "file_extension": ".py",
   "mimetype": "text/x-python",
   "name": "python",
   "nbconvert_exporter": "python",
   "pygments_lexer": "ipython3",
   "version": "3.7.3"
  }
 },
 "nbformat": 4,
 "nbformat_minor": 2
}
