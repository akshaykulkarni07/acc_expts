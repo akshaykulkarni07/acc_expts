{
 "cells": [
  {
   "cell_type": "code",
   "execution_count": 5,
   "metadata": {},
   "outputs": [],
   "source": [
    "%matplotlib inline\n",
    "import pandas as pd\n",
    "import datetime\n",
    "import matplotlib.pyplot as plt\n",
    "import sklearn\n",
    "import numpy as np\n",
    "from sklearn import svm\n",
    "from scipy import signal\n",
    "from sklearn.svm import SVC\n",
    "from sklearn.metrics import confusion_matrix,classification_report\n",
    "from sklearn.model_selection import cross_val_score, GridSearchCV"
   ]
  },
  {
   "cell_type": "code",
   "execution_count": 2,
   "metadata": {},
   "outputs": [
    {
     "name": "stdout",
     "output_type": "stream",
     "text": [
      "16200\n"
     ]
    }
   ],
   "source": [
    "traindf = pd.read_csv('../data/train.csv', header = None)\n",
    "valdf = pd.read_csv('../data/val.csv', header = None)\n",
    "testdf = pd.read_csv('../data/test.csv', header = None)\n",
    "print(len(testdf))"
   ]
  },
  {
   "cell_type": "markdown",
   "metadata": {},
   "source": [
    "### Loading raw data to train SVM"
   ]
  },
  {
   "cell_type": "code",
   "execution_count": 3,
   "metadata": {},
   "outputs": [],
   "source": [
    "def return_segments(df):\n",
    "    ''' Returns 2 arrays : \n",
    "        x of shape (num_examples, num_features = 150)\n",
    "        y of shape (num_examples, num_classes = 5)\n",
    "        Extracts this from given Pandas DataFrame\n",
    "    '''\n",
    "    x = np.zeros((len(df) // 150, 450))\n",
    "    y = np.zeros((len(df) // 150, 5))\n",
    "    for i in range(1, len(df) // 150) : \n",
    "        # taking 150 values of 3 channels at a time, flattening and \n",
    "        temp = df.iloc[(i - 1) * 150 : i * 150,  : 3].values\n",
    "        x[i - 1] = np.transpose(temp).reshape(450)\n",
    "        # finding single one_hot encoded label (which occurs maximum times in 150 values)\n",
    "        label_array = df.iloc[((i - 1) * 150) : i * 150, 3 : ].values\n",
    "        ind = np.argmax(np.sum(label_array, axis = 0))\n",
    "        label = np.zeros_like(df.iloc[0, 3 : ].values)\n",
    "        label = label.astype('float')\n",
    "        label[ind] = 1\n",
    "        y[i - 1] = label\n",
    "        \n",
    "    num = len(df) // 150\n",
    "    # last example isn't considered in the loop\n",
    "    temp = df.iloc[(num - 1) * 150 : , : 3].values\n",
    "    x[num - 1] = np.transpose(temp).reshape(450)\n",
    "    # just taking the central value for the last label\n",
    "    y[num - 1] = df.iloc[((num - 1) * 150) + 75, 3 : ].values\n",
    "    return x, y\n",
    "\n",
    "# Calling loading function and load all data into NumPy arrays\n",
    "# as required by sklearn\n",
    "x_test, y_test_ = return_segments(testdf)\n",
    "x_train, y_train_ = return_segments(traindf)\n",
    "# Converting one_hot encoded labels to integers\n",
    "y_test = np.argmax(y_test_, axis = 1)\n",
    "y_train = np.argmax(y_train_, axis = 1)\n",
    "\n",
    "# a = traindf.iloc[ : 150, : 3].values.reshape(450)\n",
    "# b = traindf.iloc[150 : 300, : 3].values.reshape(450)\n",
    "# x = np.zeros((len(traindf) // 150, 450))\n",
    "# x[0] = a\n",
    "# x[1] = b\n",
    "# print(x.shape)"
   ]
  },
  {
   "cell_type": "markdown",
   "metadata": {},
   "source": [
    "### Using Grid Search to find best hyperparameters for SVM"
   ]
  },
  {
   "cell_type": "code",
   "execution_count": 8,
   "metadata": {},
   "outputs": [
    {
     "name": "stderr",
     "output_type": "stream",
     "text": [
      "/home/akshay/anaconda3/envs/pyt/lib/python3.7/site-packages/sklearn/model_selection/_search.py:813: DeprecationWarning: The default of the `iid` parameter will change from True to False in version 0.22 and will be removed in 0.24. This will change numeric results when test-set sizes are unequal.\n",
      "  DeprecationWarning)\n"
     ]
    },
    {
     "data": {
      "text/plain": [
       "GridSearchCV(cv=5, error_score='raise-deprecating',\n",
       "             estimator=SVC(C=1.0, cache_size=200, class_weight=None, coef0=0.0,\n",
       "                           decision_function_shape='ovr', degree=3,\n",
       "                           gamma='auto_deprecated', kernel='rbf', max_iter=-1,\n",
       "                           probability=False, random_state=None, shrinking=True,\n",
       "                           tol=0.001, verbose=False),\n",
       "             iid='warn', n_jobs=None,\n",
       "             param_grid=[{'C': [1, 10, 100, 1000], 'gamma': [0.001, 0.0001],\n",
       "                          'kernel': ['rbf']},\n",
       "                         {'C': [1, 10, 100, 1000], 'kernel': ['linear']}],\n",
       "             pre_dispatch='2*n_jobs', refit=True, return_train_score=False,\n",
       "             scoring=None, verbose=0)"
      ]
     },
     "execution_count": 8,
     "metadata": {},
     "output_type": "execute_result"
    }
   ],
   "source": [
    "params_grid = [{'kernel': ['rbf'], 'gamma': [1e-3, 1e-4],\n",
    "                     'C': [1, 10, 100, 1000]},\n",
    "                    {'kernel': ['linear'], 'C': [1, 10, 100, 1000]}]\n",
    "\n",
    "svm_model = GridSearchCV(SVC(), params_grid, cv=5)\n",
    "svm_model.fit(x_train, y_train)"
   ]
  },
  {
   "cell_type": "code",
   "execution_count": 9,
   "metadata": {},
   "outputs": [
    {
     "name": "stdout",
     "output_type": "stream",
     "text": [
      "Best score for training data: 0.4016393442622951 \n",
      "\n",
      "Best C: 1 \n",
      "\n",
      "Best Kernel: rbf \n",
      "\n",
      "Best Gamma: 0.001 \n",
      "\n",
      "[[ 0  0  0 15  0]\n",
      " [ 0  0  0 19  0]\n",
      " [ 0  0  0 23  0]\n",
      " [ 0  0  0 33  0]\n",
      " [ 0  0  0 18  0]]\n",
      "              precision    recall  f1-score   support\n",
      "\n",
      "           0       0.00      0.00      0.00        15\n",
      "           1       0.00      0.00      0.00        19\n",
      "           2       0.00      0.00      0.00        23\n",
      "           3       0.31      1.00      0.47        33\n",
      "           4       0.00      0.00      0.00        18\n",
      "\n",
      "    accuracy                           0.31       108\n",
      "   macro avg       0.06      0.20      0.09       108\n",
      "weighted avg       0.09      0.31      0.14       108\n",
      "\n"
     ]
    },
    {
     "name": "stderr",
     "output_type": "stream",
     "text": [
      "/home/akshay/anaconda3/envs/pyt/lib/python3.7/site-packages/sklearn/metrics/classification.py:1437: UndefinedMetricWarning: Precision and F-score are ill-defined and being set to 0.0 in labels with no predicted samples.\n",
      "  'precision', 'predicted', average, warn_for)\n"
     ]
    }
   ],
   "source": [
    "# View the accuracy score\n",
    "print('Best score for training data:', svm_model.best_score_,\"\\n\") \n",
    "\n",
    "# View the best parameters for the model found using grid search\n",
    "print('Best C:',svm_model.best_estimator_.C,\"\\n\") \n",
    "print('Best Kernel:',svm_model.best_estimator_.kernel,\"\\n\")\n",
    "print('Best Gamma:',svm_model.best_estimator_.gamma,\"\\n\")\n",
    "\n",
    "final_model = svm_model.best_estimator_\n",
    "y_pred = final_model.predict(x_test)\n",
    "cm = confusion_matrix(y_test, y_pred)\n",
    "print(cm)\n",
    "print(classification_report(y_test, y_pred))"
   ]
  },
  {
   "cell_type": "code",
   "execution_count": 16,
   "metadata": {},
   "outputs": [
    {
     "name": "stderr",
     "output_type": "stream",
     "text": [
      "/home/akshay/anaconda3/envs/pyt/lib/python3.7/site-packages/sklearn/svm/base.py:193: FutureWarning: The default value of gamma will change from 'auto' to 'scale' in version 0.22 to account better for unscaled features. Set gamma explicitly to 'auto' or 'scale' to avoid this warning.\n",
      "  \"avoid this warning.\", FutureWarning)\n"
     ]
    },
    {
     "name": "stdout",
     "output_type": "stream",
     "text": [
      "[[ 3  2  5  4  1]\n",
      " [ 3  2  7  6  1]\n",
      " [ 0  1 18  3  1]\n",
      " [ 6  2 18  6  1]\n",
      " [ 5  4  6  1  2]]\n",
      "              precision    recall  f1-score   support\n",
      "\n",
      "           0       0.18      0.20      0.19        15\n",
      "           1       0.18      0.11      0.13        19\n",
      "           2       0.33      0.78      0.47        23\n",
      "           3       0.30      0.18      0.23        33\n",
      "           4       0.33      0.11      0.17        18\n",
      "\n",
      "    accuracy                           0.29       108\n",
      "   macro avg       0.26      0.28      0.24       108\n",
      "weighted avg       0.27      0.29      0.25       108\n",
      "\n",
      "[[ 36   6  48   7   2]\n",
      " [  5  46  24   7   5]\n",
      " [  9   7 127  22   6]\n",
      " [ 31  44 135 101  32]\n",
      " [ 18  21  49   9  57]]\n",
      "              precision    recall  f1-score   support\n",
      "\n",
      "           0       0.36      0.36      0.36        99\n",
      "           1       0.37      0.53      0.44        87\n",
      "           2       0.33      0.74      0.46       171\n",
      "           3       0.69      0.29      0.41       343\n",
      "           4       0.56      0.37      0.45       154\n",
      "\n",
      "    accuracy                           0.43       854\n",
      "   macro avg       0.46      0.46      0.42       854\n",
      "weighted avg       0.52      0.43      0.42       854\n",
      "\n"
     ]
    }
   ],
   "source": [
    "svm_lin = svm.SVC(kernel = 'rbf', C = 10, class_weight = 'balanced')\n",
    "svm_lin.fit(x_train, y_train)\n",
    "y_pred = svm_lin.predict(x_test)\n",
    "print(confusion_matrix(y_test, y_pred))\n",
    "print(classification_report(y_test, y_pred))\n",
    "y_pred = svm_lin.predict(x_train)\n",
    "print(confusion_matrix(y_train, y_pred))\n",
    "print(classification_report(y_train, y_pred))"
   ]
  },
  {
   "cell_type": "markdown",
   "metadata": {},
   "source": [
    "### Using only one channel data to train SVM"
   ]
  },
  {
   "cell_type": "code",
   "execution_count": 135,
   "metadata": {},
   "outputs": [],
   "source": [
    "def return_segments_x_acc(df):\n",
    "    ''' Returns 2 arrays : \n",
    "        x of shape (num_examples, num_features = 150)\n",
    "        y of shape (num_examples, num_classes = 5)\n",
    "        Extracts only x_acc data and labels from given Pandas DataFrame\n",
    "    '''\n",
    "    x = np.zeros((len(df) // 150, 150))\n",
    "    y = np.zeros((len(df) // 150, 5))\n",
    "    for i in range(1, len(df) // 150) : \n",
    "        # taking 150 values of 3 channels at a time, flattening and \n",
    "        x[i - 1] = df.iloc[(i - 1) * 150 : i * 150, 2].values\n",
    "        # finding single one_hot encoded label (which occurs maximum times in 150 values)\n",
    "        label_array = df.iloc[((i - 1) * 150) : i * 150, 3 : ].values\n",
    "        ind = np.argmax(np.sum(label_array, axis = 0))\n",
    "        label = np.zeros_like(df.iloc[0, 3 : ].values)\n",
    "        label = label.astype('float')\n",
    "        label[ind] = 1\n",
    "        y[i - 1] = label\n",
    "        \n",
    "    num = len(df) // 150\n",
    "    # last example isn't considered in the loop\n",
    "    x[num - 1] = df.iloc[(num - 1) * 150 : , 0].values\n",
    "    # just taking the central value for the last label\n",
    "    y[num - 1] = df.iloc[((num - 1) * 150) + 75, 3 : ].values\n",
    "    return x, y\n",
    "\n",
    "xtrain, ytrain_ = return_segments_x_acc(traindf)\n",
    "xtest, ytest_ = return_segments_x_acc(valdf)\n",
    "ytest = np.argmax(ytest_, axis = 1)\n",
    "ytrain = np.argmax(ytrain_, axis = 1)"
   ]
  },
  {
   "cell_type": "code",
   "execution_count": 136,
   "metadata": {},
   "outputs": [
    {
     "name": "stderr",
     "output_type": "stream",
     "text": [
      "/home/akshay/anaconda3/envs/pyt/lib/python3.7/site-packages/sklearn/model_selection/_search.py:813: DeprecationWarning: The default of the `iid` parameter will change from True to False in version 0.22 and will be removed in 0.24. This will change numeric results when test-set sizes are unequal.\n",
      "  DeprecationWarning)\n"
     ]
    },
    {
     "data": {
      "text/plain": [
       "GridSearchCV(cv=5, error_score='raise-deprecating',\n",
       "             estimator=SVC(C=1.0, cache_size=200, class_weight='balanced',\n",
       "                           coef0=0.0, decision_function_shape='ovr', degree=3,\n",
       "                           gamma='auto_deprecated', kernel='rbf', max_iter=-1,\n",
       "                           probability=False, random_state=None, shrinking=True,\n",
       "                           tol=0.001, verbose=False),\n",
       "             iid='warn', n_jobs=None,\n",
       "             param_grid=[{'C': [1, 10, 100, 1000], 'gamma': [0.001, 0.0001],\n",
       "                          'kernel': ['rbf']},\n",
       "                         {'C': [1, 10, 100, 1000], 'kernel': ['linear']}],\n",
       "             pre_dispatch='2*n_jobs', refit=True, return_train_score=False,\n",
       "             scoring=None, verbose=0)"
      ]
     },
     "execution_count": 136,
     "metadata": {},
     "output_type": "execute_result"
    }
   ],
   "source": [
    "params_grid = [{'kernel': ['rbf'], 'gamma': [1e-3, 1e-4],\n",
    "                     'C': [1, 10, 100, 1000]},\n",
    "                    {'kernel': ['linear'], 'C': [1, 10, 100, 1000]}]\n",
    "\n",
    "svm_model = GridSearchCV(SVC(class_weight = 'balanced'), params_grid, cv = 5)\n",
    "svm_model.fit(xtrain, ytrain)"
   ]
  },
  {
   "cell_type": "code",
   "execution_count": 137,
   "metadata": {},
   "outputs": [
    {
     "name": "stdout",
     "output_type": "stream",
     "text": [
      "Best score for training data: 0.28337236533957844 \n",
      "\n",
      "Best C: 100 \n",
      "\n",
      "Best Kernel: linear \n",
      "\n",
      "Best Gamma: auto_deprecated \n",
      "\n",
      "[[ 3  2  4  4  2]\n",
      " [ 3  2  3  4  1]\n",
      " [ 5  2  9  3  0]\n",
      " [ 7  4 12  5  7]\n",
      " [ 5  6  4  5  4]]\n",
      "              precision    recall  f1-score   support\n",
      "\n",
      "           0       0.13      0.20      0.16        15\n",
      "           1       0.12      0.15      0.14        13\n",
      "           2       0.28      0.47      0.35        19\n",
      "           3       0.24      0.14      0.18        35\n",
      "           4       0.29      0.17      0.21        24\n",
      "\n",
      "    accuracy                           0.22       106\n",
      "   macro avg       0.21      0.23      0.21       106\n",
      "weighted avg       0.23      0.22      0.21       106\n",
      "\n",
      "[[ 76   0  14   7   2]\n",
      " [  0  72   6   8   1]\n",
      " [  7   4 134  23   3]\n",
      " [ 40  29  60 184  30]\n",
      " [ 11   6  16  10 111]]\n",
      "              precision    recall  f1-score   support\n",
      "\n",
      "           0       0.57      0.77      0.65        99\n",
      "           1       0.65      0.83      0.73        87\n",
      "           2       0.58      0.78      0.67       171\n",
      "           3       0.79      0.54      0.64       343\n",
      "           4       0.76      0.72      0.74       154\n",
      "\n",
      "    accuracy                           0.68       854\n",
      "   macro avg       0.67      0.73      0.69       854\n",
      "weighted avg       0.70      0.68      0.67       854\n",
      "\n"
     ]
    }
   ],
   "source": [
    "# View the accuracy score\n",
    "print('Best score for training data:', svm_model.best_score_,\"\\n\") \n",
    "\n",
    "# View the best parameters for the model found using grid search\n",
    "print('Best C:',svm_model.best_estimator_.C,\"\\n\") \n",
    "print('Best Kernel:',svm_model.best_estimator_.kernel,\"\\n\")\n",
    "print('Best Gamma:',svm_model.best_estimator_.gamma,\"\\n\")\n",
    "\n",
    "final_model = svm_model.best_estimator_\n",
    "y_pred = final_model.predict(xtest)\n",
    "print(confusion_matrix(ytest, y_pred))\n",
    "print(classification_report(ytest, y_pred))\n",
    "y_pred = final_model.predict(xtrain)\n",
    "print(confusion_matrix(ytrain, y_pred))\n",
    "print(classification_report(ytrain, y_pred))"
   ]
  },
  {
   "cell_type": "markdown",
   "metadata": {},
   "source": [
    "### Using 50 sampled points of signal as one example instead of 150 sampled points to increase the dataset size and train SVM using that larger dataset."
   ]
  },
  {
   "cell_type": "code",
   "execution_count": 17,
   "metadata": {},
   "outputs": [],
   "source": [
    "def return_segments(df):\n",
    "    ''' Returns 2 arrays : \n",
    "        x of shape (num_examples, num_features = 50)\n",
    "        y of shape (num_examples, num_classes = 5)\n",
    "        Extracts this from given Pandas DataFrame\n",
    "    '''\n",
    "    x = np.zeros((len(df) // 50, 150))\n",
    "    y = np.zeros((len(df) // 50, 5))\n",
    "    for i in range(1, len(df) // 50) : \n",
    "        # taking 150 values of 3 channels at a time, flattening and \n",
    "        temp = df.iloc[(i - 1) * 50 : i * 50,  : 3].values\n",
    "        x[i - 1] = np.transpose(temp).reshape(150)\n",
    "        # finding single one_hot encoded label (which occurs maximum times in 150 values)\n",
    "        label_array = df.iloc[((i - 1) * 50) : i * 50, 3 : ].values\n",
    "        ind = np.argmax(np.sum(label_array, axis = 0))\n",
    "        label = np.zeros_like(df.iloc[0, 3 : ].values)\n",
    "        label = label.astype('float')\n",
    "        label[ind] = 1\n",
    "        y[i - 1] = label\n",
    "        \n",
    "    num = len(df) // 50\n",
    "    # last example isn't considered in the loop\n",
    "    temp = df.iloc[(num - 1) * 50 : , : 3].values\n",
    "    x[num - 1] = np.transpose(temp).reshape(150)\n",
    "    # just taking the central value for the last label\n",
    "    y[num - 1] = df.iloc[((num - 1) * 50) + 25, 3 : ].values\n",
    "    return x, y\n",
    "\n",
    "# Calling loading function and load all data into NumPy arrays\n",
    "# as required by sklearn\n",
    "x_test, y_test_ = return_segments(testdf)\n",
    "x_train, y_train_ = return_segments(traindf)\n",
    "# Converting one_hot encoded labels to integers\n",
    "y_test = np.argmax(y_test_, axis = 1)\n",
    "y_train = np.argmax(y_train_, axis = 1)"
   ]
  },
  {
   "cell_type": "code",
   "execution_count": 142,
   "metadata": {},
   "outputs": [
    {
     "data": {
      "text/plain": [
       "GridSearchCV(cv=5, error_score='raise-deprecating',\n",
       "             estimator=SVC(C=1.0, cache_size=200, class_weight=None, coef0=0.0,\n",
       "                           decision_function_shape='ovr', degree=3,\n",
       "                           gamma='auto_deprecated', kernel='rbf', max_iter=-1,\n",
       "                           probability=False, random_state=None, shrinking=True,\n",
       "                           tol=0.001, verbose=False),\n",
       "             iid='warn', n_jobs=None,\n",
       "             param_grid=[{'C': [1, 10, 100, 1000], 'gamma': [0.001, 0.0001],\n",
       "                          'kernel': ['rbf']},\n",
       "                         {'C': [1, 10, 100, 1000], 'kernel': ['linear']}],\n",
       "             pre_dispatch='2*n_jobs', refit=True, return_train_score=False,\n",
       "             scoring=None, verbose=0)"
      ]
     },
     "execution_count": 142,
     "metadata": {},
     "output_type": "execute_result"
    }
   ],
   "source": [
    "params_grid = [{'kernel': ['rbf'], 'gamma': [1e-3, 1e-4],\n",
    "                     'C': [1, 10, 100, 1000]},\n",
    "                    {'kernel': ['linear'], 'C': [1, 10, 100, 1000]}]\n",
    "\n",
    "svm_model = GridSearchCV(SVC(), params_grid, cv = 5)\n",
    "svm_model.fit(x_train, y_train)"
   ]
  },
  {
   "cell_type": "code",
   "execution_count": 143,
   "metadata": {},
   "outputs": [
    {
     "name": "stdout",
     "output_type": "stream",
     "text": [
      "Best score for training data: 0.4016393442622951 \n",
      "\n",
      "Best C: 1 \n",
      "\n",
      "Best Kernel: rbf \n",
      "\n",
      "Best Gamma: 0.001 \n",
      "\n",
      "[[ 0  0  0 45  0]\n",
      " [ 0  0  0 57  0]\n",
      " [ 0  0  0 69  0]\n",
      " [ 0  0  0 99  0]\n",
      " [ 0  0  0 54  0]]\n",
      "              precision    recall  f1-score   support\n",
      "\n",
      "           0       0.00      0.00      0.00        45\n",
      "           1       0.00      0.00      0.00        57\n",
      "           2       0.00      0.00      0.00        69\n",
      "           3       0.31      1.00      0.47        99\n",
      "           4       0.00      0.00      0.00        54\n",
      "\n",
      "    accuracy                           0.31       324\n",
      "   macro avg       0.06      0.20      0.09       324\n",
      "weighted avg       0.09      0.31      0.14       324\n",
      "\n"
     ]
    },
    {
     "name": "stderr",
     "output_type": "stream",
     "text": [
      "/home/akshay/anaconda3/envs/pyt/lib/python3.7/site-packages/sklearn/metrics/classification.py:1437: UndefinedMetricWarning: Precision and F-score are ill-defined and being set to 0.0 in labels with no predicted samples.\n",
      "  'precision', 'predicted', average, warn_for)\n"
     ]
    },
    {
     "name": "stdout",
     "output_type": "stream",
     "text": [
      "[[   0    0    0  297    0]\n",
      " [   0    0    0  261    0]\n",
      " [   0    0    0  513    0]\n",
      " [   0    0    0 1029    0]\n",
      " [   0    0    0  462    0]]\n",
      "              precision    recall  f1-score   support\n",
      "\n",
      "           0       0.00      0.00      0.00       297\n",
      "           1       0.00      0.00      0.00       261\n",
      "           2       0.00      0.00      0.00       513\n",
      "           3       0.40      1.00      0.57      1029\n",
      "           4       0.00      0.00      0.00       462\n",
      "\n",
      "    accuracy                           0.40      2562\n",
      "   macro avg       0.08      0.20      0.11      2562\n",
      "weighted avg       0.16      0.40      0.23      2562\n",
      "\n"
     ]
    },
    {
     "name": "stderr",
     "output_type": "stream",
     "text": [
      "/home/akshay/anaconda3/envs/pyt/lib/python3.7/site-packages/sklearn/metrics/classification.py:1437: UndefinedMetricWarning: Precision and F-score are ill-defined and being set to 0.0 in labels with no predicted samples.\n",
      "  'precision', 'predicted', average, warn_for)\n"
     ]
    }
   ],
   "source": [
    "# View the accuracy score\n",
    "print('Best score for training data:', svm_model.best_score_,\"\\n\") \n",
    "\n",
    "# View the best parameters for the model found using grid search\n",
    "print('Best C:',svm_model.best_estimator_.C,\"\\n\") \n",
    "print('Best Kernel:',svm_model.best_estimator_.kernel,\"\\n\")\n",
    "print('Best Gamma:',svm_model.best_estimator_.gamma,\"\\n\")\n",
    "\n",
    "final_model = svm_model.best_estimator_\n",
    "y_pred = final_model.predict(x_test)\n",
    "print(confusion_matrix(y_test, y_pred))\n",
    "print(classification_report(y_test, y_pred))\n",
    "y_pred = final_model.predict(x_train)\n",
    "print(confusion_matrix(y_train, y_pred))\n",
    "print(classification_report(y_train, y_pred))"
   ]
  },
  {
   "cell_type": "code",
   "execution_count": 25,
   "metadata": {},
   "outputs": [
    {
     "name": "stdout",
     "output_type": "stream",
     "text": [
      "[[ 7  5 13 16  4]\n",
      " [ 9  3 13 24  8]\n",
      " [ 5  1 53  6  4]\n",
      " [ 1  3 42 42 11]\n",
      " [ 1  5 16 23  9]]\n",
      "              precision    recall  f1-score   support\n",
      "\n",
      "           0       0.30      0.16      0.21        45\n",
      "           1       0.18      0.05      0.08        57\n",
      "           2       0.39      0.77      0.51        69\n",
      "           3       0.38      0.42      0.40        99\n",
      "           4       0.25      0.17      0.20        54\n",
      "\n",
      "    accuracy                           0.35       324\n",
      "   macro avg       0.30      0.31      0.28       324\n",
      "weighted avg       0.31      0.35      0.31       324\n",
      "\n",
      "[[204   2  89   2   0]\n",
      " [  0 213  47   1   0]\n",
      " [  4   1 497   4   7]\n",
      " [ 32  16 309 659  13]\n",
      " [  5   7  92   7 351]]\n",
      "              precision    recall  f1-score   support\n",
      "\n",
      "           0       0.83      0.69      0.75       297\n",
      "           1       0.89      0.82      0.85       261\n",
      "           2       0.48      0.97      0.64       513\n",
      "           3       0.98      0.64      0.77      1029\n",
      "           4       0.95      0.76      0.84       462\n",
      "\n",
      "    accuracy                           0.75      2562\n",
      "   macro avg       0.83      0.77      0.77      2562\n",
      "weighted avg       0.85      0.75      0.77      2562\n",
      "\n"
     ]
    }
   ],
   "source": [
    "# class_wt = {0 : 3, 1 : 3, 2 : 2, 3 : 1, 4 : 2}\n",
    "svm_lin = svm.SVC(class_weight = 'balanced', kernel = 'rbf', decision_function_shape = 'ovr', C = 10, gamma = 'scale')\n",
    "svm_lin.fit(x_train, y_train)\n",
    "y_pred = svm_lin.predict(x_test)\n",
    "print(confusion_matrix(y_test, y_pred))\n",
    "print(classification_report(y_test, y_pred))\n",
    "y_pred = svm_lin.predict(x_train)\n",
    "print(confusion_matrix(y_train, y_pred))\n",
    "print(classification_report(y_train, y_pred))"
   ]
  },
  {
   "cell_type": "markdown",
   "metadata": {},
   "source": [
    "After experimenting with SVMs trained on raw data, it is clear that even SVMs cannot generalize on raw data. So, will try to use running standard deviation, RMS, etc. before feeding to SVM.\n",
    "\n",
    "### Using running standard deviation data to train SVM"
   ]
  },
  {
   "cell_type": "code",
   "execution_count": 26,
   "metadata": {},
   "outputs": [],
   "source": [
    "def running_std_deviation(x, window_size = 10):\n",
    "    ''' Returns running standard deviation of x calculated using a window of size window_size\n",
    "    Sliding of window starts from zero index upto where window can be placed (len(x) - window_size)\n",
    "    Remaining part of input is discarded (not very significant since it will be present in some other\n",
    "    input also due to the 50% overlap)\n",
    "    '''\n",
    "    std_dev = np.zeros(len(x) - window_size)\n",
    "    for i in range(len(x) - window_size):\n",
    "        std_dev[i] = np.std(x[i : i + window_size])\n",
    "        \n",
    "    return std_dev\n",
    "\n",
    "def return_segments(df, window_size = 20):\n",
    "    ''' Returns 2 arrays : \n",
    "        x of shape (num_examples, num_features = 150)\n",
    "        y of shape (num_examples, num_classes = 5)\n",
    "        Extracts this from given Pandas DataFrame\n",
    "    '''\n",
    "    x = np.zeros((len(df) // 150, 450 - (3 * window_size)))\n",
    "    y = np.zeros((len(df) // 150, 5))\n",
    "    for i in range(1, len(df) // 150) : \n",
    "        # taking 150 values of 3 channels at a time, flattening and \n",
    "        acc = df.iloc[(i - 1) * 150 : i * 150,  : 3].values\n",
    "        z = np.zeros(450 - (3 * window_size))\n",
    "        z[0 : 150 - window_size] = running_std_deviation(np.transpose(acc)[0], window_size = window_size)\n",
    "        z[150 - window_size : 300 - (2 * window_size)] = running_std_deviation(np.transpose(acc)[1], window_size = window_size)\n",
    "        z[300 - (2 * window_size) : ] = running_std_deviation(np.transpose(acc)[2], window_size = window_size)\n",
    "        x[i - 1] = z\n",
    "        # finding single one_hot encoded label (which occurs maximum times in 150 values)\n",
    "        label_array = df.iloc[((i - 1) * 150) : i * 150, 3 : ].values\n",
    "        ind = np.argmax(np.sum(label_array, axis = 0))\n",
    "        label = np.zeros_like(df.iloc[0, 3 : ].values)\n",
    "        label = label.astype('float')\n",
    "        label[ind] = 1\n",
    "        y[i - 1] = label\n",
    "        \n",
    "    num = len(df) // 150\n",
    "    # last example isn't considered in the loop\n",
    "    acc = df.iloc[(num - 1) * 150 : , : 3].values\n",
    "    z = np.zeros(450 - (3 * window_size))\n",
    "    z[0 : 150 - window_size] = running_std_deviation(np.transpose(acc)[0], window_size = window_size)\n",
    "    z[150 - window_size : 300 - (2 * window_size)] = running_std_deviation(np.transpose(acc)[1], window_size = window_size)\n",
    "    z[300 - (2 * window_size) : ] = running_std_deviation(np.transpose(acc)[2], window_size = window_size)\n",
    "    x[num - 1] = z\n",
    "    # just taking the central value for the last label\n",
    "    y[num - 1] = df.iloc[((num - 1) * 150) + 75, 3 : ].values\n",
    "    return x, y\n",
    "\n",
    "# Calling loading function and load all data into NumPy arrays\n",
    "# as required by sklearn\n",
    "x_test, y_test_ = return_segments(testdf)\n",
    "x_train, y_train_ = return_segments(traindf)\n",
    "# Converting one_hot encoded labels to integers\n",
    "y_test = np.argmax(y_test_, axis = 1)\n",
    "y_train = np.argmax(y_train_, axis = 1)"
   ]
  },
  {
   "cell_type": "code",
   "execution_count": 201,
   "metadata": {},
   "outputs": [
    {
     "name": "stderr",
     "output_type": "stream",
     "text": [
      "/home/akshay/anaconda3/envs/pyt/lib/python3.7/site-packages/sklearn/model_selection/_search.py:813: DeprecationWarning: The default of the `iid` parameter will change from True to False in version 0.22 and will be removed in 0.24. This will change numeric results when test-set sizes are unequal.\n",
      "  DeprecationWarning)\n"
     ]
    },
    {
     "data": {
      "text/plain": [
       "GridSearchCV(cv=5, error_score='raise-deprecating',\n",
       "             estimator=SVC(C=1.0, cache_size=200, class_weight='balanced',\n",
       "                           coef0=0.0, decision_function_shape='ovr', degree=3,\n",
       "                           gamma='auto_deprecated', kernel='rbf', max_iter=-1,\n",
       "                           probability=False, random_state=None, shrinking=True,\n",
       "                           tol=0.001, verbose=False),\n",
       "             iid='warn', n_jobs=None,\n",
       "             param_grid=[{'C': [1, 10, 100, 1000], 'gamma': [0.001, 0.0001],\n",
       "                          'kernel': ['rbf']},\n",
       "                         {'C': [1, 10, 100, 1000], 'kernel': ['linear']}],\n",
       "             pre_dispatch='2*n_jobs', refit=True, return_train_score=False,\n",
       "             scoring=None, verbose=0)"
      ]
     },
     "execution_count": 201,
     "metadata": {},
     "output_type": "execute_result"
    }
   ],
   "source": [
    "params_grid = [{'kernel': ['rbf'], 'gamma': [1e-3, 1e-4],\n",
    "                     'C': [1, 10, 100, 1000]},\n",
    "                    {'kernel': ['linear'], 'C': [1, 10, 100, 1000]}]\n",
    "\n",
    "svm_model = GridSearchCV(SVC(class_weight = 'balanced'), params_grid, cv = 5)\n",
    "svm_model.fit(x_train, y_train)"
   ]
  },
  {
   "cell_type": "code",
   "execution_count": 202,
   "metadata": {},
   "outputs": [
    {
     "name": "stdout",
     "output_type": "stream",
     "text": [
      "Best score for training data: 0.30327868852459017 \n",
      "\n",
      "Best C: 1000 \n",
      "\n",
      "Best Kernel: rbf \n",
      "\n",
      "Best Gamma: 0.001 \n",
      "\n",
      "[[ 5  5  3  1  1]\n",
      " [ 4  7  3  4  1]\n",
      " [ 1  0 20  1  1]\n",
      " [12  4  8  5  4]\n",
      " [ 3  4  3  3  5]]\n",
      "              precision    recall  f1-score   support\n",
      "\n",
      "           0       0.20      0.33      0.25        15\n",
      "           1       0.35      0.37      0.36        19\n",
      "           2       0.54      0.87      0.67        23\n",
      "           3       0.36      0.15      0.21        33\n",
      "           4       0.42      0.28      0.33        18\n",
      "\n",
      "    accuracy                           0.39       108\n",
      "   macro avg       0.37      0.40      0.36       108\n",
      "weighted avg       0.38      0.39      0.36       108\n",
      "\n",
      "[[ 41   6  37   8   7]\n",
      " [ 13  43  14   6  11]\n",
      " [ 21  11 118   8  13]\n",
      " [ 78  41  91  78  55]\n",
      " [ 21  24  23  10  76]]\n",
      "              precision    recall  f1-score   support\n",
      "\n",
      "           0       0.24      0.41      0.30        99\n",
      "           1       0.34      0.49      0.41        87\n",
      "           2       0.42      0.69      0.52       171\n",
      "           3       0.71      0.23      0.34       343\n",
      "           4       0.47      0.49      0.48       154\n",
      "\n",
      "    accuracy                           0.42       854\n",
      "   macro avg       0.43      0.46      0.41       854\n",
      "weighted avg       0.52      0.42      0.41       854\n",
      "\n"
     ]
    }
   ],
   "source": [
    "# View the accuracy score\n",
    "print('Best score for training data:', svm_model.best_score_,\"\\n\") \n",
    "\n",
    "# View the best parameters for the model found using grid search\n",
    "print('Best C:',svm_model.best_estimator_.C,\"\\n\") \n",
    "print('Best Kernel:',svm_model.best_estimator_.kernel,\"\\n\")\n",
    "print('Best Gamma:',svm_model.best_estimator_.gamma,\"\\n\")\n",
    "\n",
    "final_model = svm_model.best_estimator_\n",
    "y_pred = final_model.predict(x_test)\n",
    "print(confusion_matrix(y_test, y_pred))\n",
    "print(classification_report(y_test, y_pred))\n",
    "y_pred = final_model.predict(x_train)\n",
    "print(confusion_matrix(y_train, y_pred))\n",
    "print(classification_report(y_train, y_pred))"
   ]
  },
  {
   "cell_type": "code",
   "execution_count": 206,
   "metadata": {},
   "outputs": [
    {
     "name": "stdout",
     "output_type": "stream",
     "text": [
      "[[ 3  6  3  2  1]\n",
      " [ 4  5  3  4  3]\n",
      " [ 1  1 18  2  1]\n",
      " [11  4  8  6  4]\n",
      " [ 5  4  2  3  4]]\n",
      "              precision    recall  f1-score   support\n",
      "\n",
      "           0       0.12      0.20      0.15        15\n",
      "           1       0.25      0.26      0.26        19\n",
      "           2       0.53      0.78      0.63        23\n",
      "           3       0.35      0.18      0.24        33\n",
      "           4       0.31      0.22      0.26        18\n",
      "\n",
      "    accuracy                           0.33       108\n",
      "   macro avg       0.31      0.33      0.31       108\n",
      "weighted avg       0.33      0.33      0.32       108\n",
      "\n",
      "[[ 51   5  33   6   4]\n",
      " [  8  56  12   3   8]\n",
      " [ 24   5 118  10  14]\n",
      " [ 79  48  82  87  47]\n",
      " [ 22  19  16  13  84]]\n",
      "              precision    recall  f1-score   support\n",
      "\n",
      "           0       0.28      0.52      0.36        99\n",
      "           1       0.42      0.64      0.51        87\n",
      "           2       0.45      0.69      0.55       171\n",
      "           3       0.73      0.25      0.38       343\n",
      "           4       0.54      0.55      0.54       154\n",
      "\n",
      "    accuracy                           0.46       854\n",
      "   macro avg       0.48      0.53      0.47       854\n",
      "weighted avg       0.56      0.46      0.45       854\n",
      "\n"
     ]
    }
   ],
   "source": [
    "# class_wt = {0 : 3, 1 : 3, 2 : 2, 3 : 1, 4 : 2}\n",
    "svm_lin = svm.SVC(class_weight = 'balanced', kernel = 'linear', C = 10)\n",
    "svm_lin.fit(x_train, y_train)\n",
    "y_pred = svm_lin.predict(x_test)\n",
    "print(confusion_matrix(y_test, y_pred))\n",
    "print(classification_report(y_test, y_pred))\n",
    "y_pred = svm_lin.predict(x_train)\n",
    "print(confusion_matrix(y_train, y_pred))\n",
    "print(classification_report(y_train, y_pred))"
   ]
  },
  {
   "cell_type": "markdown",
   "metadata": {},
   "source": [
    "### Obtaining low pass filtered (LPF) data"
   ]
  },
  {
   "cell_type": "code",
   "execution_count": 71,
   "metadata": {},
   "outputs": [],
   "source": [
    "# Required functions for implementing Butterworth 4th order low pass filter\n",
    "# Source : https://github.com/guillaume-chevalier/filtering-stft-and-laplace-transform\n",
    "def butter_lowpass(cutoff, nyq_freq, order = 4):\n",
    "    normal_cutoff = float(cutoff) / nyq_freq\n",
    "    b, a = signal.butter(order, normal_cutoff, btype='lowpass')\n",
    "    return b, a\n",
    "\n",
    "def butter_lowpass_filter(data, cutoff_freq, nyq_freq, order=4):\n",
    "    b, a = butter_lowpass(cutoff_freq, nyq_freq, order=order)\n",
    "    y = signal.filtfilt(b, a, data)\n",
    "    return y\n",
    "\n",
    "def return_processed_segments(x, cutoff_freq = 5.0, sample_rate = 50.0) :\n",
    "    ''' Returns low pass filtered segments. Input should be NumPy array of segments.\n",
    "    '''\n",
    "    i = 0\n",
    "    x_lpf = np.zeros_like(x)\n",
    "    for x2 in x :\n",
    "        x_lpf[i,  : 150] = butter_lowpass_filter(x2[ : 150], 5, 50 // 2)\n",
    "        x_lpf[i, 150 : 300] = butter_lowpass_filter(x2[150 : 300], 5, 50 // 2)\n",
    "        x_lpf[i, 300 : ] = butter_lowpass_filter(x2[300 : ], 5, 50 // 2)\n",
    "        i = i + 1\n",
    "    \n",
    "    return x_lpf\n",
    "    \n",
    "x_train_lpf = return_processed_segments(x_train)\n",
    "x_test_lpf = return_processed_segments(x_test)"
   ]
  },
  {
   "cell_type": "markdown",
   "metadata": {},
   "source": [
    "#### Checking correctness of LPF"
   ]
  },
  {
   "cell_type": "code",
   "execution_count": 70,
   "metadata": {},
   "outputs": [
    {
     "data": {
      "text/plain": [
       "<matplotlib.legend.Legend at 0x7fc2d7f5bdd8>"
      ]
     },
     "execution_count": 70,
     "metadata": {},
     "output_type": "execute_result"
    },
    {
     "data": {
      "image/png": "[encoded data removed]",
      "text/plain": [
       "<Figure size 432x288 with 1 Axes>"
      ]
     },
     "metadata": {
      "needs_background": "light"
     },
     "output_type": "display_data"
    }
   ],
   "source": [
    "fig, axes = plt.subplots()\n",
    "axes.plot(x_train[352, 150 : 300], 'b', label = 'original')\n",
    "axes.plot(x_train_lpf[352, 150 : 300], 'r', label = 'low pass filtered', linewidth = 3)\n",
    "axes.legend()"
   ]
  },
  {
   "cell_type": "code",
   "execution_count": 83,
   "metadata": {},
   "outputs": [
    {
     "name": "stdout",
     "output_type": "stream",
     "text": [
      "[[ 1  0  4  9  1]\n",
      " [ 2  1  3 11  2]\n",
      " [ 1  0 15  6  1]\n",
      " [ 2  1  8 21  1]\n",
      " [ 2  0  5  6  5]]\n",
      "              precision    recall  f1-score   support\n",
      "\n",
      "           0       0.12      0.07      0.09        15\n",
      "           1       0.50      0.05      0.10        19\n",
      "           2       0.43      0.65      0.52        23\n",
      "           3       0.40      0.64      0.49        33\n",
      "           4       0.50      0.28      0.36        18\n",
      "\n",
      "    accuracy                           0.40       108\n",
      "   macro avg       0.39      0.34      0.31       108\n",
      "weighted avg       0.40      0.40      0.35       108\n",
      "\n",
      "[[ 82   0  17   0   0]\n",
      " [  0  75   8   3   1]\n",
      " [  1   0 165   3   2]\n",
      " [  0   0  30 313   0]\n",
      " [  0   0   9   3 142]]\n",
      "              precision    recall  f1-score   support\n",
      "\n",
      "           0       0.99      0.83      0.90        99\n",
      "           1       1.00      0.86      0.93        87\n",
      "           2       0.72      0.96      0.82       171\n",
      "           3       0.97      0.91      0.94       343\n",
      "           4       0.98      0.92      0.95       154\n",
      "\n",
      "    accuracy                           0.91       854\n",
      "   macro avg       0.93      0.90      0.91       854\n",
      "weighted avg       0.93      0.91      0.91       854\n",
      "\n"
     ]
    }
   ],
   "source": [
    "# class_wt = {0 : 3, 1 : 3, 2 : 2, 3 : 1, 4 : 2}\n",
    "svm_lin = svm.SVC(kernel = 'rbf', C = 10, gamma = 'scale')\n",
    "svm_lin.fit(x_train_lpf, y_train)\n",
    "y_pred = svm_lin.predict(x_test_lpf)\n",
    "print(confusion_matrix(y_test, y_pred))\n",
    "print(classification_report(y_test, y_pred))\n",
    "y_pred = svm_lin.predict(x_train_lpf)\n",
    "print(confusion_matrix(y_train, y_pred))\n",
    "print(classification_report(y_train, y_pred))"
   ]
  },
  {
   "cell_type": "code",
   "execution_count": 94,
   "metadata": {},
   "outputs": [
    {
     "name": "stdout",
     "output_type": "stream",
     "text": [
      "Best score for training data: 0.3570143528504786 \n",
      "\n",
      "Best C: 100 \n",
      "\n",
      "Best Kernel: rbf \n",
      "\n",
      "Best Gamma: 0.1 \n",
      "\n",
      "[[ 2  0  2  9  2]\n",
      " [ 3  2  2 11  1]\n",
      " [ 2  3 12  5  1]\n",
      " [ 3  5  7 17  1]\n",
      " [ 2  1  4  8  3]]\n",
      "              precision    recall  f1-score   support\n",
      "\n",
      "           0       0.17      0.13      0.15        15\n",
      "           1       0.18      0.11      0.13        19\n",
      "           2       0.44      0.52      0.48        23\n",
      "           3       0.34      0.52      0.41        33\n",
      "           4       0.38      0.17      0.23        18\n",
      "\n",
      "    accuracy                           0.33       108\n",
      "   macro avg       0.30      0.29      0.28       108\n",
      "weighted avg       0.32      0.33      0.31       108\n",
      "\n",
      "[[ 96   0   3   0   0]\n",
      " [  0  87   0   0   0]\n",
      " [  2   2 164   0   3]\n",
      " [  3   5  23 310   2]\n",
      " [  0   1   3   0 150]]\n",
      "              precision    recall  f1-score   support\n",
      "\n",
      "           0       0.95      0.97      0.96        99\n",
      "           1       0.92      1.00      0.96        87\n",
      "           2       0.85      0.96      0.90       171\n",
      "           3       1.00      0.90      0.95       343\n",
      "           4       0.97      0.97      0.97       154\n",
      "\n",
      "    accuracy                           0.94       854\n",
      "   macro avg       0.94      0.96      0.95       854\n",
      "weighted avg       0.95      0.94      0.95       854\n",
      "\n"
     ]
    }
   ],
   "source": [
    "params_grid = [{'kernel': ['rbf'], 'gamma': [1e-1, 1e-2, 1e-3, 1e-4],\n",
    "                     'C': [100, 1000, 1e4, 1e5]}]\n",
    "\n",
    "svm_model = GridSearchCV(SVC(class_weight = 'balanced'), params_grid, cv = 10, iid = False)\n",
    "svm_model.fit(x_train_lpf, y_train)\n",
    "\n",
    "# View the accuracy score\n",
    "print('Best score for training data:', svm_model.best_score_,\"\\n\") \n",
    "\n",
    "# View the best parameters for the model found using grid search\n",
    "print('Best C:',svm_model.best_estimator_.C,\"\\n\") \n",
    "print('Best Kernel:',svm_model.best_estimator_.kernel,\"\\n\")\n",
    "print('Best Gamma:',svm_model.best_estimator_.gamma,\"\\n\")\n",
    "\n",
    "final_model = svm_model.best_estimator_\n",
    "y_pred = final_model.predict(x_test_lpf)\n",
    "print(confusion_matrix(y_test, y_pred))\n",
    "print(classification_report(y_test, y_pred))\n",
    "y_pred = final_model.predict(x_train_lpf)\n",
    "print(confusion_matrix(y_train, y_pred))\n",
    "print(classification_report(y_train, y_pred))"
   ]
  },
  {
   "cell_type": "markdown",
   "metadata": {},
   "source": [
    "Even using low pass filters, the SVM still overfits the training data and fails to generalize. This could be because low pass filter gives output kind of similar to `running_mean`. Need to try other things."
   ]
  },
  {
   "cell_type": "code",
   "execution_count": 16,
   "metadata": {},
   "outputs": [
    {
     "name": "stdout",
     "output_type": "stream",
     "text": [
      "[[ 0  1  4  9  1]\n",
      " [ 3  1  1 11  3]\n",
      " [ 1  0 10 12  0]\n",
      " [ 1  1  6 23  2]\n",
      " [ 3  0  2 12  1]]\n",
      "              precision    recall  f1-score   support\n",
      "\n",
      "           0       0.00      0.00      0.00        15\n",
      "           1       0.33      0.05      0.09        19\n",
      "           2       0.43      0.43      0.43        23\n",
      "           3       0.34      0.70      0.46        33\n",
      "           4       0.14      0.06      0.08        18\n",
      "\n",
      "    accuracy                           0.32       108\n",
      "   macro avg       0.25      0.25      0.21       108\n",
      "weighted avg       0.28      0.32      0.26       108\n",
      "\n",
      "[[ 98   0   1   0   0]\n",
      " [  0  82   0   3   2]\n",
      " [  0   0 164   7   0]\n",
      " [  1   2   4 334   2]\n",
      " [  0   0   4   4 146]]\n",
      "              precision    recall  f1-score   support\n",
      "\n",
      "           0       0.99      0.99      0.99        99\n",
      "           1       0.98      0.94      0.96        87\n",
      "           2       0.95      0.96      0.95       171\n",
      "           3       0.96      0.97      0.97       343\n",
      "           4       0.97      0.95      0.96       154\n",
      "\n",
      "    accuracy                           0.96       854\n",
      "   macro avg       0.97      0.96      0.97       854\n",
      "weighted avg       0.97      0.96      0.96       854\n",
      "\n"
     ]
    }
   ],
   "source": [
    "from sklearn.ensemble import RandomForestClassifier\n",
    "# class_wt = {0 : 3, 1 : 3, 2 : 2, 3 : 1, 4 : 2}\n",
    "svm_lin = RandomForestClassifier(n_estimators = 10)\n",
    "svm_lin.fit(x_train, y_train)\n",
    "y_pred = svm_lin.predict(x_test)\n",
    "print(confusion_matrix(y_test, y_pred))\n",
    "print(classification_report(y_test, y_pred))\n",
    "y_pred = svm_lin.predict(x_train)\n",
    "print(confusion_matrix(y_train, y_pred))\n",
    "print(classification_report(y_train, y_pred))"
   ]
  },
  {
   "cell_type": "code",
   "execution_count": null,
   "metadata": {},
   "outputs": [],
   "source": []
  }
 ],
 "metadata": {
  "kernelspec": {
   "display_name": "Python 3",
   "language": "python",
   "name": "python3"
  },
  "language_info": {
   "codemirror_mode": {
    "name": "ipython",
    "version": 3
   },
   "file_extension": ".py",
   "mimetype": "text/x-python",
   "name": "python",
   "nbconvert_exporter": "python",
   "pygments_lexer": "ipython3",
   "version": "3.7.3"
  }
 },
 "nbformat": 4,
 "nbformat_minor": 2
}
