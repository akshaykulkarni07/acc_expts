{
 "cells": [
  {
   "cell_type": "code",
   "execution_count": 2,
   "metadata": {},
   "outputs": [
    {
     "name": "stdout",
     "output_type": "stream",
     "text": [
      "1.0.1.post2\n"
     ]
    }
   ],
   "source": [
    "%matplotlib inline\n",
    "import pandas as pd\n",
    "import datetime\n",
    "import matplotlib.pyplot as plt\n",
    "import torch\n",
    "from torch.utils.data import Dataset, DataLoader, SubsetRandomSampler\n",
    "from torch.utils.data.dataloader import default_collate\n",
    "import numpy as np\n",
    "import torch.nn as nn\n",
    "import torch.nn.functional as F\n",
    "from IPython.display import clear_output\n",
    "from torch.autograd import Variable\n",
    "from mpl_toolkits.mplot3d import Axes3D\n",
    "print(torch.__version__)"
   ]
  },
  {
   "cell_type": "markdown",
   "metadata": {},
   "source": [
    "### Dataset Class (loads data from csv)"
   ]
  },
  {
   "cell_type": "code",
   "execution_count": 4,
   "metadata": {},
   "outputs": [
    {
     "name": "stdout",
     "output_type": "stream",
     "text": [
      "(63900, 8)\n",
      "(7950, 8)\n",
      "(8100, 8)\n"
     ]
    }
   ],
   "source": [
    "reqd_len = 150\n",
    "channels = 3\n",
    "class IMUDataset(Dataset):\n",
    "    def __init__(self, mode = 'test', transform = None):\n",
    "        if mode == 'train' :\n",
    "            self.df = pd.read_csv('../../data/train_alt.csv', header = None)\n",
    "        elif mode == 'test' :\n",
    "            self.df = pd.read_csv('../../data/test_alt.csv', header = None)\n",
    "        elif mode == 'val' :\n",
    "            self.df = pd.read_csv('../../data/val_alt.csv', header = None)\n",
    "        self.transform = transform\n",
    "        print(self.df.shape)\n",
    "        \n",
    "    def __len__(self):\n",
    "        return len(self.df)\n",
    "    \n",
    "    def __getitem__(self, idx):\n",
    "        y = self.df.iloc[idx : idx + reqd_len, 3 : ].values\n",
    "        ind = np.argmax(np.sum(y, axis = 0))\n",
    "        label = np.zeros_like(self.df.iloc[0, 3 : ].values)\n",
    "        label = label.astype('float')\n",
    "        label[ind] = 1\n",
    "        x = self.df.iloc[idx : idx + reqd_len, : channels].values\n",
    "        x = x.astype('float')\n",
    "        x = x.reshape(reqd_len, channels)\n",
    "        assert(x.shape == (reqd_len, channels))\n",
    "        assert(label.shape == (5, ))\n",
    "        return x, label\n",
    "        \n",
    "trainset = IMUDataset(mode = 'train')\n",
    "valset = IMUDataset(mode = 'val')\n",
    "testset = IMUDataset(mode = 'test')"
   ]
  },
  {
   "cell_type": "markdown",
   "metadata": {},
   "source": [
    "### Dataloader definitions (provides data in iterable form)"
   ]
  },
  {
   "cell_type": "code",
   "execution_count": 5,
   "metadata": {},
   "outputs": [],
   "source": [
    "train_batch_size = 8\n",
    "batch_size = 8\n",
    "train_indices = [(i * reqd_len) for i in range(len(trainset) // reqd_len)]\n",
    "val_indices = [(i * reqd_len) for i in range(len(valset) // reqd_len)]\n",
    "test_indices = [(i * reqd_len) for i in range(len(testset) // reqd_len)]\n",
    "\n",
    "trainloader = DataLoader(trainset, batch_size = train_batch_size, sampler = SubsetRandomSampler(train_indices), drop_last = True)\n",
    "valloader = DataLoader(valset, batch_size = batch_size, sampler = SubsetRandomSampler(val_indices), drop_last = True)\n",
    "testloader = DataLoader(testset, batch_size = batch_size, sampler = SubsetRandomSampler(test_indices), drop_last = True)\n",
    "\n",
    "# signal, label = next(iter(trainloader))\n",
    "# print(signal.shape)\n",
    "# print(label.shape)"
   ]
  },
  {
   "cell_type": "code",
   "execution_count": 6,
   "metadata": {},
   "outputs": [
    {
     "data": {
      "text/plain": [
       "146.0"
      ]
     },
     "execution_count": 6,
     "metadata": {},
     "output_type": "execute_result"
    }
   ],
   "source": [
    "def output_size(n, f, p = 0, s = 1):\n",
    "    ''' Returns output size for given input size (n), filter size (f), padding (p) and stride (s)\n",
    "    for a convolutional layer\n",
    "    '''\n",
    "    return (((n + 2 * p - f) / s) + 1)\n",
    "\n",
    "output_size(150, 3)\n",
    "output_size(148, 3)"
   ]
  },
  {
   "cell_type": "code",
   "execution_count": 7,
   "metadata": {},
   "outputs": [
    {
     "name": "stdout",
     "output_type": "stream",
     "text": [
      "Model on GPU\n"
     ]
    }
   ],
   "source": [
    "class ConvNet(nn.Module):\n",
    "    def __init__(self):\n",
    "        super(ConvNet, self).__init__()\n",
    "        # defining layers\n",
    "#         self.conv1 = nn.Conv1d(3, 10, 3)\n",
    "#         self.conv2 = nn.Conv1d(10, 15, 3)\n",
    "#         self.conv3 = nn.Conv1d(15, 20, 3)\n",
    "        self.fc1 = nn.Linear(150 * 3, 256)\n",
    "        self.fc2 = nn.Linear(256, 128)\n",
    "        self.fc3 = nn.Linear(128, 5)\n",
    "        \n",
    "        nn.init.xavier_uniform_(self.fc1.weight, gain = nn.init.calculate_gain('relu'))\n",
    "        nn.init.xavier_uniform_(self.fc2.weight, gain = nn.init.calculate_gain('relu'))\n",
    "        nn.init.xavier_uniform_(self.fc3.weight, gain = nn.init.calculate_gain('sigmoid'))\n",
    "        \n",
    "    def forward(self, signal):\n",
    "        signal = signal.view(-1, 150 * 3)\n",
    "        out = F.relu(self.fc1(signal))\n",
    "        out = F.relu(self.fc2(out))\n",
    "        out = F.log_softmax(self.fc3(out), dim = 1)\n",
    "        return out\n",
    "\n",
    "Net = ConvNet()\n",
    "if torch.cuda.is_available():\n",
    "    print('Model on GPU')\n",
    "    Net = Net.cuda()"
   ]
  },
  {
   "cell_type": "code",
   "execution_count": 8,
   "metadata": {},
   "outputs": [],
   "source": [
    "import torch.optim as optim\n",
    "criterion = nn.CrossEntropyLoss()\n",
    "optimizer = optim.Adam(Net.parameters(), lr = 1e-3)"
   ]
  },
  {
   "cell_type": "code",
   "execution_count": 9,
   "metadata": {},
   "outputs": [
    {
     "name": "stdout",
     "output_type": "stream",
     "text": [
      "epoch =  0  step =  0  of total steps  53  loss =  1.7452778816223145\n",
      "epoch =  0  step =  20  of total steps  53  loss =  1.7908618450164795\n",
      "epoch =  0  step =  40  of total steps  53  loss =  1.756575345993042\n",
      "epoch :  0  /  20  | TL :  1.5132657356981962  | VL :  1.5065245628356934\n",
      "saving model\n",
      "epoch =  1  step =  0  of total steps  53  loss =  1.2524701356887817\n",
      "epoch =  1  step =  20  of total steps  53  loss =  0.8968551158905029\n",
      "epoch =  1  step =  40  of total steps  53  loss =  1.1207727193832397\n",
      "epoch :  1  /  20  | TL :  1.163716326344688  | VL :  1.6043251752853394\n",
      "epoch =  2  step =  0  of total steps  53  loss =  1.180138349533081\n",
      "epoch =  2  step =  20  of total steps  53  loss =  1.0283704996109009\n",
      "epoch =  2  step =  40  of total steps  53  loss =  0.9049609303474426\n",
      "epoch :  2  /  20  | TL :  0.9375269356763588  | VL :  1.5493654012680054\n",
      "epoch =  3  step =  0  of total steps  53  loss =  0.6371962428092957\n",
      "epoch =  3  step =  20  of total steps  53  loss =  0.9482359886169434\n",
      "epoch =  3  step =  40  of total steps  53  loss =  0.6029321551322937\n",
      "epoch :  3  /  20  | TL :  0.7053439723995497  | VL :  1.6267695426940918\n",
      "epoch =  4  step =  0  of total steps  53  loss =  0.5467486381530762\n",
      "epoch =  4  step =  20  of total steps  53  loss =  0.43003547191619873\n",
      "epoch =  4  step =  40  of total steps  53  loss =  0.5372070670127869\n",
      "epoch :  4  /  20  | TL :  0.52543883222454  | VL :  1.79172945022583\n",
      "epoch =  5  step =  0  of total steps  53  loss =  0.1892009824514389\n",
      "epoch =  5  step =  20  of total steps  53  loss =  0.18094392120838165\n",
      "epoch =  5  step =  40  of total steps  53  loss =  0.4465976357460022\n",
      "epoch :  5  /  20  | TL :  0.4176533381050488  | VL :  1.8082866668701172\n",
      "epoch =  6  step =  0  of total steps  53  loss =  0.37600454688072205\n",
      "epoch =  6  step =  20  of total steps  53  loss =  0.33776405453681946\n",
      "epoch =  6  step =  40  of total steps  53  loss =  0.1627904325723648\n",
      "epoch :  6  /  20  | TL :  0.33331006533413565  | VL :  1.9278755187988281\n",
      "epoch =  7  step =  0  of total steps  53  loss =  0.36770763993263245\n",
      "epoch =  7  step =  20  of total steps  53  loss =  0.2693137526512146\n",
      "epoch =  7  step =  40  of total steps  53  loss =  0.20565547049045563\n",
      "epoch :  7  /  20  | TL :  0.2633881548173585  | VL :  2.1667397022247314\n",
      "epoch =  8  step =  0  of total steps  53  loss =  0.3650616407394409\n",
      "epoch =  8  step =  20  of total steps  53  loss =  0.31001660227775574\n",
      "epoch =  8  step =  40  of total steps  53  loss =  0.433852881193161\n",
      "epoch :  8  /  20  | TL :  0.22690981130976723  | VL :  2.3754069805145264\n",
      "epoch =  9  step =  0  of total steps  53  loss =  0.3450249135494232\n",
      "epoch =  9  step =  20  of total steps  53  loss =  0.15854167938232422\n",
      "epoch =  9  step =  40  of total steps  53  loss =  0.06693361699581146\n",
      "epoch :  9  /  20  | TL :  0.19011688123474707  | VL :  2.30026912689209\n",
      "epoch =  10  step =  0  of total steps  53  loss =  0.2728447914123535\n",
      "epoch =  10  step =  20  of total steps  53  loss =  0.06706482917070389\n",
      "epoch =  10  step =  40  of total steps  53  loss =  0.10478756576776505\n",
      "epoch :  10  /  20  | TL :  0.16214480500598  | VL :  2.549828052520752\n",
      "epoch =  11  step =  0  of total steps  53  loss =  0.17217911779880524\n",
      "epoch =  11  step =  20  of total steps  53  loss =  0.21478155255317688\n",
      "epoch =  11  step =  40  of total steps  53  loss =  0.3864859938621521\n",
      "epoch :  11  /  20  | TL :  0.15028001896088133  | VL :  2.976933479309082\n",
      "epoch =  12  step =  0  of total steps  53  loss =  0.5150769948959351\n",
      "epoch =  12  step =  20  of total steps  53  loss =  0.03301629424095154\n",
      "epoch =  12  step =  40  of total steps  53  loss =  0.08841502666473389\n",
      "epoch :  12  /  20  | TL :  0.14885865745819965  | VL :  3.0193653106689453\n",
      "epoch =  13  step =  0  of total steps  53  loss =  0.07705914229154587\n",
      "epoch =  13  step =  20  of total steps  53  loss =  0.19502082467079163\n",
      "epoch =  13  step =  40  of total steps  53  loss =  0.11056546866893768\n",
      "epoch :  13  /  20  | TL :  0.13063651183620095  | VL :  2.9248385429382324\n",
      "epoch =  14  step =  0  of total steps  53  loss =  0.007833669893443584\n",
      "epoch =  14  step =  20  of total steps  53  loss =  0.04382612556219101\n",
      "epoch =  14  step =  40  of total steps  53  loss =  0.009819846600294113\n",
      "epoch :  14  /  20  | TL :  0.11338771685940337  | VL :  3.336036443710327\n",
      "epoch =  15  step =  0  of total steps  53  loss =  0.07524285465478897\n",
      "epoch =  15  step =  20  of total steps  53  loss =  0.027302099391818047\n",
      "epoch =  15  step =  40  of total steps  53  loss =  0.00956228282302618\n",
      "epoch :  15  /  20  | TL :  0.08930130301148824  | VL :  3.709958076477051\n",
      "epoch =  16  step =  0  of total steps  53  loss =  0.2571288049221039\n",
      "epoch =  16  step =  20  of total steps  53  loss =  0.019665488973259926\n",
      "epoch =  16  step =  40  of total steps  53  loss =  0.030408071354031563\n",
      "epoch :  16  /  20  | TL :  0.10526358134570127  | VL :  3.978809356689453\n",
      "epoch =  17  step =  0  of total steps  53  loss =  0.2800046503543854\n",
      "epoch =  17  step =  20  of total steps  53  loss =  0.22583867609500885\n",
      "epoch =  17  step =  40  of total steps  53  loss =  0.107553631067276\n",
      "epoch :  17  /  20  | TL :  0.09066196008286667  | VL :  3.73211669921875\n",
      "epoch =  18  step =  0  of total steps  53  loss =  0.11876635998487473\n",
      "epoch =  18  step =  20  of total steps  53  loss =  0.015819525346159935\n",
      "epoch =  18  step =  40  of total steps  53  loss =  0.15390397608280182\n",
      "epoch :  18  /  20  | TL :  0.08625393693625294  | VL :  3.946221113204956\n",
      "epoch =  19  step =  0  of total steps  53  loss =  0.032506443560123444\n",
      "epoch =  19  step =  20  of total steps  53  loss =  0.06263904273509979\n",
      "epoch =  19  step =  40  of total steps  53  loss =  0.012877905741333961\n",
      "epoch :  19  /  20  | TL :  0.06932220351223324  | VL :  3.774458646774292\n"
     ]
    }
   ],
   "source": [
    "num_epochs = 20\n",
    "total_step = len(trainset) // (train_batch_size * 150)\n",
    "train_loss_list = list()\n",
    "val_loss_list = list()\n",
    "min_val = 100\n",
    "for epoch in range(num_epochs):\n",
    "    trn = []\n",
    "    Net.train()\n",
    "    for i, (images, labels) in enumerate(trainloader) :\n",
    "        if torch.cuda.is_available():\n",
    "            images = Variable(images).cuda().float()\n",
    "            labels = Variable(labels).cuda()\n",
    "        else : \n",
    "            images = Variable(images).float()\n",
    "            labels = Variable(labels)\n",
    "        \n",
    "        _, target = torch.max(labels, 1)\n",
    "\n",
    "        y_pred = Net(images)\n",
    "        \n",
    "        loss = criterion(y_pred, target)\n",
    "        trn.append(loss.item())\n",
    "\n",
    "        optimizer.zero_grad()\n",
    "        loss.backward()\n",
    "#         torch.nn.utils.clip_grad_value_(Net.parameters(), 10)\n",
    "        optimizer.step()\n",
    "\n",
    "        if i % 20 == 0 :\n",
    "            print('epoch = ', epoch, ' step = ', i, ' of total steps ', total_step, ' loss = ', loss.item())\n",
    "            \n",
    "    train_loss = (sum(trn) / len(trn))\n",
    "    train_loss_list.append(train_loss)\n",
    "    \n",
    "    Net.eval()\n",
    "    val = []\n",
    "    with torch.no_grad() :\n",
    "        for i, (images, labels) in enumerate(valloader) :\n",
    "            if torch.cuda.is_available():\n",
    "                images = Variable(images).cuda().float()\n",
    "                labels = Variable(labels).cuda()\n",
    "            else : \n",
    "                images = Variable(images).float()\n",
    "                labels = Variable(labels)\n",
    "                \n",
    "            _, target = torch.max(labels, 1)\n",
    "\n",
    "            # Forward pass\n",
    "            outputs = Net(images)\n",
    "            loss = criterion(outputs, target)\n",
    "            val.append(loss)\n",
    "\n",
    "    val_loss = (sum(val) / len(val)).item()\n",
    "    val_loss_list.append(val_loss)\n",
    "    print('epoch : ', epoch, ' / ', num_epochs, ' | TL : ', train_loss, ' | VL : ', val_loss)\n",
    "    \n",
    "    if val_loss < min_val :\n",
    "        print('saving model')\n",
    "        min_val = val_loss\n",
    "        torch.save(Net.state_dict(), '../../saved_models/fc_classifier.pt')"
   ]
  },
  {
   "cell_type": "code",
   "execution_count": 10,
   "metadata": {},
   "outputs": [
    {
     "data": {
      "text/plain": [
       "[<matplotlib.lines.Line2D at 0x7feb7c2d44e0>,\n",
       " <matplotlib.lines.Line2D at 0x7feb7c2d46d8>]"
      ]
     },
     "execution_count": 10,
     "metadata": {},
     "output_type": "execute_result"
    },
    {
     "data": {
      "image/png": "[encoded data removed]",
      "text/plain": [
       "<Figure size 432x288 with 1 Axes>"
      ]
     },
     "metadata": {
      "needs_background": "light"
     },
     "output_type": "display_data"
    }
   ],
   "source": [
    "j = np.arange(20)\n",
    "plt.plot(j, train_loss_list, 'r', j, val_loss_list, 'g')"
   ]
  },
  {
   "cell_type": "code",
   "execution_count": 11,
   "metadata": {},
   "outputs": [
    {
     "data": {
      "text/plain": [
       "ConvNet(\n",
       "  (fc1): Linear(in_features=450, out_features=256, bias=True)\n",
       "  (fc2): Linear(in_features=256, out_features=128, bias=True)\n",
       "  (fc3): Linear(in_features=128, out_features=5, bias=True)\n",
       ")"
      ]
     },
     "execution_count": 11,
     "metadata": {},
     "output_type": "execute_result"
    }
   ],
   "source": [
    "def _get_accuracy(dataloader):\n",
    "    total = 0\n",
    "    correct = 0\n",
    "    Net.eval()\n",
    "    for i, (images, labels) in enumerate(dataloader):\n",
    "        images = Variable(images).float()\n",
    "        labels = Variable(labels).float()\n",
    "\n",
    "        outputs = Net(images)\n",
    "    \n",
    "        _, label_ind = torch.max(labels, 1)\n",
    "        _, pred_ind = torch.max(outputs, 1)\n",
    "        \n",
    "        # converting to numpy arrays\n",
    "        label_ind = label_ind.data.numpy()\n",
    "        pred_ind = pred_ind.data.numpy()\n",
    "        \n",
    "        # get difference\n",
    "        diff_ind = label_ind - pred_ind\n",
    "        # correctly classified will be 1 and will get added\n",
    "        # incorrectly classified will be 0\n",
    "        correct += np.count_nonzero(diff_ind == 0)\n",
    "        total += len(diff_ind)\n",
    "\n",
    "    accuracy = correct / total\n",
    "    # print(len(diff_ind))\n",
    "    return accuracy\n",
    "\n",
    "Net.cpu()\n",
    "# _get_accuracy(trainloader)"
   ]
  },
  {
   "cell_type": "code",
   "execution_count": 12,
   "metadata": {},
   "outputs": [
    {
     "name": "stdout",
     "output_type": "stream",
     "text": [
      "0.9858490566037735\n",
      "0.25\n",
      "0.375\n"
     ]
    }
   ],
   "source": [
    "print(_get_accuracy(trainloader))\n",
    "print(_get_accuracy(testloader))\n",
    "print(_get_accuracy(valloader))"
   ]
  },
  {
   "cell_type": "markdown",
   "metadata": {},
   "source": [
    "#### Directly training NNs on raw data doesn't work well (network overfits most of the time). So, we can try to use some pre-processing to the data before training (like running mean, running std deviation, running rms, etc.)\n",
    "\n",
    "### PyTorch implementation of `running_mean`"
   ]
  },
  {
   "cell_type": "code",
   "execution_count": 5,
   "metadata": {},
   "outputs": [],
   "source": [
    "def running_mean(signal, window_size = 10):\n",
    "    ''' Returns running mean of 3D signal (batch_size, length, channels)\n",
    "    '''\n",
    "    mean = torch.zeros_like(signal)\n",
    "    for i in range(signal.shape[0]) :\n",
    "        for j in range(signal.shape[1] - window_size) : \n",
    "            mean[i][j] = signal[i][j : j + window_size].mean(dim = 0)\n",
    "            \n",
    "    for i in range(signal.shape[0]) :\n",
    "        for j in range(signal.shape[1] - window_size, signal.shape[1]) :\n",
    "            mean[i][j] = signal[i][j]\n",
    "            \n",
    "    return mean"
   ]
  },
  {
   "cell_type": "markdown",
   "metadata": {},
   "source": [
    "### Shows working of `running_mean` function"
   ]
  },
  {
   "cell_type": "code",
   "execution_count": 8,
   "metadata": {},
   "outputs": [
    {
     "name": "stdout",
     "output_type": "stream",
     "text": [
      "torch.Size([8, 150, 3])\n"
     ]
    },
    {
     "data": {
      "text/plain": [
       "[<matplotlib.lines.Line2D at 0x7f2bb62ed7f0>,\n",
       " <matplotlib.lines.Line2D at 0x7f2bb62ed940>]"
      ]
     },
     "execution_count": 8,
     "metadata": {},
     "output_type": "execute_result"
    },
    {
     "data": {
      "image/png": "[encoded data removed]",
      "text/plain": [
       "<Figure size 432x288 with 1 Axes>"
      ]
     },
     "metadata": {
      "needs_background": "light"
     },
     "output_type": "display_data"
    }
   ],
   "source": [
    "signal, label = next(iter(trainloader))\n",
    "# print(signal.shape)\n",
    "# print(signal[2].shape)\n",
    "# print(signal[2].mean(dim = 0).shape)\n",
    "# print(signal[2][ : 10].mean(dim = 0).shape)\n",
    "# print(signal[1][2].shape)\n",
    "mean = running_mean(signal, window_size = 5)\n",
    "print(mean.shape)\n",
    "sig_ = signal[0].transpose(0, 1)\n",
    "mean_ = mean[0].transpose(0, 1)\n",
    "t = range(150)\n",
    "plt.plot(t, sig_[1].data.numpy(), 'r', t, mean_[1].data.numpy(), 'b')"
   ]
  },
  {
   "cell_type": "markdown",
   "metadata": {},
   "source": [
    "### Training network using `running_mean` processed data"
   ]
  },
  {
   "cell_type": "code",
   "execution_count": 9,
   "metadata": {},
   "outputs": [],
   "source": [
    "class ConvNet(nn.Module):\n",
    "    def __init__(self):\n",
    "        super(ConvNet, self).__init__()\n",
    "        # defining layers\n",
    "        self.conv1 = nn.Conv1d(3, 5, 3)\n",
    "        self.fc1 = nn.Linear(148 * 5, 5)\n",
    "        \n",
    "        nn.init.xavier_uniform_(self.conv1.weight, gain = nn.init.calculate_gain('relu'))\n",
    "        nn.init.xavier_uniform_(self.fc1.weight, gain = nn.init.calculate_gain('sigmoid'))\n",
    "        \n",
    "    def forward(self, signal):\n",
    "        signal_ = running_mean(signal, window_size = 5)\n",
    "        signal_ = signal_.view(-1, 3, 150)\n",
    "        out = F.relu(self.conv1(signal_))\n",
    "        out = out.view(-1, 148 * 5)\n",
    "        out = F.log_softmax(self.fc1(out), dim = 1)\n",
    "        return out\n",
    "\n",
    "Net = ConvNet()\n",
    "if torch.cuda.is_available():\n",
    "    print('Model on GPU')\n",
    "    Net = Net.cuda()"
   ]
  },
  {
   "cell_type": "code",
   "execution_count": 10,
   "metadata": {},
   "outputs": [],
   "source": [
    "import torch.optim as optim\n",
    "criterion = nn.CrossEntropyLoss()\n",
    "optimizer = optim.Adam(Net.parameters(), lr = 1e-3, weight_decay = 1e-3)"
   ]
  },
  {
   "cell_type": "code",
   "execution_count": 11,
   "metadata": {},
   "outputs": [
    {
     "name": "stdout",
     "output_type": "stream",
     "text": [
      "epoch =  0  step =  0  of total steps  106  loss =  1.5382548570632935\n",
      "epoch =  0  step =  20  of total steps  106  loss =  2.0540518760681152\n",
      "epoch =  0  step =  40  of total steps  106  loss =  1.498380422592163\n",
      "epoch =  0  step =  60  of total steps  106  loss =  1.5275654792785645\n",
      "epoch =  0  step =  80  of total steps  106  loss =  1.9702608585357666\n",
      "epoch =  0  step =  100  of total steps  106  loss =  1.3912906646728516\n",
      "epoch :  0  /  20  | TL :  1.5100063715340957  | VL :  1.523334264755249\n",
      "saving model\n",
      "epoch =  1  step =  0  of total steps  106  loss =  1.4645376205444336\n",
      "epoch =  1  step =  20  of total steps  106  loss =  1.71355402469635\n",
      "epoch =  1  step =  40  of total steps  106  loss =  1.6008198261260986\n",
      "epoch =  1  step =  60  of total steps  106  loss =  1.5929672718048096\n",
      "epoch =  1  step =  80  of total steps  106  loss =  1.2262083292007446\n",
      "epoch =  1  step =  100  of total steps  106  loss =  1.345224380493164\n",
      "epoch :  1  /  20  | TL :  1.4471513145374801  | VL :  1.5233323574066162\n",
      "saving model\n",
      "epoch =  2  step =  0  of total steps  106  loss =  1.2329537868499756\n",
      "epoch =  2  step =  20  of total steps  106  loss =  1.5427677631378174\n",
      "epoch =  2  step =  40  of total steps  106  loss =  1.309971570968628\n",
      "epoch =  2  step =  60  of total steps  106  loss =  1.1091303825378418\n",
      "epoch =  2  step =  80  of total steps  106  loss =  1.4347128868103027\n",
      "epoch =  2  step =  100  of total steps  106  loss =  1.2824145555496216\n",
      "epoch :  2  /  20  | TL :  1.3997872904786524  | VL :  1.4941520690917969\n",
      "saving model\n",
      "epoch =  3  step =  0  of total steps  106  loss =  1.215334177017212\n",
      "epoch =  3  step =  20  of total steps  106  loss =  1.4007498025894165\n",
      "epoch =  3  step =  40  of total steps  106  loss =  1.1808557510375977\n",
      "epoch =  3  step =  60  of total steps  106  loss =  1.4348599910736084\n",
      "epoch =  3  step =  80  of total steps  106  loss =  0.9146389961242676\n",
      "epoch =  3  step =  100  of total steps  106  loss =  1.1072851419448853\n",
      "epoch :  3  /  20  | TL :  1.3645890124563902  | VL :  1.5043957233428955\n",
      "epoch =  4  step =  0  of total steps  106  loss =  1.3918367624282837\n",
      "epoch =  4  step =  20  of total steps  106  loss =  1.2513656616210938\n",
      "epoch =  4  step =  40  of total steps  106  loss =  1.3268520832061768\n",
      "epoch =  4  step =  60  of total steps  106  loss =  1.3507840633392334\n",
      "epoch =  4  step =  80  of total steps  106  loss =  1.0180280208587646\n",
      "epoch =  4  step =  100  of total steps  106  loss =  1.471154808998108\n",
      "epoch :  4  /  20  | TL :  1.3351238977234319  | VL :  1.5054574012756348\n",
      "epoch =  5  step =  0  of total steps  106  loss =  1.5063996315002441\n",
      "epoch =  5  step =  20  of total steps  106  loss =  1.4793708324432373\n",
      "epoch =  5  step =  40  of total steps  106  loss =  1.102637767791748\n",
      "epoch =  5  step =  60  of total steps  106  loss =  1.332414984703064\n",
      "epoch =  5  step =  80  of total steps  106  loss =  1.406476378440857\n",
      "epoch =  5  step =  100  of total steps  106  loss =  1.571319580078125\n",
      "epoch :  5  /  20  | TL :  1.3172203521683532  | VL :  1.5095329284667969\n",
      "epoch =  6  step =  0  of total steps  106  loss =  1.332930326461792\n",
      "epoch =  6  step =  20  of total steps  106  loss =  0.817150354385376\n",
      "epoch =  6  step =  40  of total steps  106  loss =  1.310502290725708\n",
      "epoch =  6  step =  60  of total steps  106  loss =  1.1230974197387695\n",
      "epoch =  6  step =  80  of total steps  106  loss =  1.1358942985534668\n",
      "epoch =  6  step =  100  of total steps  106  loss =  1.3676239252090454\n",
      "epoch :  6  /  20  | TL :  1.2952421543733128  | VL :  1.4997284412384033\n",
      "epoch =  7  step =  0  of total steps  106  loss =  1.0675426721572876\n",
      "epoch =  7  step =  20  of total steps  106  loss =  1.2712823152542114\n",
      "epoch =  7  step =  40  of total steps  106  loss =  1.7227050065994263\n",
      "epoch =  7  step =  60  of total steps  106  loss =  1.0448471307754517\n",
      "epoch =  7  step =  80  of total steps  106  loss =  1.1519811153411865\n",
      "epoch =  7  step =  100  of total steps  106  loss =  1.1787474155426025\n",
      "epoch :  7  /  20  | TL :  1.273292603357783  | VL :  1.5667688846588135\n",
      "epoch =  8  step =  0  of total steps  106  loss =  1.2947014570236206\n",
      "epoch =  8  step =  20  of total steps  106  loss =  1.331595540046692\n",
      "epoch =  8  step =  40  of total steps  106  loss =  1.7344235181808472\n",
      "epoch =  8  step =  60  of total steps  106  loss =  1.3282109498977661\n",
      "epoch =  8  step =  80  of total steps  106  loss =  1.2067127227783203\n",
      "epoch =  8  step =  100  of total steps  106  loss =  1.3777050971984863\n",
      "epoch :  8  /  20  | TL :  1.269154667292001  | VL :  1.500510573387146\n",
      "epoch =  9  step =  0  of total steps  106  loss =  1.0341464281082153\n",
      "epoch =  9  step =  20  of total steps  106  loss =  1.2561731338500977\n",
      "epoch =  9  step =  40  of total steps  106  loss =  1.4082974195480347\n",
      "epoch =  9  step =  60  of total steps  106  loss =  1.775622844696045\n",
      "epoch =  9  step =  80  of total steps  106  loss =  1.4095345735549927\n",
      "epoch =  9  step =  100  of total steps  106  loss =  1.4117883443832397\n",
      "epoch :  9  /  20  | TL :  1.2502197820060659  | VL :  1.521846055984497\n",
      "epoch =  10  step =  0  of total steps  106  loss =  1.3411352634429932\n",
      "epoch =  10  step =  20  of total steps  106  loss =  1.3837403059005737\n",
      "epoch =  10  step =  40  of total steps  106  loss =  1.4673622846603394\n",
      "epoch =  10  step =  60  of total steps  106  loss =  1.316107988357544\n",
      "epoch =  10  step =  80  of total steps  106  loss =  1.3640894889831543\n",
      "epoch =  10  step =  100  of total steps  106  loss =  1.402716040611267\n",
      "epoch :  10  /  20  | TL :  1.235899564230217  | VL :  1.5154902935028076\n",
      "epoch =  11  step =  0  of total steps  106  loss =  1.0129417181015015\n",
      "epoch =  11  step =  20  of total steps  106  loss =  1.25785231590271\n",
      "epoch =  11  step =  40  of total steps  106  loss =  0.9417282938957214\n",
      "epoch =  11  step =  60  of total steps  106  loss =  1.315420389175415\n",
      "epoch =  11  step =  80  of total steps  106  loss =  1.248000144958496\n",
      "epoch =  11  step =  100  of total steps  106  loss =  1.468817114830017\n",
      "epoch :  11  /  20  | TL :  1.219864546128039  | VL :  1.5269287824630737\n",
      "epoch =  12  step =  0  of total steps  106  loss =  1.072914481163025\n",
      "epoch =  12  step =  20  of total steps  106  loss =  1.6469968557357788\n",
      "epoch =  12  step =  40  of total steps  106  loss =  1.0702228546142578\n",
      "epoch =  12  step =  60  of total steps  106  loss =  1.042405366897583\n",
      "epoch =  12  step =  80  of total steps  106  loss =  0.9300298690795898\n",
      "epoch =  12  step =  100  of total steps  106  loss =  1.050620436668396\n",
      "epoch :  12  /  20  | TL :  1.2084756386729907  | VL :  1.4961720705032349\n",
      "epoch =  13  step =  0  of total steps  106  loss =  1.303767204284668\n",
      "epoch =  13  step =  20  of total steps  106  loss =  0.9433697462081909\n",
      "epoch =  13  step =  40  of total steps  106  loss =  1.1909596920013428\n",
      "epoch =  13  step =  60  of total steps  106  loss =  1.5063748359680176\n",
      "epoch =  13  step =  80  of total steps  106  loss =  1.2780739068984985\n",
      "epoch =  13  step =  100  of total steps  106  loss =  1.1332906484603882\n",
      "epoch :  13  /  20  | TL :  1.2014180815444802  | VL :  1.4984209537506104\n",
      "epoch =  14  step =  0  of total steps  106  loss =  1.1174927949905396\n",
      "epoch =  14  step =  20  of total steps  106  loss =  0.9627321362495422\n",
      "epoch =  14  step =  40  of total steps  106  loss =  1.3179023265838623\n",
      "epoch =  14  step =  60  of total steps  106  loss =  1.2450432777404785\n",
      "epoch =  14  step =  80  of total steps  106  loss =  1.3552604913711548\n",
      "epoch =  14  step =  100  of total steps  106  loss =  1.171013355255127\n",
      "epoch :  14  /  20  | TL :  1.1881286906746198  | VL :  1.524522304534912\n",
      "epoch =  15  step =  0  of total steps  106  loss =  0.9147519469261169\n",
      "epoch =  15  step =  20  of total steps  106  loss =  0.9139739274978638\n",
      "epoch =  15  step =  40  of total steps  106  loss =  1.1085238456726074\n",
      "epoch =  15  step =  60  of total steps  106  loss =  1.386927843093872\n",
      "epoch =  15  step =  80  of total steps  106  loss =  1.2659802436828613\n",
      "epoch =  15  step =  100  of total steps  106  loss =  1.0846874713897705\n",
      "epoch :  15  /  20  | TL :  1.177204598795693  | VL :  1.5302832126617432\n",
      "epoch =  16  step =  0  of total steps  106  loss =  0.8912366628646851\n",
      "epoch =  16  step =  20  of total steps  106  loss =  1.073879361152649\n",
      "epoch =  16  step =  40  of total steps  106  loss =  1.0021015405654907\n",
      "epoch =  16  step =  60  of total steps  106  loss =  1.016965389251709\n",
      "epoch =  16  step =  80  of total steps  106  loss =  1.375260829925537\n",
      "epoch =  16  step =  100  of total steps  106  loss =  1.3518165349960327\n",
      "epoch :  16  /  20  | TL :  1.1653421852948531  | VL :  1.5525832176208496\n",
      "epoch =  17  step =  0  of total steps  106  loss =  1.200771450996399\n",
      "epoch =  17  step =  20  of total steps  106  loss =  1.238407015800476\n",
      "epoch =  17  step =  40  of total steps  106  loss =  1.2281763553619385\n",
      "epoch =  17  step =  60  of total steps  106  loss =  0.7023838758468628\n",
      "epoch =  17  step =  80  of total steps  106  loss =  1.1319007873535156\n",
      "epoch =  17  step =  100  of total steps  106  loss =  1.0166105031967163\n",
      "epoch :  17  /  20  | TL :  1.1602540685320801  | VL :  1.5532773733139038\n",
      "epoch =  18  step =  0  of total steps  106  loss =  1.5999433994293213\n",
      "epoch =  18  step =  20  of total steps  106  loss =  1.074840784072876\n",
      "epoch =  18  step =  40  of total steps  106  loss =  0.8017275333404541\n",
      "epoch =  18  step =  60  of total steps  106  loss =  1.3507561683654785\n",
      "epoch =  18  step =  80  of total steps  106  loss =  1.2545119524002075\n",
      "epoch =  18  step =  100  of total steps  106  loss =  0.9698358178138733\n",
      "epoch :  18  /  20  | TL :  1.1591409208639614  | VL :  1.5474454164505005\n",
      "epoch =  19  step =  0  of total steps  106  loss =  1.2971397638320923\n",
      "epoch =  19  step =  20  of total steps  106  loss =  0.6850504279136658\n",
      "epoch =  19  step =  40  of total steps  106  loss =  0.9271788001060486\n",
      "epoch =  19  step =  60  of total steps  106  loss =  1.5501484870910645\n",
      "epoch =  19  step =  80  of total steps  106  loss =  1.1575143337249756\n",
      "epoch =  19  step =  100  of total steps  106  loss =  1.3864907026290894\n",
      "epoch :  19  /  20  | TL :  1.141646274418201  | VL :  1.5801435708999634\n"
     ]
    }
   ],
   "source": [
    "num_epochs = 20\n",
    "total_step = len(trainset) // (train_batch_size * 150)\n",
    "train_loss_list = list()\n",
    "val_loss_list = list()\n",
    "min_val = 100\n",
    "for epoch in range(num_epochs):\n",
    "    trn = []\n",
    "    Net.train()\n",
    "    for i, (images, labels) in enumerate(trainloader) :\n",
    "        if torch.cuda.is_available():\n",
    "            images = Variable(images).cuda().float()\n",
    "            labels = Variable(labels).cuda()\n",
    "        else : \n",
    "            images = Variable(images).float()\n",
    "            labels = Variable(labels)\n",
    "        \n",
    "        _, target = torch.max(labels, 1)\n",
    "\n",
    "        y_pred = Net(images)\n",
    "        \n",
    "        loss = criterion(y_pred, target)\n",
    "        trn.append(loss.item())\n",
    "\n",
    "        optimizer.zero_grad()\n",
    "        loss.backward()\n",
    "#         torch.nn.utils.clip_grad_value_(Net.parameters(), 10)\n",
    "        optimizer.step()\n",
    "\n",
    "        if i % 20 == 0 :\n",
    "            print('epoch = ', epoch, ' step = ', i, ' of total steps ', total_step, ' loss = ', loss.item())\n",
    "            \n",
    "    train_loss = (sum(trn) / len(trn))\n",
    "    train_loss_list.append(train_loss)\n",
    "    \n",
    "    Net.eval()\n",
    "    val = []\n",
    "    with torch.no_grad() :\n",
    "        for i, (images, labels) in enumerate(valloader) :\n",
    "            if torch.cuda.is_available():\n",
    "                images = Variable(images).cuda().float()\n",
    "                labels = Variable(labels).cuda()\n",
    "            else : \n",
    "                images = Variable(images).float()\n",
    "                labels = Variable(labels)\n",
    "                \n",
    "            _, target = torch.max(labels, 1)\n",
    "\n",
    "            # Forward pass\n",
    "            outputs = Net(images)\n",
    "            loss = criterion(outputs, target)\n",
    "            val.append(loss)\n",
    "\n",
    "    val_loss = (sum(val) / len(val)).item()\n",
    "    val_loss_list.append(val_loss)\n",
    "    print('epoch : ', epoch, ' / ', num_epochs, ' | TL : ', train_loss, ' | VL : ', val_loss)\n",
    "    \n",
    "    if val_loss < min_val :\n",
    "        print('saving model')\n",
    "        min_val = val_loss\n",
    "        torch.save(Net.state_dict(), '1conv_softmax.pt')"
   ]
  },
  {
   "cell_type": "code",
   "execution_count": 12,
   "metadata": {},
   "outputs": [
    {
     "data": {
      "text/plain": [
       "[<matplotlib.lines.Line2D at 0x7f2bb5a01400>,\n",
       " <matplotlib.lines.Line2D at 0x7f2bb5a01550>]"
      ]
     },
     "execution_count": 12,
     "metadata": {},
     "output_type": "execute_result"
    },
    {
     "data": {
      "image/png": "[encoded data removed]",
      "text/plain": [
       "<Figure size 432x288 with 1 Axes>"
      ]
     },
     "metadata": {
      "needs_background": "light"
     },
     "output_type": "display_data"
    }
   ],
   "source": [
    "j = np.arange(20)\n",
    "plt.plot(j, train_loss_list, 'r', j, val_loss_list, 'g')"
   ]
  },
  {
   "cell_type": "code",
   "execution_count": 13,
   "metadata": {},
   "outputs": [],
   "source": [
    "def _get_accuracy(dataloader, Net):\n",
    "    total = 0\n",
    "    correct = 0\n",
    "    Net.eval()\n",
    "    for i, (images, labels) in enumerate(dataloader):\n",
    "        images = Variable(images).float()\n",
    "        labels = Variable(labels).float()\n",
    "\n",
    "        outputs = Net(images)\n",
    "    \n",
    "        _, label_ind = torch.max(labels, 1)\n",
    "        _, pred_ind = torch.max(outputs, 1)\n",
    "        \n",
    "        # converting to numpy arrays\n",
    "        label_ind = label_ind.data.numpy()\n",
    "        pred_ind = pred_ind.data.numpy()\n",
    "        \n",
    "        # get difference\n",
    "        diff_ind = label_ind - pred_ind\n",
    "        # correctly classified will be 1 and will get added\n",
    "        # incorrectly classified will be 0\n",
    "        correct += np.count_nonzero(diff_ind == 0)\n",
    "        total += len(diff_ind)\n",
    "\n",
    "    accuracy = correct / total\n",
    "    # print(len(diff_ind))\n",
    "    return accuracy\n",
    "\n",
    "Net = Net.cpu().eval()\n",
    "# _get_accuracy(trainloader)"
   ]
  },
  {
   "cell_type": "code",
   "execution_count": 14,
   "metadata": {},
   "outputs": [
    {
     "name": "stdout",
     "output_type": "stream",
     "text": [
      "0.5766509433962265\n",
      "0.4326923076923077\n",
      "0.375\n"
     ]
    }
   ],
   "source": [
    "print(_get_accuracy(trainloader, Net))\n",
    "print(_get_accuracy(testloader, Net))\n",
    "print(_get_accuracy(valloader, Net))"
   ]
  },
  {
   "cell_type": "code",
   "execution_count": 16,
   "metadata": {},
   "outputs": [
    {
     "name": "stdout",
     "output_type": "stream",
     "text": [
      "0.4339622641509434\n",
      "0.4326923076923077\n",
      "0.3557692307692308\n"
     ]
    }
   ],
   "source": [
    "testing_Net = ConvNet()\n",
    "testing_Net.load_state_dict(torch.load('1conv_softmax.pt'))\n",
    "testing_Net.eval()\n",
    "print(_get_accuracy(trainloader, testing_Net))\n",
    "print(_get_accuracy(testloader, testing_Net))\n",
    "print(_get_accuracy(valloader, testing_Net))"
   ]
  },
  {
   "cell_type": "markdown",
   "metadata": {},
   "source": [
    "#### Even using `running_mean` processed data, the network again overfits. Even increasing window size didn't help (decreasing won't help as it will be closer to raw data then). Increasing too much is also not helpful as the plot will get more and more flat. So, we need to try out other features."
   ]
  },
  {
   "cell_type": "markdown",
   "metadata": {},
   "source": [
    "### PyTorch implementation of running standard deviation"
   ]
  },
  {
   "cell_type": "code",
   "execution_count": 5,
   "metadata": {},
   "outputs": [],
   "source": [
    "def running_std_dev(signal, window_size = 10):\n",
    "    ''' Returns running standard deviation of 3D signal (batch_size, length, channels)\n",
    "    '''\n",
    "    mean = torch.zeros_like(signal)\n",
    "    for i in range(signal.shape[0]) :\n",
    "        for j in range(signal.shape[1] - window_size) : \n",
    "            mean[i][j] = signal[i][j : j + window_size].std(dim = 0)\n",
    "            \n",
    "    for i in range(signal.shape[0]) :\n",
    "        for j in range(signal.shape[1] - window_size, signal.shape[1]) :\n",
    "            mean[i][j] = signal[i][j]\n",
    "            \n",
    "    return mean"
   ]
  },
  {
   "cell_type": "markdown",
   "metadata": {},
   "source": [
    "### Shows working of `running_std_dev` function"
   ]
  },
  {
   "cell_type": "code",
   "execution_count": 6,
   "metadata": {},
   "outputs": [
    {
     "name": "stdout",
     "output_type": "stream",
     "text": [
      "torch.Size([8, 150, 3])\n"
     ]
    },
    {
     "data": {
      "text/plain": [
       "[<matplotlib.lines.Line2D at 0x7f08f04f5630>,\n",
       " <matplotlib.lines.Line2D at 0x7f08f04f5780>]"
      ]
     },
     "execution_count": 6,
     "metadata": {},
     "output_type": "execute_result"
    },
    {
     "data": {
      "image/png": "[encoded data removed]",
      "text/plain": [
       "<Figure size 432x288 with 1 Axes>"
      ]
     },
     "metadata": {
      "needs_background": "light"
     },
     "output_type": "display_data"
    }
   ],
   "source": [
    "signal, label = next(iter(trainloader))\n",
    "mean = running_std_dev(signal, window_size = 5)\n",
    "print(mean.shape)\n",
    "sig_ = signal[0].transpose(0, 1)\n",
    "mean_ = mean[0].transpose(0, 1)\n",
    "t = range(150)\n",
    "plt.plot(t, sig_[0].data.numpy(), 'r', t, mean_[0].data.numpy(), 'b')"
   ]
  },
  {
   "cell_type": "markdown",
   "metadata": {},
   "source": [
    "### Training network using `running_std_dev` processed data"
   ]
  },
  {
   "cell_type": "code",
   "execution_count": 52,
   "metadata": {},
   "outputs": [],
   "source": [
    "class ConvNet(nn.Module):\n",
    "    def __init__(self):\n",
    "        super(ConvNet, self).__init__()\n",
    "        # defining layers\n",
    "        self.conv1 = nn.Conv1d(3, 5, 3)\n",
    "        self.conv2 = nn.Conv1d(5, 5, 3)\n",
    "        self.fc1 = nn.Linear(146 * 5, 5)\n",
    "        self.mp = nn.MaxPool1d(2, 2)\n",
    "        self.dropout = nn.Dropout(p = 0.5)\n",
    "        self.bn1 = nn.BatchNorm1d(num_features = 5)\n",
    "        self.bn2 = nn.BatchNorm1d(num_features = 5)\n",
    "        self.bnfc = nn.BatchNorm1d(num_features = 5)\n",
    "        \n",
    "        nn.init.xavier_uniform_(self.conv1.weight, gain = nn.init.calculate_gain('relu'))\n",
    "        nn.init.xavier_uniform_(self.conv2.weight, gain = nn.init.calculate_gain('relu'))\n",
    "        nn.init.xavier_uniform_(self.fc1.weight, gain = nn.init.calculate_gain('sigmoid'))\n",
    "        \n",
    "    def forward(self, signal):\n",
    "        signal_ = running_std_dev(signal, window_size = 10)\n",
    "        signal_ = signal_.view(-1, 3, 150)\n",
    "        out = F.relu(self.conv1(signal_))\n",
    "        out = self.bn1(out)\n",
    "        out = F.relu(self.conv2(out))\n",
    "        out = self.bn2(out)\n",
    "        out = out.view(-1, 146 * 5)\n",
    "        out = F.log_softmax(self.bnfc(self.fc1(out)), dim = 1)\n",
    "        return out\n",
    "\n",
    "Net = ConvNet()\n",
    "if torch.cuda.is_available():\n",
    "    print('Model on GPU')\n",
    "    Net = Net.cuda()"
   ]
  },
  {
   "cell_type": "code",
   "execution_count": 50,
   "metadata": {},
   "outputs": [],
   "source": [
    "import torch.optim as optim\n",
    "criterion = nn.CrossEntropyLoss()\n",
    "optimizer = optim.Adam(Net.parameters(), lr = 1e-3)"
   ]
  },
  {
   "cell_type": "code",
   "execution_count": 51,
   "metadata": {
    "scrolled": true
   },
   "outputs": [
    {
     "name": "stdout",
     "output_type": "stream",
     "text": [
      "epoch =  0  step =  0  of total steps  100  loss =  1.7535799741744995\n",
      "epoch =  0  step =  20  of total steps  100  loss =  1.4038560390472412\n",
      "epoch =  0  step =  40  of total steps  100  loss =  1.8173305988311768\n",
      "epoch =  0  step =  60  of total steps  100  loss =  1.44193696975708\n",
      "epoch =  0  step =  80  of total steps  100  loss =  1.6700127124786377\n",
      "epoch :  0  /  30  | TL :  1.6008486104011537  | VL :  1.495129942893982\n",
      "saving model\n",
      "epoch =  1  step =  0  of total steps  100  loss =  1.7376351356506348\n",
      "epoch =  1  step =  20  of total steps  100  loss =  1.5920422077178955\n",
      "epoch =  1  step =  40  of total steps  100  loss =  1.5215744972229004\n",
      "epoch =  1  step =  60  of total steps  100  loss =  1.3584239482879639\n",
      "epoch =  1  step =  80  of total steps  100  loss =  1.5897986888885498\n",
      "epoch :  1  /  30  | TL :  1.5530111646652223  | VL :  1.4726649522781372\n",
      "saving model\n",
      "epoch =  2  step =  0  of total steps  100  loss =  1.594433069229126\n",
      "epoch =  2  step =  20  of total steps  100  loss =  1.4170478582382202\n",
      "epoch =  2  step =  40  of total steps  100  loss =  1.4120570421218872\n",
      "epoch =  2  step =  60  of total steps  100  loss =  1.721779227256775\n",
      "epoch =  2  step =  80  of total steps  100  loss =  1.5191254615783691\n",
      "epoch :  2  /  30  | TL :  1.5364567971229552  | VL :  1.4553524255752563\n",
      "saving model\n",
      "epoch =  3  step =  0  of total steps  100  loss =  1.6294653415679932\n",
      "epoch =  3  step =  20  of total steps  100  loss =  1.5437837839126587\n",
      "epoch =  3  step =  40  of total steps  100  loss =  1.541150450706482\n",
      "epoch =  3  step =  60  of total steps  100  loss =  1.4942952394485474\n",
      "epoch =  3  step =  80  of total steps  100  loss =  1.4029902219772339\n",
      "epoch :  3  /  30  | TL :  1.534418168067932  | VL :  1.4539934396743774\n",
      "saving model\n",
      "epoch =  4  step =  0  of total steps  100  loss =  1.361497163772583\n",
      "epoch =  4  step =  20  of total steps  100  loss =  1.637651801109314\n",
      "epoch =  4  step =  40  of total steps  100  loss =  1.5973390340805054\n",
      "epoch =  4  step =  60  of total steps  100  loss =  1.2918139696121216\n",
      "epoch =  4  step =  80  of total steps  100  loss =  1.389025092124939\n",
      "epoch :  4  /  30  | TL :  1.5201689100265503  | VL :  1.446001410484314\n",
      "saving model\n",
      "epoch =  5  step =  0  of total steps  100  loss =  1.502157211303711\n",
      "epoch =  5  step =  20  of total steps  100  loss =  1.433018445968628\n",
      "epoch =  5  step =  40  of total steps  100  loss =  1.7662243843078613\n",
      "epoch =  5  step =  60  of total steps  100  loss =  1.690007209777832\n",
      "epoch =  5  step =  80  of total steps  100  loss =  1.5118800401687622\n",
      "epoch :  5  /  30  | TL :  1.5109144151210785  | VL :  1.457288146018982\n",
      "epoch =  6  step =  0  of total steps  100  loss =  1.6296179294586182\n",
      "epoch =  6  step =  20  of total steps  100  loss =  1.72256600856781\n",
      "epoch =  6  step =  40  of total steps  100  loss =  1.7374345064163208\n",
      "epoch =  6  step =  60  of total steps  100  loss =  1.5297260284423828\n",
      "epoch =  6  step =  80  of total steps  100  loss =  1.6637169122695923\n",
      "epoch :  6  /  30  | TL :  1.5085696876049042  | VL :  1.4513442516326904\n",
      "epoch =  7  step =  0  of total steps  100  loss =  1.3526595830917358\n",
      "epoch =  7  step =  20  of total steps  100  loss =  1.4559710025787354\n",
      "epoch =  7  step =  40  of total steps  100  loss =  1.1717544794082642\n",
      "epoch =  7  step =  60  of total steps  100  loss =  1.4328370094299316\n",
      "epoch =  7  step =  80  of total steps  100  loss =  1.3998860120773315\n",
      "epoch :  7  /  30  | TL :  1.5036487579345703  | VL :  1.4357163906097412\n",
      "saving model\n",
      "epoch =  8  step =  0  of total steps  100  loss =  1.5953172445297241\n",
      "epoch =  8  step =  20  of total steps  100  loss =  1.510969877243042\n",
      "epoch =  8  step =  40  of total steps  100  loss =  1.4139848947525024\n",
      "epoch =  8  step =  60  of total steps  100  loss =  1.5326756238937378\n",
      "epoch =  8  step =  80  of total steps  100  loss =  1.0986673831939697\n",
      "epoch :  8  /  30  | TL :  1.4976671361923217  | VL :  1.4304059743881226\n",
      "saving model\n",
      "epoch =  9  step =  0  of total steps  100  loss =  1.6165395975112915\n",
      "epoch =  9  step =  20  of total steps  100  loss =  1.3735309839248657\n",
      "epoch =  9  step =  40  of total steps  100  loss =  1.2698614597320557\n",
      "epoch =  9  step =  60  of total steps  100  loss =  1.371591329574585\n",
      "epoch =  9  step =  80  of total steps  100  loss =  1.390161156654358\n",
      "epoch :  9  /  30  | TL :  1.483205621242523  | VL :  1.42489492893219\n",
      "saving model\n",
      "epoch =  10  step =  0  of total steps  100  loss =  1.4987258911132812\n",
      "epoch =  10  step =  20  of total steps  100  loss =  1.411742925643921\n",
      "epoch =  10  step =  40  of total steps  100  loss =  1.8639081716537476\n",
      "epoch =  10  step =  60  of total steps  100  loss =  1.24309241771698\n",
      "epoch =  10  step =  80  of total steps  100  loss =  1.6654512882232666\n",
      "epoch :  10  /  30  | TL :  1.4865060877799987  | VL :  1.4129587411880493\n",
      "saving model\n",
      "epoch =  11  step =  0  of total steps  100  loss =  1.1995155811309814\n",
      "epoch =  11  step =  20  of total steps  100  loss =  1.5201667547225952\n",
      "epoch =  11  step =  40  of total steps  100  loss =  1.280012607574463\n",
      "epoch =  11  step =  60  of total steps  100  loss =  1.6966906785964966\n",
      "epoch =  11  step =  80  of total steps  100  loss =  1.339066743850708\n",
      "epoch :  11  /  30  | TL :  1.4746693027019502  | VL :  1.410372257232666\n",
      "saving model\n",
      "epoch =  12  step =  0  of total steps  100  loss =  1.5775830745697021\n",
      "epoch =  12  step =  20  of total steps  100  loss =  1.0474673509597778\n",
      "epoch =  12  step =  40  of total steps  100  loss =  1.7040984630584717\n",
      "epoch =  12  step =  60  of total steps  100  loss =  1.3802882432937622\n",
      "epoch =  12  step =  80  of total steps  100  loss =  1.2484171390533447\n",
      "epoch :  12  /  30  | TL :  1.4733078861236573  | VL :  1.4176486730575562\n",
      "epoch =  13  step =  0  of total steps  100  loss =  1.547569751739502\n",
      "epoch =  13  step =  20  of total steps  100  loss =  1.5403473377227783\n",
      "epoch =  13  step =  40  of total steps  100  loss =  1.38661789894104\n",
      "epoch =  13  step =  60  of total steps  100  loss =  1.5136066675186157\n",
      "epoch =  13  step =  80  of total steps  100  loss =  1.5323901176452637\n"
     ]
    },
    {
     "ename": "KeyboardInterrupt",
     "evalue": "",
     "output_type": "error",
     "traceback": [
      "\u001b[0;31m---------------------------------------------------------------------------\u001b[0m",
      "\u001b[0;31mKeyboardInterrupt\u001b[0m                         Traceback (most recent call last)",
      "\u001b[0;32m<ipython-input-51-30de42488699>\u001b[0m in \u001b[0;36m<module>\u001b[0;34m\u001b[0m\n\u001b[1;32m     17\u001b[0m         \u001b[0m_\u001b[0m\u001b[0;34m,\u001b[0m \u001b[0mtarget\u001b[0m \u001b[0;34m=\u001b[0m \u001b[0mtorch\u001b[0m\u001b[0;34m.\u001b[0m\u001b[0mmax\u001b[0m\u001b[0;34m(\u001b[0m\u001b[0mlabels\u001b[0m\u001b[0;34m,\u001b[0m \u001b[0;36m1\u001b[0m\u001b[0;34m)\u001b[0m\u001b[0;34m\u001b[0m\u001b[0;34m\u001b[0m\u001b[0m\n\u001b[1;32m     18\u001b[0m \u001b[0;34m\u001b[0m\u001b[0m\n\u001b[0;32m---> 19\u001b[0;31m         \u001b[0my_pred\u001b[0m \u001b[0;34m=\u001b[0m \u001b[0mNet\u001b[0m\u001b[0;34m(\u001b[0m\u001b[0mimages\u001b[0m\u001b[0;34m)\u001b[0m\u001b[0;34m\u001b[0m\u001b[0;34m\u001b[0m\u001b[0m\n\u001b[0m\u001b[1;32m     20\u001b[0m \u001b[0;34m\u001b[0m\u001b[0m\n\u001b[1;32m     21\u001b[0m         \u001b[0mloss\u001b[0m \u001b[0;34m=\u001b[0m \u001b[0mcriterion\u001b[0m\u001b[0;34m(\u001b[0m\u001b[0my_pred\u001b[0m\u001b[0;34m,\u001b[0m \u001b[0mtarget\u001b[0m\u001b[0;34m)\u001b[0m\u001b[0;34m\u001b[0m\u001b[0;34m\u001b[0m\u001b[0m\n",
      "\u001b[0;32m~/anaconda3/envs/pyt/lib/python3.7/site-packages/torch/nn/modules/module.py\u001b[0m in \u001b[0;36m__call__\u001b[0;34m(self, *input, **kwargs)\u001b[0m\n\u001b[1;32m    491\u001b[0m             \u001b[0mresult\u001b[0m \u001b[0;34m=\u001b[0m \u001b[0mself\u001b[0m\u001b[0;34m.\u001b[0m\u001b[0m_slow_forward\u001b[0m\u001b[0;34m(\u001b[0m\u001b[0;34m*\u001b[0m\u001b[0minput\u001b[0m\u001b[0;34m,\u001b[0m \u001b[0;34m**\u001b[0m\u001b[0mkwargs\u001b[0m\u001b[0;34m)\u001b[0m\u001b[0;34m\u001b[0m\u001b[0;34m\u001b[0m\u001b[0m\n\u001b[1;32m    492\u001b[0m         \u001b[0;32melse\u001b[0m\u001b[0;34m:\u001b[0m\u001b[0;34m\u001b[0m\u001b[0;34m\u001b[0m\u001b[0m\n\u001b[0;32m--> 493\u001b[0;31m             \u001b[0mresult\u001b[0m \u001b[0;34m=\u001b[0m \u001b[0mself\u001b[0m\u001b[0;34m.\u001b[0m\u001b[0mforward\u001b[0m\u001b[0;34m(\u001b[0m\u001b[0;34m*\u001b[0m\u001b[0minput\u001b[0m\u001b[0;34m,\u001b[0m \u001b[0;34m**\u001b[0m\u001b[0mkwargs\u001b[0m\u001b[0;34m)\u001b[0m\u001b[0;34m\u001b[0m\u001b[0;34m\u001b[0m\u001b[0m\n\u001b[0m\u001b[1;32m    494\u001b[0m         \u001b[0;32mfor\u001b[0m \u001b[0mhook\u001b[0m \u001b[0;32min\u001b[0m \u001b[0mself\u001b[0m\u001b[0;34m.\u001b[0m\u001b[0m_forward_hooks\u001b[0m\u001b[0;34m.\u001b[0m\u001b[0mvalues\u001b[0m\u001b[0;34m(\u001b[0m\u001b[0;34m)\u001b[0m\u001b[0;34m:\u001b[0m\u001b[0;34m\u001b[0m\u001b[0;34m\u001b[0m\u001b[0m\n\u001b[1;32m    495\u001b[0m             \u001b[0mhook_result\u001b[0m \u001b[0;34m=\u001b[0m \u001b[0mhook\u001b[0m\u001b[0;34m(\u001b[0m\u001b[0mself\u001b[0m\u001b[0;34m,\u001b[0m \u001b[0minput\u001b[0m\u001b[0;34m,\u001b[0m \u001b[0mresult\u001b[0m\u001b[0;34m)\u001b[0m\u001b[0;34m\u001b[0m\u001b[0;34m\u001b[0m\u001b[0m\n",
      "\u001b[0;32m<ipython-input-49-9325b5d88d16>\u001b[0m in \u001b[0;36mforward\u001b[0;34m(self, signal)\u001b[0m\n\u001b[1;32m     14\u001b[0m \u001b[0;34m\u001b[0m\u001b[0m\n\u001b[1;32m     15\u001b[0m     \u001b[0;32mdef\u001b[0m \u001b[0mforward\u001b[0m\u001b[0;34m(\u001b[0m\u001b[0mself\u001b[0m\u001b[0;34m,\u001b[0m \u001b[0msignal\u001b[0m\u001b[0;34m)\u001b[0m\u001b[0;34m:\u001b[0m\u001b[0;34m\u001b[0m\u001b[0;34m\u001b[0m\u001b[0m\n\u001b[0;32m---> 16\u001b[0;31m         \u001b[0msignal_\u001b[0m \u001b[0;34m=\u001b[0m \u001b[0mrunning_std_dev\u001b[0m\u001b[0;34m(\u001b[0m\u001b[0msignal\u001b[0m\u001b[0;34m,\u001b[0m \u001b[0mwindow_size\u001b[0m \u001b[0;34m=\u001b[0m \u001b[0;36m10\u001b[0m\u001b[0;34m)\u001b[0m\u001b[0;34m\u001b[0m\u001b[0;34m\u001b[0m\u001b[0m\n\u001b[0m\u001b[1;32m     17\u001b[0m         \u001b[0msignal_\u001b[0m \u001b[0;34m=\u001b[0m \u001b[0msignal_\u001b[0m\u001b[0;34m.\u001b[0m\u001b[0mview\u001b[0m\u001b[0;34m(\u001b[0m\u001b[0;34m-\u001b[0m\u001b[0;36m1\u001b[0m\u001b[0;34m,\u001b[0m \u001b[0;36m3\u001b[0m\u001b[0;34m,\u001b[0m \u001b[0;36m150\u001b[0m\u001b[0;34m)\u001b[0m\u001b[0;34m\u001b[0m\u001b[0;34m\u001b[0m\u001b[0m\n\u001b[1;32m     18\u001b[0m         \u001b[0mout\u001b[0m \u001b[0;34m=\u001b[0m \u001b[0mF\u001b[0m\u001b[0;34m.\u001b[0m\u001b[0mrelu\u001b[0m\u001b[0;34m(\u001b[0m\u001b[0mself\u001b[0m\u001b[0;34m.\u001b[0m\u001b[0mconv1\u001b[0m\u001b[0;34m(\u001b[0m\u001b[0msignal_\u001b[0m\u001b[0;34m)\u001b[0m\u001b[0;34m)\u001b[0m\u001b[0;34m\u001b[0m\u001b[0;34m\u001b[0m\u001b[0m\n",
      "\u001b[0;32m<ipython-input-5-9f76cf7729ed>\u001b[0m in \u001b[0;36mrunning_std_dev\u001b[0;34m(signal, window_size)\u001b[0m\n\u001b[1;32m      5\u001b[0m     \u001b[0;32mfor\u001b[0m \u001b[0mi\u001b[0m \u001b[0;32min\u001b[0m \u001b[0mrange\u001b[0m\u001b[0;34m(\u001b[0m\u001b[0msignal\u001b[0m\u001b[0;34m.\u001b[0m\u001b[0mshape\u001b[0m\u001b[0;34m[\u001b[0m\u001b[0;36m0\u001b[0m\u001b[0;34m]\u001b[0m\u001b[0;34m)\u001b[0m \u001b[0;34m:\u001b[0m\u001b[0;34m\u001b[0m\u001b[0;34m\u001b[0m\u001b[0m\n\u001b[1;32m      6\u001b[0m         \u001b[0;32mfor\u001b[0m \u001b[0mj\u001b[0m \u001b[0;32min\u001b[0m \u001b[0mrange\u001b[0m\u001b[0;34m(\u001b[0m\u001b[0msignal\u001b[0m\u001b[0;34m.\u001b[0m\u001b[0mshape\u001b[0m\u001b[0;34m[\u001b[0m\u001b[0;36m1\u001b[0m\u001b[0;34m]\u001b[0m \u001b[0;34m-\u001b[0m \u001b[0mwindow_size\u001b[0m\u001b[0;34m)\u001b[0m \u001b[0;34m:\u001b[0m\u001b[0;34m\u001b[0m\u001b[0;34m\u001b[0m\u001b[0m\n\u001b[0;32m----> 7\u001b[0;31m             \u001b[0mmean\u001b[0m\u001b[0;34m[\u001b[0m\u001b[0mi\u001b[0m\u001b[0;34m]\u001b[0m\u001b[0;34m[\u001b[0m\u001b[0mj\u001b[0m\u001b[0;34m]\u001b[0m \u001b[0;34m=\u001b[0m \u001b[0msignal\u001b[0m\u001b[0;34m[\u001b[0m\u001b[0mi\u001b[0m\u001b[0;34m]\u001b[0m\u001b[0;34m[\u001b[0m\u001b[0mj\u001b[0m \u001b[0;34m:\u001b[0m \u001b[0mj\u001b[0m \u001b[0;34m+\u001b[0m \u001b[0mwindow_size\u001b[0m\u001b[0;34m]\u001b[0m\u001b[0;34m.\u001b[0m\u001b[0mstd\u001b[0m\u001b[0;34m(\u001b[0m\u001b[0mdim\u001b[0m \u001b[0;34m=\u001b[0m \u001b[0;36m0\u001b[0m\u001b[0;34m)\u001b[0m\u001b[0;34m\u001b[0m\u001b[0;34m\u001b[0m\u001b[0m\n\u001b[0m\u001b[1;32m      8\u001b[0m \u001b[0;34m\u001b[0m\u001b[0m\n\u001b[1;32m      9\u001b[0m     \u001b[0;32mfor\u001b[0m \u001b[0mi\u001b[0m \u001b[0;32min\u001b[0m \u001b[0mrange\u001b[0m\u001b[0;34m(\u001b[0m\u001b[0msignal\u001b[0m\u001b[0;34m.\u001b[0m\u001b[0mshape\u001b[0m\u001b[0;34m[\u001b[0m\u001b[0;36m0\u001b[0m\u001b[0;34m]\u001b[0m\u001b[0;34m)\u001b[0m \u001b[0;34m:\u001b[0m\u001b[0;34m\u001b[0m\u001b[0;34m\u001b[0m\u001b[0m\n",
      "\u001b[0;31mKeyboardInterrupt\u001b[0m: "
     ]
    }
   ],
   "source": [
    "num_epochs = 30\n",
    "total_step = len(trainset) // (train_batch_size * 150)\n",
    "train_loss_list = list()\n",
    "val_loss_list = list()\n",
    "min_val = 100\n",
    "for epoch in range(num_epochs):\n",
    "    trn = []\n",
    "    Net.train()\n",
    "    for i, (images, labels) in enumerate(trainloader) :\n",
    "        if torch.cuda.is_available():\n",
    "            images = Variable(images).cuda().float()\n",
    "            labels = Variable(labels).cuda()\n",
    "        else : \n",
    "            images = Variable(images).float()\n",
    "            labels = Variable(labels)\n",
    "        \n",
    "        _, target = torch.max(labels, 1)\n",
    "\n",
    "        y_pred = Net(images)\n",
    "        \n",
    "        loss = criterion(y_pred, target)\n",
    "        trn.append(loss.item())\n",
    "\n",
    "        optimizer.zero_grad()\n",
    "        loss.backward()\n",
    "#         torch.nn.utils.clip_grad_value_(Net.parameters(), 10)\n",
    "        optimizer.step()\n",
    "\n",
    "        if i % 20 == 0 :\n",
    "            print('epoch = ', epoch, ' step = ', i, ' of total steps ', total_step, ' loss = ', loss.item())\n",
    "            \n",
    "    train_loss = (sum(trn) / len(trn))\n",
    "    train_loss_list.append(train_loss)\n",
    "    \n",
    "    Net.eval()\n",
    "    val = []\n",
    "    with torch.no_grad() :\n",
    "        for i, (images, labels) in enumerate(valloader) :\n",
    "            if torch.cuda.is_available():\n",
    "                images = Variable(images).cuda().float()\n",
    "                labels = Variable(labels).cuda()\n",
    "            else : \n",
    "                images = Variable(images).float()\n",
    "                labels = Variable(labels)\n",
    "                \n",
    "            _, target = torch.max(labels, 1)\n",
    "\n",
    "            # Forward pass\n",
    "            outputs = Net(images)\n",
    "            loss = criterion(outputs, target)\n",
    "            val.append(loss)\n",
    "\n",
    "    val_loss = (sum(val) / len(val)).item()\n",
    "    val_loss_list.append(val_loss)\n",
    "    print('epoch : ', epoch, ' / ', num_epochs, ' | TL : ', train_loss, ' | VL : ', val_loss)\n",
    "    \n",
    "    if val_loss < min_val :\n",
    "        print('saving model')\n",
    "        min_val = val_loss\n",
    "        torch.save(Net.state_dict(), '1conv_softmax.pt')"
   ]
  },
  {
   "cell_type": "code",
   "execution_count": null,
   "metadata": {},
   "outputs": [],
   "source": [
    "j = np.arange(200)\n",
    "plt.plot(j, train_loss_list, 'r', j, val_loss_list, 'g')"
   ]
  },
  {
   "cell_type": "code",
   "execution_count": null,
   "metadata": {},
   "outputs": [],
   "source": [
    "def _get_accuracy(dataloader, Net):\n",
    "    total = 0\n",
    "    correct = 0\n",
    "    Net.eval()\n",
    "    for i, (images, labels) in enumerate(dataloader):\n",
    "        images = Variable(images).float()\n",
    "        labels = Variable(labels).float()\n",
    "\n",
    "        outputs = Net(images)\n",
    "    \n",
    "        _, label_ind = torch.max(labels, 1)\n",
    "        _, pred_ind = torch.max(outputs, 1)\n",
    "        \n",
    "        # converting to numpy arrays\n",
    "        label_ind = label_ind.data.numpy()\n",
    "        pred_ind = pred_ind.data.numpy()\n",
    "        \n",
    "        # get difference\n",
    "        diff_ind = label_ind - pred_ind\n",
    "        # correctly classified will be 1 and will get added\n",
    "        # incorrectly classified will be 0\n",
    "        correct += np.count_nonzero(diff_ind == 0)\n",
    "        total += len(diff_ind)\n",
    "\n",
    "    accuracy = correct / total\n",
    "    # print(len(diff_ind))\n",
    "    return accuracy\n",
    "\n",
    "Net = Net.cpu().eval()\n",
    "# _get_accuracy(trainloader)"
   ]
  },
  {
   "cell_type": "code",
   "execution_count": null,
   "metadata": {},
   "outputs": [],
   "source": [
    "print(_get_accuracy(trainloader, Net) * 100, '/', _get_accuracy(valloader, Net) * 100, '/', _get_accuracy(testloader, Net) * 100)"
   ]
  },
  {
   "cell_type": "code",
   "execution_count": null,
   "metadata": {},
   "outputs": [],
   "source": [
    "testing_Net = ConvNet()\n",
    "testing_Net.load_state_dict(torch.load('1conv_softmax.pt'))\n",
    "testing_Net.eval()\n",
    "print(_get_accuracy(trainloader, testing_Net) * 100, '/', _get_accuracy(valloader, testing_Net) * 100, '/', _get_accuracy(testloader, testing_Net) * 100)"
   ]
  },
  {
   "cell_type": "markdown",
   "metadata": {},
   "source": [
    "Even using running standard deviation of raw data doesn't help reduce overfitting significantly. So, next we try using running RMS of raw data.\n",
    "\n",
    "### PyTorch implementation of `running_rms`"
   ]
  },
  {
   "cell_type": "code",
   "execution_count": 53,
   "metadata": {},
   "outputs": [],
   "source": [
    "def running_rms(signal, window_size = 10):\n",
    "    ''' Returns running rms of 3D signal (batch_size, length, channels)\n",
    "    Note : torch.norm just gives vector 2-norm, so we need to divide it by\n",
    "    sqrt(window_size) to make it the RMS value\n",
    "    '''\n",
    "    mean = torch.zeros_like(signal)\n",
    "    n = np.sqrt(window_size)\n",
    "    div = torch.tensor(np.array([n, n, n])).float()\n",
    "    if torch.cuda.is_available() : \n",
    "        div = div.cuda()\n",
    "    \n",
    "    for i in range(signal.shape[0]) :\n",
    "        for j in range(signal.shape[1] - window_size) : \n",
    "            mean[i][j] = signal[i][j : j + window_size].norm(dim = 0) / div\n",
    "            \n",
    "    for i in range(signal.shape[0]) :\n",
    "        for j in range(signal.shape[1] - window_size, signal.shape[1]) :\n",
    "            mean[i][j] = signal[i][j]\n",
    "            \n",
    "    return mean"
   ]
  },
  {
   "cell_type": "markdown",
   "metadata": {},
   "source": [
    "### Shows working of `running_rms`"
   ]
  },
  {
   "cell_type": "code",
   "execution_count": 67,
   "metadata": {},
   "outputs": [
    {
     "name": "stdout",
     "output_type": "stream",
     "text": [
      "torch.Size([8, 150, 3])\n"
     ]
    },
    {
     "data": {
      "text/plain": [
       "[<matplotlib.lines.Line2D at 0x7f08ec33e240>,\n",
       " <matplotlib.lines.Line2D at 0x7f08ec33e390>]"
      ]
     },
     "execution_count": 67,
     "metadata": {},
     "output_type": "execute_result"
    },
    {
     "data": {
      "image/png": "[encoded data removed]",
      "text/plain": [
       "<Figure size 432x288 with 1 Axes>"
      ]
     },
     "metadata": {
      "needs_background": "light"
     },
     "output_type": "display_data"
    }
   ],
   "source": [
    "signal, label = next(iter(trainloader))\n",
    "if torch.cuda.is_available() :\n",
    "    signal = signal.cuda().float()\n",
    "rms = running_rms(signal, window_size = 10)\n",
    "print(rms.shape)\n",
    "sig_ = signal[0].transpose(0, 1).cpu()\n",
    "mean_ = rms[0].transpose(0, 1).cpu()\n",
    "t = range(150)\n",
    "plt.plot(t, sig_[1].data.numpy(), 'r', t, mean_[1].data.numpy(), 'b')"
   ]
  },
  {
   "cell_type": "markdown",
   "metadata": {},
   "source": [
    "### Training network using `running_rms` processed data"
   ]
  },
  {
   "cell_type": "code",
   "execution_count": 62,
   "metadata": {},
   "outputs": [],
   "source": [
    "class ConvNet(nn.Module):\n",
    "    def __init__(self):\n",
    "        super(ConvNet, self).__init__()\n",
    "        # defining layers\n",
    "        self.conv1 = nn.Conv1d(3, 5, 3)\n",
    "        self.conv2 = nn.Conv1d(5, 5, 3)\n",
    "        self.fc1 = nn.Linear(146 * 5, 5)\n",
    "#         self.mp = nn.MaxPool1d(2, 2)\n",
    "#         self.dropout = nn.Dropout(p = 0.5)\n",
    "#         self.bn1 = nn.BatchNorm1d(num_features = 5)\n",
    "#         self.bn2 = nn.BatchNorm1d(num_features = 5)\n",
    "#         self.bnfc = nn.BatchNorm1d(num_features = 5)\n",
    "        \n",
    "        nn.init.xavier_uniform_(self.conv1.weight, gain = nn.init.calculate_gain('relu'))\n",
    "        nn.init.xavier_uniform_(self.conv2.weight, gain = nn.init.calculate_gain('relu'))\n",
    "        nn.init.xavier_uniform_(self.fc1.weight, gain = nn.init.calculate_gain('sigmoid'))\n",
    "        \n",
    "    def forward(self, signal):\n",
    "        signal_ = running_rms(signal, window_size = 10)\n",
    "        signal_ = signal_.view(-1, 3, 150)\n",
    "        out = F.relu(self.conv1(signal_))\n",
    "        out = F.relu(self.conv2(out))\n",
    "        out = out.view(-1, 146 * 5)\n",
    "        out = F.log_softmax(self.fc1(out), dim = 1)\n",
    "        return out\n",
    "\n",
    "Net = ConvNet()\n",
    "if torch.cuda.is_available():\n",
    "    print('Model on GPU')\n",
    "    Net = Net.cuda()"
   ]
  },
  {
   "cell_type": "code",
   "execution_count": 63,
   "metadata": {},
   "outputs": [],
   "source": [
    "import torch.optim as optim\n",
    "criterion = nn.CrossEntropyLoss()\n",
    "optimizer = optim.Adam(Net.parameters(), lr = 1e-3)"
   ]
  },
  {
   "cell_type": "code",
   "execution_count": null,
   "metadata": {},
   "outputs": [],
   "source": [
    "num_epochs = 30\n",
    "total_step = len(trainset) // (train_batch_size * 150)\n",
    "train_loss_list = list()\n",
    "val_loss_list = list()\n",
    "min_val = 100\n",
    "for epoch in range(num_epochs):\n",
    "    trn = []\n",
    "    Net.train()\n",
    "    for i, (images, labels) in enumerate(trainloader) :\n",
    "        if torch.cuda.is_available():\n",
    "            images = Variable(images).cuda().float()\n",
    "            labels = Variable(labels).cuda()\n",
    "        else : \n",
    "            images = Variable(images).float()\n",
    "            labels = Variable(labels)\n",
    "        \n",
    "        _, target = torch.max(labels, 1)\n",
    "\n",
    "        y_pred = Net(images)\n",
    "        \n",
    "        loss = criterion(y_pred, target)\n",
    "        trn.append(loss.item())\n",
    "\n",
    "        optimizer.zero_grad()\n",
    "        loss.backward()\n",
    "#         torch.nn.utils.clip_grad_value_(Net.parameters(), 10)\n",
    "        optimizer.step()\n",
    "\n",
    "        if i % 20 == 0 :\n",
    "            print('epoch = ', epoch, ' step = ', i, ' of total steps ', total_step, ' loss = ', loss.item())\n",
    "            \n",
    "    train_loss = (sum(trn) / len(trn))\n",
    "    train_loss_list.append(train_loss)\n",
    "    \n",
    "    Net.eval()\n",
    "    val = []\n",
    "    with torch.no_grad() :\n",
    "        for i, (images, labels) in enumerate(valloader) :\n",
    "            if torch.cuda.is_available():\n",
    "                images = Variable(images).cuda().float()\n",
    "                labels = Variable(labels).cuda()\n",
    "            else : \n",
    "                images = Variable(images).float()\n",
    "                labels = Variable(labels)\n",
    "                \n",
    "            _, target = torch.max(labels, 1)\n",
    "\n",
    "            # Forward pass\n",
    "            outputs = Net(images)\n",
    "            loss = criterion(outputs, target)\n",
    "            val.append(loss)\n",
    "\n",
    "    val_loss = (sum(val) / len(val)).item()\n",
    "    val_loss_list.append(val_loss)\n",
    "    print('epoch : ', epoch, ' / ', num_epochs, ' | TL : ', train_loss, ' | VL : ', val_loss)\n",
    "    \n",
    "    if val_loss < min_val :\n",
    "        print('saving model')\n",
    "        min_val = val_loss\n",
    "        torch.save(Net.state_dict(), '1conv_softmax.pt')"
   ]
  },
  {
   "cell_type": "code",
   "execution_count": null,
   "metadata": {},
   "outputs": [],
   "source": [
    "j = np.arange(30)\n",
    "plt.plot(j, train_loss_list, 'r', j, val_loss_list, 'g')"
   ]
  },
  {
   "cell_type": "code",
   "execution_count": null,
   "metadata": {},
   "outputs": [],
   "source": [
    "def _get_accuracy(dataloader, Net):\n",
    "    total = 0\n",
    "    correct = 0\n",
    "    Net.eval()\n",
    "    for i, (images, labels) in enumerate(dataloader):\n",
    "        images = Variable(images).float()\n",
    "        labels = Variable(labels).float()\n",
    "        \n",
    "        if torch.cuda.is_available() : \n",
    "            images = images.cuda()\n",
    "            labels = labels.cuda()\n",
    "\n",
    "        outputs = Net(images)\n",
    "    \n",
    "        _, label_ind = torch.max(labels, 1)\n",
    "        _, pred_ind = torch.max(outputs, 1)\n",
    "        \n",
    "        # converting to numpy arrays\n",
    "        label_ind = label_ind.data.cpu().numpy()\n",
    "        pred_ind = pred_ind.data.cpu().numpy()\n",
    "        \n",
    "        # get difference\n",
    "        diff_ind = label_ind - pred_ind\n",
    "        # correctly classified will be 1 and will get added\n",
    "        # incorrectly classified will be 0\n",
    "        correct += np.count_nonzero(diff_ind == 0)\n",
    "        total += len(diff_ind)\n",
    "\n",
    "    accuracy = correct / total\n",
    "    # print(len(diff_ind))\n",
    "    return accuracy\n",
    "\n",
    "Net = Net.eval().cuda()\n",
    "\n",
    "print(_get_accuracy(trainloader, Net) * 100, '/', _get_accuracy(valloader, Net) * 100, '/', _get_accuracy(testloader, Net) * 100)\n",
    "\n",
    "testing_Net = ConvNet()\n",
    "testing_Net.load_state_dict(torch.load('1conv_softmax.pt'))\n",
    "testing_Net.eval().cuda()\n",
    "print(_get_accuracy(trainloader, testing_Net) * 100, '/', _get_accuracy(valloader, testing_Net) * 100, '/', _get_accuracy(testloader, testing_Net) * 100)"
   ]
  },
  {
   "cell_type": "code",
   "execution_count": null,
   "metadata": {},
   "outputs": [],
   "source": []
  }
 ],
 "metadata": {
  "kernelspec": {
   "display_name": "Python 3",
   "language": "python",
   "name": "python3"
  },
  "language_info": {
   "codemirror_mode": {
    "name": "ipython",
    "version": 3
   },
   "file_extension": ".py",
   "mimetype": "text/x-python",
   "name": "python",
   "nbconvert_exporter": "python",
   "pygments_lexer": "ipython3",
   "version": "3.6.8"
  }
 },
 "nbformat": 4,
 "nbformat_minor": 2
}
