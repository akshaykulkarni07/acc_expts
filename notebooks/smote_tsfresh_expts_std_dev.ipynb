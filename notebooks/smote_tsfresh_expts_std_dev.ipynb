{
 "cells": [
  {
   "cell_type": "markdown",
   "metadata": {},
   "source": [
    "#### This notebook contains code for testing `tsfresh` feature extraction and SMOTE on running standard deviation of raw data."
   ]
  },
  {
   "cell_type": "code",
   "execution_count": 91,
   "metadata": {},
   "outputs": [],
   "source": [
    "%matplotlib inline\n",
    "import pandas as pd\n",
    "import datetime\n",
    "import pandas_datareader.data as web\n",
    "import matplotlib.pyplot as plt\n",
    "import numpy as np\n",
    "from tsfresh import extract_features\n",
    "from tsfresh import extract_relevant_features\n",
    "import sklearn\n",
    "import sklearn.naive_bayes\n",
    "from sklearn.ensemble import RandomForestClassifier\n",
    "from sklearn.svm import SVC\n",
    "from sklearn.metrics import confusion_matrix,classification_report\n",
    "from sklearn.model_selection import cross_val_score, GridSearchCV, train_test_split\n",
    "from sklearn.preprocessing import normalize\n",
    "from imblearn.over_sampling import SMOTE, SVMSMOTE\n",
    "from collections import Counter\n",
    "from tsfresh import select_features\n",
    "from tsfresh.utilities.dataframe_functions import impute"
   ]
  },
  {
   "cell_type": "code",
   "execution_count": 58,
   "metadata": {},
   "outputs": [],
   "source": [
    "data = pd.read_csv('../data/data_only_tsfresh_compatible.csv', names = ['x_acc', 'y_acc', 'z_acc', 'id'])\n",
    "labels = pd.read_csv('../data/labels_only.csv', names = ['Blocking', 'Dodging', 'Inactive', 'Moving', 'Sprinting'])"
   ]
  },
  {
   "cell_type": "code",
   "execution_count": 59,
   "metadata": {},
   "outputs": [
    {
     "name": "stdout",
     "output_type": "stream",
     "text": [
      "(138840,)\n"
     ]
    }
   ],
   "source": [
    "x_acc = np.asarray(data['x_acc'])\n",
    "y_acc = np.asarray(data['y_acc'])\n",
    "z_acc = np.asarray(data['z_acc'])\n",
    "\n",
    "def running_std_dev(x, window_size = 50) : \n",
    "    num_examples = len(x) // 150\n",
    "    out = np.zeros((len(x) - (num_examples * window_size)))\n",
    "    for i in range(num_examples) :\n",
    "        for j in range(150 - window_size) : \n",
    "            out[(i * (150 - window_size)) + j] = np.std(x[(i * 150) + j : (i * 150) + j + window_size])\n",
    "            \n",
    "    return out\n",
    "\n",
    "outp = running_std_dev(x_acc, window_size = 20)\n",
    "print(outp.shape)"
   ]
  },
  {
   "cell_type": "code",
   "execution_count": 123,
   "metadata": {},
   "outputs": [],
   "source": [
    "window_size = 50\n",
    "x_acc_std = running_std_dev(x_acc, window_size = window_size)\n",
    "y_acc_std = running_std_dev(y_acc, window_size = window_size)\n",
    "z_acc_std = running_std_dev(z_acc, window_size = window_size)"
   ]
  },
  {
   "cell_type": "code",
   "execution_count": 124,
   "metadata": {},
   "outputs": [
    {
     "name": "stdout",
     "output_type": "stream",
     "text": [
      "106800\n"
     ]
    }
   ],
   "source": [
    "# Generating `id` column needed in dataframe for tsfresh\n",
    "idx = list()\n",
    "k = 0\n",
    "for i in range(len(data) // 150) : \n",
    "    for j in range(150 - window_size) : \n",
    "        idx.append(k)\n",
    "    k = k + 1\n",
    "    \n",
    "print(len(idx))"
   ]
  },
  {
   "cell_type": "code",
   "execution_count": 125,
   "metadata": {},
   "outputs": [
    {
     "name": "stdout",
     "output_type": "stream",
     "text": [
      "   id     x_acc     y_acc     z_acc\n",
      "0   0  0.012476  0.009196  0.009495\n",
      "1   0  0.012482  0.009365  0.009506\n",
      "2   0  0.012524  0.009377  0.009499\n",
      "3   0  0.012371  0.009337  0.009520\n",
      "4   0  0.012075  0.009312  0.009567\n"
     ]
    }
   ],
   "source": [
    "# Creating dataframe of standard deviation data for later feature extraction using tsfresh\n",
    "# and also saving to memory for quick future use\n",
    "data_std = pd.DataFrame()\n",
    "data_std['id'] = idx\n",
    "data_std['x_acc'] = x_acc_std\n",
    "data_std['y_acc'] = y_acc_std\n",
    "data_std['z_acc'] = z_acc_std\n",
    "print(data_std.head())\n",
    "data_std.to_csv('../data/std_dev_data_only.csv', header = None, index = None)"
   ]
  },
  {
   "cell_type": "code",
   "execution_count": 126,
   "metadata": {},
   "outputs": [
    {
     "name": "stdout",
     "output_type": "stream",
     "text": [
      "          id     x_acc     y_acc     z_acc\n",
      "106795  1067  0.086196  0.109821  0.036968\n",
      "106796  1067  0.090995  0.110725  0.040096\n",
      "106797  1067  0.093662  0.116731  0.049617\n",
      "106798  1067  0.093258  0.125244  0.063337\n",
      "106799  1067  0.092900  0.124973  0.063057\n"
     ]
    },
    {
     "data": {
      "text/plain": [
       "[<matplotlib.lines.Line2D at 0x7fe9cc36a438>]"
      ]
     },
     "execution_count": 126,
     "metadata": {},
     "output_type": "execute_result"
    },
    {
     "data": {
      "image/png": "[encoded data removed]",
      "text/plain": [
       "<Figure size 432x288 with 1 Axes>"
      ]
     },
     "metadata": {
      "needs_background": "light"
     },
     "output_type": "display_data"
    }
   ],
   "source": [
    "# Loading standard deviation data from memory\n",
    "data_std = pd.read_csv('../data/std_dev_data_only.csv', names = ['id', 'x_acc', 'y_acc', 'z_acc'])\n",
    "print(data_std.tail())\n",
    "\n",
    "k = 234\n",
    "m = range(140)\n",
    "n = range(150)\n",
    "plt.plot(m, data_std['x_acc'][k * 140 : (k + 1) * 140], 'r')\n",
    "plt.plot(n, data['x_acc'][k * 150 : (k + 1) * 150], 'b')"
   ]
  },
  {
   "cell_type": "code",
   "execution_count": 127,
   "metadata": {},
   "outputs": [],
   "source": [
    "# Converting labels into correct format (since size of each example has decreased after finding running standard deviation)\n",
    "label_arr = labels.values\n",
    "label_arr = np.argmax(label_arr, axis = 1)\n",
    "\n",
    "y_features = np.zeros(len(data_std) // (150 - window_size))\n",
    "for i in range(len(label_arr)) : \n",
    "    if i % 150 == 0 : \n",
    "        y_features[i // 150] = label_arr[i]\n",
    "        \n",
    "# Also converting into Pandas Series for use in extracting relevant features using tsfresh\n",
    "y = pd.Series(y_features, dtype = int)"
   ]
  },
  {
   "cell_type": "code",
   "execution_count": 128,
   "metadata": {},
   "outputs": [
    {
     "name": "stderr",
     "output_type": "stream",
     "text": [
      "Feature Extraction: 100%|██████████| 10/10 [05:11<00:00, 27.91s/it]\n"
     ]
    },
    {
     "name": "stdout",
     "output_type": "stream",
     "text": [
      "(1068, 2382)\n"
     ]
    }
   ],
   "source": [
    "# Now using tsfresh to extract features\n",
    "extracted_features = extract_features(data_std, column_id = \"id\", column_sort = None, column_kind = None, column_value = None)\n",
    "print(extracted_features.shape)"
   ]
  },
  {
   "cell_type": "code",
   "execution_count": null,
   "metadata": {},
   "outputs": [],
   "source": [
    "extracted_features = impute(extracted_features)\n",
    "features_filtered = select_features(extracted_features, y)\n",
    "print(features_filtered.shape)"
   ]
  },
  {
   "cell_type": "code",
   "execution_count": 130,
   "metadata": {},
   "outputs": [
    {
     "name": "stdout",
     "output_type": "stream",
     "text": [
      "(1068, 1008)\n"
     ]
    }
   ],
   "source": [
    "print(features_filtered.shape)"
   ]
  },
  {
   "cell_type": "code",
   "execution_count": 131,
   "metadata": {},
   "outputs": [
    {
     "name": "stdout",
     "output_type": "stream",
     "text": [
      "(1068, 2382)\n",
      "(1068, 1008)\n",
      "Counter({3.0: 411, 2.0: 213, 4.0: 196, 0.0: 129, 1.0: 119})\n"
     ]
    }
   ],
   "source": [
    "# Convert feature dataframes into numpy arrays (required for training in sklearn)\n",
    "x_features = np.asarray(extracted_features)\n",
    "print(x_features.shape)\n",
    "x_features_relevant = np.asarray(features_filtered)\n",
    "print(x_features_relevant.shape)\n",
    "# Gives the number of examples per label\n",
    "print(Counter(y_features))"
   ]
  },
  {
   "cell_type": "markdown",
   "metadata": {},
   "source": [
    "### Shuffle and split into train/test datasets and normalize the features"
   ]
  },
  {
   "cell_type": "code",
   "execution_count": 132,
   "metadata": {},
   "outputs": [
    {
     "name": "stdout",
     "output_type": "stream",
     "text": [
      "(801, 1008)\n",
      "(267, 1008)\n",
      "(801,)\n",
      "(267,)\n",
      "Counter({3.0: 314, 4.0: 152, 2.0: 150, 0.0: 98, 1.0: 87})\n"
     ]
    }
   ],
   "source": [
    "x_train, x_test, y_f, y_test = train_test_split(x_features_relevant, y_features)\n",
    "print(x_train.shape)\n",
    "print(x_test.shape)\n",
    "print(y_f.shape)\n",
    "print(y_test.shape)\n",
    "x_f = sklearn.preprocessing.minmax_scale(x_train)\n",
    "x_test_norm = sklearn.preprocessing.minmax_scale(x_test)\n",
    "print(Counter(y_f))"
   ]
  },
  {
   "cell_type": "code",
   "execution_count": 133,
   "metadata": {},
   "outputs": [
    {
     "name": "stdout",
     "output_type": "stream",
     "text": [
      "Counter({3.0: 314, 0.0: 314, 2.0: 314, 4.0: 314, 1.0: 314})\n",
      "float64\n",
      "int64\n"
     ]
    }
   ],
   "source": [
    "sm = SMOTE(random_state = 33, sampling_strategy = 'not majority')\n",
    "x_train_norm, y_train = sm.fit_resample(x_f, y_f)\n",
    "print(Counter(y_train))\n",
    "print(y_train.dtype)\n",
    "y_train = y_train.astype(int)\n",
    "print(y_train.dtype)\n",
    "y_test = y_test.astype(int)"
   ]
  },
  {
   "cell_type": "code",
   "execution_count": 134,
   "metadata": {},
   "outputs": [
    {
     "name": "stdout",
     "output_type": "stream",
     "text": [
      "[[ 1  1  6 16  7]\n",
      " [ 3  5  2 14  8]\n",
      " [ 1  4 21 32  5]\n",
      " [ 6 12 12 49 18]\n",
      " [ 4  3  5 11 21]]\n",
      "              precision    recall  f1-score   support\n",
      "\n",
      "           0       0.07      0.03      0.04        31\n",
      "           1       0.20      0.16      0.18        32\n",
      "           2       0.46      0.33      0.39        63\n",
      "           3       0.40      0.51      0.45        97\n",
      "           4       0.36      0.48      0.41        44\n",
      "\n",
      "    accuracy                           0.36       267\n",
      "   macro avg       0.30      0.30      0.29       267\n",
      "weighted avg       0.34      0.36      0.35       267\n",
      "\n",
      "[[314   0   0   0   0]\n",
      " [  0 314   0   0   0]\n",
      " [  1   0 312   0   1]\n",
      " [  0   1   4 308   1]\n",
      " [  0   1   1   1 311]]\n",
      "              precision    recall  f1-score   support\n",
      "\n",
      "           0       1.00      1.00      1.00       314\n",
      "           1       0.99      1.00      1.00       314\n",
      "           2       0.98      0.99      0.99       314\n",
      "           3       1.00      0.98      0.99       314\n",
      "           4       0.99      0.99      0.99       314\n",
      "\n",
      "    accuracy                           0.99      1570\n",
      "   macro avg       0.99      0.99      0.99      1570\n",
      "weighted avg       0.99      0.99      0.99      1570\n",
      "\n"
     ]
    }
   ],
   "source": [
    "svm_lin = RandomForestClassifier(n_estimators = 100)\n",
    "svm_lin.fit(x_train_norm, y_train)\n",
    "y_pred = svm_lin.predict(x_test_norm)\n",
    "print(confusion_matrix(y_test, y_pred))\n",
    "print(classification_report(y_test, y_pred))\n",
    "y_pred = svm_lin.predict(x_train_norm)\n",
    "print(confusion_matrix(y_train, y_pred))\n",
    "print(classification_report(y_train, y_pred))"
   ]
  },
  {
   "cell_type": "code",
   "execution_count": null,
   "metadata": {},
   "outputs": [],
   "source": []
  }
 ],
 "metadata": {
  "kernelspec": {
   "display_name": "Python 3",
   "language": "python",
   "name": "python3"
  },
  "language_info": {
   "codemirror_mode": {
    "name": "ipython",
    "version": 3
   },
   "file_extension": ".py",
   "mimetype": "text/x-python",
   "name": "python",
   "nbconvert_exporter": "python",
   "pygments_lexer": "ipython3",
   "version": "3.7.3"
  }
 },
 "nbformat": 4,
 "nbformat_minor": 2
}
