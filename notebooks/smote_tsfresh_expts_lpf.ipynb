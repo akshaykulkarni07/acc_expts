{
 "cells": [
  {
   "cell_type": "markdown",
   "metadata": {},
   "source": [
    "#### This notebook contains code for testing `tsfresh` feature extraction and SMOTE on low pass filtered data."
   ]
  },
  {
   "cell_type": "code",
   "execution_count": 4,
   "metadata": {},
   "outputs": [],
   "source": [
    "%matplotlib inline\n",
    "import pandas as pd\n",
    "import datetime\n",
    "import pandas_datareader.data as web\n",
    "import matplotlib.pyplot as plt\n",
    "import numpy as np\n",
    "from tsfresh import extract_features\n",
    "from tsfresh import extract_relevant_features\n",
    "import sklearn\n",
    "import sklearn.naive_bayes\n",
    "from sklearn.ensemble import RandomForestClassifier\n",
    "from sklearn.svm import SVC\n",
    "from sklearn.metrics import confusion_matrix,classification_report\n",
    "from sklearn.model_selection import cross_val_score, GridSearchCV, train_test_split\n",
    "from sklearn.preprocessing import normalize\n",
    "from imblearn.over_sampling import SMOTE, SVMSMOTE\n",
    "from collections import Counter\n",
    "from tsfresh import select_features\n",
    "from tsfresh.utilities.dataframe_functions import impute\n",
    "import sys\n",
    "sys.path.append('../code')\n",
    "import helper_functions"
   ]
  },
  {
   "cell_type": "code",
   "execution_count": 5,
   "metadata": {},
   "outputs": [],
   "source": [
    "data = pd.read_csv('../data/data_only_tsfresh_compatible.csv', names = ['x_acc', 'y_acc', 'z_acc', 'id'])\n",
    "labels = pd.read_csv('../data/labels_only.csv', names = ['Blocking', 'Dodging', 'Inactive', 'Moving', 'Sprinting'])"
   ]
  },
  {
   "cell_type": "code",
   "execution_count": 6,
   "metadata": {},
   "outputs": [
    {
     "name": "stdout",
     "output_type": "stream",
     "text": [
      "(160200,)\n"
     ]
    }
   ],
   "source": [
    "x_acc = np.asarray(data['x_acc'])\n",
    "y_acc = np.asarray(data['y_acc'])\n",
    "z_acc = np.asarray(data['z_acc'])\n",
    "\n",
    "def lpf(x) : \n",
    "    num_examples = len(x) // 150\n",
    "    out = np.zeros_like(x)\n",
    "    cutoff_freq = 5\n",
    "    nyq_freq = 50 // 2\n",
    "    order = 4\n",
    "    for i in range(num_examples) :\n",
    "        out[(i * 150) : (i + 1) * 150] = helper_functions.butter_lowpass_filter(x[i * 150 : (i + 1) * 150], cutoff_freq = cutoff_freq, nyq_freq = nyq_freq, order = order)\n",
    "            \n",
    "    return out\n",
    "\n",
    "outp = lpf(x_acc)\n",
    "print(outp.shape)"
   ]
  },
  {
   "cell_type": "markdown",
   "metadata": {},
   "source": [
    "#### Testing Low Pass Filter code"
   ]
  },
  {
   "cell_type": "code",
   "execution_count": 11,
   "metadata": {},
   "outputs": [
    {
     "data": {
      "text/plain": [
       "[<matplotlib.lines.Line2D at 0x7f2a6df02908>]"
      ]
     },
     "execution_count": 11,
     "metadata": {},
     "output_type": "execute_result"
    },
    {
     "data": {
      "image/png": "[encoded data removed]",
      "text/plain": [
       "<Figure size 432x288 with 1 Axes>"
      ]
     },
     "metadata": {
      "needs_background": "light"
     },
     "output_type": "display_data"
    }
   ],
   "source": [
    "k = 55\n",
    "plt.plot(outp[k * 150 : (k + 1) * 150], 'b')\n",
    "plt.plot(x_acc[k * 150 : (k + 1) * 150], 'r')"
   ]
  },
  {
   "cell_type": "code",
   "execution_count": 12,
   "metadata": {},
   "outputs": [],
   "source": [
    "# Applying function to all axes data\n",
    "x_acc_lpf = lpf(x_acc)\n",
    "y_acc_lpf = lpf(y_acc)\n",
    "z_acc_lpf = lpf(z_acc)"
   ]
  },
  {
   "cell_type": "code",
   "execution_count": 13,
   "metadata": {},
   "outputs": [
    {
     "name": "stdout",
     "output_type": "stream",
     "text": [
      "160200\n"
     ]
    }
   ],
   "source": [
    "# Generating `id` column needed in dataframe for tsfresh\n",
    "idx = list()\n",
    "k = 0\n",
    "for i in range(len(data) // 150) : \n",
    "    for j in range(150) : \n",
    "        idx.append(k)\n",
    "    k = k + 1\n",
    "    \n",
    "print(len(idx))"
   ]
  },
  {
   "cell_type": "code",
   "execution_count": 14,
   "metadata": {},
   "outputs": [
    {
     "name": "stdout",
     "output_type": "stream",
     "text": [
      "   id     x_acc     y_acc     z_acc\n",
      "0   0  0.015773 -0.046212  0.105907\n",
      "1   0  0.014726 -0.052340  0.108655\n",
      "2   0  0.014185 -0.057615  0.111012\n",
      "3   0  0.014478 -0.061470  0.112700\n",
      "4   0  0.015677 -0.063783  0.113581\n"
     ]
    }
   ],
   "source": [
    "# Creating dataframe of low pass filtered data for later feature extraction using tsfresh\n",
    "# and also saving to memory for quick future use\n",
    "data_lpf = pd.DataFrame()\n",
    "data_lpf['id'] = idx\n",
    "data_lpf['x_acc'] = x_acc_lpf\n",
    "data_lpf['y_acc'] = y_acc_lpf\n",
    "data_lpf['z_acc'] = z_acc_lpf\n",
    "print(data_lpf.head())\n",
    "data_lpf.to_csv('../data/lpf_data_only.csv', header = None, index = None)"
   ]
  },
  {
   "cell_type": "code",
   "execution_count": 18,
   "metadata": {},
   "outputs": [
    {
     "name": "stdout",
     "output_type": "stream",
     "text": [
      "          id     x_acc     y_acc     z_acc\n",
      "160195  1067  0.216609 -0.043943 -0.045632\n",
      "160196  1067  0.173790  0.001880 -0.058429\n",
      "160197  1067  0.125027  0.004306 -0.040294\n",
      "160198  1067  0.073134 -0.032865  0.006573\n",
      "160199  1067  0.019811 -0.093285  0.070511\n"
     ]
    },
    {
     "data": {
      "text/plain": [
       "[<matplotlib.lines.Line2D at 0x7f2a6f0685c0>]"
      ]
     },
     "execution_count": 18,
     "metadata": {},
     "output_type": "execute_result"
    },
    {
     "data": {
      "image/png": "[encoded data removed]",
      "text/plain": [
       "<Figure size 432x288 with 1 Axes>"
      ]
     },
     "metadata": {
      "needs_background": "light"
     },
     "output_type": "display_data"
    }
   ],
   "source": [
    "# Loading standard deviation data from memory\n",
    "data_lpf = pd.read_csv('../data/lpf_data_only.csv', names = ['id', 'x_acc', 'y_acc', 'z_acc'])\n",
    "print(data_lpf.tail())\n",
    "\n",
    "k = 234\n",
    "m = range(150)\n",
    "n = range(150)\n",
    "plt.plot(m, data_lpf['x_acc'][k * 150 : (k + 1) * 150], 'b')\n",
    "plt.plot(n, data['x_acc'][k * 150 : (k + 1) * 150], 'r')"
   ]
  },
  {
   "cell_type": "code",
   "execution_count": 21,
   "metadata": {},
   "outputs": [],
   "source": [
    "# Converting labels into correct format (since size of each example has decreased after finding running standard deviation)\n",
    "label_arr = labels.values\n",
    "label_arr = np.argmax(label_arr, axis = 1)\n",
    "\n",
    "y_features = np.zeros(len(data_lpf) // (150))\n",
    "for i in range(len(label_arr)) : \n",
    "    if i % 150 == 0 : \n",
    "        y_features[i // 150] = label_arr[i]\n",
    "        \n",
    "# Also converting into Pandas Series for use in extracting relevant features using tsfresh\n",
    "y = pd.Series(y_features, dtype = int)"
   ]
  },
  {
   "cell_type": "code",
   "execution_count": 23,
   "metadata": {},
   "outputs": [
    {
     "name": "stderr",
     "output_type": "stream",
     "text": [
      "Feature Extraction: 100%|██████████| 10/10 [06:40<00:00, 35.14s/it]\n"
     ]
    },
    {
     "name": "stdout",
     "output_type": "stream",
     "text": [
      "(1068, 2382)\n"
     ]
    }
   ],
   "source": [
    "# Now using tsfresh to extract features\n",
    "extracted_features = extract_features(data_lpf, column_id = \"id\", column_sort = None, column_kind = None, column_value = None)\n",
    "print(extracted_features.shape)"
   ]
  },
  {
   "cell_type": "code",
   "execution_count": null,
   "metadata": {},
   "outputs": [],
   "source": [
    "extracted_features = impute(extracted_features)\n",
    "features_filtered = select_features(extracted_features, y)\n",
    "print(features_filtered.shape)"
   ]
  },
  {
   "cell_type": "code",
   "execution_count": 25,
   "metadata": {},
   "outputs": [
    {
     "name": "stdout",
     "output_type": "stream",
     "text": [
      "(1068, 646)\n"
     ]
    }
   ],
   "source": [
    "print(features_filtered.shape)"
   ]
  },
  {
   "cell_type": "code",
   "execution_count": 26,
   "metadata": {},
   "outputs": [
    {
     "name": "stdout",
     "output_type": "stream",
     "text": [
      "(1068, 2382)\n",
      "(1068, 646)\n",
      "Counter({3.0: 411, 2.0: 213, 4.0: 196, 0.0: 129, 1.0: 119})\n"
     ]
    }
   ],
   "source": [
    "# Convert feature dataframes into numpy arrays (required for training in sklearn)\n",
    "x_features = np.asarray(extracted_features)\n",
    "print(x_features.shape)\n",
    "x_features_relevant = np.asarray(features_filtered)\n",
    "print(x_features_relevant.shape)\n",
    "# Gives the number of examples per label\n",
    "print(Counter(y_features))"
   ]
  },
  {
   "cell_type": "code",
   "execution_count": 27,
   "metadata": {},
   "outputs": [
    {
     "name": "stdout",
     "output_type": "stream",
     "text": [
      "(801, 646)\n",
      "(267, 646)\n",
      "(801,)\n",
      "(267,)\n",
      "Counter({3.0: 320, 4.0: 150, 2.0: 149, 1.0: 92, 0.0: 90})\n"
     ]
    }
   ],
   "source": [
    "x_train, x_test, y_f, y_test = train_test_split(x_features_relevant, y_features)\n",
    "print(x_train.shape)\n",
    "print(x_test.shape)\n",
    "print(y_f.shape)\n",
    "print(y_test.shape)\n",
    "x_f = sklearn.preprocessing.minmax_scale(x_train)\n",
    "x_test_norm = sklearn.preprocessing.minmax_scale(x_test)\n",
    "print(Counter(y_f))"
   ]
  },
  {
   "cell_type": "code",
   "execution_count": 38,
   "metadata": {},
   "outputs": [
    {
     "name": "stdout",
     "output_type": "stream",
     "text": [
      "Counter({3.0: 320, 2.0: 320, 1.0: 320, 4.0: 320, 0.0: 320})\n",
      "float64\n",
      "int64\n"
     ]
    }
   ],
   "source": [
    "sm = SMOTE(sampling_strategy = 'not majority')\n",
    "x_train_norm, y_train = sm.fit_resample(x_f, y_f)\n",
    "print(Counter(y_train))\n",
    "print(y_train.dtype)\n",
    "y_train = y_train.astype(int)\n",
    "print(y_train.dtype)\n",
    "y_test = y_test.astype(int)"
   ]
  },
  {
   "cell_type": "code",
   "execution_count": 39,
   "metadata": {},
   "outputs": [
    {
     "name": "stdout",
     "output_type": "stream",
     "text": [
      "[[ 3  7  6 19  4]\n",
      " [ 0  5  2 10 10]\n",
      " [ 5  1 33 18  7]\n",
      " [ 6 12  9 50 14]\n",
      " [ 2  3  5 14 22]]\n",
      "              precision    recall  f1-score   support\n",
      "\n",
      "           0       0.19      0.08      0.11        39\n",
      "           1       0.18      0.19      0.18        27\n",
      "           2       0.60      0.52      0.55        64\n",
      "           3       0.45      0.55      0.50        91\n",
      "           4       0.39      0.48      0.43        46\n",
      "\n",
      "    accuracy                           0.42       267\n",
      "   macro avg       0.36      0.36      0.35       267\n",
      "weighted avg       0.41      0.42      0.41       267\n",
      "\n",
      "[[320   0   0   0   0]\n",
      " [  0 318   0   1   1]\n",
      " [  0   0 318   1   1]\n",
      " [  0   2   2 316   0]\n",
      " [  0   0   0   2 318]]\n",
      "              precision    recall  f1-score   support\n",
      "\n",
      "           0       1.00      1.00      1.00       320\n",
      "           1       0.99      0.99      0.99       320\n",
      "           2       0.99      0.99      0.99       320\n",
      "           3       0.99      0.99      0.99       320\n",
      "           4       0.99      0.99      0.99       320\n",
      "\n",
      "    accuracy                           0.99      1600\n",
      "   macro avg       0.99      0.99      0.99      1600\n",
      "weighted avg       0.99      0.99      0.99      1600\n",
      "\n"
     ]
    }
   ],
   "source": [
    "svm_lin = RandomForestClassifier(n_estimators = 300)\n",
    "svm_lin.fit(x_train_norm, y_train)\n",
    "y_pred = svm_lin.predict(x_test_norm)\n",
    "print(confusion_matrix(y_test, y_pred))\n",
    "print(classification_report(y_test, y_pred))\n",
    "y_pred = svm_lin.predict(x_train_norm)\n",
    "print(confusion_matrix(y_train, y_pred))\n",
    "print(classification_report(y_train, y_pred))"
   ]
  },
  {
   "cell_type": "code",
   "execution_count": 30,
   "metadata": {},
   "outputs": [],
   "source": [
    "from sklearn.decomposition import PCA\n",
    "\n",
    "# Make an instance of the Model\n",
    "pca = PCA(.95)"
   ]
  },
  {
   "cell_type": "code",
   "execution_count": 31,
   "metadata": {},
   "outputs": [
    {
     "data": {
      "text/plain": [
       "PCA(copy=True, iterated_power='auto', n_components=0.95, random_state=None,\n",
       "    svd_solver='auto', tol=0.0, whiten=False)"
      ]
     },
     "execution_count": 31,
     "metadata": {},
     "output_type": "execute_result"
    }
   ],
   "source": [
    "pca.fit(x_train_norm)"
   ]
  },
  {
   "cell_type": "code",
   "execution_count": 32,
   "metadata": {},
   "outputs": [
    {
     "name": "stdout",
     "output_type": "stream",
     "text": [
      "(1600, 69)\n",
      "(267, 69)\n"
     ]
    }
   ],
   "source": [
    "train_img = pca.transform(x_train_norm)\n",
    "test_img = pca.transform(x_test_norm)\n",
    "print(train_img.shape)\n",
    "print(test_img.shape)"
   ]
  },
  {
   "cell_type": "code",
   "execution_count": 37,
   "metadata": {},
   "outputs": [
    {
     "name": "stdout",
     "output_type": "stream",
     "text": [
      "[[ 4  6  7 17  5]\n",
      " [ 0 10  2  9  6]\n",
      " [ 8  0 29 19  8]\n",
      " [ 7 11  8 46 19]\n",
      " [ 3  2  3 14 24]]\n",
      "              precision    recall  f1-score   support\n",
      "\n",
      "           0       0.18      0.10      0.13        39\n",
      "           1       0.34      0.37      0.36        27\n",
      "           2       0.59      0.45      0.51        64\n",
      "           3       0.44      0.51      0.47        91\n",
      "           4       0.39      0.52      0.44        46\n",
      "\n",
      "    accuracy                           0.42       267\n",
      "   macro avg       0.39      0.39      0.38       267\n",
      "weighted avg       0.42      0.42      0.41       267\n",
      "\n",
      "[[320   0   0   0   0]\n",
      " [  0 319   0   0   1]\n",
      " [  0   0 319   0   1]\n",
      " [  0   3   3 312   2]\n",
      " [  0   0   0   0 320]]\n",
      "              precision    recall  f1-score   support\n",
      "\n",
      "           0       1.00      1.00      1.00       320\n",
      "           1       0.99      1.00      0.99       320\n",
      "           2       0.99      1.00      0.99       320\n",
      "           3       1.00      0.97      0.99       320\n",
      "           4       0.99      1.00      0.99       320\n",
      "\n",
      "    accuracy                           0.99      1600\n",
      "   macro avg       0.99      0.99      0.99      1600\n",
      "weighted avg       0.99      0.99      0.99      1600\n",
      "\n"
     ]
    }
   ],
   "source": [
    "svm_lin = RandomForestClassifier(n_estimators = 300)\n",
    "svm_lin.fit(train_img, y_train)\n",
    "y_pred = svm_lin.predict(test_img)\n",
    "print(confusion_matrix(y_test, y_pred))\n",
    "print(classification_report(y_test, y_pred))\n",
    "y_pred = svm_lin.predict(train_img)\n",
    "print(confusion_matrix(y_train, y_pred))\n",
    "print(classification_report(y_train, y_pred))"
   ]
  },
  {
   "cell_type": "code",
   "execution_count": null,
   "metadata": {},
   "outputs": [],
   "source": []
  }
 ],
 "metadata": {
  "kernelspec": {
   "display_name": "Python 3",
   "language": "python",
   "name": "python3"
  },
  "language_info": {
   "codemirror_mode": {
    "name": "ipython",
    "version": 3
   },
   "file_extension": ".py",
   "mimetype": "text/x-python",
   "name": "python",
   "nbconvert_exporter": "python",
   "pygments_lexer": "ipython3",
   "version": "3.7.3"
  }
 },
 "nbformat": 4,
 "nbformat_minor": 2
}
